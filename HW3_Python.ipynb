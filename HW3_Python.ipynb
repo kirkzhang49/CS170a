{
 "cells": [
  {
   "cell_type": "markdown",
   "metadata": {},
   "source": [
    "# CS170A -- HW#3 -- assignment and solution form -- Python\n",
    "\n",
    "Your name:  ______________________\n",
    "\n",
    "Your UID:  _________\n",
    "\n",
    "<b>Please upload only this notebook to CCLE by the deadline.</b>\n",
    "\n",
    "<b>Policy for late submission of solutions:</b>  We will use Paul Eggert's Late\n",
    "Policy: $N$ days late $\\Leftrightarrow$ $2^N$ points deducted}\n",
    "The number of days late is $N=0$\n",
    "for the first 24 hrs, $N=1$ for the next 24 hrs, etc., and if you submit\n",
    "an assignment $H$ hours late, $2^{\\lfloor \\,H\\,/\\,24\\, \\rfloor}$ points are\n",
    "deducted."
   ]
  },
  {
   "cell_type": "code",
   "execution_count": null,
   "metadata": {
    "collapsed": true
   },
   "outputs": [],
   "source": []
  },
  {
   "cell_type": "markdown",
   "metadata": {},
   "source": [
    "## Problem 1:  Fourier Music"
   ]
  },
  {
   "cell_type": "markdown",
   "metadata": {},
   "source": [
    "Remember the $k$-th note in the the <b>equal-tempered scale</b> has frequency $c^k$ times the frequency of C,\n",
    "where $c = 2^{1/12} = 1.059463\\ldots$:\n",
    "\n",
    "<table>\n",
    "<tr><th> note  </th><th>  frequency (Hz)  </th><th>  frequency/C  </th><th>  interval </th></tr>\n",
    "<tr><td>Middle C  </td><td>  261.63  </td><td>      $c^0 = 1.000$  </td><td>               ~ </td></tr>\n",
    "<tr><td>       C#  </td><td>  277.18  </td><td>      $c^1 = 1.059$  </td><td>       minor 2nd </td></tr>\n",
    "<tr><td>       D  </td><td>  293.66  </td><td>      $c^2 = 1.122$  </td><td>       major 2nd </td></tr>\n",
    "<tr><td>       D#  </td><td>  311.13  </td><td>      $c^3 = 1.189$  </td><td>       minor 3rd </td></tr>\n",
    "<tr><td>       E  </td><td>  329.63  </td><td>      $c^4 = 1.260$  </td><td>       major 3rd </td></tr>\n",
    "<tr><td>       F  </td><td>  349.23  </td><td>      $c^5 = 1.334$  </td><td>             4th </td></tr>\n",
    "<tr><td>       F#  </td><td>  369.99  </td><td>      $c^6 = 1.414$  </td><td>  diminished 5th </td></tr>\n",
    "<tr><td>       G  </td><td>  392.00  </td><td>      $c^7 = 1.498$  </td><td>             5th </td></tr>\n",
    "<tr><td>       G#  </td><td>  415.30  </td><td>      $c^8 = 1.587$  </td><td>       minor 6th </td></tr>\n",
    "<tr><td>       A  </td><td>  440  </td><td>      $c^9 = 1.682$  </td><td>       major 6th </td></tr>\n",
    "<tr><td>       A#  </td><td>  466.16  </td><td>   $c^{10} = 1.782$  </td><td>       minor 7th </td></tr>\n",
    "<tr><td>       B  </td><td>  493.88  </td><td>   $c^{11} = 1.888$  </td><td>       major 7th </td></tr>\n",
    "<tr><td>  High C  </td><td>  523.25  </td><td>   $c^{12} = 2.000$  </td><td>      octave/8th </td></tr>\n",
    "</table>\n",
    "\n",
    "The equal-tempered scale can be extended to higher or lower octaves by multiplying the frequencies in it by a power of 2.\n",
    "(For example, the note 'A' occurs at frequencies 220, 440, 880, etc., because 440 = 2 $\\times$ 220, 880 = 4 $\\times$ 220, etc.\n",
    "\n",
    "However, it is not right to call the frequency 660 = 3 $\\times$ 220 an 'A';  the frequency 660 is\n",
    "an 'E', because 600 = 2 $\\times$ 330, and 330 is the frequency for 'E'.)  Only the frequencies $2^k \\times 440$\n",
    "(for integer $k$) are called 'A'.\n",
    "\n",
    "Remember:  if a signal is sampled at frequency <tt>Fs</tt>,\n",
    "then the <i>Nyquist frequency</i> at the end of this first half is <tt>Fs/2</tt>.\n",
    "<!-- (after the work of Nyquist, who identified it around 1928).\n",
    "The <tt>wavread()</tt> function will give you the sampling frequency <tt>Fs</tt> at which the music was rcorded.\n",
    "-->"
   ]
  },
  {
   "cell_type": "code",
   "execution_count": null,
   "metadata": {
    "collapsed": true
   },
   "outputs": [],
   "source": []
  },
  {
   "cell_type": "code",
   "execution_count": 1,
   "metadata": {
    "collapsed": false
   },
   "outputs": [],
   "source": [
    "%matplotlib inline\n",
    "import os \n",
    "import numpy as np\n",
    "import math\n",
    "import matplotlib.pyplot as plt\n",
    "import glob\n",
    "import scipy \n",
    "from scipy.misc import imresize\n",
    "import matplotlib.cm as cm\n",
    "import matplotlib.ticker as MT\n",
    "plt.style.use('ggplot')\n",
    "import wave, struct\n",
    "import scipy.io.wavfile\n",
    "from scipy import arange\n",
    "from scipy.fftpack import fft, ifft\n",
    "import time\n",
    "from scipy import signal\n",
    "from numpy import sin, linspace, pi\n",
    "from pylab import plot, show, title, xlabel, ylabel, subplot\n",
    "import urllib\n",
    "import csv\n",
    "import pandas as pd\n",
    "\n",
    "#libs"
   ]
  },
  {
   "cell_type": "markdown",
   "metadata": {},
   "source": [
    "### 1.0 Read in the Mystery Tune\n",
    "\n",
    "Read in the file <tt>mystery.wav</tt>, creating\n",
    "a vector <tt>y</tt> that contains a sound track\n",
    "(audio sequence) for the first few seconds of a mystery tune.\n",
    "\n",
    "As discussed in class, if <tt>Fs</tt> is an integer sampling frequency.\n",
    "In Octave and Matlab, executing <tt>sound(y, Fs)</tt> will play <tt>y</tt> at the frequency <tt>Fs</tt>.\n",
    "\n",
    "Change <tt>y</tt> to contain only the first of the 2 stereo audio tracks."
   ]
  },
  {
   "cell_type": "code",
   "execution_count": 2,
   "metadata": {
    "collapsed": false
   },
   "outputs": [
    {
     "name": "stdout",
     "output_type": "stream",
     "text": [
      "[    0     0     0 ..., -2258 -2208 -2288]\n"
     ]
    }
   ],
   "source": [
    "# [y Fs] = wavread('hw3/mystery.wav');\n",
    "rate, data = scipy.io.wavfile.read('mystery.wav')\n",
    "#print(data)\n",
    "#data = [data[0],data[1]]\n",
    "#print(data)\n",
    "\n",
    "#len(data)\n",
    "data = data[:,1]\n",
    "print(data)\n",
    "\n",
    "n = len(data)\n",
    "\n",
    "\n",
    "# sound(y,Fs)   %  play the mystery tune"
   ]
  },
  {
   "cell_type": "code",
   "execution_count": 3,
   "metadata": {
    "collapsed": true
   },
   "outputs": [],
   "source": [
    "# y = y(:,1);   %  only keep the first track for this assignment\n",
    "\n",
    "# n = length(y)"
   ]
  },
  {
   "cell_type": "markdown",
   "metadata": {},
   "source": [
    "### 1.1 The Fast Fourier Transform\n",
    "\n",
    "\n",
    "The length of <tt>y</tt> is $n = 86000$.\n",
    "Find the integer factors of $n$ by using the Matlab function <tt>factor()</tt>.\n",
    "\n",
    "Then find out how much cpu time it takes to compute <tt>fft(y);</tt>\n",
    "\n",
    "(To do this, run it 100 times and compute the average time required, using <tt>cputime</tt>.)\n"
   ]
  },
  {
   "cell_type": "code",
   "execution_count": 4,
   "metadata": {
    "collapsed": true
   },
   "outputs": [],
   "source": [
    "def print_factors(x):\n",
    "   \"\"\"This function takes a\n",
    "   number and prints the factors\"\"\"\n",
    "\n",
    "   print(\"The factors of\",x,\"are:\")\n",
    "   for i in range(1, x + 1):\n",
    "       if x % i == 0:\n",
    "           print(i)"
   ]
  },
  {
   "cell_type": "code",
   "execution_count": 5,
   "metadata": {
    "collapsed": false
   },
   "outputs": [
    {
     "name": "stdout",
     "output_type": "stream",
     "text": [
      "The factors of 860000 are:\n",
      "1\n",
      "2\n",
      "4\n",
      "5\n",
      "8\n",
      "10\n",
      "16\n",
      "20\n",
      "25\n",
      "32\n",
      "40\n",
      "43\n",
      "50\n",
      "80\n",
      "86\n",
      "100\n",
      "125\n",
      "160\n",
      "172\n",
      "200\n",
      "215\n",
      "250\n",
      "344\n",
      "400\n",
      "430\n",
      "500\n",
      "625\n",
      "688\n",
      "800\n",
      "860\n",
      "1000\n",
      "1075\n",
      "1250\n",
      "1376\n",
      "1720\n",
      "2000\n",
      "2150\n",
      "2500\n",
      "3440\n",
      "4000\n",
      "4300\n",
      "5000\n",
      "5375\n",
      "6880\n",
      "8600\n",
      "10000\n",
      "10750\n",
      "17200\n",
      "20000\n",
      "21500\n",
      "26875\n",
      "34400\n",
      "43000\n",
      "53750\n",
      "86000\n",
      "107500\n",
      "172000\n",
      "215000\n",
      "430000\n",
      "860000\n"
     ]
    }
   ],
   "source": [
    "\n",
    "print_factors(n)"
   ]
  },
  {
   "cell_type": "code",
   "execution_count": 7,
   "metadata": {
    "collapsed": false
   },
   "outputs": [
    {
     "name": "stdout",
     "output_type": "stream",
     "text": [
      "average time of fft:\n",
      "0.03541656970977783\n"
     ]
    }
   ],
   "source": [
    "start_time = time.time()\n",
    "for i in range(1,100):\n",
    "    fastFt = fft(data)\n",
    "result = time.time() - start_time\n",
    "avg = result /100\n",
    "print (\"average time of fft:\")\n",
    "print(avg)"
   ]
  },
  {
   "cell_type": "markdown",
   "metadata": {},
   "source": [
    "### 1.2 The Fast Fourier Transform?\n",
    "\n",
    "First, define a new vector <tt>z</tt> that contains <tt>y(1:(n-13))</tt>.\n",
    "Find the integer factors of $(n-13)$.\n",
    "\n",
    "Find out how much cpu time it takes to compute <tt>fft(z);</tt> using the method above.\n",
    "\n",
    "Explain the difference in timing; this is discussed on pp.235-236 of the Course Reader."
   ]
  },
  {
   "cell_type": "code",
   "execution_count": 65,
   "metadata": {
    "collapsed": false
   },
   "outputs": [
    {
     "name": "stdout",
     "output_type": "stream",
     "text": [
      "The factors of 859987 are:\n",
      "1\n",
      "859987\n"
     ]
    },
    {
     "ename": "KeyboardInterrupt",
     "evalue": "",
     "output_type": "error",
     "traceback": [
      "\u001b[0;31m---------------------------------------------------------------------------\u001b[0m",
      "\u001b[0;31mKeyboardInterrupt\u001b[0m                         Traceback (most recent call last)",
      "\u001b[0;32m<ipython-input-65-9efb1dbecbe0>\u001b[0m in \u001b[0;36m<module>\u001b[0;34m()\u001b[0m\n\u001b[1;32m      3\u001b[0m \u001b[0mstart_time\u001b[0m \u001b[0;34m=\u001b[0m \u001b[0mtime\u001b[0m\u001b[0;34m.\u001b[0m\u001b[0mtime\u001b[0m\u001b[0;34m(\u001b[0m\u001b[0;34m)\u001b[0m\u001b[0;34m\u001b[0m\u001b[0m\n\u001b[1;32m      4\u001b[0m \u001b[0;32mfor\u001b[0m \u001b[0mi\u001b[0m \u001b[0;32min\u001b[0m \u001b[0mrange\u001b[0m\u001b[0;34m(\u001b[0m\u001b[0;36m1\u001b[0m\u001b[0;34m,\u001b[0m\u001b[0;36m100\u001b[0m\u001b[0;34m)\u001b[0m\u001b[0;34m:\u001b[0m\u001b[0;34m\u001b[0m\u001b[0m\n\u001b[0;32m----> 5\u001b[0;31m     \u001b[0mfastFt\u001b[0m \u001b[0;34m=\u001b[0m \u001b[0mfft\u001b[0m\u001b[0;34m(\u001b[0m\u001b[0mz\u001b[0m\u001b[0;34m)\u001b[0m\u001b[0;34m\u001b[0m\u001b[0m\n\u001b[0m\u001b[1;32m      6\u001b[0m \u001b[0;34m\u001b[0m\u001b[0m\n\u001b[1;32m      7\u001b[0m \u001b[0mresult\u001b[0m \u001b[0;34m=\u001b[0m \u001b[0mtime\u001b[0m\u001b[0;34m.\u001b[0m\u001b[0mtime\u001b[0m\u001b[0;34m(\u001b[0m\u001b[0;34m)\u001b[0m \u001b[0;34m-\u001b[0m \u001b[0mstart_time\u001b[0m\u001b[0;34m\u001b[0m\u001b[0m\n",
      "\u001b[0;32m/Users/kirkzhang/anaconda/lib/python3.5/site-packages/scipy/fftpack/basic.py\u001b[0m in \u001b[0;36mfft\u001b[0;34m(x, n, axis, overwrite_x)\u001b[0m\n\u001b[1;32m    273\u001b[0m \u001b[0;34m\u001b[0m\u001b[0m\n\u001b[1;32m    274\u001b[0m     \u001b[0;32mif\u001b[0m \u001b[0maxis\u001b[0m \u001b[0;34m==\u001b[0m \u001b[0;34m-\u001b[0m\u001b[0;36m1\u001b[0m \u001b[0;32mor\u001b[0m \u001b[0maxis\u001b[0m \u001b[0;34m==\u001b[0m \u001b[0mlen\u001b[0m\u001b[0;34m(\u001b[0m\u001b[0mtmp\u001b[0m\u001b[0;34m.\u001b[0m\u001b[0mshape\u001b[0m\u001b[0;34m)\u001b[0m \u001b[0;34m-\u001b[0m \u001b[0;36m1\u001b[0m\u001b[0;34m:\u001b[0m\u001b[0;34m\u001b[0m\u001b[0m\n\u001b[0;32m--> 275\u001b[0;31m         \u001b[0;32mreturn\u001b[0m \u001b[0mwork_function\u001b[0m\u001b[0;34m(\u001b[0m\u001b[0mtmp\u001b[0m\u001b[0;34m,\u001b[0m\u001b[0mn\u001b[0m\u001b[0;34m,\u001b[0m\u001b[0;36m1\u001b[0m\u001b[0;34m,\u001b[0m\u001b[0;36m0\u001b[0m\u001b[0;34m,\u001b[0m\u001b[0moverwrite_x\u001b[0m\u001b[0;34m)\u001b[0m\u001b[0;34m\u001b[0m\u001b[0m\n\u001b[0m\u001b[1;32m    276\u001b[0m \u001b[0;34m\u001b[0m\u001b[0m\n\u001b[1;32m    277\u001b[0m     \u001b[0mtmp\u001b[0m \u001b[0;34m=\u001b[0m \u001b[0mswapaxes\u001b[0m\u001b[0;34m(\u001b[0m\u001b[0mtmp\u001b[0m\u001b[0;34m,\u001b[0m \u001b[0maxis\u001b[0m\u001b[0;34m,\u001b[0m \u001b[0;34m-\u001b[0m\u001b[0;36m1\u001b[0m\u001b[0;34m)\u001b[0m\u001b[0;34m\u001b[0m\u001b[0m\n",
      "\u001b[0;31mKeyboardInterrupt\u001b[0m: "
     ]
    }
   ],
   "source": [
    "z = data[1:(n-13)]\n",
    "print_factors(n-13)\n",
    "start_time = time.time()\n",
    "for i in range(1,100):\n",
    "    fastFt = fft(z)\n",
    "    \n",
    "result = time.time() - start_time\n",
    "avg = result /100\n",
    "print (avg)"
   ]
  },
  {
   "cell_type": "code",
   "execution_count": null,
   "metadata": {
    "collapsed": true
   },
   "outputs": [],
   "source": []
  },
  {
   "cell_type": "markdown",
   "metadata": {},
   "source": [
    "### 1.3 Plot the First Half of the Power Spectrum\n",
    "\n",
    "Plot the frequency spectrum for <tt>y</tt>\n",
    "by plotting the power of the 'first half' of the squared power of its Fourier transform,\n",
    "using <tt>Fs</tt> as the sampling frequency.\n",
    "\n",
    "Assume for this assignment that the <u><i>power</i></u> of a complex value $z$ is its <u>complex absolute value</u>:  i.e., $\\mbox{power}(z) = |z| = \\sqrt{z \\, \\bar{z}}$.\n",
    "\n",
    "Here by <i>\"first half\"</i> of a sequence $s =[s_0, \\ldots, s_{n-1}]$\n",
    "we actually mean $[s_1, \\ldots, s_m]$ where $m = \\lfloor n/2 \\rfloor$.\n",
    "For example, the \"first half\" of $[0,1,2,3,4,5,6,7]$ is $[1,2,3,4]$.\n",
    "\n",
    "To increase the information displayed by your plot, \n",
    "omit the very first element in the <tt>power</tt> vector\n",
    "(which is just the sum of the data)."
   ]
  },
  {
   "cell_type": "code",
   "execution_count": 8,
   "metadata": {
    "collapsed": false
   },
   "outputs": [
    {
     "data": {
      "text/plain": [
       "[<matplotlib.lines.Line2D at 0x1151c5128>]"
      ]
     },
     "execution_count": 8,
     "metadata": {},
     "output_type": "execute_result"
    },
    {
     "data": {
      "image/png": "[encoded data removed]",
      "text/plain": [
       "<matplotlib.figure.Figure at 0x1187e88d0>"
      ]
     },
     "metadata": {},
     "output_type": "display_data"
    }
   ],
   "source": [
    "m = math.floor(len(data)/2)\n",
    "\n",
    "X = fft(data)\n",
    "Power = abs(X**2)\n",
    "time_step = 1 / rate\n",
    "freqs = abs(np.fft.fftfreq(Power.size, time_step))\n",
    "#idx = np.argsort(freqs)\n",
    "\n",
    "plt.plot(freqs[1:m], Power[1:m])\n",
    "\n",
    "\n"
   ]
  },
  {
   "cell_type": "markdown",
   "metadata": {},
   "source": [
    "### 1.4 Write a script to find the top 10 Notes (corresponding to Spikes)\n",
    "\n",
    "There are altogether about $(5 \\times 12)+1 = 61$ notes in the equal-tempered scale with frequencies between low C (with frequency near 131) and the very high C with frequency near $131 \\times 2^5 = 4192$.\n",
    "\n",
    "Suppose we also define <b>dividing lines</b> between notes.\n",
    "For example, C has frequency 261.63 and C# has frequency 271.18.\n",
    "The dividing line between these two notes is $\\Delta = (261.63+271.18)/2 = 266.40$.\n",
    "\n",
    "Just as every note in the equal-tempered scale has frequency $c^k$ times the frequency of C,\n",
    "we can define <b>equal tempered dividing lines</b> between all adjacent notes as having frequency $c^k$ times the frequency $\\Delta$.\n",
    "\n",
    "Write a Matlab function <tt>note_power(power,Fs)</tt> that distills a power spectrum vector <tt>power</tt> into an $61 \\times 1$ vector that gives, for each equal-tempered note, the maximum value among all entries in the vector within the dividing lines above and below this note.\n",
    "Find the top 10 notes (the 10 notes with highest power).\n",
    "\n",
    "For the mystery clip, use your function to print the power value for each of these 10 notes."
   ]
  },
  {
   "cell_type": "code",
   "execution_count": 96,
   "metadata": {
    "collapsed": false
   },
   "outputs": [
    {
     "name": "stdout",
     "output_type": "stream",
     "text": [
      "[131.0, 138.78966536106768, 147.04252832852785, 155.7861320653565, 165.0496575362284, 174.86402089627452, 185.2619766708755, 196.27822707084533, 207.9495378078342, 220.31486079647328, 233.415464152769, 247.29506992260383, 262.0, 277.57933072213535, 294.0850566570557, 311.572264130713, 330.0993150724568, 349.72804179254905, 370.523953341751, 392.55645414169066, 415.8990756156684, 440.62972159294657, 466.830928305538, 494.59013984520766, 524.0, 555.1586614442707, 588.1701133141114, 623.144528261426, 660.1986301449136, 699.4560835850981, 741.047906683502, 785.1129082833813, 831.7981512313368, 881.2594431858931, 933.661856611076, 989.1802796904153, 1048.0, 1110.3173228885414, 1176.3402266282228, 1246.289056522852, 1320.3972602898273, 1398.9121671701962, 1482.095813367004, 1570.2258165667627, 1663.5963024626735, 1762.5188863717863, 1867.323713222152, 1978.3605593808306, 2096.0, 2220.634645777083, 2352.6804532564456, 2492.578113045704, 2640.7945205796545, 2797.8243343403924, 2964.191626734008, 3140.4516331335253, 3327.192604925347, 3525.0377727435725, 3734.647426444304, 3956.7211187616613, 4192]\n",
      "61\n"
     ]
    }
   ],
   "source": [
    "c = 2.0**(1.0/12.0)\n",
    "\n",
    "lists = []\n",
    "for i in range(5):\n",
    "    for j in range(12):\n",
    "        a=131*(2**i)*(c**j)\n",
    "        lists.append(a)\n",
    "a=131*(2**5)\n",
    "lists.append(a)\n",
    "print(lists)\n",
    "#print (freqs[851999])\n",
    "divide = []\n",
    "#print(lists[61])\n",
    "x=lists[0]/2\n",
    "divide.append(x)\n",
    "for i in range(60):\n",
    "    x=(lists[i+1]-lists[i])/2\n",
    "    divide.append(x)\n",
    "print(len(divide))\n"
   ]
  },
  {
   "cell_type": "code",
   "execution_count": 24,
   "metadata": {
    "collapsed": true
   },
   "outputs": [],
   "source": [
    "def  note_power(power,Fs):\n",
    "   \"\"\"This function takes a\n",
    "   number and prints the factors\"\"\"\n",
    "\n",
    "   print(\"The factors of\",x,\"are:\")\n",
    "   for i in range(1, x + 1):\n",
    "       if x % i == 0:\n",
    "           print(i)"
   ]
  },
  {
   "cell_type": "code",
   "execution_count": null,
   "metadata": {
    "collapsed": true
   },
   "outputs": [],
   "source": []
  },
  {
   "cell_type": "markdown",
   "metadata": {},
   "source": [
    "### 1.5 Identify the Key, and find the relationship of the top 10 Notes to the Key\n",
    "\n",
    "Find the note whose spike in the power spectrum is largest; this is called the <b>key</b>.\n",
    "\n",
    "For each of the top 10 notes, compute the <b>ratio</b> of their frequency to that of the key.\n",
    "Each ratio will be a power $c^k$; for each note, give the value of $k$.\n",
    "\n",
    "A major fifth has a ratio $c^7$, which is approximately 3/2 -- the tonic/dominant ratio.\n",
    "\n",
    "A minor fifth (diminished fifth) has a ratio $c^6$, which is approximately 1.4.\n",
    "\n",
    "A major third has a ratio $c^4$, which is approximately 5/4 -- the ratio of harmony.\n"
   ]
  },
  {
   "cell_type": "code",
   "execution_count": 25,
   "metadata": {
    "collapsed": false
   },
   "outputs": [],
   "source": [
    "c = 2.0**(1.0/12.0)\n",
    "\n",
    "major_third = c**4\n",
    "minor_fifth = c**6\n",
    "major_fifth = c**7"
   ]
  },
  {
   "cell_type": "markdown",
   "metadata": {
    "collapsed": true
   },
   "source": [
    "## Problem 2: Sunspots\n",
    "\n",
    "Sunspots have effects on power grids and communications on earth, and have had high intensity recently.\n",
    "They often appear in the news, and\n",
    "<a href=\"http://phys.org/news/2016-10-tracking-sunspots-solar-insight.html\">there is a sunspot observatory at Big Bear near Los Angeles</a>.\n",
    "\n",
    "In class we studied a classic example of Fourier analysis: determining the periodicity of sunspot data.\n",
    "The plot of the data shows it is clearly periodic."
   ]
  },
  {
   "cell_type": "code",
   "execution_count": 26,
   "metadata": {
    "collapsed": false
   },
   "outputs": [],
   "source": [
    "# % sunspot activity from 1700 to 1987.\n",
    "\n",
    "# years = 1700 : 1987;\n",
    "# sunspots = [ ...\n",
    "#      5    11    16    23    36    58    29    20    10     8     3     0     0     2    11    27 ...\n",
    "#     47    63    60    39    28    26    22    11    21    40    78   122   103    73    47    35 ...\n",
    "#     11     5    16    34    70    81   111   101    73    40    20    16     5    11    22    40 ...\n",
    "#     60    81    83    48    48    31    12    10    10    32    48    54    63    86    61    45 ...\n",
    "#     36    21    11    38    70   106   101    82    67    35    31     7    20    93   154   126 ...\n",
    "#     85    68    39    23    10    24    83   132   131   118    90    67    60    47    41    21 ...\n",
    "#     16     6     4     7    15    34    45    43    48    42    28    10     8     3     0     1 ...\n",
    "#      5    12    14    35    46    41    30    24    16     7     4     2     9    17    36    50 ...\n",
    "#     64    67    71    48    28     9    13    57   122   138   103    86    65    37    24    11 ...\n",
    "#     15    40    62    99   125    96    67    65    54    39    21     7     4    23    55    94 ...\n",
    "#     96    77    59    44    47    31    16     7    38    74   139   111   102    66    45    17 ...\n",
    "#     11    12     3     6    32    54    60    64    64    52    25    13     7     6     7    36 ...\n",
    "#     73    85    78    64    42    26    27    12    10     3     5    24    42    64    54    62 ...\n",
    "#     49    44    19     6     4     1    10    47    57   104    81    64    38    26    14     6 ...\n",
    "#     17    44    64    69    78    65    36    21    11     6     9    36    80   114   110    89 ...\n",
    "#     68    48    31    16    10    33    93   152   136   135    84    69    32    14     4    38 ...\n",
    "#    142   190   185   159   112    54    38    28    10    15    47    94   106   106   105    67 ...\n",
    "#     69    38    35    16    13    28    93   155   155   140   116    67    46    18    13    29 ...\n",
    "# ];\n",
    "\n",
    "# plot( years, sunspots, 'b' )\n",
    "# title('Sunspot intensity from 1700 to 1987')\n",
    "# xlabel('year')"
   ]
  },
  {
   "cell_type": "markdown",
   "metadata": {},
   "source": [
    "We can use Fourier analysis to find the frequency of the cycles shown in the plot above.\n",
    "Based on the script below, sunspots go through a cycle that has frequency (0.091/year) which is (1/(11 years)).\n",
    "Thus the period of sunspot activity is about 11 years long."
   ]
  },
  {
   "cell_type": "code",
   "execution_count": 27,
   "metadata": {
    "collapsed": false
   },
   "outputs": [],
   "source": [
    "# subplot(2,2,1)\n",
    "# plot( years, sunspots, 'b' )\n",
    "# title('Sunspot intensity from 1700 to 1987')\n",
    "# xlabel('year')\n",
    "\n",
    "# power_spectrum = abs(fft(sunspots));\n",
    "# n = length(sunspots);\n",
    "# sampling_frequency = 1;  %  one sample / year\n",
    "# frequencies = linspace( 0, sampling_frequency, n );\n",
    "\n",
    "# subplot(2,2,2)\n",
    "# plot( frequencies, power_spectrum, 'b' )\n",
    "# text( sampling_frequency/5, max(power_spectrum)*0.80, 'Note the symmetry (always obtained for real data)', 'fontsize', 6 )\n",
    "# text( sampling_frequency/5, max(power_spectrum)*0.70, 'Sampling frequency = once per year = (1 / year)', 'fontsize', 6 )\n",
    "# title( 'Fourier power spectrum of the sunspot data' )\n",
    "# xlabel('frequency (1/year)')\n",
    "\n",
    "# n_over_2 = floor(n/2);\n",
    "# subplot(2,2,3)\n",
    "# plot( frequencies(2:n_over_2), power_spectrum(2:n_over_2) )\n",
    "# title( 'Spectrum up to the Nyquist frequency' )\n",
    "# xlabel('frequency (1/year)')\n",
    "# % text( sampling_frequency/8, max(power_spectrum)*0.90, 'Nyquist frequency = sampling frequency / 2', 'fontsize', 6 )\n",
    "# % text( sampling_frequency/8, max(power_spectrum)*0.70, 'We ignore the 1st Fourier coefficient here;', 'fontsize', 6 )\n",
    "# % text( sampling_frequency/8, max(power_spectrum)*0.60, 'it is always just the sum of the input data.', 'fontsize', 6 )\n",
    "\n",
    "# search_interval = 2:floor(n/4);  %  skip the first coefficient, which is always the sum of the input data\n",
    "# spike_location = 1+find( power_spectrum(search_interval) == max(power_spectrum(search_interval)) );\n",
    "# spike_frequency = frequencies(spike_location);\n",
    "# period_of_sunspot_cycle = 1/spike_frequency;\n",
    "\n",
    "# subplot(2,2,4)\n",
    "# plot( frequencies(search_interval), power_spectrum(search_interval) )\n",
    "# text( spike_frequency*1.05, power_spectrum(spike_location)*1.00,\n",
    "#       sprintf('Frequency f of largest spike (units: 1/year) = %6.3f',spike_frequency), 'fontsize', 5 )\n",
    "# text( spike_frequency*1.05, power_spectrum(spike_location)*0.90,\n",
    "#       sprintf('1/f = period of sunspot cycle (units:  year) = %5.2f',period_of_sunspot_cycle), 'fontsize', 5 )\n",
    "# title( 'Spike represents sunspot cycle frequency: once per 11 years' )\n",
    "# xlabel('frequency (1/year)')\n",
    "# hold on\n",
    "# plot( [spike_frequency spike_frequency], [0 power_spectrum(spike_location)], 'r--' )\n",
    "# hold off"
   ]
  },
  {
   "cell_type": "markdown",
   "metadata": {},
   "source": [
    "Sunspot data since 1700 is available from the Belgian Royal Observatory at\n",
    "<a href=\"http://www.sidc.be/silso/datafiles\">http://www.sidc.be/silso/datafiles</a>.\n",
    "Daily, monthly, and yearly sunspot measures are available.\n",
    "<ul><li>\n",
    "<b>yearly data</b> is in:\n",
    "<a href=\"http://www.sidc.be/silso/DATA/SN_y_tot_V2.0.csv\">http://www.sidc.be/silso/DATA/SN_y_tot_V2.0.csv</a>\n",
    "</li><li>\n",
    "<b>monthly data</b> is in:\n",
    "<a href=\"http://www.sidc.be/silso/DATA/SN_m_tot_V2.0.csv\">http://www.sidc.be/silso/DATA/SN_m_tot_V2.0.csv</a>\n",
    "</li></ul>"
   ]
  },
  {
   "cell_type": "markdown",
   "metadata": {},
   "source": [
    "### 2.0 Get the yearly and monthly data\n",
    "\n",
    "Define a function to read in a .csv file across the network\n",
    "using  <tt>urlread()</tt>, <tt>writefile()</tt>, and <tt>csvread()</tt>.\n",
    "\n",
    "Use your function to read in the yearly and monthly data."
   ]
  },
  {
   "cell_type": "code",
   "execution_count": 87,
   "metadata": {
    "collapsed": false
   },
   "outputs": [],
   "source": [
    "import urllib.request\n",
    "\n",
    "def readcvs(link,types):\n",
    "    data = pd.read_csv(link,header=None)\n",
    "    print (\"there are cvs file of \"+types)\n",
    "    print (data.values)\n",
    "    return data.values"
   ]
  },
  {
   "cell_type": "code",
   "execution_count": 88,
   "metadata": {
    "collapsed": false
   },
   "outputs": [
    {
     "name": "stdout",
     "output_type": "stream",
     "text": [
      "there are cvs file of Years:\n",
      "[['1700.5;   8.3; -1.0;    -1;1']\n",
      " ['1701.5;  18.3; -1.0;    -1;1']\n",
      " ['1702.5;  26.7; -1.0;    -1;1']\n",
      " ['1703.5;  38.3; -1.0;    -1;1']\n",
      " ['1704.5;  60.0; -1.0;    -1;1']\n",
      " ['1705.5;  96.7; -1.0;    -1;1']\n",
      " ['1706.5;  48.3; -1.0;    -1;1']\n",
      " ['1707.5;  33.3; -1.0;    -1;1']\n",
      " ['1708.5;  16.7; -1.0;    -1;1']\n",
      " ['1709.5;  13.3; -1.0;    -1;1']\n",
      " ['1710.5;   5.0; -1.0;    -1;1']\n",
      " ['1711.5;   0.0; -1.0;    -1;1']\n",
      " ['1712.5;   0.0; -1.0;    -1;1']\n",
      " ['1713.5;   3.3; -1.0;    -1;1']\n",
      " ['1714.5;  18.3; -1.0;    -1;1']\n",
      " ['1715.5;  45.0; -1.0;    -1;1']\n",
      " ['1716.5;  78.3; -1.0;    -1;1']\n",
      " ['1717.5; 105.0; -1.0;    -1;1']\n",
      " ['1718.5; 100.0; -1.0;    -1;1']\n",
      " ['1719.5;  65.0; -1.0;    -1;1']\n",
      " ['1720.5;  46.7; -1.0;    -1;1']\n",
      " ['1721.5;  43.3; -1.0;    -1;1']\n",
      " ['1722.5;  36.7; -1.0;    -1;1']\n",
      " ['1723.5;  18.3; -1.0;    -1;1']\n",
      " ['1724.5;  35.0; -1.0;    -1;1']\n",
      " ['1725.5;  66.7; -1.0;    -1;1']\n",
      " ['1726.5; 130.0; -1.0;    -1;1']\n",
      " ['1727.5; 203.3; -1.0;    -1;1']\n",
      " ['1728.5; 171.7; -1.0;    -1;1']\n",
      " ['1729.5; 121.7; -1.0;    -1;1']\n",
      " ['1730.5;  78.3; -1.0;    -1;1']\n",
      " ['1731.5;  58.3; -1.0;    -1;1']\n",
      " ['1732.5;  18.3; -1.0;    -1;1']\n",
      " ['1733.5;   8.3; -1.0;    -1;1']\n",
      " ['1734.5;  26.7; -1.0;    -1;1']\n",
      " ['1735.5;  56.7; -1.0;    -1;1']\n",
      " ['1736.5; 116.7; -1.0;    -1;1']\n",
      " ['1737.5; 135.0; -1.0;    -1;1']\n",
      " ['1738.5; 185.0; -1.0;    -1;1']\n",
      " ['1739.5; 168.3; -1.0;    -1;1']\n",
      " ['1740.5; 121.7; -1.0;    -1;1']\n",
      " ['1741.5;  66.7; -1.0;    -1;1']\n",
      " ['1742.5;  33.3; -1.0;    -1;1']\n",
      " ['1743.5;  26.7; -1.0;    -1;1']\n",
      " ['1744.5;   8.3; -1.0;    -1;1']\n",
      " ['1745.5;  18.3; -1.0;    -1;1']\n",
      " ['1746.5;  36.7; -1.0;    -1;1']\n",
      " ['1747.5;  66.7; -1.0;    -1;1']\n",
      " ['1748.5; 100.0; -1.0;    -1;1']\n",
      " ['1749.5; 134.8; -1.0;    -1;1']\n",
      " ['1750.5; 139.0; -1.0;    -1;1']\n",
      " ['1751.5;  79.5; -1.0;    -1;1']\n",
      " ['1752.5;  79.7; -1.0;    -1;1']\n",
      " ['1753.5;  51.2; -1.0;    -1;1']\n",
      " ['1754.5;  20.3; -1.0;    -1;1']\n",
      " ['1755.5;  16.0; -1.0;    -1;1']\n",
      " ['1756.5;  17.0; -1.0;    -1;1']\n",
      " ['1757.5;  54.0; -1.0;    -1;1']\n",
      " ['1758.5;  79.3; -1.0;    -1;1']\n",
      " ['1759.5;  90.0; -1.0;    -1;1']\n",
      " ['1760.5; 104.8; -1.0;    -1;1']\n",
      " ['1761.5; 143.2; -1.0;    -1;1']\n",
      " ['1762.5; 102.0; -1.0;    -1;1']\n",
      " ['1763.5;  75.2; -1.0;    -1;1']\n",
      " ['1764.5;  60.7; -1.0;    -1;1']\n",
      " ['1765.5;  34.8; -1.0;    -1;1']\n",
      " ['1766.5;  19.0; -1.0;    -1;1']\n",
      " ['1767.5;  63.0; -1.0;    -1;1']\n",
      " ['1768.5; 116.3; -1.0;    -1;1']\n",
      " ['1769.5; 176.8; -1.0;    -1;1']\n",
      " ['1770.5; 168.0; -1.0;    -1;1']\n",
      " ['1771.5; 136.0; -1.0;    -1;1']\n",
      " ['1772.5; 110.8; -1.0;    -1;1']\n",
      " ['1773.5;  58.0; -1.0;    -1;1']\n",
      " ['1774.5;  51.0; -1.0;    -1;1']\n",
      " ['1775.5;  11.7; -1.0;    -1;1']\n",
      " ['1776.5;  33.0; -1.0;    -1;1']\n",
      " ['1777.5; 154.2; -1.0;    -1;1']\n",
      " ['1778.5; 257.3; -1.0;    -1;1']\n",
      " ['1779.5; 209.8; -1.0;    -1;1']\n",
      " ['1780.5; 141.3; -1.0;    -1;1']\n",
      " ['1781.5; 113.5; -1.0;    -1;1']\n",
      " ['1782.5;  64.2; -1.0;    -1;1']\n",
      " ['1783.5;  38.0; -1.0;    -1;1']\n",
      " ['1784.5;  17.0; -1.0;    -1;1']\n",
      " ['1785.5;  40.2; -1.0;    -1;1']\n",
      " ['1786.5; 138.2; -1.0;    -1;1']\n",
      " ['1787.5; 220.0; -1.0;    -1;1']\n",
      " ['1788.5; 218.2; -1.0;    -1;1']\n",
      " ['1789.5; 196.8; -1.0;    -1;1']\n",
      " ['1790.5; 149.8; -1.0;    -1;1']\n",
      " ['1791.5; 111.0; -1.0;    -1;1']\n",
      " ['1792.5; 100.0; -1.0;    -1;1']\n",
      " ['1793.5;  78.2; -1.0;    -1;1']\n",
      " ['1794.5;  68.3; -1.0;    -1;1']\n",
      " ['1795.5;  35.5; -1.0;    -1;1']\n",
      " ['1796.5;  26.7; -1.0;    -1;1']\n",
      " ['1797.5;  10.7; -1.0;    -1;1']\n",
      " ['1798.5;   6.8; -1.0;    -1;1']\n",
      " ['1799.5;  11.3; -1.0;    -1;1']\n",
      " ['1800.5;  24.2; -1.0;    -1;1']\n",
      " ['1801.5;  56.7; -1.0;    -1;1']\n",
      " ['1802.5;  75.0; -1.0;    -1;1']\n",
      " ['1803.5;  71.8; -1.0;    -1;1']\n",
      " ['1804.5;  79.2; -1.0;    -1;1']\n",
      " ['1805.5;  70.3; -1.0;    -1;1']\n",
      " ['1806.5;  46.8; -1.0;    -1;1']\n",
      " ['1807.5;  16.8; -1.0;    -1;1']\n",
      " ['1808.5;  13.5; -1.0;    -1;1']\n",
      " ['1809.5;   4.2; -1.0;    -1;1']\n",
      " ['1810.5;   0.0; -1.0;    -1;1']\n",
      " ['1811.5;   2.3; -1.0;    -1;1']\n",
      " ['1812.5;   8.3; -1.0;    -1;1']\n",
      " ['1813.5;  20.3; -1.0;    -1;1']\n",
      " ['1814.5;  23.2; -1.0;    -1;1']\n",
      " ['1815.5;  59.0; -1.0;    -1;1']\n",
      " ['1816.5;  76.3; -1.0;    -1;1']\n",
      " ['1817.5;  68.3; -1.0;    -1;1']\n",
      " ['1818.5;  52.9;  9.2;   213;1']\n",
      " ['1819.5;  38.5;  7.9;   249;1']\n",
      " ['1820.5;  24.2;  6.4;   224;1']\n",
      " ['1821.5;   9.2;  4.2;   304;1']\n",
      " ['1822.5;   6.3;  3.7;   353;1']\n",
      " ['1823.5;   2.2;  2.7;   302;1']\n",
      " ['1824.5;  11.4;  4.6;   194;1']\n",
      " ['1825.5;  28.2;  6.8;   310;1']\n",
      " ['1826.5;  59.9;  9.8;   320;1']\n",
      " ['1827.5;  83.0; 11.6;   321;1']\n",
      " ['1828.5; 108.5; 13.2;   301;1']\n",
      " ['1829.5; 115.2; 13.6;   291;1']\n",
      " ['1830.5; 117.4; 13.7;   268;1']\n",
      " ['1831.5;  80.8; 11.4;   285;1']\n",
      " ['1832.5;  44.3;  8.5;   277;1']\n",
      " ['1833.5;  13.4;  4.9;   292;1']\n",
      " ['1834.5;  19.5;  5.8;   260;1']\n",
      " ['1835.5;  85.8; 11.8;   173;1']\n",
      " ['1836.5; 192.7; 17.6;   166;1']\n",
      " ['1837.5; 227.3; 19.1;   150;1']\n",
      " ['1838.5; 168.7; 16.5;   201;1']\n",
      " ['1839.5; 143.0; 15.1;   194;1']\n",
      " ['1840.5; 105.5; 13.0;   248;1']\n",
      " ['1841.5;  63.3; 10.1;   277;1']\n",
      " ['1842.5;  40.3;  8.1;   311;1']\n",
      " ['1843.5;  18.1;  5.6;   320;1']\n",
      " ['1844.5;  25.1;  6.5;   294;1']\n",
      " ['1845.5;  65.8; 10.3;   265;1']\n",
      " ['1846.5; 102.7; 12.8;   247;1']\n",
      " ['1847.5; 166.3; 16.3;   232;1']\n",
      " ['1848.5; 208.3; 18.3;   234;1']\n",
      " ['1849.5; 182.5; 16.6;   365;1']\n",
      " ['1850.5; 126.3; 13.7;   365;1']\n",
      " ['1851.5; 122.0; 13.4;   365;1']\n",
      " ['1852.5; 102.7; 12.3;   366;1']\n",
      " ['1853.5;  74.1; 10.4;   365;1']\n",
      " ['1854.5;  39.0;  7.5;   365;1']\n",
      " ['1855.5;  12.7;  4.3;   365;1']\n",
      " ['1856.5;   8.2;  3.4;   366;1']\n",
      " ['1857.5;  43.4;  8.0;   365;1']\n",
      " ['1858.5; 104.4; 12.4;   365;1']\n",
      " ['1859.5; 178.3; 16.3;   365;1']\n",
      " ['1860.5; 182.2; 16.5;   366;1']\n",
      " ['1861.5; 146.6; 14.8;   365;1']\n",
      " ['1862.5; 112.1; 12.9;   365;1']\n",
      " ['1863.5;  83.5; 11.1;   365;1']\n",
      " ['1864.5;  89.2; 11.5;   366;1']\n",
      " ['1865.5;  57.8;  9.2;   365;1']\n",
      " ['1866.5;  30.7;  6.7;   365;1']\n",
      " ['1867.5;  13.9;  4.5;   365;1']\n",
      " ['1868.5;  62.8;  8.9;   366;1']\n",
      " ['1869.5; 123.6; 12.5;   365;1']\n",
      " ['1870.5; 232.0; 17.1;   365;1']\n",
      " ['1871.5; 185.3; 15.3;   365;1']\n",
      " ['1872.5; 169.2; 14.6;   366;1']\n",
      " ['1873.5; 110.1; 11.8;   365;1']\n",
      " ['1874.5;  74.5;  9.7;   365;1']\n",
      " ['1875.5;  28.3;  6.1;   365;1']\n",
      " ['1876.5;  18.9;  5.1;   366;1']\n",
      " ['1877.5;  20.7;  5.3;   365;1']\n",
      " ['1878.5;   5.7;  3.2;   365;1']\n",
      " ['1879.5;  10.0;  3.9;   365;1']\n",
      " ['1880.5;  53.7;  8.3;   366;1']\n",
      " ['1881.5;  90.5; 10.7;   365;1']\n",
      " ['1882.5;  99.0; 11.2;   365;1']\n",
      " ['1883.5; 106.1; 11.6;   365;1']\n",
      " ['1884.5; 105.8; 11.6;   366;1']\n",
      " ['1885.5;  86.3; 10.5;   365;1']\n",
      " ['1886.5;  42.4;  7.4;   365;1']\n",
      " ['1887.5;  21.8;  5.4;   365;1']\n",
      " ['1888.5;  11.2;  4.0;   366;1']\n",
      " ['1889.5;  10.4;  3.9;   365;1']\n",
      " ['1890.5;  11.8;  4.1;   365;1']\n",
      " ['1891.5;  59.5;  8.7;   365;1']\n",
      " ['1892.5; 121.7; 12.4;   366;1']\n",
      " ['1893.5; 142.0; 10.6;   365;1']\n",
      " ['1894.5; 130.0; 10.2;   365;1']\n",
      " ['1895.5; 106.6;  9.2;   365;1']\n",
      " ['1896.5;  69.4;  7.4;   366;1']\n",
      " ['1897.5;  43.8;  5.9;   365;1']\n",
      " ['1898.5;  44.4;  6.0;   365;1']\n",
      " ['1899.5;  20.2;  4.1;   365;1']\n",
      " ['1900.5;  15.7;  3.8;   365;1']\n",
      " ['1901.5;   4.6;  2.6;   365;1']\n",
      " ['1902.5;   8.5;  3.1;   365;1']\n",
      " ['1903.5;  40.8;  5.7;   365;1']\n",
      " ['1904.5;  70.1;  7.5;   366;1']\n",
      " ['1905.5; 105.5;  9.2;   365;1']\n",
      " ['1906.5;  90.1;  8.5;   365;1']\n",
      " ['1907.5; 102.8;  9.0;   365;1']\n",
      " ['1908.5;  80.9;  8.0;   366;1']\n",
      " ['1909.5;  73.2;  7.6;   365;1']\n",
      " ['1910.5;  30.9;  5.0;   365;1']\n",
      " ['1911.5;   9.5;  3.1;   365;1']\n",
      " ['1912.5;   6.0;  2.7;   366;1']\n",
      " ['1913.5;   2.4;  2.3;   365;1']\n",
      " ['1914.5;  16.1;  3.8;   365;1']\n",
      " ['1915.5;  79.0;  7.9;   365;1']\n",
      " ['1916.5;  95.0;  8.7;   366;1']\n",
      " ['1917.5; 173.6; 11.8;   365;1']\n",
      " ['1918.5; 134.6; 10.3;   365;1']\n",
      " ['1919.5; 105.7;  9.2;   365;1']\n",
      " ['1920.5;  62.7;  7.1;   366;1']\n",
      " ['1921.5;  43.5;  5.9;   365;1']\n",
      " ['1922.5;  23.7;  4.5;   365;1']\n",
      " ['1923.5;   9.7;  3.1;   365;1']\n",
      " ['1924.5;  27.9;  4.8;   366;1']\n",
      " ['1925.5;  74.0;  7.7;   365;1']\n",
      " ['1926.5; 106.5;  9.2;   365;1']\n",
      " ['1927.5; 114.7;  9.5;   365;1']\n",
      " ['1928.5; 129.7; 10.2;   366;1']\n",
      " ['1929.5; 108.2;  9.3;   365;1']\n",
      " ['1930.5;  59.4;  6.9;   365;1']\n",
      " ['1931.5;  35.1;  5.3;   365;1']\n",
      " ['1932.5;  18.6;  4.0;   366;1']\n",
      " ['1933.5;   9.2;  3.2;   365;1']\n",
      " ['1934.5;  14.6;  3.6;   365;1']\n",
      " ['1935.5;  60.2;  6.9;   365;1']\n",
      " ['1936.5; 132.8; 10.3;   366;1']\n",
      " ['1937.5; 190.6; 12.3;   365;1']\n",
      " ['1938.5; 182.6; 12.1;   365;1']\n",
      " ['1939.5; 148.0; 10.8;   365;1']\n",
      " ['1940.5; 113.0;  9.5;   366;1']\n",
      " ['1941.5;  79.2;  7.9;   365;1']\n",
      " ['1942.5;  50.8;  6.4;   365;1']\n",
      " ['1943.5;  27.1;  4.7;   365;1']\n",
      " ['1944.5;  16.1;  3.8;   366;1']\n",
      " ['1945.5;  55.3;  6.6;   365;1']\n",
      " ['1946.5; 154.3; 11.1;   365;1']\n",
      " ['1947.5; 214.7;  9.8;   365;1']\n",
      " ['1948.5; 193.0;  9.3;   366;1']\n",
      " ['1949.5; 190.7;  9.2;   365;1']\n",
      " ['1950.5; 118.9;  7.3;   365;1']\n",
      " ['1951.5;  98.3;  6.6;   365;1']\n",
      " ['1952.5;  45.0;  4.5;   366;1']\n",
      " ['1953.5;  20.1;  3.0;   365;1']\n",
      " ['1954.5;   6.6;  1.7;   365;1']\n",
      " ['1955.5;  54.2;  4.9;   365;1']\n",
      " ['1956.5; 200.7;  9.5;   366;1']\n",
      " ['1957.5; 269.3; 11.0;   365;1']\n",
      " ['1958.5; 261.7; 10.8;   365;1']\n",
      " ['1959.5; 225.1; 10.0;   365;1']\n",
      " ['1960.5; 159.0;  8.4;   366;1']\n",
      " ['1961.5;  76.4;  5.8;   365;1']\n",
      " ['1962.5;  53.4;  4.9;   365;1']\n",
      " ['1963.5;  39.9;  4.2;   365;1']\n",
      " ['1964.5;  15.0;  2.6;   366;1']\n",
      " ['1965.5;  22.0;  3.2;   365;1']\n",
      " ['1966.5;  66.8;  5.4;   365;1']\n",
      " ['1967.5; 132.9;  7.7;   365;1']\n",
      " ['1968.5; 150.0;  8.2;   366;1']\n",
      " ['1969.5; 149.4;  8.2;   365;1']\n",
      " ['1970.5; 148.0;  8.1;   365;1']\n",
      " ['1971.5;  94.4;  6.5;   365;1']\n",
      " ['1972.5;  97.6;  6.6;   366;1']\n",
      " ['1973.5;  54.1;  4.9;   365;1']\n",
      " ['1974.5;  49.2;  4.7;   365;1']\n",
      " ['1975.5;  22.5;  3.2;   365;1']\n",
      " ['1976.5;  18.4;  2.9;   366;1']\n",
      " ['1977.5;  39.3;  4.2;   365;1']\n",
      " ['1978.5; 131.0;  7.6;   365;1']\n",
      " ['1979.5; 220.1;  9.9;   365;1']\n",
      " ['1980.5; 218.9;  9.9;   366;1']\n",
      " ['1981.5; 198.9; 13.1;  3049;1']\n",
      " ['1982.5; 162.4; 12.1;  3436;1']\n",
      " ['1983.5;  91.0;  7.6;  4216;1']\n",
      " ['1984.5;  60.5;  5.9;  5103;1']\n",
      " ['1985.5;  20.6;  3.7;  5543;1']\n",
      " ['1986.5;  14.8;  3.5;  5934;1']\n",
      " ['1987.5;  33.9;  3.7;  6396;1']\n",
      " ['1988.5; 123.0;  8.4;  6556;1']\n",
      " ['1989.5; 211.1; 12.8;  6932;1']\n",
      " ['1990.5; 191.8; 11.2;  7108;1']\n",
      " ['1991.5; 203.3; 12.7;  6932;1']\n",
      " ['1992.5; 133.0;  8.9;  7845;1']\n",
      " ['1993.5;  76.1;  5.8;  8010;1']\n",
      " ['1994.5;  44.9;  4.4;  8524;1']\n",
      " ['1995.5;  25.1;  3.7;  8429;1']\n",
      " ['1996.5;  11.6;  3.1;  7614;1']\n",
      " ['1997.5;  28.9;  3.6;  7294;1']\n",
      " ['1998.5;  88.3;  6.6;  6353;1']\n",
      " ['1999.5; 136.3;  9.3;  6413;1']\n",
      " ['2000.5; 173.9; 10.1;  5953;1']\n",
      " ['2001.5; 170.4; 10.5;  6558;1']\n",
      " ['2002.5; 163.6;  9.8;  6588;1']\n",
      " ['2003.5;  99.3;  7.1;  7087;1']\n",
      " ['2004.5;  65.3;  5.9;  6882;1']\n",
      " ['2005.5;  45.8;  4.7;  7084;1']\n",
      " ['2006.5;  24.7;  3.5;  6370;1']\n",
      " ['2007.5;  12.6;  2.7;  6841;1']\n",
      " ['2008.5;   4.2;  2.5;  6644;1']\n",
      " ['2009.5;   4.8;  2.5;  6465;1']\n",
      " ['2010.5;  24.9;  3.4;  6328;1']\n",
      " ['2011.5;  80.8;  6.7;  6077;1']\n",
      " ['2012.5;  84.5;  6.7;  5753;1']\n",
      " ['2013.5;  94.0;  6.9;  5347;1']\n",
      " ['2014.5; 113.3;  8.0;  5273;1']\n",
      " ['2015.5;  69.8;  6.4;  8903;1']]\n",
      "there are cvs file of month:\n",
      "[['1749;01;1749.042;  96.7; -1.0;   -1;1']\n",
      " ['1749;02;1749.123; 104.3; -1.0;   -1;1']\n",
      " ['1749;03;1749.204; 116.7; -1.0;   -1;1']\n",
      " ..., \n",
      " ['2016;08;2016.624;  50.7;  4.4;  879;0']\n",
      " ['2016;09;2016.706;  44.7;  3.8;  742;0']\n",
      " ['2016;10;2016.791;  33.6;  3.2;  695;0']]\n"
     ]
    }
   ],
   "source": [
    "year = \"http://www.sidc.be/silso/DATA/SN_y_tot_V2.0.csv\"\n",
    "month = \"http://www.sidc.be/silso/DATA/SN_m_tot_V2.0.csv\"\n",
    "\n",
    "yeardata = readcvs(year,\"Years:\")\n",
    "monthdata =readcvs(month,\"month:\")\n",
    "\n"
   ]
  },
  {
   "cell_type": "markdown",
   "metadata": {},
   "source": [
    "### 2.1 Compare the Belgian yearly sunspot data with the classical sunspot data\n",
    "\n",
    "Is the yearly data close to the <tt>sunspots</tt> vector analyzed above? (up to 1987)\n",
    "Find the L2-distance between the two vectors."
   ]
  },
  {
   "cell_type": "code",
   "execution_count": 89,
   "metadata": {
    "collapsed": false
   },
   "outputs": [
    {
     "name": "stdout",
     "output_type": "stream",
     "text": [
      "[['1700.5;   8.3; -1.0;    -1;1']\n",
      " ['1701.5;  18.3; -1.0;    -1;1']\n",
      " ['1702.5;  26.7; -1.0;    -1;1']\n",
      " ['1703.5;  38.3; -1.0;    -1;1']\n",
      " ['1704.5;  60.0; -1.0;    -1;1']\n",
      " ['1705.5;  96.7; -1.0;    -1;1']\n",
      " ['1706.5;  48.3; -1.0;    -1;1']\n",
      " ['1707.5;  33.3; -1.0;    -1;1']\n",
      " ['1708.5;  16.7; -1.0;    -1;1']\n",
      " ['1709.5;  13.3; -1.0;    -1;1']\n",
      " ['1710.5;   5.0; -1.0;    -1;1']\n",
      " ['1711.5;   0.0; -1.0;    -1;1']\n",
      " ['1712.5;   0.0; -1.0;    -1;1']\n",
      " ['1713.5;   3.3; -1.0;    -1;1']\n",
      " ['1714.5;  18.3; -1.0;    -1;1']\n",
      " ['1715.5;  45.0; -1.0;    -1;1']\n",
      " ['1716.5;  78.3; -1.0;    -1;1']\n",
      " ['1717.5; 105.0; -1.0;    -1;1']\n",
      " ['1718.5; 100.0; -1.0;    -1;1']\n",
      " ['1719.5;  65.0; -1.0;    -1;1']\n",
      " ['1720.5;  46.7; -1.0;    -1;1']\n",
      " ['1721.5;  43.3; -1.0;    -1;1']\n",
      " ['1722.5;  36.7; -1.0;    -1;1']\n",
      " ['1723.5;  18.3; -1.0;    -1;1']\n",
      " ['1724.5;  35.0; -1.0;    -1;1']\n",
      " ['1725.5;  66.7; -1.0;    -1;1']\n",
      " ['1726.5; 130.0; -1.0;    -1;1']\n",
      " ['1727.5; 203.3; -1.0;    -1;1']\n",
      " ['1728.5; 171.7; -1.0;    -1;1']\n",
      " ['1729.5; 121.7; -1.0;    -1;1']\n",
      " ['1730.5;  78.3; -1.0;    -1;1']\n",
      " ['1731.5;  58.3; -1.0;    -1;1']\n",
      " ['1732.5;  18.3; -1.0;    -1;1']\n",
      " ['1733.5;   8.3; -1.0;    -1;1']\n",
      " ['1734.5;  26.7; -1.0;    -1;1']\n",
      " ['1735.5;  56.7; -1.0;    -1;1']\n",
      " ['1736.5; 116.7; -1.0;    -1;1']\n",
      " ['1737.5; 135.0; -1.0;    -1;1']\n",
      " ['1738.5; 185.0; -1.0;    -1;1']\n",
      " ['1739.5; 168.3; -1.0;    -1;1']\n",
      " ['1740.5; 121.7; -1.0;    -1;1']\n",
      " ['1741.5;  66.7; -1.0;    -1;1']\n",
      " ['1742.5;  33.3; -1.0;    -1;1']\n",
      " ['1743.5;  26.7; -1.0;    -1;1']\n",
      " ['1744.5;   8.3; -1.0;    -1;1']\n",
      " ['1745.5;  18.3; -1.0;    -1;1']\n",
      " ['1746.5;  36.7; -1.0;    -1;1']\n",
      " ['1747.5;  66.7; -1.0;    -1;1']\n",
      " ['1748.5; 100.0; -1.0;    -1;1']\n",
      " ['1749.5; 134.8; -1.0;    -1;1']\n",
      " ['1750.5; 139.0; -1.0;    -1;1']\n",
      " ['1751.5;  79.5; -1.0;    -1;1']\n",
      " ['1752.5;  79.7; -1.0;    -1;1']\n",
      " ['1753.5;  51.2; -1.0;    -1;1']\n",
      " ['1754.5;  20.3; -1.0;    -1;1']\n",
      " ['1755.5;  16.0; -1.0;    -1;1']\n",
      " ['1756.5;  17.0; -1.0;    -1;1']\n",
      " ['1757.5;  54.0; -1.0;    -1;1']\n",
      " ['1758.5;  79.3; -1.0;    -1;1']\n",
      " ['1759.5;  90.0; -1.0;    -1;1']\n",
      " ['1760.5; 104.8; -1.0;    -1;1']\n",
      " ['1761.5; 143.2; -1.0;    -1;1']\n",
      " ['1762.5; 102.0; -1.0;    -1;1']\n",
      " ['1763.5;  75.2; -1.0;    -1;1']\n",
      " ['1764.5;  60.7; -1.0;    -1;1']\n",
      " ['1765.5;  34.8; -1.0;    -1;1']\n",
      " ['1766.5;  19.0; -1.0;    -1;1']\n",
      " ['1767.5;  63.0; -1.0;    -1;1']\n",
      " ['1768.5; 116.3; -1.0;    -1;1']\n",
      " ['1769.5; 176.8; -1.0;    -1;1']\n",
      " ['1770.5; 168.0; -1.0;    -1;1']\n",
      " ['1771.5; 136.0; -1.0;    -1;1']\n",
      " ['1772.5; 110.8; -1.0;    -1;1']\n",
      " ['1773.5;  58.0; -1.0;    -1;1']\n",
      " ['1774.5;  51.0; -1.0;    -1;1']\n",
      " ['1775.5;  11.7; -1.0;    -1;1']\n",
      " ['1776.5;  33.0; -1.0;    -1;1']\n",
      " ['1777.5; 154.2; -1.0;    -1;1']\n",
      " ['1778.5; 257.3; -1.0;    -1;1']\n",
      " ['1779.5; 209.8; -1.0;    -1;1']\n",
      " ['1780.5; 141.3; -1.0;    -1;1']\n",
      " ['1781.5; 113.5; -1.0;    -1;1']\n",
      " ['1782.5;  64.2; -1.0;    -1;1']\n",
      " ['1783.5;  38.0; -1.0;    -1;1']\n",
      " ['1784.5;  17.0; -1.0;    -1;1']\n",
      " ['1785.5;  40.2; -1.0;    -1;1']\n",
      " ['1786.5; 138.2; -1.0;    -1;1']\n",
      " ['1787.5; 220.0; -1.0;    -1;1']\n",
      " ['1788.5; 218.2; -1.0;    -1;1']\n",
      " ['1789.5; 196.8; -1.0;    -1;1']\n",
      " ['1790.5; 149.8; -1.0;    -1;1']\n",
      " ['1791.5; 111.0; -1.0;    -1;1']\n",
      " ['1792.5; 100.0; -1.0;    -1;1']\n",
      " ['1793.5;  78.2; -1.0;    -1;1']\n",
      " ['1794.5;  68.3; -1.0;    -1;1']\n",
      " ['1795.5;  35.5; -1.0;    -1;1']\n",
      " ['1796.5;  26.7; -1.0;    -1;1']\n",
      " ['1797.5;  10.7; -1.0;    -1;1']\n",
      " ['1798.5;   6.8; -1.0;    -1;1']\n",
      " ['1799.5;  11.3; -1.0;    -1;1']\n",
      " ['1800.5;  24.2; -1.0;    -1;1']\n",
      " ['1801.5;  56.7; -1.0;    -1;1']\n",
      " ['1802.5;  75.0; -1.0;    -1;1']\n",
      " ['1803.5;  71.8; -1.0;    -1;1']\n",
      " ['1804.5;  79.2; -1.0;    -1;1']\n",
      " ['1805.5;  70.3; -1.0;    -1;1']\n",
      " ['1806.5;  46.8; -1.0;    -1;1']\n",
      " ['1807.5;  16.8; -1.0;    -1;1']\n",
      " ['1808.5;  13.5; -1.0;    -1;1']\n",
      " ['1809.5;   4.2; -1.0;    -1;1']\n",
      " ['1810.5;   0.0; -1.0;    -1;1']\n",
      " ['1811.5;   2.3; -1.0;    -1;1']\n",
      " ['1812.5;   8.3; -1.0;    -1;1']\n",
      " ['1813.5;  20.3; -1.0;    -1;1']\n",
      " ['1814.5;  23.2; -1.0;    -1;1']\n",
      " ['1815.5;  59.0; -1.0;    -1;1']\n",
      " ['1816.5;  76.3; -1.0;    -1;1']\n",
      " ['1817.5;  68.3; -1.0;    -1;1']\n",
      " ['1818.5;  52.9;  9.2;   213;1']\n",
      " ['1819.5;  38.5;  7.9;   249;1']\n",
      " ['1820.5;  24.2;  6.4;   224;1']\n",
      " ['1821.5;   9.2;  4.2;   304;1']\n",
      " ['1822.5;   6.3;  3.7;   353;1']\n",
      " ['1823.5;   2.2;  2.7;   302;1']\n",
      " ['1824.5;  11.4;  4.6;   194;1']\n",
      " ['1825.5;  28.2;  6.8;   310;1']\n",
      " ['1826.5;  59.9;  9.8;   320;1']\n",
      " ['1827.5;  83.0; 11.6;   321;1']\n",
      " ['1828.5; 108.5; 13.2;   301;1']\n",
      " ['1829.5; 115.2; 13.6;   291;1']\n",
      " ['1830.5; 117.4; 13.7;   268;1']\n",
      " ['1831.5;  80.8; 11.4;   285;1']\n",
      " ['1832.5;  44.3;  8.5;   277;1']\n",
      " ['1833.5;  13.4;  4.9;   292;1']\n",
      " ['1834.5;  19.5;  5.8;   260;1']\n",
      " ['1835.5;  85.8; 11.8;   173;1']\n",
      " ['1836.5; 192.7; 17.6;   166;1']\n",
      " ['1837.5; 227.3; 19.1;   150;1']\n",
      " ['1838.5; 168.7; 16.5;   201;1']\n",
      " ['1839.5; 143.0; 15.1;   194;1']\n",
      " ['1840.5; 105.5; 13.0;   248;1']\n",
      " ['1841.5;  63.3; 10.1;   277;1']\n",
      " ['1842.5;  40.3;  8.1;   311;1']\n",
      " ['1843.5;  18.1;  5.6;   320;1']\n",
      " ['1844.5;  25.1;  6.5;   294;1']\n",
      " ['1845.5;  65.8; 10.3;   265;1']\n",
      " ['1846.5; 102.7; 12.8;   247;1']\n",
      " ['1847.5; 166.3; 16.3;   232;1']\n",
      " ['1848.5; 208.3; 18.3;   234;1']\n",
      " ['1849.5; 182.5; 16.6;   365;1']\n",
      " ['1850.5; 126.3; 13.7;   365;1']\n",
      " ['1851.5; 122.0; 13.4;   365;1']\n",
      " ['1852.5; 102.7; 12.3;   366;1']\n",
      " ['1853.5;  74.1; 10.4;   365;1']\n",
      " ['1854.5;  39.0;  7.5;   365;1']\n",
      " ['1855.5;  12.7;  4.3;   365;1']\n",
      " ['1856.5;   8.2;  3.4;   366;1']\n",
      " ['1857.5;  43.4;  8.0;   365;1']\n",
      " ['1858.5; 104.4; 12.4;   365;1']\n",
      " ['1859.5; 178.3; 16.3;   365;1']\n",
      " ['1860.5; 182.2; 16.5;   366;1']\n",
      " ['1861.5; 146.6; 14.8;   365;1']\n",
      " ['1862.5; 112.1; 12.9;   365;1']\n",
      " ['1863.5;  83.5; 11.1;   365;1']\n",
      " ['1864.5;  89.2; 11.5;   366;1']\n",
      " ['1865.5;  57.8;  9.2;   365;1']\n",
      " ['1866.5;  30.7;  6.7;   365;1']\n",
      " ['1867.5;  13.9;  4.5;   365;1']\n",
      " ['1868.5;  62.8;  8.9;   366;1']\n",
      " ['1869.5; 123.6; 12.5;   365;1']\n",
      " ['1870.5; 232.0; 17.1;   365;1']\n",
      " ['1871.5; 185.3; 15.3;   365;1']\n",
      " ['1872.5; 169.2; 14.6;   366;1']\n",
      " ['1873.5; 110.1; 11.8;   365;1']\n",
      " ['1874.5;  74.5;  9.7;   365;1']\n",
      " ['1875.5;  28.3;  6.1;   365;1']\n",
      " ['1876.5;  18.9;  5.1;   366;1']\n",
      " ['1877.5;  20.7;  5.3;   365;1']\n",
      " ['1878.5;   5.7;  3.2;   365;1']\n",
      " ['1879.5;  10.0;  3.9;   365;1']\n",
      " ['1880.5;  53.7;  8.3;   366;1']\n",
      " ['1881.5;  90.5; 10.7;   365;1']\n",
      " ['1882.5;  99.0; 11.2;   365;1']\n",
      " ['1883.5; 106.1; 11.6;   365;1']\n",
      " ['1884.5; 105.8; 11.6;   366;1']\n",
      " ['1885.5;  86.3; 10.5;   365;1']\n",
      " ['1886.5;  42.4;  7.4;   365;1']\n",
      " ['1887.5;  21.8;  5.4;   365;1']\n",
      " ['1888.5;  11.2;  4.0;   366;1']\n",
      " ['1889.5;  10.4;  3.9;   365;1']\n",
      " ['1890.5;  11.8;  4.1;   365;1']\n",
      " ['1891.5;  59.5;  8.7;   365;1']\n",
      " ['1892.5; 121.7; 12.4;   366;1']\n",
      " ['1893.5; 142.0; 10.6;   365;1']\n",
      " ['1894.5; 130.0; 10.2;   365;1']\n",
      " ['1895.5; 106.6;  9.2;   365;1']\n",
      " ['1896.5;  69.4;  7.4;   366;1']\n",
      " ['1897.5;  43.8;  5.9;   365;1']\n",
      " ['1898.5;  44.4;  6.0;   365;1']\n",
      " ['1899.5;  20.2;  4.1;   365;1']\n",
      " ['1900.5;  15.7;  3.8;   365;1']\n",
      " ['1901.5;   4.6;  2.6;   365;1']\n",
      " ['1902.5;   8.5;  3.1;   365;1']\n",
      " ['1903.5;  40.8;  5.7;   365;1']\n",
      " ['1904.5;  70.1;  7.5;   366;1']\n",
      " ['1905.5; 105.5;  9.2;   365;1']\n",
      " ['1906.5;  90.1;  8.5;   365;1']\n",
      " ['1907.5; 102.8;  9.0;   365;1']\n",
      " ['1908.5;  80.9;  8.0;   366;1']\n",
      " ['1909.5;  73.2;  7.6;   365;1']\n",
      " ['1910.5;  30.9;  5.0;   365;1']\n",
      " ['1911.5;   9.5;  3.1;   365;1']\n",
      " ['1912.5;   6.0;  2.7;   366;1']\n",
      " ['1913.5;   2.4;  2.3;   365;1']\n",
      " ['1914.5;  16.1;  3.8;   365;1']\n",
      " ['1915.5;  79.0;  7.9;   365;1']\n",
      " ['1916.5;  95.0;  8.7;   366;1']\n",
      " ['1917.5; 173.6; 11.8;   365;1']\n",
      " ['1918.5; 134.6; 10.3;   365;1']\n",
      " ['1919.5; 105.7;  9.2;   365;1']\n",
      " ['1920.5;  62.7;  7.1;   366;1']\n",
      " ['1921.5;  43.5;  5.9;   365;1']\n",
      " ['1922.5;  23.7;  4.5;   365;1']\n",
      " ['1923.5;   9.7;  3.1;   365;1']\n",
      " ['1924.5;  27.9;  4.8;   366;1']\n",
      " ['1925.5;  74.0;  7.7;   365;1']\n",
      " ['1926.5; 106.5;  9.2;   365;1']\n",
      " ['1927.5; 114.7;  9.5;   365;1']\n",
      " ['1928.5; 129.7; 10.2;   366;1']\n",
      " ['1929.5; 108.2;  9.3;   365;1']\n",
      " ['1930.5;  59.4;  6.9;   365;1']\n",
      " ['1931.5;  35.1;  5.3;   365;1']\n",
      " ['1932.5;  18.6;  4.0;   366;1']\n",
      " ['1933.5;   9.2;  3.2;   365;1']\n",
      " ['1934.5;  14.6;  3.6;   365;1']\n",
      " ['1935.5;  60.2;  6.9;   365;1']\n",
      " ['1936.5; 132.8; 10.3;   366;1']\n",
      " ['1937.5; 190.6; 12.3;   365;1']\n",
      " ['1938.5; 182.6; 12.1;   365;1']\n",
      " ['1939.5; 148.0; 10.8;   365;1']\n",
      " ['1940.5; 113.0;  9.5;   366;1']\n",
      " ['1941.5;  79.2;  7.9;   365;1']\n",
      " ['1942.5;  50.8;  6.4;   365;1']\n",
      " ['1943.5;  27.1;  4.7;   365;1']\n",
      " ['1944.5;  16.1;  3.8;   366;1']\n",
      " ['1945.5;  55.3;  6.6;   365;1']\n",
      " ['1946.5; 154.3; 11.1;   365;1']\n",
      " ['1947.5; 214.7;  9.8;   365;1']\n",
      " ['1948.5; 193.0;  9.3;   366;1']\n",
      " ['1949.5; 190.7;  9.2;   365;1']\n",
      " ['1950.5; 118.9;  7.3;   365;1']\n",
      " ['1951.5;  98.3;  6.6;   365;1']\n",
      " ['1952.5;  45.0;  4.5;   366;1']\n",
      " ['1953.5;  20.1;  3.0;   365;1']\n",
      " ['1954.5;   6.6;  1.7;   365;1']\n",
      " ['1955.5;  54.2;  4.9;   365;1']\n",
      " ['1956.5; 200.7;  9.5;   366;1']\n",
      " ['1957.5; 269.3; 11.0;   365;1']\n",
      " ['1958.5; 261.7; 10.8;   365;1']\n",
      " ['1959.5; 225.1; 10.0;   365;1']\n",
      " ['1960.5; 159.0;  8.4;   366;1']\n",
      " ['1961.5;  76.4;  5.8;   365;1']\n",
      " ['1962.5;  53.4;  4.9;   365;1']\n",
      " ['1963.5;  39.9;  4.2;   365;1']\n",
      " ['1964.5;  15.0;  2.6;   366;1']\n",
      " ['1965.5;  22.0;  3.2;   365;1']\n",
      " ['1966.5;  66.8;  5.4;   365;1']\n",
      " ['1967.5; 132.9;  7.7;   365;1']\n",
      " ['1968.5; 150.0;  8.2;   366;1']\n",
      " ['1969.5; 149.4;  8.2;   365;1']\n",
      " ['1970.5; 148.0;  8.1;   365;1']\n",
      " ['1971.5;  94.4;  6.5;   365;1']\n",
      " ['1972.5;  97.6;  6.6;   366;1']\n",
      " ['1973.5;  54.1;  4.9;   365;1']\n",
      " ['1974.5;  49.2;  4.7;   365;1']\n",
      " ['1975.5;  22.5;  3.2;   365;1']\n",
      " ['1976.5;  18.4;  2.9;   366;1']\n",
      " ['1977.5;  39.3;  4.2;   365;1']\n",
      " ['1978.5; 131.0;  7.6;   365;1']\n",
      " ['1979.5; 220.1;  9.9;   365;1']\n",
      " ['1980.5; 218.9;  9.9;   366;1']\n",
      " ['1981.5; 198.9; 13.1;  3049;1']\n",
      " ['1982.5; 162.4; 12.1;  3436;1']\n",
      " ['1983.5;  91.0;  7.6;  4216;1']\n",
      " ['1984.5;  60.5;  5.9;  5103;1']\n",
      " ['1985.5;  20.6;  3.7;  5543;1']\n",
      " ['1986.5;  14.8;  3.5;  5934;1']]\n"
     ]
    }
   ],
   "source": [
    "#Is the yearly data close to the sunspots vector analyzed above? (up to 1987\n",
    "# yes the yearly data is close to the sunspots vector analyzed above\n"
   ]
  },
  {
   "cell_type": "markdown",
   "metadata": {},
   "source": [
    "### 2.2 Analyze the yearly data\n",
    "\n",
    "Find the period of yearly sunspot intensity, using analysis like that shown above.\n",
    "Do the two values of the period agree?"
   ]
  },
  {
   "cell_type": "code",
   "execution_count": null,
   "metadata": {
    "collapsed": true
   },
   "outputs": [],
   "source": []
  },
  {
   "cell_type": "markdown",
   "metadata": {},
   "source": [
    "### 2.3 Analyze the monthly data\n",
    "\n",
    "Find the period of sunspot intensity using the <b>monthly</b> data.\n",
    "At which frequencies are there spikes?\n",
    "\n",
    "Remember, the sampling frequency here is (1/month) = (12/year).\n",
    "\n",
    "Is there a period at a frequency close to the period for the yearly data?"
   ]
  },
  {
   "cell_type": "code",
   "execution_count": null,
   "metadata": {
    "collapsed": true
   },
   "outputs": [],
   "source": []
  },
  {
   "cell_type": "markdown",
   "metadata": {},
   "source": [
    "## Problem 3:  A Photoshop Detector\n",
    "\n",
    "A simple way to check if a $m \\times n$ RGB image has been faked (with Photoshop, say) is to use the <tt>reshape</tt> function to convert it into a $(m\\,n) \\times 3$ matrix,\n",
    "compute the 3 principal components of its $3 \\times 3$ covariance matrix,\n",
    "project the reshaped image on the <u>second</u> principal component,\n",
    "and then reshape the result back to a $m \\times n$ grayscale image.\n",
    "If this grayscale image has bright or dark spots, it is possible that the color distribution in that area (and perhaps also that part of the image) has been altered.\n",
    "\n",
    "For example, the image <tt>LIFE_projected_on_2nd_PC.jpg</tt> shows the result of projecting the image <tt>LIFE.jpg</tt> on the 2nd PC, and treating the result as a grayscale image.\n",
    "Notice the flag on Aldrin's shoulder and some buttons on his suit are bright, suggesting that they have been retouched.  The buttons are bright red in <tt>LIFE.jpg</tt>.\n",
    "<table>\n",
    "<tr><td>\n",
    "<img src=\"hw3/LIFE.jpg\" style=\"height:400px;\"/>LIFE magazine cover\n",
    "</td><td>\n",
    "<img src=\"hw3/LIFE_projected_on_2nd_PC.jpg\" style=\"height:400px;\"/>LIFE cover projected on 2nd PC\n",
    "</td></tr>\n",
    "</table>"
   ]
  },
  {
   "cell_type": "markdown",
   "metadata": {},
   "source": [
    "### 3.1 Write a Photoshop detector\n",
    "\n",
    "Write a function that takes the filename of an input image, and returns its 2nd PC image.\n",
    "\n",
    "As a test, show the output of your program on <tt>LIFE.jpg</tt>."
   ]
  },
  {
   "cell_type": "code",
   "execution_count": 3,
   "metadata": {
    "collapsed": false
   },
   "outputs": [
    {
     "ename": "NameError",
     "evalue": "name 'double' is not defined",
     "output_type": "error",
     "traceback": [
      "\u001b[0;31m---------------------------------------------------------------------------\u001b[0m",
      "\u001b[0;31mNameError\u001b[0m                                 Traceback (most recent call last)",
      "\u001b[0;32m<ipython-input-3-27104e9dff5f>\u001b[0m in \u001b[0;36m<module>\u001b[0;34m()\u001b[0m\n\u001b[1;32m      7\u001b[0m \u001b[0mmn\u001b[0m \u001b[0;34m=\u001b[0m \u001b[0mm\u001b[0m\u001b[0;34m*\u001b[0m\u001b[0mn\u001b[0m\u001b[0;34m\u001b[0m\u001b[0m\n\u001b[1;32m      8\u001b[0m \u001b[0mresult\u001b[0m \u001b[0;34m=\u001b[0m \u001b[0mnp\u001b[0m\u001b[0;34m.\u001b[0m\u001b[0mreshape\u001b[0m\u001b[0;34m(\u001b[0m\u001b[0mimage\u001b[0m\u001b[0;34m,\u001b[0m \u001b[0;34m(\u001b[0m\u001b[0mmn\u001b[0m\u001b[0;34m,\u001b[0m \u001b[0;36m3\u001b[0m\u001b[0;34m)\u001b[0m\u001b[0;34m)\u001b[0m\u001b[0;34m\u001b[0m\u001b[0m\n\u001b[0;32m----> 9\u001b[0;31m \u001b[0mresult\u001b[0m \u001b[0;34m=\u001b[0m \u001b[0mnp\u001b[0m\u001b[0;34m.\u001b[0m\u001b[0mcov\u001b[0m\u001b[0;34m(\u001b[0m\u001b[0mdouble\u001b[0m\u001b[0;34m(\u001b[0m\u001b[0mresult\u001b[0m\u001b[0;34m)\u001b[0m\u001b[0;34m)\u001b[0m\u001b[0;34m\u001b[0m\u001b[0m\n\u001b[0m\u001b[1;32m     10\u001b[0m \u001b[0;31m#print (result,len(result))\u001b[0m\u001b[0;34m\u001b[0m\u001b[0;34m\u001b[0m\u001b[0m\n\u001b[1;32m     11\u001b[0m \u001b[0mresults\u001b[0m \u001b[0;34m=\u001b[0m \u001b[0mPCA\u001b[0m\u001b[0;34m(\u001b[0m\u001b[0mresult\u001b[0m\u001b[0;34m)\u001b[0m\u001b[0;34m\u001b[0m\u001b[0m\n",
      "\u001b[0;31mNameError\u001b[0m: name 'double' is not defined"
     ]
    }
   ],
   "source": [
    "import matplotlib.image as img\n",
    "from matplotlib.mlab import PCA\n",
    "image = img.imread(\"LIFE.jpg\")\n",
    "#print(image)\n",
    "m = len(image)\n",
    "n = len(image[0])\n",
    "mn = m*n\n",
    "result = np.reshape(image, (mn, 3))\n",
    "result = np.cov(double(result))\n",
    "#print (result,len(result))\n",
    "results = PCA(result)\n"
   ]
  },
  {
   "cell_type": "markdown",
   "metadata": {
    "collapsed": true
   },
   "source": [
    "(With Octave, you can include the output image in this notebook with a &lt;img src=\"...\"&gt; HTML tag.)"
   ]
  },
  {
   "cell_type": "markdown",
   "metadata": {},
   "source": [
    "### 3.2 Jennifer in Paradise\n",
    "\n",
    "Show the output of your program on the photo <tt>Jennifer_in_Paradise.jpg</tt> included in the assignment .zip file.\n",
    "This image is allegedly the first image ever actually photoshopped -- a photo of the wife of the original\n",
    "developer of Photoshop,\n",
    "<a href=\"http://www.telegraph.co.uk/technology/2016/02/05/the-most-famous-photoshopped-images-of-all-time/\">\n",
    "famous as a photoshopped image</a>."
   ]
  },
  {
   "cell_type": "code",
   "execution_count": null,
   "metadata": {
    "collapsed": true
   },
   "outputs": [],
   "source": []
  },
  {
   "cell_type": "markdown",
   "metadata": {},
   "source": [
    "### 3.3 Find and comment on an image of Hillary Clinton or Donald Trump that has been photoshopped\n",
    "\n",
    "Using e.g. Google image search, find an image of Hillary or Donald whose 2nd PC has clearly highlighted areas.\n",
    "Comment on the highlighting."
   ]
  },
  {
   "cell_type": "code",
   "execution_count": null,
   "metadata": {
    "collapsed": true
   },
   "outputs": [],
   "source": []
  },
  {
   "cell_type": "markdown",
   "metadata": {},
   "source": [
    "# Problem 4:  Graphs as Matrices\n",
    "\n",
    "The goal of this problem is to analyze the graph (actually, a numeric matrix $H$).  You can read it from one of the attached files  <tt>hero_social_network_50.tsv</tt>, <tt>hero_social_network_50.m</tt>, <tt>hero_social_network_50.py</tt>.\n",
    "\n",
    "This $H$ matrix represent a core part of Marvel's ___Hero Social Network___ (a graph of social connections between superheroes.  The entry $h_{ij}$ of $H$ is the strength of edges, so higher values mean that heroes $i$ and $j$ appear together more often.\n",
    "\n",
    "The entire Marvel set of heroes is amazingly large; this dataset includes 206 heroes in the graph, obtained from the subset who appear in at least 50 comics.  Despite their frequent appearance, this matrix is still pretty sparse -- apparently superheroes don't have hundreds of friends."
   ]
  },
  {
   "cell_type": "markdown",
   "metadata": {},
   "source": [
    "### 4.0 Read in the Hero Social Network\n",
    "\n",
    "For example, you can read the file with ___dlmread()___ in Matlab; in Python either ad hoc parsing or perhaps the ___csv___ module.\n",
    "\n",
    "Notice that the network is undirected, so $H$ is real symmetric, and all entries of $H$ are nonnegative."
   ]
  },
  {
   "cell_type": "code",
   "execution_count": 108,
   "metadata": {
    "collapsed": false
   },
   "outputs": [
    {
     "name": "stdout",
     "output_type": "stream",
     "text": [
      "['Hero_network = [\\n', '0,0,0,0,0,0,0,0,0.00015492621856433877,0,0,0,0,0,0,8.703720144063976e-05,0,0,0,0,0,0,0.0001044446417287677,0,0,0,0,0,0,0.00012359282604570846,0,0,0,0,0,0,0,0,0,0,0,0,0,0,9.051868949826534e-05,0,0,0,0.00012185208201689566,0,0,0,0,0,0.0001079261297863933,0,0,0,0,0,0,0,0,0,0,0.00010270389769995491,0,0,0,0,0,0,0,0,0,0,0,0,0,0.00010096315367114212,0,0,0,0,0,0,0,0,0,0,0.00011140761784401889,0,0,0,0,0,0.00011662984993045727,0,0,0,0,0,0,0,0,0,0,0,0,0,0,0,0,0,0,0,0,0,0,0.00030985243712867755,0,0,0,0,0,0,0,0,0,0,0,0,0,0,0,0.00016014845065077715,0,0,0,0,0,0,0,0,0,0.000212370771515161,0,0,0,0,0,0,0,0,0,0,0,0,0,0,0,0,0,0,0,0.0003620747579930614,0,0,0,0,9.051868949826534e-05,0,0,0,0,0,0,0,0,0,0,0,0,0,0,0,0,0,0,0,0,0,0,0,0,0,0,0,0,0,0.00011837059395927007,0,0,0,0,0,9.225943352707814e-05,0,9.574092158470373e-05,0,0,0,0,0,0,0,0,0,0,0,0,0,0,0.0002680745804371705,0,0,0,0,0,0,0,8.703720144063976e-05,0,0,0,0,0,0,0,0,0,0,0,0,0,0,0,0,0 ,\\n', '0,0,0,0,0,0,0,0,0,0,0,0,0,0,0,0,0,0,0,0,0,0,0,0,0,0,0,0,0,0.00011488910590164449,0,0,0,0,0,0,0,0,0,0,0,0,0,0,0,0,0,0,0,0,0,0,0,0,0,0,0,0,0,0,0,0,0,0,0,0,0,0,0,0,0,0,0,0,0,0,0,0,0,0,0,0,0,0,0,0,0,0,0,0,0,0,0,0,0,0,0,0,0,0,0,0,0,0,0,0,0,0,0,0,0,0,0,0,0,0,0,0,0,0,0,0,0,0,0,0,0,0,0,0,0,0,0,0,0,0,0,0,0,0,0,0,0,0,0,0,0,0,0,0,0,0,0,0,0,0,0,0,0,0,0,0,0,0,0,0,0,0,0,0,0,0,0,0,0,0,0,0,0,0,0,0,0,0,0,0,0,0,0,0,0,0,0,0,0,0,0,0,0,0,0,0,0,0,0,0,0,0,0,0,0,0,0,0,0,0,0,0,0,0,0,0,0,0,0,0,0,0,0,0,0,0,0,0,0,0,0,0,0,0,0,0,0,0,0,0,0,0,0 ,\\n', '0,0,0,0,0,0,0,0,0,0,0,0,0,0,0,0,0,0,0,0,0,0,0,0,0,0,0,0,0,0,0,0,0,0,0,0,0,0,0,0,0,0,0,0,0,0,0,0,0,0,0,0,0,0,0,0,0,0,0,0,0,0,0,0,0,0,0,0,0,0,0,0,0,0,0,0,0,0,0,0,0,0,0,0,0,0,0,0,0,0.00015318547453552596,0,0,0,0,0,0,0,0,0,0,0,0,0,0,0,0,0,0,0,0,0,0,0,0,0,0,0,0,0,0,0,0,0,0,0,0,0,0,0,0,0,0,0,0,0,0,0,0,0,0,0,0,0,0,0,0,0,0,0,0,0,0,0,0,0,0,0,0,0,0,0,0,0,0,0,0,0,0,0,0,0,0,0,0,0,0,0,0,0,0,0,0,0,0,0,0,0,0,0,0,0,0,0,0,0,0,0,0,0,0,0,0,0,0,0,0,0,0,0,0,0,0,0,0,0,0,0,0,0,0,0,0,0,0,0,0,0,0,0,0,0,0,0,0,0,0,0,0,0,0,0,0,0,0,0,0,0,0,0 ,\\n', '0,0,0,0.0002088892834575354,0,0,0,0,0,0,0,0,0,0,0,0,0,0,0,0,0,0,0,0,0,0,0,0,0,0,0,0,0,0,0,0,0,0,0,0,0,0,0,0,0,0,0,0,0,0,0,0,0,0,0,0,0,0,0,0,0,0,0,0,0,0,0,0,0,0,0,0,0,0,0,0,0,0,0,0,0,0,0,0,0,0,0,0,0,0,0,0,0,0,0,0,0.0005239639526726514,0,0,0,0,0,0,0,0,0,0,0,0,0,0,0,0,0,0,0,0,0,0,0,0,0,0,0,0,0,0,0,0,0,0,0,0,0,0,0,0,0,0,0,0,0,0,0,0,0,0,0,0,0,0,0,0,0,0,0,0,0,0,0,0,0,0,0,0,0,0,0,0,0,0,0,0,0,0,0,0,0,0,0,0,0,0,0,0,0,0,0,0,0,0,0,0,0,0,0,0,0,0,0,0,0,0,0,0,0,0,0,0,0,0,0,0,0,0,0,0,0,0,0,0,0,0,0,0,0,0,0,0,0,0,0,0,0,0,0,0,0,0,0,0,0,0,0,0,0,0,0,0 ,\\n', '0,0,0,0,0,0,0,0,0,0,0,0,0,0,0,0,0,0,0,0,0,0,0,0,0,0,0,0,0,0,0,0,0,0,0,0,0,0,0,0,0,0,0,0,0,0,0,0,0,0,0,0,0,0,0,0,0,0,0,0,0,0,0,0,0,0,0,0,0,0,0,0,0,0,0,0,0,0,0,0,0,0,0,0,0,0,0,0,0,0,0,0,0,0,0,0,0,0,0,0,0,0,0,0,0,0,0,0,0,0,0,0,0,0,0,0,0,0.00011837059395927007,0,0,0,0,0,0,0,0,0,0,0,0,0,0,0,0,0,0,0,0,0,0,0.00017407440288127953,0,0,0,0,0,0,0,0,0,0,0,0,0,0,0,0,0,0.00010270389769995491,0,0,0,0,0,0,0,0,0,0,0,0,0,0,0,0,0,0,0,0,0,0,0,0,0,0,0,0,0,0,0,0,0,0,0,0,0,0,0,0,0,0,0,0,0,0,0,0,0,0,0,0,0,0,0,0.0001079261297863933,0,0,0,0,0,0,0,0,0,0,0,0,0,0,0.00017755589093890512,0,0,0,0,0,0,0,0,0,0,0,0,0,0,0,0,0,0,0 ,\\n', '0,0,0,0,0,0,0,0,0,0,0,0,0,0,0,0,0,0,0,0,0,0,0,0,0,0,0,0,0,0,0,0,0,0,0,0,0,0,0,0,0,0,0.00015840770662196437,0,0,0,0,0,0,0,0,0,0,0,0,0,0,0,0,0,0,0,0,0,0,0,0,0,0,0,0,0,0,0,0,0,0,0,0,0,0.00015666696259315156,0,0,0,0,0,0,0,0,0,0,0,0,0,0,0,0,0,0,0,0,0,0,0.00015144473050671318,0,0,0,0,0,0,0,0,0,0,0,0,0,0,0,0,0,0,0,0,0,0,0,0,0,0,0,0,0,0,0,0,0,0,0.00011837059395927007,0,0,0,0,0,0,0,0,0,0,0,0,0,0,0,0,0,0,0,0,0,0,0,0,0,0,0,0,0,0.00015840770662196437,0,0,0,0,0,0,0,0,0,0,0,0,0,0,0,0,0,0,0,0,0,0,0,0,0,0,0,0,0,0,0,0,0,0,0,0,0,0,0,8.703720144063976e-05,0,0,0,0,0,0,0,0,0,0,0,0,0,0,0,0,0,0.00010096315367114212,0,0,0,0,0,0,0,0,0,0,0,0,0,0,0,0,0,0,0,0,0,0 ,\\n', '0,0,0,0,0,0,0,0,0,0,0,0,0,0,0,9.400017755589094e-05,0,0.0001810373789965307,0,0.00013403729021858524,0,0,0,0,0,0,0,0,0,0,0,0,0,0.00033770434158968224,0,0,0,0,0,0,0,0,0,0.00013229654618977243,0.000433445263174386,0,0,0,0,0,0,0,0,0.0001061853857575805,0.0004543341915201395,0,0,0,0,0,0,0,0,0,0,0,0,0,0,0,0,0,8.877794546945256e-05,0,0,0,0,0,0,0.0003934081505116917,0,0,0,0,0,0,0,0,0,0,0,0,8.877794546945256e-05,0,0,0,0.00037600071022356375,0,0,0,0,0,0,0,0,0,0,0,0,0,0,0,0,0,0,0,0,0,0,0,0,0,0,0,0,8.703720144063976e-05,0.0001096668738152061,9.400017755589094e-05,0,0,0,0,0,0.0001862596110829691,0,0,0,0,0,0,0,0,0,0,0.0001079261297863933,0,0,0,0,0,0,0,0,0,0,0,0,0,0,0,0,0,0,0,0,0,0,0,0,0,0,0,0.00016188919467958996,9.400017755589094e-05,0,0,0,0,0,0,0,0,0,0,0,0,0,0.0002175930036015994,0,0,0,0,0,0,0,0,0,0,0,0,0,0,0,0,0,0,0,0,0.00011662984993045727,0,0,0,0,0,0,0,0,0,0,0,0,0.0003237783893591799,0,0,0,0,0,0,0,0,0,0.00019148184316940747,0,0,0,0,0,0,0,0,0,0,0,0,0.0003585932699354358,0,0,0,0 ,\\n', '0,0,0,0,0,0,0,0,0,0,0,0,0,0,0,0,0,0,0,0,0,0,0,0,0,0,0,0,0,0,0,0,0,0,0,0,0,0,0,0,0,0,0,0,0,0,0,0,0,0,0,0,0,0,0,0,0,0,9.748166561351653e-05,0,0,0,0,0,0,0,0,0,0,0,0,0,0,0,0,0,0,0,0,0,0,0,0,0,0,0,0,0,0,0,0,0,0,0,0,0,0,0,0,0,0,0,0,0,0,0,0,0,0,0,0,0,0,0,0,0,0,0,0,0,0,0,0,0,0,0,0,0,0,0,0,0,0,0,0,0,0,0,0,0,0,0,0,0,0,0,0,0,0,0,0.0001462224984202748,0,0,0,0,0,0,0,0,0,0,0,0,0,0,0,0,8.703720144063976e-05,0,0,0,0,0,0,0.000144481754391462,0,0,0,0,0,0,0,0,0,0,0,0,0,0,0,0,0,0,0,0,0,0,0,0,0,0,0,0,0,0,0,0,0,0,0,0,0,0.0001462224984202748,0,0,0,0,0,0,0,0,0,0,0,0,0,0,0,0,0,0,0,0,0,0,0,0,0,0,0,0,0,0,0,0,0,0,0,0 ,\\n', '0.00015492621856433877,0,0,0,0,0,0,0,0,0,0,0,0,0,0,0,0,0,0,0,0,0,0.00011488910590164449,0,0,0,0,0,0,0,0,0,0,0,0,0,0,0,0,0,0,0,0,0,0,0,0,0,0,0,0,0,0,0,0,0,0,0,0,0,0,0,0,0,0,0,0,0,0,0,0,0,0,0,0,0,0,0,0,0,0,0,0,0,0,0,0,0,0,0,0,0,0,0,0,0,0,0,0,0,0,0,0,0,0,0,0,0,0,0,0,0,0,0,0,0,0,0,0,0,0,0,0,0,0,0,0,0,0,0,0,0,0,0,0,0,0,0,0,0,0,0,0,0,0,0.0001792966349677179,0,0,0,0,0,0,0,0,0,0,0,0,0,0,0,0,0,0,0,0,0,0,0,0,0,0,0,0,0,0,0,0,0,0,0,0,0,0,0,0,0,0,0,0,0,0,0,0,0,0,0,0,0,0,0,0,0,0,0,0,0,0,0,0,0,0,0,0,0,0,0,0,0,0,0,0,0,0.00016885217079484112,0,0,0,0,0,0,0,0,0,0,0,0,0,0,0,0,0,0,0,0,0,0,0,0,0 ,\\n', '0,0,0,0,0,0,0,0,0,0.0011697799873621984,0,0,0,0,0,0,0,0,0,0,0,0,0,0,0,0,0,0,0,0,0,0,0,0,0,0,0,0,0,0,0,0,0,0,0,0,0,0,0,0,0,0,0,0,0,0,0,0,0,0,0,0,0,0,0,0,0,0,0,0,0,0,0,0,0,0,0,0,0,0,0,0,0,0,0,0,0,0,0,0,0,0,0,0,0,0,0,0,0,0,0,0,0,0,0,0,0,0,0,0,0,0,0,0,0,0,0,0,0,0,0,0,0,0,0,0,0,0,0,0,0,0,0,0,0,0.0001427410103626492,0,0,0,0,0,0,0,0,0,0,0,0,0,0,0,0,0,0,0,0,0,0,0,0,0,0,0,0,0,0,0,0,0,0,0,0,0,0,0,0,0,0,0,0,0,0,0,0,0,0,0,0,0,0,0,0,0,0,0,0,0,0,0,0,0,0,0,0,0,0,0,0,0,0,0,0,0,0,0,0,0,0,0,0,0,0,0,0,0,0,0,0,0,0,0,0,0,0,0,0,0,0,0.003296969190571434,0,0,0,0,0,0,0,0,0,0 ,\\n', '0,0,0,0,0,0,0,0,0,0,0,0,0,0,0,0,0,0,0,0,0,0,0,0,0,0,0,0,0,0,0,0,0,0,0,0,0,0,0,0,0,0,0,0,0,0,0,0,0,0,0,0,0,0,0,0,0,0,0,0,0,0,0,0,0,0,0,0,0,0,0,0,0,0,0,0,0,0,0,0,0,0,0,0,0,0,0,0,0,0,0,0,0,0,0,0,0.00012359282604570846,0,0,0,0,0,0,0,0,0,0,0,0,0,0,0,0,0,0,0,0,0,0,0,0,0,0,0,0,0,0,0,0,0,0,0,0,0,0,0.00011140761784401889,0,0,0,0,0,0,0,0,0,0,0,0,0,0,0,0,0,0,0,0,0,0,0,0,0,0,0,0,0,0,0,0,0,0,0,0,0,0,0,0,0,0,0,0,0,0,0,0,0,0,0,0,0,0,0,0,0,0,0,0,0,0,0,0,0,0,0,0,0,0,0,0,0,0,0,0,0,0,0,0,0,0,0,0,0,0,0,0,0,0,0,0,0,0,0,0,0,0,0,0,0,0,9.922240964232933e-05,0,0,0,0,0,0,0,0,0,0 ,\\n', '0,0,0,0,0,0,0,0,0,0,0,0,0,0,0,0,0,0,0,0,0,0,0,0,0,0,0,0,0,0,0,0,0,0,0,0,0,0,0,0,0,0,0,0,0,9.922240964232933e-05,0,0,0,0,0,0,0,0,0,0,0,0,0,0,0,0,0,0,0,0,0,0,0,0,0,0,0,0,0,8.703720144063976e-05,0,0,0,0,0,0,0,0,0,0,0,0,0,0,0,0,0,0,0,0,0,0,0,0,0,0,0,0,0,0,0,0,0,0,0,0,0,0,0,0,0,0,0,0,0,0,0,0,0,0,0,0,0,0,0,0,0,0,0,0,0,0,0,0,0.00011488910590164449,0,0,0,0,0,0,0,0,0,0,0,0,0,0,0,0.0001410002663338364,0,0,0,0,0,0,0,0,0,0,0,0,0,0,0,0,0,0,0,0,0,0,0,0,0,0,0,0,0,0,0,0,0,0,0,0,0,0,0,0,0,0,0,0,0,0,0,0,0,0,0,0,0,0,0,0,0,0,0,0,0,0,0,0,0,0,0,0,0,0,0,0,9.051868949826534e-05,0,0,0,0,0,0,0,0,0,0,0,9.574092158470373e-05,0,0,0,0,0,0,0 ,\\n', '0,0,0,0,0,0,0,0,0,0,0,0,0,0,0,0,0,0,0,0,0,0,0,0,0,0,0,0,0,0,0,0,0,0,0,0,0,0,0,0,0,0,0,0,0,0,0,0,0,0,0,0,0,0,0,0,0,0,0,0,0,0,0,0,0,0,0,0,0.00027155606849479604,0,0,0,0,0,0,0,0,0,0,0,0,0,0,0,0,0,0,0,0,0,0,0,0,0,0,0,0,0,0.00011662984993045727,0,0,0,0,0,0.0002767783005812344,0,0,0,0,0,0,0,0,0,0,0,0,0,0,0,0,0,0,0,0.00022977821180328897,0,0,0,0,0,0,0,0,0,0,0,0,0,0,0,0,0.00012707431410333405,0,0,0,0,0,0,0.00023500044388972735,0,0,0,0,0,0,0,0,0,0,0,0,0,0.00023500044388972735,0,0,0,0,0,0,0,0,0,0,0,0,0,0.00018451886705415628,0,0,0,0,0,0,0,0,0,0,0.0004630379116642035,0,0,0,0,9.922240964232933e-05,0,0,0,0,0,0,0,0,0,0,0,0,0,0,0,0,0,0,0,0,0,0,0,0,0,0,0,0,0,0,0,0,0,0,0,0,0,0,0,0,0,0,0.00023674118791854013,0,0,0,0,0,0,0,0,0,0,0,0,0 ,\\n', '0,0,0,0,0,0,0,0,0,0,0,0,0,0,0,0,0,0,0,0,0,0,0,0,0,0,0,0,0,0.0001096668738152061,0,0,0,0,0,0,0,0,0,0,0,0,0,0,0,0,0,0,0,0,0,0,0,0,0,0,0,0,0,0,0,0,0,0,0,0,0,0,0,0,0,0,0,0,0,0,0,0,0,0,0,0,0,0,0,0,0,0,0,0,0,0,0,0,0,0,0,0,0,0,0,0,0,0,0,0,0,0,0,0,0,0,0,0,0,0,0,0,0,0,0,0,0,0,0,0,0,0,0,0,0,0,0,0,0,0,0,0,0,0,0,0,0,0,0,0,0,0,0,0,0,0,0,0,0,0,0,0.00010270389769995491,0,0,0,0,0,0,0,0,0,0,0,0,0,0,0,0,0,0,0,0,0,0,0,0,0,0,0,0,0,0,0,0,0,0,0,0,0,0,0,0,0,0,0,0,0,0,0,0,0,0,0,0,0,0,0,0,0,0,0,0,0,0,0,0,0,0,0,0,0,0,0,0,0,0,0,0,0,0,0,0,0,0,0,0,0,0,0,0,0,0,0 ,\\n', '0,0,0,0,0,0,0,0,0,0,0,0,0,0,0,0,0.00013229654618977243,0,0,0,0,0,0,0,0,0,0,0,0,0,0,0,0,0,0,0,0,0,0,0,0,0,0,0,0,0,0,0,0,0,0,0,0,0,0,0,0,0,0,0,0,0,0,0,0,0,0,0,0,0,0,0,0,0,0,0,0,0,0,0,0,0,0,0,0,0,0,0,0,0,0,0,0,0,0,0,0,0,0,0,0,0,0,0,0,0,0,0,0.00012707431410333405,0,0,0,0,0,0,0,0,0,0,0,0,0,0,0,0,0,0,0,0,0,0.0001479632424490876,0.0001096668738152061,0,0,0,0,0,0,0,0,0,0,0,0,0,0,0,0,0,0,0,0,0,0,0,0,0,0,0,0,0,0,0,0,0,0,0,0,0,0,0,0,0,0,0,0,0,0,0,0,0,0,0,0,0,0,0,0,0,0,0,0,0,0,0,0,0,0,0,0,0,0,0,0,0,0,0,0,0,0,0,0,0,0,0,0,0,0,0,0,0,0,0,0,0,0,0,0,0,0,0,0,0,0,0,0,0,0,0,0,0,0,0,0,0,0,0,0,0 ,\\n', '8.703720144063976e-05,0,0,0,0,0,9.400017755589094e-05,0,0,0,0,0,0,0,0,0,0,0,0,0,0,0.00011662984993045727,0,0,0,0,0,0,0,0.0002558893722354809,0,0,0.00011140761784401889,0.00010270389769995491,0.0001044446417287677,0,0,0,0,0,0,0,9.225943352707814e-05,0.00022107449165922497,0.00018800035511178187,0,0,0,0.00012011133798808286,0,0,0,0,0.0012080763559960798,0.00015318547453552596,0,0,0,0,0,0,0,0,0,0,0,0,0,0,0,0,0,0,0,0,0,0,0,0,0.00017059291482365393,0,0,0,0,0,0,0,0,0,0,0,0.00016537068273721553,0,0.00010096315367114212,0,0,0.0002750375565524216,0.0001044446417287677,0,0,0,0,0.0002454449080626041,0.00016188919467958996,0,0,0,0,0,0,0,0,0,0,0,0,0,0,0,0,0,0,0,8.877794546945256e-05,0,0.001241150492543523,0,0,0,0,0,0,0,0,0,0.00016014845065077715,0,0,0.00020714853942872263,0,0,0,0,0,0,0,0,0,0,0,0,0,0,0,0,0,0,0,0,0.00012011133798808286,0,0,0,0,0,0,0,0,9.574092158470373e-05,0,0,0,0,0,0,0,0,0,0,0,0,0,0,0,0,0,0,0.0002158522595727866,0,0.00019844481928465866,0,0,0,0,0,0,0,0,0,0,0,0,0,0,0,0,0,0,0.0012951135574367197,0,0,0,0,0,0,0,0,0,0,0,0,0.00015666696259315156,0,0.00017233365885246672,0,0,0,0,0,0,0,9.922240964232933e-05,0,0,0,0,0,0,0,0,8.877794546945256e-05,0,0,0.0003516302938201846,0.00011662984993045727,0,0.00011837059395927007,0,0 ,\\n', '0,0,0,0,0,0,0,0,0,0,0,0,0,0,0.00013229654618977243,0,0,0,0,0,0,0,0,0,0,0,0,0,0,0,0,0,0,0,0,0,0,0,0,0,0,0,0,0,0,0,0,0,0,0,0,0,0,0,0,0,0,0,0,0,0,0,0,0,0,0,0,0,0,0,0,0,0,0,0,0,0,0,0,0,0,0,0,0,0,0,0,0,0,0,0,0,0,0,0,0,0,0,0,0,0,0,0,0,0,0,0,0,0.00012881505813214683,0,0,0,0,0,0,0,0,0,0,0,0,0,0,0,0,0,0,0,0,0,0.00017755589093890512,0.00013055580216095964,0,0,0,0,0,0,0,0,0,0,0,0,0,0,0,0,0,0,0,0,0,0,0,0,0,0,0,0,0,0,0,0,0,0,0,0,0,0,0,0,0,0,0,0,0,0,0,0,0,0,0,0,0,0,0,0,0,0,0,0,0,0,0,0,0,0,0,0,0,0,0,0,0,0,0,0,0,0,0,0,0,0,0,0,0,0,0,0,0,0,0,0,0,0,0,0,0,0,0,0,0,0,0,0,0,0,0,0,0,0,0,0,0,0,0,0,0 ,\\n', '0,0,0,0,0,0,0.0001810373789965307,0,0,0,0,0,0,0,0,0,0,0,0,0,0,0,0,0,0,0,0,0,0,0,0,0,0,0.00013055580216095964,0,0,0,0,0,0,0,0,0,0,0.00012881505813214683,0,0,0,0,0,0,0,0,0,0.00011662984993045727,0,0,0,0,0,0,0,0,0,0,0,0,0,0,0,0,0,0,0,0,0,0,0,0,0.0001044446417287677,0,0,0,0,0,0,0,0,0,0,0,0,0,0,0,0,8.877794546945256e-05,0,0,0,0,0,0,0,0,0,0,0,0,0,0,0,0,0,0,0,0,0,0,0,0,0,0,0,0,0,0,0,0,0,0,0,0,0.0001462224984202748,0,0,0,0,0,0,0,0,0,0,0,0,0,0,0,0,0,0,0,0,0,0,0,0,0,0,0,0,0,0,0,0,0,0,0,0,0,0,0,0,0,0,0,0,0,0,0,0,0,0,0,0,0,0,0,0,0,0,0,0,0,0,0,0,0,0,0,0,0,0,0,0,0,0,0,0,0,0,0,0,0,0,0,0,0,0,0,9.400017755589094e-05,0,0,0,0,0,0,0,0,0,0,0,0,0,0,0,0,0,0,0,0,0,0,0.0002558893722354809,0,0,0,0 ,\\n', '0,0,0,0,0,0,0,0,0,0,0,0,0,0,0,0,0,0,0,0,0,0.00017059291482365393,0,0.00011140761784401889,0,0.00012533357007452124,0,0,0,0,0,0,0,0,0.00021063002748634822,0,0.0001061853857575805,0,0,0,0,0,0,0,0,9.400017755589094e-05,0,0,0,0,0,0,0,0,0,0,0,0,0,0,0,0.00012533357007452124,0,0,0,0,0,0,0,0,0,0,0,0,0,0,0,0,0,0,0,0,0,0,0,0,0,0,0,0,0,0,0,0,0,0,0,0.00030288946101342636,0,0,0,0,0,0,0,0,0.00012011133798808286,0,0,0,0,0.00013055580216095964,0,0,0,0,0,0,0,0,0,0,0,0,0,0,8.703720144063976e-05,0,0,0,0,0,0,0,0,0,0,0,0,0,0,0,0,0,0,0,0,0,0,0,0,0,0,0,0,0,0,0,0,0,0,0.0005831492496522864,0,0,0,0,0,0,0,0,0,0,0,0,0,0,0,0,0,0,0,0,0,0,0,0,0,0,0,0,0,0,0,0,0.0005378899049031537,0,0,0,0.00012707431410333405,0,0,0,0,0,0,0,0,0,0,0,0,0,0,0,0,0,0,0,0,0,0,0,0.00011488910590164449,0,0,0,0,0,0,0,0,0.0005552973451912817,0,0,0,0,0,0,0,0,0,0,0,0,0,0,0.0005204824646150258,0,0 ,\\n', '0,0,0,0,0,0,0.00013403729021858524,0,0,0,0,0,0,0,0,0,0,0,0,0,0,0,0,0,0,0,0,0,0,0,0,0,0,0.00010270389769995491,0,0,0,0,0,0,0,0,0,0,0.00015144473050671318,0,0,0,0,0,0,0,0,0,0.0001810373789965307,0,0,0,0,0,0,0,0,0,0,0,0,0,0,0,0,0,0,0,0,0,0,0,0,0,0,0,0,0,0,0,0,0,0,0,0,0,0,0,0,0,9.748166561351653e-05,0,0,0,0,0,0,0,0,0,0,0,0,0,0,0,0,0,0,0,0,0,0,0,0,0,0,0,0,0,0,0,0,0,0,0,0,0,0,0,0,0,0,0,0,0,0,0,0,0,0,0,0,0,0,0,0,0,0,0,0,0,0,0,0,0,0,0,0,0,0,0,0,0,0,0,0,0,0,0,0,0,0,0,0,0,0,0,0,0,0,0,0,0,0,0,0,0,0,0,0,0,0,0,0,0,0,0,0,0,0,0,0,0,0,0,0,0,0,0,0,0,0,0.00012881505813214683,0,8.877794546945256e-05,0,0,0,0,0,0,0,0,0,0,0,0,0,0,0,0,0,0,0,0,0,0,0.00012533357007452124,0,0,0,0 ,\\n', '0,0,0,0,0,0,0,0,0,0,0,0,0,0,0,0,0,0,0,0,0,0,0,0,0,0,0,0,0,0.00013577803424739802,0,0,0,0,0,9.051868949826534e-05,0,0,0,0,0,0,0,0,0,0,0,0,0,0,0,0,0,0,0,0,0,0,0,0,0,0,0,0,0,0,0,0,0,0,0,0,0,0,0,0,0,0,0,0,0,0,0,0,0,0,0,0,0,0,0,0,0,0,0,0,0,0,0,0,0,0,0,0,0,0,0,0,0,0,0,0,0,0,0,0,0,0,0,0,9.225943352707814e-05,0,0,0,0,0,0,0,0,0,0,0,0,0,0,0,0,0,0,0,0,0,0,0,0,0,0,0,0,0,0,0,0,0,0,0,0,0,0,0,0,0,0,0,0,0,0,0,0,0,0,0,0,0,0,0,0,0,0,0,0,0,0,0,0,0,0,0,0,0,0,0,0,0,0,0,0,0,0,0,0,0,0,0,0,0,0,0,0,0,0,0,0,0,0,0,0,0,0,0,0,0,0,0,0,0,0,0,0,0,0,0,0,0,0,0,0,0,0,0,0,0,0,0,0,0,0,0,0 ,\\n', '0,0,0,0,0,0,0,0,0,0,0,0,0,0,0,0.00011662984993045727,0,0,0.00017059291482365393,0,0,0,0,0,0,0.0004038526146845685,0,0,0,0.0001096668738152061,0,0,0,0,0.0006771494272081773,0,0.00010270389769995491,0,0,0,0,0,0,9.225943352707814e-05,0,0.00016711142676602834,0,0,0,0,0,0,0,8.877794546945256e-05,0,0,0,0,0,0,0,0.00020540779539990982,0,0,0,0,0,0,0,0,0,0,0,0,0.00012185208201689566,0,0,0,0,0,0,0,0,0.0001375187782762108,0,0,0,0,0,0,0,0,0,0,0,8.703720144063976e-05,0.00013577803424739802,0.0004317045191455732,0,0,0,0,0,0,0,0,0.00012185208201689566,0,0,9.574092158470373e-05,0,0.0005761862735370352,0,0,0,0,0,0,0,0,0,0.00016014845065077715,0,0,0,9.225943352707814e-05,0,0,0,0,0,0,0,0,0.00013925952230502362,0,0,0,0,0,0.00029418574086936236,0,0,0,0,0,0,0,0,0,0,0,0,0,0,0,8.703720144063976e-05,0,0,0,0,0.00021411151554397381,0,0,0,0,0,0,0,0,0,0,0,0,0,0,0,0,0,0,0,0,0,0,0,0,0,0,0,0,0,0,0,8.877794546945256e-05,0.0002524078841778553,0,0,0,0.0002088892834575354,0,0,0,0,0,0,0,0,0,0.00013229654618977243,0,0,0,0,0,0,0,0,0,0,0,0,0,0.0002854820207252984,0.00012359282604570846,0,0,0,0,0,0.0004647786556930163,0,0.0002541486282066681,0,0,0,0,0,0,0,0,0,0,0,0,0,0,0.00048218609598114426,0,0.00017755589093890512 ,\\n', '0.0001044446417287677,0,0,0,0,0,0,0,0.00011488910590164449,0,0,0,0,0,0,0,0,0,0,0,0,0,0,0,0,0,0,0,0,0,0,0,0,0,0,0,0,0,0,0,0,0,0,0,0,0,0,0,0,0,0,0,0,0,0,0,0,0,0,0,0,0,0,0,0,0,0,0,0,0,0,0,0,0,0,0,0,0,0,0,0,0,0,0,0,0,0,0,0,0,0,0,0,0,0,0,0,0,0,0,0,0,0,0,0,0,0,0,0,0,0,0,0,0,0,0,0,0,0,0,0,0,0,0,0,0,0,0,0,0,0,0,0,0,0,0,0,0,0,0,0,0,0,0,0,0.00013577803424739802,0,0,0,0,0,0,0,0,0,0,0,0,0,0,0,0,0,0,0,0,0,0,0,0,0,0,0,0,0,0,0,0,0,0,0,0,0,0,0,0,0,0,0,0,0,0,0,0,0,0,0,0,0,0,0,0,0,0,0,0,0,0,0,0,0,0,0,0,0,0,0,0,0,0,0,0,0,0.00012185208201689566,0,0,0,0,0,0,0,0,0,0,0,0,0,0,0,0,0,0,0,0,0,0,0,0,0 ,\\n', '0,0,0,0,0,0,0,0,0,0,0,0,0,0,0,0,0,0,0.00011140761784401889,0,0,0,0,0,0,0,0,0,0,0,0,0,0,0,0.00012359282604570846,0,0,0,0,0,0,0,0,0,0,0,0,0,0,0,0,0,0,0,0,0,0,0,0,0,0,9.051868949826534e-05,0,0,0,0,0,0,0,0,0,0,0,0,0,0,0,0,0,0,0,0,0,0,0,0,0,0,0,0,0,0,0,0,0,0,0,0.00011314836187283169,0,0,0,0,0,0,0,0,0,0,0,0,0,0,0,0,0,0,0,0,0,0,0,0,0,0,0,0,0,0,0,0,0,0,0,0,0,0,0,0,0,0,0,0,0,0,0,0,0,0,0,0,0,0,0,0,0,0,0,0,0,0,0,0,0,0,0,0,0,0,0,0,0,0,0,0,0,0,0,0,0,0,0,0,0,0,0,0,0,0,0,0,0,0,0,0,0.00012185208201689566,0,0,0,0,0,0,0,0,0,0,0,0,0,0,0,0,0,0,0,0,0,0,0,0,0,0,0,0,0,0,0,0,0,0,0,0,9.748166561351653e-05,0,0,0,0,0,0,0,0,0,0,0,0,0,0,9.400017755589094e-05,0,0 ,\\n', '0,0,0,0,0,0,0,0,0,0,0,0,0,0,0,0,0,0,0,0,0,0,0,0,0,0,0,0,0,0,0,0,0,0,0,0,0,0,0,0,0,0,0,0,0,0,0,0,0,0,0,0,0,0,0,0,0,0,0,0,0,0,0,0,0,0,0,0,0,0,0,0,0,0,0,0,0,0,0,0,0,0,0,0,0,0,0,0,0,0,0,0,0,0,0,0,0,0,0,0,0,0,0,0,0,0,0,0,0,0,0,0,0,0,0,0,0,0,0,0,0,0,0,0,0,0,0,0,0,0,0,0,0,0,0,0,0,0,0,0,0,0,0,0,0,0,0,0,0,0,0,0,0,0,0,0,0,0,0,0,0,0,0,0,0,0,0,0,0,0,0,0,0,0,0,0,0,0,0,0,0,0,0,0,0,0,0,0,0,0,0,0,0,0,0,0,0,0,0,0,0,0.00012185208201689566,0,0,0,0,0,0,0,0,0,0,0,0,0,0,0,0,0,0,0,0,0,0,0,0,0,0,0,0,0,0,0,0,0,0,0,0,0,0,0,0,0,0,0,0,0,0,0 ,\\n', '0,0,0,0,0,0,0,0,0,0,0,0,0,0,0,0,0,0,0.00012533357007452124,0,0,0.0004038526146845685,0,0,0,0,0,0,0,0,0,0,0,0,0.0003899266624540661,0,0,0,0,0,0,0,0,0,0,9.225943352707814e-05,0,0,0,0,0,0,0,0,0,0,0,0,0,0,0,0.0002088892834575354,0,0,0,0,0,0,0,0,0,0,0,0,0.00011488910590164449,0,0,0,0,0,0,0,0,0,0,0,0,0,0,0,0,0,0,0,0,0,0,0.00022803746777447616,0,0,0,0,0,0,0,0,8.877794546945256e-05,0,0,0,0,0.000356852525906623,0,0,0,0,0,0,0,0,0,0,0,0,0,0,0,0,0,0,0,0,0,0,0.00012185208201689566,0,0,0,0,0,0.0001758151469100923,0,0,0,0,0,0,0,0,0,0,0,0,0,0,0,0,0,0,0,0,0.00013055580216095964,0,0,0,0,0,0,0,0,0,0,0,0,0,0,0,0,0,0,0,0,0,0,0,0,0,0,0,0,0,0,0,9.400017755589094e-05,0.00015840770662196437,0,0,0,0.00013577803424739802,0,0,0,0,0,0,0,0,0,0,0,0,0,0,0,0,0,0,0,0,0,0,0,0.0002541486282066681,0,0,0,0,0,0,0.00022629672374566338,0,0.0001810373789965307,0,0,0,0,0,0,0,0,0,0,0,0,0,0,0.00021063002748634822,0,0 ,\\n', '0,0,0,0,0,0,0,0,0,0,0,0,0,0,0,0,0,0,0,0,0,0,0,0,0,0,0,0,0,9.051868949826534e-05,0,0,0,0,0,0,0,0,0,0,0,0,0,0,0,0,0,0,0,0,0,0,0,0,0,0,0,0,0,0,0,0,0,0,0,0,0,0,0,0,0,0,0,0,0,0,0,0,0,0,0,0,0,0,0,0,0,0,0,0,0,0,0,0,0,0,0,0,0,0,0,0,0,0,0,0,0,0,0,0,0,0,0,0,0,0,0,0,0,0,0,0,0,0,0,0,0,0,0,0,0,0,0,0,0,0,0,0,0,0,0,0,0,0,0,0,0,0,0,0,0,0,0,0,0,0,0,0,0,0,0,0,0,0,0,0,0,0,0,0,0,0,0,0,0,0,0,0,0,0,0,0,0,0,0,0,0,0,0,0,0,0,0,0,0,0,0,0,0,0,0,0,0,0,0,0,0,0,0,0,0,0,0,0,0,0,0,0,0,0,0,0,0,0,0,0,0,0,0,0,0,0,0,0,0,0,0,0,0,0,0,0,0,0,0,0,0,0,0 ,\\n', '0,0,0,0,0,0,0,0,0,0,0,0,0,0,0,0,0,0,0,0,0,0,0,0,0,0,0,0,0,0,0,0,0,0,0,0,0,0,0,0,0,0,0,0,0,0,0,0,0,0,0,0,0,0,0,0,0,0,0,0,0,0,0,0,0,0,0,0,0,0,0,0,0,0,0,0,0,0,0,0,0,0,0,0,0,0,0,0,0,0,0,0,0,0,0,0,0.0001375187782762108,0,0,0,0,0,0,0,0,0,0,0,0,0,0,0,0,0,0,0,0,0,0,0,0,0,0,0,0,0,0,0,0,0,0,0,0,0,0,0,0,0,0,0,0,0,0,0,0,0,0,0,0,0,0,0,0,0,0,0,0,0,0,0,0,0,0,0,0,0,0,0,0,0,0,0.0001410002663338364,0,0,0,0,0,0,0,0,0,0,0,0,0,0,0,0,0,0,0,0,0,0,0,0,0,0,0,0,0,0.0002854820207252984,0,0,0,0,0,0,0,0,0,0,0,0,0,0,0,0,0,0,0,0,0,0,0,0,0,0,0,0,0,0,0,0,0,0,0,0,0,0,0,0,0,0,0,0,0,0,0 ,\\n', '0,0,0,0,0,0,0,0,0,0,0,0,0,0,0,0,0,0,0,0,0,0,0,0,0,0,0,0,0,0,0,0,0,0,0,0,0,0,0,0,0,0,0,0,0,0,0,0,0,0,0,0,0,0,0,0,0,0,0,0,0,0,0,0,0,0,0,0,0,0,0,0,0,0,0,0,0,0,0,0,0,0,0,0,0,0,0,0,0,0,0,0,0,0,0,0,0.0002193337476304122,0,0,0,0,0,0,0,0,0,0,0,0,0,0,0,0,0,0,0,0,0,0,0,0,0,0,0,0,0,0,0,0,0,0,0,0,0,0,0,0,0,0,0,0,0,0,0,0,0,0,0,0,0,0,0,9.748166561351653e-05,0,0,0,0,0,0,0,0,0,0,0,0,0,0,0,0,0,0,0,0,0,0,0,0,0,0,0,0,0,0,0,0,0,0,0,0,0,0,0,0,0,0,0,0,0,0,0,0,9.225943352707814e-05,0,0,0,0,0,0,0,0,0,0,0,0,0,0,0,0,0,0,0,0,0,0,0,0,0,0,0,0,0,0,0,0,0,0,0,0,0,0,0,0,0,0,0,0,0,0,0 ,\\n', '0.00012359282604570846,0.00011488910590164449,0,0,0,0,0,0,0,0,0,0,0,0.0001096668738152061,0,0.0002558893722354809,0,0,0,0,0.00013577803424739802,0.0001096668738152061,0,0,0,0,9.051868949826534e-05,0,0,0,0,0,0.0001792966349677179,0,0,0.000433445263174386,0,0,0,0.00017755589093890512,0,0,0,0.00010096315367114212,0.00016362993870840275,0,0.0001479632424490876,0,0,0,0,0,0,0.00016885217079484112,0.00011662984993045727,0,0,0.0001096668738152061,0,9.922240964232933e-05,0,0,0,0,0,0,0,0.0001061853857575805,0,0,0,0,0,0,0,0,0,0,0,0.00013055580216095964,0,0,0,0,0,0,0.0001096668738152061,0,0,0,0,0,0,0,0,0,0.0002524078841778553,0,0,0.00024022267597616573,0,0,0,0,0,0.0006197048742573551,0,0,0,0,0,0,0,0,0,0,0,0,0,0,0.0009156313591555303,0,9.400017755589094e-05,0,0,0.00021063002748634822,0,0,0,0,0,0,0,0,0,0,0,0,0,0.00022281523568803779,0,0,0,0,0,0,0,0,0,0,0,0.00016188919467958996,0,0,0,0.00017059291482365393,0,0.0006614827309488621,0,0,0,0,0,0,0,0,0,0,0,0,0,0,0,0,0,0.00019322258719822025,0,0,0,0.0004177785669150708,0.00011837059395927007,0,0,0,0,0,0,0.00016537068273721553,0,0,0.00018974109914059468,0.0003150746692151159,0,0,0,0,0,0,0,0,0,0,0,0,0,0,0,0,0.0002193337476304122,0,0,0,0,0,0,0.00016014845065077715,0,0,0,0,0,0.00013577803424739802,0,0.00016188919467958996,0,0,0,0,0,0,0,8.877794546945256e-05,0.00015492621856433877,0,0.0001079261297863933,0,0.001072298321748682,0,0,0,0,0,0,0,9.922240964232933e-05,0,8.877794546945256e-05,0.0001079261297863933,0 ,\\n', '0,0,0,0,0,0,0,0,0,0,0,0,0,0,0,0,0,0,0,0,0,0,0,0,0,0,0,0,0,0,0,0,0,0,0,0,0,0,0,0,0,0,0,0,0,0,0,0,0,0,0,0,0,0,0,0.00016711142676602834,0,0,0,0,0,0,0,0,0,0,0,0,0,0,0,0,0,0,0,0,0,0,0,0,0,0,0,0,0,0,0,0,0,0,0,0,0,0,0,0,0,0,0,0,0.0001792966349677179,0,0,0,0,0,0,0,0,0,0,0,0,0,0,0,0,0,0,0,0,0,0,0,0,0,0,0,0,0,0,0,0,0,0,0,0,0,0,0,0,0,0,0,0,0,0,0,0,0,0,0,0,0,0,0,0,0,0,0,0,0,0,0,0,0,0,0,0,0,0,0,0,0,0,0,0,0,0,0,0,0,0,0,0,0,0,0,0,0,0,0,0,0,0,0,0,0,0,0,0,0,0,0,0,0,0,0,0,0,0,0,0,0,0,0,0,0,0,0,0,0,0,0.0002088892834575354,0,0,0,0,0,0,0,0,0,0,0,0,0,0,0,0,0,0,0,0,0,0,0,0,0 ,\\n', '0,0,0,0,0,0,0,0,0,0,0,0,0,0,0,0,0,0,0,0,0,0,0,0,0,0,0,0,0,0,0,0,0,0,0,0,0,0,0,0,0,0,0,0,0.00013925952230502362,0,0,0,0,0,0,0,0,0,0,0,0,0,0,0,0,0,0,0,0,0,0,0,0,0,0,0,0,0,0,0,0,0,0,0,0,0,0,0,0,0,0,0,0,0,0,0,0,0,0,0,0,0,0,0,0,0,0,0,0,0,0,0,0,0,0,0,0,0,0,0,0,0,0,0,0,0,0,0,0,0,0,0,0,0,0,0,0,0,0,0,0,0,0,0,0,0,0,0,0,0,0,0,0,0,0,0,0,0,0,0,0,0,0,0,0,0,0,0,0,0,0,0,0,0,0,0,0,0,0,0,0,0,0,0,0,0,0,0,0,0,0,0,0,0,0,0,0,0,0,9.400017755589094e-05,0,0,0,0,0,0,0,0,0,0,0,0,0,0,0,0,0,0,0,0,0,0,0,0,0,0,0,0,0,0,0,0,0,0,0,0,0,0,0,0,0,0,0,0,0,0,0,0,0,0,0,0,0 ,\\n', '0,0,0,0,0,0,0,0,0,0,0,0,0,0,0,0.00011140761784401889,0,0,0,0,0,0,0,0,0,0,0,0,0,0.0001792966349677179,0,0,0,0,0,0,0,0,0,0.00017755589093890512,0,0,0,0,9.225943352707814e-05,0,0,0,0,0,0,0,0,0.00010096315367114212,0,0,0,0,0,0,0,0,0,0,0,0,0,0,0,0,0,0,0,0,0,0,0,0,0,0,0,0,0,0,0,0,0,0,0,0,0,0,0,0,0,0,0.00012359282604570846,0,0,0,0,0,0,0,0,0,0,0,0,0,0.00026981532446598323,0,0,0,0,0,0,0,0,0,8.703720144063976e-05,0,0,0,0,9.051868949826534e-05,0,0,0,0,0,0,0,0,0,0,0,0,0,0,0,0,0,0,0,0,0,0,0,0,0,0,0,0,0,0,0,0,0,0,0,0,0,0,0,0,0,0,0,0,0,0,0,0,0,0,0,0,0,0,0,0,0,0.000212370771515161,0,0,0,0,0,0,0,0,0,0,0,0,0,0,0,0,0,0,0,0,0,0,0,0.0004543341915201395,0.0001061853857575805,0,0,0,0,0,0,0,0,0,0,0,0,0,0,0,0,0,0,0,0,0,0,0,0,0,0,0,0,0,0,0,0,0,0,0,0,0,0,0,0 ,\\n', '0,0,0,0,0,0,0.00033770434158968224,0,0,0,0,0,0,0,0,0.00010270389769995491,0,0.00013055580216095964,0,0.00010270389769995491,0,0,0,0,0,0,0,0,0,0,0,0,0,0,0,0,0,0,0,0,0,0,0,0.00012533357007452124,0.0005065565123845234,0,0,0,0,0,0,0,0,0.00011662984993045727,0.000424741543030322,0,0,0,0,0,0,0,0,0,0,0,0,0,0,0,0,0,0,0,0,0,0,0,0,0.00041603782288625806,0,0,0,0,0,0,0,0,0,0,0,0,0.0001497039864779004,0,0,0,0.0005135194884997745,0,0,0,0,0,0,0,0,0,0,0,0,0,0,0,0,0,0,0,0,0,0,0,0,0,0,0,0,0.00012533357007452124,0.00017407440288127953,0,0,0,0,0,0,0.00015144473050671318,0,9.225943352707814e-05,0,0,0.0001096668738152061,0,0,0,0,0,0.00022281523568803779,0,0,0,0,0,0,0,0,0,0,0,0,0,0,0,0,0,0,0,0,0,0,0,0,0,0,0,0.0002088892834575354,0,0,0,0,0,0,0,0,0,0,0.00020366705137109703,0,0,0,0.0003290006214456183,0,0,0,0,0,0,0,0,0,0,0,0,0,0,0,0,0,0,0,0,0.00012707431410333405,0,0,0,0,0,0,0,0,0,0,0,0,0.0007067420756979949,0,0,0,0,0,0,0,0,0,0.00016537068273721553,0,0,0,0,0,0,0,0,0,0,0,0,0.00045781567957776513,0,0,0,0 ,\\n', '0,0,0,0,0,0,0,0,0,0,0,0,0,0,0,0.0001044446417287677,0,0,0.00021063002748634822,0,0,0.0006771494272081773,0,0.00012359282604570846,0,0.0003899266624540661,0,0,0,0,0,0,0,0,0,0,0.0001096668738152061,0,0,0,0,0,0,0,0,0.00017755589093890512,0,0,0,0,0,0,0,0,0,0,0,0,0,0,0,0.000212370771515161,0,0,9.748166561351653e-05,0,0,0,0,0,0,0,0,0,9.922240964232933e-05,0,0,0,0,0,0,0,0,0.00013229654618977243,0,0,0,0,0,0,0,0,0,0,0,9.400017755589094e-05,9.922240964232933e-05,0.0004543341915201395,0,0,0,0,0,0,0,0,0.00012881505813214683,0,0,9.400017755589094e-05,0,0.0005988159459116016,0,0,0,0,0,0,0,0,0,9.574092158470373e-05,0,0,0,8.877794546945256e-05,0,0,0,0,0,0,0,0,0.0001462224984202748,0,0,0,0,0,0.0002680745804371705,0,0,0,0,0,0,0,0,0,0,0,0,0,0,0,9.051868949826534e-05,0,0,0,0,0.00022107449165922497,0,0,0,0,0,0,0,0,0,0,0,0,0,0,0,0,0,0,0,0,0,0,0,0,0,0,0,0,0,0,0,0,0.0002820005326676728,0,0,0,0.00020540779539990982,0,0,0,0,0,0,0,0,0,0.00012011133798808286,0,0,0,0,0,0,0,0,0,0,0,0,0,0.00023325969986091454,0,0,0,0,0,0,0.0004351860072031988,0,0.00024196342000497854,0,0,0,0,0,0,0,0,0,0,0,0,0,0,0.0004543341915201395,0,0.0001758151469100923 ,\\n', '0,0,0,0,0,0,0,0,0,0,0,0,0,0,0,0,0,0,0,0,9.051868949826534e-05,0,0,0,0,0,0,0,0,0.000433445263174386,0,0,0,0,0,0,0,0,0,0,0,0,0,0,0,0,0,0,0,0,0,0,0,0,0,0,0,0,0,0,0,0,0,0,0,0,0,0,0,0,0,0,0,0,0,0,0,0,0,0,0,0,0,0,0,0,0,0,0,0,0,0,0,0,0,0,0,0,0,0.00012011133798808286,0,0,0,0,0,0.00019844481928465866,0,0,0,0,0,0,0,0,0,0,0,0,0,0,0.00030985243712867755,0,0,0,0,0,0,0,0,0,0,0,0,0,0,0,0,0,0,0,0,0,0,0,0,0,0,0,0,0,0,0,0,0,0,0,0,0.000212370771515161,0,0,0,0,0,0,0,0,0,0,0,0,0,0,0,0,0,0,0,0,0,0.0002158522595727866,0,0,0,0,0,0,0,0,0,0,0,9.748166561351653e-05,0,0,0,0,0,0,0,0,0,0,0,0,0,0,0,0,0,0,0,0,0,0,0,0,0,0,0,0,0,0,0,0,0,0,0,0,0,0,0,0,0,0,0,0,0.00022107449165922497,0,0,0,0,0,0,0,0,0,0,0,0 ,\\n', '0,0,0,0,0,0,0,0,0,0,0,0,0,0,0,0,0,0,0.0001061853857575805,0,0,0.00010270389769995491,0,0,0,0,0,0,0,0,0,0,0,0,0.0001096668738152061,0,0,0,0,0,0,0,0,0,0,0.0001410002663338364,0,0,0,0,0,0,0,0,0,0,0,0,0,0,0,0,0,0,0,0,0,0,0,9.922240964232933e-05,0,0,0,0,0,0,0,0,0,0,0,0,0,0,0,0,0,0.00013229654618977243,0,0,0,0,0,0,0,0,0,0,0,0,0,0,0,0,0,0,0,0,0,0,0,0,0,0,0,0,0,0,0,0,0,0,0,0,0,0,0,0,0,0,0,0,0,0,0,0,0,0,0,0,0,0,0,0,0,0,0,0,0,0,0,0,0,0,0,0,0,0,0,0,0,0.00011314836187283169,0,0,0,0,0,0,0,0,0,0,0,0,0,0,0,0,0,0,0,0,0,0,0,0,0,0,0,0,0,0,0,0,0.0001827781230253435,0,0,0,0,0,0,0,0,0,9.051868949826534e-05,0,0,0,0,0,0,0,0,0,0,0,0,0,0,0,0,0,0,0,0,0,0,0,0,0,0,0.00013577803424739802,0,0,0,0,0,0,0,0,0,0,0,0,0,0,0.00015144473050671318,0,0 ,\\n', '0,0,0,0,0,0,0,0,0,0,0,0,0,0,0,0,0,0,0,0,0,0,0,0,0,0,0,0,0,0,0,0,0,0,0,0,0,0,0,0,0,0,0,0,0,0,0,0,0,0,0,0,0,0,0,0,0,0,0,0,0,0,0,0,0,0,0,0,0,0,0,0,0,0,0,0,0,0,0,0,0,0,0,0,0,0,0,0,0,0,0,0,0,0,0,0,0,0,0,0,0,0,0,0,0,0,0,0,0,0,0,0,0,0,0,0,0,0,0,0,0,0,0,0,0,0,0,0,0.0001375187782762108,0.0002767783005812344,0,0,0,0,0,0,0,0,0,0,0,0,0,0,0,0,0,0,0,0,0,0,0,0,0,0,0,0,0,0,0,0,0,0,0,0,0,0,0,0,0,0,0,0,0,0,0,0,0,0,0,0,0,0,0,0,0,0,0,0,0,0,0,0,0,0,0,0,0,0,0,0,0,0,0,0,0,0,0,0,0,0,0,0,0,0,0,0,0,0,0,0,0,0,0,0,0,0,0,0,0,0,0,0,0,0,0,0,0,0,0,0,0,0,0,0,0,0,0 ,\\n', '0,0,0,0,0,0,0,0,0,0,0,0,0,0,0,0,0,0,0,0,0,0,0,0,0,0,0,0,0,0,0,0,0,0,0,0,0,0,0,0,0,0,0,0,0,0,0,0,0,0,0,0,0,0,0,0,0,0,0,0,0,0,0,0,0,0,0,0,0,0,0,0,0,0,0,0,0,0,0,0,0,0,0,0,0,0,0,0,0,0,0,0,0,0,0,0,0.0001375187782762108,0,0,0,0,0,0,0,0,0,0,0,0,0,0,0,0,0,0,0,0,0,0,0,0,0,0,0,0,0,0,0,0,0,0,0,0,0,0,0,0,0,0,0,0,0,0,0,0,0,0,0,0,0,0,0,0.00016711142676602834,0,0,0,0,0,0,0,0,0,0,0,0,0,0,0,0,0,0,0,0,0,0,0,0,0,0,0,0,0,0,0,0,0,0,0,0,0,0,0,0,0,0,0,0,0,0,0,0,0,0,0,0,0,0,0,0,0,0,0,0,0,0,0,0,0,0,0,0,0,0,0,0,0,0,0,0,0,0,0,0,0,0,0,0,0,0,0,0,0,0,0,0,0,0,0,0 ,\\n', '0,0,0,0,0,0,0,0,0,0,0,0,0,0,0,0,0,0,0,0,0,0,0,0,0,0,0,0,0,0.00017755589093890512,0,0,0.00017755589093890512,0,0,0,0,0,0,0,0,0,0,0,0,0,0,0,0,0,0,0,0,0,0,0,0,0,0,0,0,0,0,0,0,0,0,0,0,0,0,0,0,0,0,0,0,0,0,0,0,0,0,0,0,0,0,0,0,0,0,0,0,0,0,0,0,0,0,0,0,0,0,0,0,0,0,0,0,0,0,0,0,0,0,0,0,0,0,0,0,0,0,0,0,0,0,0,0,0,0,0,0,0,0,0,0,0,0,0,0,0,0,0,0,0,0,0,0,0,0,0,0,0,0,0,0,0,0,0,0,0,0,0,0,0,0,0,0,0,0,0,0,0,0,0,0,0,0,0,0,0,0,0,0,0,0,0,0,0,0,0,0,0,0,0,0,0,0,0,0,0,0,0,0,0,0,9.748166561351653e-05,0,0,0,0,0,0,0,0,0,0,0,0,0,0,0,0,0,0,0,0,0,0,0,0,0,0,0,0,0,0,0,0,0,0,0,0,0,0,0,0,0 ,\\n', '0,0,0,0,0,0,0,0,0,0,0,0,0,0,0,0,0,0,0,0,0,0,0,0,0,0,0,0,0,0,0,0,0,0,0,0,0,0,0,0,0,0,0,0,9.400017755589094e-05,0,0,0,0,0,0,0,0,0,0,0,0,0,0,0,0,0,0,0,0,0,0,0,0,0,0,0,0,0,0,0,0,0,0,0,0,0,0,0,0,0,0,0,0,0,0,0,0,0,0,0,0,0,0,0,0,0,0,0,0,0,0,0,0,0,0,0,0,0,0,0,0,0,0,0,0,0,0,0,0,0,0,0,0,0,0,0,0,0,0,0,0,0,0,0,0,0,0,0,0,0,0,0,0,0,0,0,0,0,0,0,0,0,0,0,0,0,0,0,0,0,0,0,0,0,0,0,0,0,0,0,0,0,0,0,0,0,0,0,0,0,0,0,0,0,0,0,0,0,0,0,0,0,0,0,0,0,0,0,0,0,0,0,0,0,0,0,0,0,0,0,0,0,0,0,0,0,0,0,0,0,0,0,0,0,0,0,0,0,0,0,0,0,0,0,0,0,0,0,0,0,0,0,0 ,\\n', '0,0,0,0,0,0,0,0,0,0,0,0,0,0,0,0,0,0,0,0,0,0,0,0,0,0,0,0,0,0,0,0,0,0,0,0,0,0,0,0,0,0,0,0,0,0,0,0,0,0,0,0,0,0,0,0,0,0,0,0,0,0,0.0001096668738152061,0,0,0,0,0,0,0,0,0.00011488910590164449,0,0,0,0,0,0,0,0,0,0,0,0,0,0,0,0,0,0,0,0,0,0,0,0,0,0,0,0,0,0,0,0,0,0,0,0,0,0,0,0,0,0,0,0,0,0,0,0,0,0.00011662984993045727,0,0,0,0,0,0,0,0,0,0,0.00011488910590164449,0,0,0,0,0,0,0,0,0,8.877794546945256e-05,0,0,0,0,0,0,0,0,0,0,0.0001096668738152061,0,0,0,0,0,0,0,0,0,0,0,0,0,0,0,0,0,0,0,0,0,0,0,0,0,0,0,0,0,0,0,0,0,0,0,0,0,0,0,0,0,0,0,0,0,0,0,0,0,0,0,0,0,0,0,0,0,0,0,0,0,0,0,0,0,0,0,0,0,0,0,0,0,0,0,0,0,0,0,0,0,0,0,0,0,0,0,0,0,0,0,0,0,0,0.00010270389769995491 ,\\n', '0,0,0,0,0,0.00015840770662196437,0,0,0,0,0,0,0,0,0,9.225943352707814e-05,0,0,0,0,0,0,0,0,0,0,0,0,0,0,0,0,0,0,0,0,0,0,0,0,0,0,0,0,0,0,0,0,0,0,0,0,0,0,0,0,0,0,0,0,0,0,0,0,0,0,0,0,0,0,0,0,0,0,0,0,0,0,0,0,0.00022455597971685057,0,0,0,0,0,0,0,0,0,0,0,0,0,0,0,0,0,0,0,0,0,0,0.00019844481928465866,0,0,0,0,0,0,0,0,0,0,0,0,0,0,0,0,0,0,0,0,0,8.877794546945256e-05,0,0,0,0,0,0,0,0,0,0,0,0,0.0001427410103626492,0,0,0,0,0,0,0,0,0,0,0,0,0,0,0,0,0,0,0,0,0,0,0,0,0,0,0,0,0,0.000212370771515161,0,0,0,0,0,0,0,0,0,0,0,0,0,0,0,0,0,0,0,0,0,0,0,0,0,0,0,0,0,0,0,0,0,0,0,0,0,0,0,9.748166561351653e-05,0,0,0,0,0,0,0,0,0,0,0,0,0,0,0,0,0,0.00012011133798808286,0,0,0,0,0,0,0,0,0,0,0,0,0,0,0,0,0,0,0,0,0,0 ,\\n', '0,0,0,0,0,0,0.00013229654618977243,0,0,0,0,0,0,0,0,0.00022107449165922497,0,0,0,0,0,9.225943352707814e-05,0,0,0,0,0,0,0,0.00010096315367114212,0,0,0,0.00012533357007452124,0,0,0,0,0,0,0,0,0,0,0.00016188919467958996,0,0,0,0,0,0,0,0,0.000212370771515161,0.00015840770662196437,0,0,0,0,0,0,0,0,0,0,0,0,0,0,0,0.00016362993870840275,0,0,0,0,0,0,0,0,0.00017755589093890512,0,0,0,0,0,0,0,0,0,0,0,0,0,0,0,0,0.0002994079729558008,0,0,0,0,0.00012881505813214683,0,0,0,0,0,0,0,0,0,0,0,0,0,0,0,0,0,0,0,0,0,0,0,0.000212370771515161,0.00012011133798808286,0.0001079261297863933,0,0,0,0,0,0,0,0.00010270389769995491,0,0,0,0,0,0,0,0,0,0,0,0,0,0,0,0,0,0,0,0,0,0,0,0,0,0,0,0,0,0,0,0,0,0,0,0,0.00010270389769995491,0,0,0,0,0,0,0,0,0,0,0,0,0,0,0.00021411151554397381,0,0,0,0,0,0,0,0,0,0,0,0,0,0,0,0,0,0,0,0,0.00016885217079484112,0,0,0,0,0,0,0,0,0,0,0,0,0.00023151895583210176,0,0.0001061853857575805,0,0,0,0,0,0,0,0,0,0,0,0,0,0,0,0,0,0,0,0,0.00015144473050671318,0,0,0,0 ,\\n', '9.051868949826534e-05,0,0,0,0,0,0.000433445263174386,0,0,0,0,0,0,0,0,0.00018800035511178187,0,0.00012881505813214683,0,0.00015144473050671318,0,0,0,0,0,0,0,0,0,0.00016362993870840275,0,0.00013925952230502362,9.225943352707814e-05,0.0005065565123845234,0,0,0,0,0,0,9.400017755589094e-05,0,0,0.00016188919467958996,0,0,0,0,0,0,0,0,0,0.00019844481928465866,0.0006475567787183598,0,0,0,0,0,0,0,0,0,0,0,0,0,0,0,0,0,0.00013403729021858524,0,0,0,0,0,0,0.0005796677615946608,0,0,0,0,0,0,0,0,0,0,0,0,0.0002088892834575354,0,8.703720144063976e-05,0,0.0007763718368505066,0,0,0,0,8.703720144063976e-05,0,0,0,0,0,0,0,0,0,0,0,0,0,0,0.00010096315367114212,0,0,0,0,0,0,0,0,0.00022281523568803779,0.0001375187782762108,0,0,0,0,0,0,0.00015144473050671318,0,0.00012359282604570846,0,0,0,0,0,0,0,0,0.00019148184316940747,0,0,0,0,0,0,0,0,0,0,0,0,0,0,0,0,0,0,0,0,0,0,0,0,0,0,0,0.0003185561572727415,0,0,0,0,0,0,0,0,0,0,0.00016362993870840275,0,0,0,0.0005988159459116016,0,0,0,0,0,0,0,0.0003290006214456183,0,0,0,0,0,0.00015666696259315156,0,0,0,0.00011314836187283169,0,0,0.00022455597971685057,0,0,0,0,0.00020366705137109703,0,0,0,0.00010270389769995491,0,0.0001079261297863933,0,0.0005239639526726514,0,0.0001479632424490876,0.00019844481928465866,9.922240964232933e-05,0,0,0,0,0,0.0002471856520914169,0,0,0,0,0,0,0,0,0,0,0,0,0.0005117787444709618,0,0,0,0 ,\\n', '0,0,0,0,0,0,0,0,0,0,0,9.922240964232933e-05,0,0,0,0,0,0,9.400017755589094e-05,0,0,0.00016711142676602834,0,0,0,9.225943352707814e-05,0,0,0,0,0,0,0,0,0.00017755589093890512,0,0.0001410002663338364,0,0,0,0,0,0,0,0,0,0,0,0,0,0,0,0,0,0,0,0,0,0,0,0,0,0,0,0,0,0,0,0,0.00030985243712867755,0,0,0,0,0,0.00015840770662196437,0,0,0,0,0,0.00011837059395927007,0,0,0,0,0,0.0002158522595727866,0,0,0,0,0,0,0,0,0,0.00013577803424739802,0,0,0,0,0,0,0,0,0,0,0,0,0,0,0,0,0,0.00017059291482365393,0,0,0,0,0,0,0,0,0,0,0,0,0,0,0,0,0,0,9.574092158470373e-05,0,0,0,0,0,0,0,0,0,0,0,0,0,0,9.400017755589094e-05,0,0,0,0,0,0,0.0002611116043219193,0,0,0,0,0,0,0,0,0,0,0,0,0,0,0,0,0,0,0,0,0,0,0,0,0,0,0,0,0.0001061853857575805,0,0,0,0,0,0,0,0,0.00012185208201689566,0,0,0,0,0,0,0,0,0,0.00016711142676602834,0,0,0,0,0,0,0,0,0,0,0,0,0,0,0,0,0,0,0,0,0,0,0,0,0,0,0.0001044446417287677,0,0,0,0,0,0,0,0,0,0.00025763011626429367,0,0,0,0,0.00012533357007452124,0,0 ,\\n', '0,0,0,0,0,0,0,0,0,0,0,0,0,0,0,0,0,0,0,0,0,0,0,0,0,0,0,0,0,0.0001479632424490876,0,0,0,0,0,0,0,0,0,0,0,0,0,0,0,0,0,0,0,0,0,0,0,0,0,0,0,0,0,0,0,0,0,0,0,0,0,0,0,0,0,0,0,0,0,0,0,0,0,0,0,0,0,0,0,0,0,0,0,0,0,0,0,0,0,0,0,0,0,0,0,0,0,0,0,0,0,0,0,0,0,0,0,0,0,0,0,0,0,0,0.00010096315367114212,0,0,0,0,0,0,0,0,0,0,0,0,0,0,0,0,0,0,0,0,0,0,0,0,0,0,0,0,0,0,0,0,0,0,0,0,0,0,0,0,0,0,0,0,0,0,0,0,0,0,0,0,0,0,0,0,0,0,0,0,0,0,0,0,0,0,0,0,0,0,0,0,0,0,0,0,0,0,0,0,0,0,0,0,0,0,0,0,0,0,0,0,0,0,0,0,0,0,0,0,0,0,0,0,0,0,0,0,0,0,0,0,0,0,0,9.051868949826534e-05,0,0,0,0,0,0,0,0,0,0,0,0 ,\\n', '0,0,0,0,0,0,0,0,0,0,0,0,0,0,0,0,0,0,0,0,0,0,0,0,0,0,0,0,0,0,0,0,0,0,0,0,0,0,0,0,0,0,0,0,0,0,0,0,0,0,0,0,0,0,0,0,0,0,0,0,0,0,0,0,0,0,0,0,0,0,0,0,0,0,0,0,0,0,0,0,0,0,0,0,0,0,0,0,0,0,0,0,0,0,0,0,0.000212370771515161,0,0,0,0,0,0,0,0,0,0,0,0,0,0,0,0,0,0,0,0,0,0,0,0,0,0,0,0,0,0,0,0,0,0,0,0,0,0,0,0,0,0,0,0,0,0,0,0,0,0,0,0,0,0,0,0,0,0,0,0,0,0,0,0,0,0,0,0,0,0,0,0,0,0,0,0,0,0,0,0,0,0,0,0,0,0,0,0,0,0,0,0,0,0,0,0,0,0,0,0,0,0,0,0,0,0,0,0,0,0,0,0,0,0,0,0,0,0,0,0,0,0,0,0,0,0,0,0,0,0,0,0,0,0,0,0,0,0,0,0,0,0,0,0,0,0,0,0,0,0,0,0 ,\\n', '0.00012185208201689566,0,0,0,0,0,0,0,0,0,0,0,0,0,0,0.00012011133798808286,0,0,0,0,0,0,0,0,0,0,0,0,0,0,0,0,0,0,0,0,0,0,0,0,0,0,0,0,0,0,0,0,0,0,0,0,0,0.0001061853857575805,0,0,0,0,0,0,0,0,0,0,0,0,0,0,0,0,0,0,0,0,0,0,0,0,0,0,0,0,0,0,0,0,0,0,0,0,0,0,0,0,0,0,9.400017755589094e-05,0,0,0,0,0,0,0,0,0,0,0,0,0,0,0,0,0,0,0,0,0,0,0,0,0,0,0.00012185208201689566,0,0.00011140761784401889,0,0,0,0,0,0,0,0,0,8.877794546945256e-05,0,0,0,0,0,0,0,0,0,0,0,0,0,0,0,0,0,0,0,0,0,0,0,0,0,0,0,0,0,0,0,0,0,0,0,0,0,0,0,0,0,0,0,0,0,0,0,0,0,0,0,0,0,0,0,0,0,0,0,0,0,0,0,0,0,0,0,0,0,0,0,0,0.00012707431410333405,0,0,0,0,0,0,0,0,0,0,0,0,0,0,0.00011488910590164449,0,0,0,0,0,0,0,0,0,0,0,0,0,0,0,0,0,0,0,0,0,0,0,0,0 ,\\n', '0,0,0,0,0,0,0,0,0,0,0,0,0,0,0,0,0,0,0,0,0,0,0,0,0,0,0,0,0,0,0,0,0,0,0,0,0,0,0,0,0,0,0,0,0,0,0,0,0,0,0,0,0,0,0,0,0,0,0,0,0,0,0,0,0,0,0,0,0,0,0,0,0,0,0,0,0,0,0,0,0,0,0,0,0,0,0,0,0,0,0,0,0,0,0,0,0,0,0,0,0,0,0,0,0,0,0,0,0,0,0,0,0,0,0,0,0,0,0,0,0,0,0,0,0,0,0,0,0,0,0,0,0,0,0,0.00011662984993045727,0,0,0,0,0,0,0,0,0,0,0,0,0,0,0,0,0,0,0,0,0,0,0,0,0,0,0,0,0,0,0,0,0,0,0,0,0,0,0,0,0,0,0,0,0,0,0,0,0,0,0,0,0,0,0,0,0,0,0,0,0,0,0,0,0,0,0,0,0,0,0,0,0,0,0,0,0,0,0,0,0,0,0,0,0,0,0,0,0,0,0,0,0,0,0,0,0,0,0,0,0,0,8.877794546945256e-05,0,0,0,0,0,0,0,0,0,0 ,\\n', '0,0,0,0,0,0,0,0,0,0,0,0,0,0,0,0,0,0,0,0,0,0,0,0,0,0,0,0,0,0,0,0,0,0,0,0,0,0,0,0,0,0,0,0,0,0,0,0,0,0,0,0,0,0,0,0,0,0,0,0,0,0,0,0,0,0,0,0,0,0,0,0,0,0,0,0,0,0,0,0,0,0,0,0,0,0,0,0,0,0,0,0,0,0,0,0,0,0,0,0,0,0,0,0,0,0,0,0,0,0,0,0,0,0,0,0,0,0,0,0,0,0,0,0,0,0,0,0,0,0,0,0,0,0,0,0,0,0,0,0,0,0,0,0,0,0,0,0,0,0,0,0,0,0,0,0,0,0,0,0,0,0,0,0,0,0,0,0,0,0,0,0,0,0,0,0,0,0,0,0,0,0,0,0,0,0,0,0,0,0,0,0,0,0,0,0,0,0,0,0,0,0,0,0,0,0,0,0,8.877794546945256e-05,0,0,0,0,0,0,0,0,0,0,0,0,0,0,0,0,0,0,0,0,0,0,0,0,0,0,0,0,0,0,0,0,0,0,0,0,0,0,0,0 ,\\n', '0,0,0,0,0,0,0,0,0,0,0,0,0,0,0,0,0,0,0,0,0,0,0,0,0,0,0,0,0,0,0,0,0,0,0,0,0,0,0,0,0,0,0,0,0,0,0,0,0,0,0,0,0,0,0,0,0,0,0,0,0,0,0,0,0,0,0,0,0,0,0,0,0,0,0,0,0,0,0,0,0,0,0,0,0,0,0,0,0,0,0,0,0,0,0,0,0,0,0,0,0,0,0,0,0,0,0,0,0,0,0,0,0,0,0,0,0,0,0,0,0,0,0,0,0,0,0,0,0,0,0,0,0,0,0,0,0,0,0,0,0,0,0,0,0,0,0,0,0,0,0,0,0,0,0,0,0,0,0,0,0,0,0,0,0,0,0,0,0,0,0,0,0,0,0,0,0,0,0,0,0,0.00016885217079484112,0,0,0,0,0,0,0,0,0,0,0,0,0,0,0,0,0,0,0,0,0,0,0,0,0,0,0,0,0,0,0,0,0,0,0,0,0,0,0,0,0,0,0,0,0,0,0,0,0,0,0,0,0,0,0,0,0,0,0,0,0,0,0,0,0,0,0 ,\\n', '0,0,0,0,0,0,0,0,0,0,0,0,0,0,0,0,0,0,0,0,0,0,0,0,0,0,0,0,0,0,0,0,0,0,0,0,0,0,0,0,0,0,0,0,0,0,0,0,0,0,0,0,0,0,0,0,0,0,0,0,9.051868949826534e-05,0,0,0.0001079261297863933,0,0,0,0,0,0,0,0,0,0,0,0,0,0,0,0,0,0,0,0,0,0.00011488910590164449,0,0,0,0,0,0,0,0,0,0,0,0,0,0,0,0,0,0,0,0,0,0,0,0,0,0,0,0,0.0001427410103626492,0,0,0,0,0,0,0,0,0,0,0,0,0,0,0,0,0,0,0,0,0.00011140761784401889,0,0,0,0,0,0,0,0,0,0,0,0,0,0,0,0,0,0,0,0,0,0,0,0,0,0,0,0,0,0,0,0,0,0,0,0,0,0,0,0,0,0,0,0,0,0,0.00011662984993045727,0,0,0,0,0,0,0,0,0,0,0,0,0,0,0,0,0,0,0,0,0,0,0,0,0,0,0,0,0,0,0,0,0,0,0,0,0,0,0,0,0,0,0,0,0,0,0,0,0,0,0,0,0,0,0,0,0,0,0,0,0,0,0,0,0,0 ,\\n', '0,0,0,0,0,0,0.0001061853857575805,0,0,0,0,0,0,0,0,0.0012080763559960798,0,0,0,0,0,8.877794546945256e-05,0,0,0,0,0,0,0,0.00016885217079484112,0,0,0.00010096315367114212,0.00011662984993045727,0,0,0,0,0,0,0,0,0,0.000212370771515161,0.00019844481928465866,0,0,0,0.0001061853857575805,0,0,0,0,0,0.00015144473050671318,0,0,0,0,0,0,0,0,0,0,0,0,0,0,0,0,0,0,0,0,0,0,0,0,0.00016014845065077715,0,0,0,0,0,0,0,0,0,0,0,0.000144481754391462,0,0,0,0,0.0002593708602931065,0,0,0,0,0,0.0002454449080626041,0.00011837059395927007,0,0,0,0,0,0,0,0,0,0,0,0,0,0,0,0,0,0,0,0,0,0.0012202615641977695,0,0,0,0,0,0,0,0,0,0.00017755589093890512,0,0,0.00016711142676602834,0,0,0,0,0,0,0,0,0,0,0,0,0,0,0,0,0,0,0,0,0,0,0,0,0,0,0,0,0,0,0,0,0,0,0,0,0,0,0,0,0,0,0,0,0,0,0,0,0.00019322258719822025,0,0.00016711142676602834,0,0,0,0,0,0,0,0,0,0,0,0,0,0,0,0,0,0,0.0011628170112469472,0,0,0,0,0,0,0,0,0,0,0,0,0.00015144473050671318,0,0.00013403729021858524,0,0,0,0,0,0,0,9.400017755589094e-05,0,0,0,0,0,0,0,0,8.877794546945256e-05,0,0,0.0004003711266269429,0.0001079261297863933,0,0,0,0 ,\\n', '0.0001079261297863933,0,0,0,0,0,0.0004543341915201395,0,0,0,0,0,0,0,0,0.00015318547453552596,0,0.00011662984993045727,0,0.0001810373789965307,0,0,0,0,0,0,0,0,0,0.00011662984993045727,0,0,0,0.000424741543030322,0,0,0,0,0,0,0,0,0,0.00015840770662196437,0.0006475567787183598,0,0,0,0,0,0,0,0,0.00015144473050671318,0,0,0,0,0,0,0,0,0,0,0,0,0,0,0,0,0.0001079261297863933,0,0.0001096668738152061,0,0,0,0,0,0,0.0007345939801589996,0,0,0,0,0,0,0,0,0,0,0,0,0.00018800035511178187,0,0.00010096315367114212,0,0.0006510382667759854,0,0,0,0,0,0,0,0,0,0,0,0,0,0,0,0,0,0,0,0,0,0,0,0,0,0,0,0,0.00015492621856433877,0.00015318547453552596,0,0,0,0,0,0,0.00012011133798808286,0,0.00010270389769995491,0,0,9.574092158470373e-05,0,0,0,0,0,0.000365556246050687,0,0,0,0,0,0,0,0,0,0,0,0,0,0,0,0,0,0,0,0,0,0,0,0,0,0,0,0.00026633383640835767,9.748166561351653e-05,0,0,0,0,0,0,0,0,0,0.00016537068273721553,0,0,0,0.00044214898331844995,0,0,0,0,0,0,0,0,0,0,0,0,0,0,0,0.0001061853857575805,0,0,0,0,0.00017233365885246672,0,0,0,0,0,0,0,0,0,0,0.00013055580216095964,0,0.0004752231198658931,0,0.00011314836187283169,0,0,0,0,0,0,0,0.0002524078841778553,0,0,0,0,0,0,0,0,0,0,0,0,0.0005239639526726514,0,0,0,0 ,\\n', '0,0,0,0,0,0,0,0,0,0,0,0,0,0,0,0,0,0,0,0,0,0,0,0,0,0,0,0,0,0,0.00016711142676602834,0,0,0,0,0,0,0,0,0,0,0,0,0,0,0,0,0,0,0,0,0,0,0,0,0,0,0,0,0,0,0,0,0,0,0,0,0,0,0,0,0,0,0,0,0,0,0,0,0,0,0,0,0,0.00012359282604570846,0,0,0,0,0,0,0,0,0,0,0,0,0,0,0,0.00025763011626429367,0,0,0,0,0,0,0,0,0,0,0,0,0,0,0,0.00021411151554397381,0,0,0,0,0,0,0,0,0,0,0,0,0,0,0,0,0,0,0,0,0,0,0,0,0,0,0,0,0,0,0,0,0,0,0,0,0,0,0,0,0,0,0,0,0,0,0,0,0,0,0,0,0,0,0,0,0,0,0,0,0,0,0,0,0,0,0,0,0,0,0,0,0,0,0,0,0,0,0,0,0,0,0,0,0,0,0,0,0,0,0,0,0,0,0,0,0,0,0,0,0,0,0,0,0,0,0.000433445263174386,0,0,0,0,0,0,0,0,0,0,0,0,0,0,0,0,0,0,0,0,0,0,0,0,0 ,\\n', '0,0,0,0,0,0,0,0,0,0,0,0,0,0,0,0,0,0,0,0,0,0,0,0,0,0,0,0,0,0,0,0,0,0,0,0,0,0,0,0,0,0,0,0,0,0,0,0,0,0,0,0,0,0,0,0,0,0,0,0,0,0,0,0,0,0,0,0,0,0,0,0,0,0,0,0,0,0,0,0,0,0,0,0,0,0,0,0,0,0,0,0,0,0,0,0,0,0,0,0,0,0,0,0,0,0,0,0.00011140761784401889,0,0,0,0,0,0,0,0,0,0,0,0,0,0,0,0,0,0,0,0,0,0,0,0,0,0,0,0,0,0,0,0,0,0,0,0,0,0,0,0,0,0,0,0,0,0,0,0,0,0,0,0,0,0,0,0,0,0,0,0,0,0,0,0,0,0,0,0,0,0,0,0,0,0,0,0,0,0,0,0,0,0,0,0,0,0,0,0,0,0,0,0,0,0,0,0,0,0,0,0,0,0,0,0,0,0,0,0,0,0,0,0,0.0001427410103626492,0,0,0,0,0,0,0,0,0,0,0,0,0,0,0,0,0,0,0,0,0,0,0,0,0,0,0,0 ,\\n', '0,0,0,0,0,0,0,0,0,0,0,0,0,0,0,0,0,0,0,0,0,0,0,0,0,0,0,0,0,0.0001096668738152061,0,0,0,0,0,0,0,0,0,0,0,0,0,0,0,0,0,0,0,0,0,0,0,0,0,0,0,0,0,0,0,0,0,0,0,0,0,0,0,0,0,0,0,0,0,0,0,0,0,0,0,0,0,0,0,0,0,0,0,0,0,0,0,0,0,0,0,0,0,0,0,0,0,0,0,0,0,0,0,0,0,0,0,0,0,0,0,0,0,0,0,0,0,0,0,0,0,0,0,0,0,0,0,0,0,0,0,0,0,0,0,0,0,0,0,0,0,0,0,0,0,0,0,0,0,0,0,0,0,0,0,0,0,0,0,0,0,0,0,0,0,0,0,0,0,0,0,0,0,0,0,0,0,0,0,0,0,0,0,0,0,0,0,0,0,0,0,0,0,0,0,0,0,0,0,0,0,0,0,0,0,0,0,0,0,0,0,0,0,0,0,0,0,0,0,0,0,0,0,0,0,0,0,0,0,0,0,0,0,0,0,0,0,0,0,0,0,0,0 ,\\n', '0,0,0,0,0,0,0,9.748166561351653e-05,0,0,0,0,0,0,0,0,0,0,0,0,0,0,0,0,0,0,0,0,0,0,0,0,0,0,0,0,0,0,0,0,0,0,0,0,0,0,0,0,0,0,0,0,0,0,0,0,0,0,0,0,0,0,0,0,0,0,0,0,0,0,0,0,0,0,0,0,0,0,0,0,0,0,0,0,0,0,0,0,0,0,0,0,0,0,0,0,0,0,0,0,0,0,0,0,0,0,0,0,0,0,0,0,0,0,0,0,0,0,0,0,0,0,0,0,0,0,0,0,0,0,0,0,0,0,0,0,0,0,0,0,0,0,0,0,0,0,0,0,0,0,9.922240964232933e-05,0,0,0,0,0,0,0,0,0,0,0,0,0,0,0,0,0,0,0,0,0,0,0,9.748166561351653e-05,0,0,0,0,0,0,0,0,0,0,0,0,0,0,0,0,0,0,0,0,0,0,0,0,0,0,0,0,0,0,0,0,0,0,0,0,0,9.748166561351653e-05,0,0,0,0,0,0,0,0,0,0,0,0,0,0,0,0,0,0,0,0,0,0,0,0,0,0,0,0,0,0,0,0,0,0,0,0 ,\\n', '0,0,0,0,0,0,0,0,0,0,0,0,0,0,0,0,0,0,0,0,0,0,0,0,0,0,0,0,0,9.922240964232933e-05,0,0,0,0,0,0,0,0,0,0,0,0,0,0,0,0,0,0,0,0,0,0,0,0,0,0,0,0,0,0,0,0,0,0,0,0,0,0,0,0,0,0,0,0,0,0,0,0,0,0,0,0,0,0,0,0,0,0,0,0,0,0,0,0,0,0,0,0,0,0,0,0,0,0,0,0,0,0,0,0,0,0,0,0,0,0,0,0,0,0,0,0,0,0,0,0,0,0,0,0,0,0,0,0,0,0,0,0,0,0,0,0,0,0,0,0,0,0,0,0,0,0,0,0,0,0,0,0,0,0,0,0,0,0,0,0,0,0,0,0,0,0,0,0,0,0,0,0,0,0,0,0,0,0,0,0,0,0,0,0,0,0,0,0,0,0,0,0,0,0,0,0,0,0,0,0,0,0,0,0,0,0,0,0,0,0,0,0,0,0,0,0,0,0,0,0,0,0,0,0,0,0,0,0,0,0,0,0,0,0,0,0,0,0,0,0,0,0,0 ,\\n', '0,0,0,0,0,0,0,0,0,0,0,0,0,0,0,0,0,0,0,0,0,0,0,0,0,0,0,0,0,0,0,0,0,0,0,0,0,0,0,0,0,0,0,0,0,0,0,0,0,0,0,0,9.051868949826534e-05,0,0,0,0,0,0,0,0,0,0,9.225943352707814e-05,0,0,0,0,0,0,0,0,0,0,0,0,0,0,0,0,0,0,0,0,0,0.00019844481928465866,0,0,0,0,0,0,0,0,0,0,0,0,0,0,0,0,0,0,0,0,0,0,0,0,0,0,0,0,0.00011314836187283169,0,0,0,0,0,0,0,0,0,0,0,0,0,0,0,0,0,0,0,0,0,0,0,0,0,0,0,0,0,0,0,0,0,0,0,0,0,0,0,0,0,0,0,0,0,0,0,0,0,0,0,0,0,0,0,0,0,0,0,0,0,0,0,0,0,0,0,0,0,0,0,0,0,0,0,0,0,0,0,0,0,0,0,0,0,0,0,0,0,0,0,0,0,0,0,0,0,0,0,0,0,0,0,0,0,0,0,0,0,0,0,0,0,0,0,0,0,0,0,0,0,0,0,0,0,0,0,0,0,0,0,0,0,0 ,\\n', '0,0,0,0,0,0,0,0,0,0,0,0,0,0,0,0,0,0,0.00012533357007452124,0,0,0.00020540779539990982,0,9.051868949826534e-05,0,0.0002088892834575354,0,0,0,0,0,0,0,0,0.000212370771515161,0,0,0,0,0,0,0,0,0,0,0,0,0,0,0,0,0,0,0,0,0,0,0,0,0,0,0,0,0,0,0,0,0,0,0,0,0,0,0,0,0,0,0,0,0,0,0,0,0,0,0,0,0,0,0,0,0,0,0,0,0,0,0.00016537068273721553,0,0,0,0,0,0,0,0,0,0,0,0,0,0.00013403729021858524,0,0,0,0,0,0,0,0,0,9.225943352707814e-05,0,0,0,0,0,0,0,0,0,0,0,0,0,0,0,0,0,0,0,0,0,0,0,0,0,0,0,0,0,0,0,0,0,0,0,0,0,0,0,0.00011837059395927007,0,0,0,0,0,0,0,0,0,0,0,0,0,0,0,0,0,0,0,0,0,0,0,0,0,0,0,0,0,0,0,0,0.00016014845065077715,0,0,0,0,0,0,0,0,0,0,0,0,0,0,0,0,0,0,0,0,0,0,0,0,0,0,0,0.00013925952230502362,0,0,0,0,0,0,8.877794546945256e-05,0,0.00018800035511178187,0,0,0,0,0,0,0,0,0,0,0,0,0,0,0.0001497039864779004,0,0 ,\\n', '0,0,0,0,0,0,0,0,0,0,0,0,0,0,0,0,0,0,0,0,0,0,0,0,0,0,0,0,0,0,0,0,0,0,0,0,0,0,0,0,0,0.0001096668738152061,0,0,0,0,0,0,0,0,0,0,0,0,0,0,0,0,0,0,0,0,0,0,0,0,0,0,0,0,0,0.00011662984993045727,0,0,0,0,0,0,0,0,0,0,0,0,0,0,0,0,0,0,0,0,0,0,0,0,0,0,0,0,0,0,0,0,0,0,0,0,0,0,0,0,0,0,0,0,0,0,0,0,0,0.00012707431410333405,0,0,0,0,0,0,0,0,0,0,0.00012533357007452124,0,0,0,0,0,0,0,0,0,0.0001096668738152061,0,0,0,0,0,0,0,0,0,0,0.00011488910590164449,0,0,0,0,0,0,0,0,0,0,0,0,0,0,0,0,0,0,0,0,0,0,0,0,0,0,0,0,0,0,0,0,0,0,0,0,0,0,0,0,0,0,0,0,0,0,0,0,0,0,0,0,0,0,0,0,0,0,0,0,0,0,0,0,0,0,0,0,0,0,0,0,0,0,0,0,0,0,0,0,0,0,0,0,0,0,0,0,0,0,0,0,0,0,0.00011314836187283169 ,\\n', '0,0,0,0,0,0,0,0,0,0,0,0,0,0,0,0,0,0,0,0,0,0,0,0,0,0,0,0,0,0,0,0,0,0,0,0,0,0,0,0,0,0,0,0,0,0,0,0,0,0,0,0,0.0001079261297863933,0,0,0,0,0,0,0,9.225943352707814e-05,0,0,0,0,0,0,0,0,0,0,0,0,0,0,0,0,0,0,0,0,0,0,0,0,0.0001079261297863933,0,0,0,0,0,0,0,0,0,0,0,0,0,0,0,0,0,0,0,0,0,0,0,0,0,0,0,0,0.00012881505813214683,0,0,0,0,0,0,0,0,0,0,0,0,0,0,0,0,0,0,0,0,0,0,0,0,0,0,0,0,0,0,0,0,0,0,0,0,0,0,0,0,0,0,0,0,0,0,0,0,0,0,0,0,0,0,0,0,0,0,0,0,0,0,0,0,0,0,0,0.00010096315367114212,0,0,0,0,0,0,0,0,0,0,0,0,0,0,0,0,0,0,0,0,0,0,0,0,0,0,0,0,0,0,0,0,0,0,0,0,0,0,0,0,0,0,0,0,0,0,0,0,0,0,0,0,0,0,0,0,0,0,0,0,0,0,0,0,0,0 ,\\n', '0,0,0,0,0,0,0,0,0,0,0,0,0,0,0,0,0,0,0,0,0,0,0,0,0,0,0,0,0,0,0,0,0,0,9.748166561351653e-05,0,0,0,0,0,0,0,0,0,0,0,0,0,0,0,0,0,0,0,0,0,0,0,0,0,0,0,0,0,0,0,0,0,0,0,0,0,0,0,0,0,0,0,0,0,0,0,0,0,0,0,0,0,0,0,0,0,0,0,0,0,0,0.00011662984993045727,0,0,0,0,0,0,0,0,0,0,0,0,0,0,0,0,0,0,0,0,0,0,0,0,0,0,0,0,0,0,0,0,0,0,0,0,0,0,0,0,0,0,0,0,0,0,0,0,0,0,0,0,0,0,0,0,0,0,0,0,0,0,0,0,0,0,0,0,0,0,0,0,0,0,0,0,0,0,0,0,0,0,0,0,0,0,0,0,0,0,0,0,0,0,0,0,0,0,0,0,0,0,0,0,0,0,0,0,0,0,0,0,0,0,0,0,0,0,0,0,0,0,0,0,0,0,0,0,0,0,0,0,0,0,0,0,0,0,0,0,0,0,0,0,0,0,0,0,0,0,0 ,\\n', '0.00010270389769995491,0,0,0,0,0,0,0,0,0,0,0,0,0,0,0,0,0,0,0,0,0,0,0,0,0,0,0,0,0,0,0,0,0,0,0,0,0,0,0,0,0,0,0,0,0,0,0,0,0,0,0,0,0,0,0,0,0,0,0,0,0,0,0,0,0,0,0,0,0,0,0,0,0,0,0,0,0,0,0,0,0,0,0,0,0,0,0,0,0,0,0,0,0,0,0,0,0,0,0,0,0,0,0,0,0,0,0,0,0,0,0,0,0,0,0,0,0,0,0,0,0,0,0,0,0,0,0,0,0,0,0,0,0,0,0,0,0,0,0,0,0,0,0,0,0,0,0,0,0,0,0,0,0,0,0,0,0,0,0,0,0,0,0,0,0,0,0,0,0,0,0,0,0,0,0,0,0,0,0,0,0,0,0,0,0,0,0,0,0,0,0,0,0,0,0,0,0,0,0,0,0,0,0,0,0,0,0,0,0,0,0,0,0,0,0,0,0,0,0,0,0,0,0,0,0,0,0,0,0,0,0,0,0,0,0,0,0,0,0,0,0,0,0,0,0,0,0,0 ,\\n', '0,0,0,0,0,0,0,0,0,0,0,0,0,0,0,0,0,0,0,0,0,0,0,0,0,0,0,0,0,0,0,0,0,0,0,0,0,0,0,0,0,0,0,0,0,0,0,0,0,0,0,0,0,0,0,0,0,0,0,0,0,0,0,0,0,0,0,0,0,0,0,0,0,0,0,0,0,0,0,0,0,0,0,0,0,0,0,0,0,0,0,0,0,0,0,0,0,0,0,0,0,0,0,0,0,0,0,0,0,0,0,0,0,0,0,0,0,0,0,0,0,0,0,0,0,0,0,0,0,0,0,0,0,0,0,0,0,9.922240964232933e-05,0,0,0,0,0,0.00012011133798808286,0,0,0,0,0,0,0,0,0,0,0.00013577803424739802,0,0,0,0,0,0,0,0,0,0,0,0,0,0,0,0,0,0,0,0,0,0,0.00012881505813214683,0,0,0,0,0,0,0,0,0,0,0,0,0,0,0,0,0,0,0,0,0,0.00019844481928465866,0,0,0,0,0,0,0,0,0,0,0,0,0,0,0,0,0,0,0.0001462224984202748,0,0,0,0,0,0,0,0,0,0,0,0,0,0,0,0,0,0,0,0,0,0,0,0,0,0,0,0,0,0 ,\\n', '0,0,0,0,0,0,0,0,0,0,0,0,0,0,0,0,0,0,0,0,0,0,0,0,0,0,0,0,0,0.0001061853857575805,0,0,0,0,0,0,0,0,0,0,0,0,0,0,0,0,0,0,0,0,0,0,0,0,0,0,0,0,0,0,0,0,0,0,0,0,0,0,0,0,0,0,0,0,0,0,0,0,0,0,0,0,0,0,0,0,0,0,0,0,0,0,0,0,0,0,0,0,0,0,0,0,0,0,0,0,0,0,0,0,0,0,0,0,0,0,0,0,0,0,0.00012011133798808286,0,0,0,0,0,0,0,0,0,0,0,0,0,0,0,0,0,0,0,0,0,0,0,0,0,0,0,0,0,0,0,0,0,0,0,0,0,0,0,0,0,0,0,0,0,0,0,0,0,0,0,0,0,0,0,0,0,0,0,0,0,0,0,0,0,0,0,0,0,0,0,0,0,0,0,0,0,0,0,0,0,0,0,0,0,0,0,0,0,0,0,0,0,0,0,0,0,0,0,0,0,0,0,0,0,0,0,0,0,0,0,0,0,0,0,0,0,0,0,0,0,0,0,0,0,0,0,0 ,\\n', '0,0,0,0,0,0,0,0,0,0,0,0,0.00027155606849479604,0,0,0,0,0,0,0,0,0,0,0,0,0,0,0,0,0,0,0,0,0,0,0,0,0,0,0,0,0,0,0,0,0,0,0,0,0,0,0,0,0,0,0,0,0,0,0,0,0,0,0,0,0,0,0,0,0,0,0,0,0,0,0,0,0,0,0,0,0,0,0,0,0,0,0,0,0,0,0,0,0,0,0,0,0,0,0,0,0,0,0,0.0002854820207252984,0,0,0,0,0,0,0,0,0,0,0,0,0,0,0,0,0,0,0,0.00017233365885246672,0,0,0,0,0,0,0,0,0,0,0,0,0,0,0,0,0.00010270389769995491,0,0,0,0,0,0,0.00022977821180328897,0,0,0,0,0,0,0,0,0,0,0,0,0,0.00023674118791854013,0,0,0,0,0,0,0,0,0,0,0,0,0,0.0001497039864779004,0,0,0,0,0,0,0,0,0,0,0.00035511178187781024,0,0,0,0,0.00012185208201689566,0,0,0,0,0,0,0,0,0,0,0,0,0,0,0,0,0,0,0,0,0,0,0,0,0,0,0,0,0,0,0,0,0,0,0,0,0,0,0,0,0,0,0.00023848193194735294,0,0,0,0,0,0,0,0,0,0,0,0,0 ,\\n', '0,0,0,0,0,0,0,0,0,0,0,0,0,0,0,0,0,0,0,0,0,0,0,0,0,0,0,0,0,0,0,0,0,0,0,0,9.922240964232933e-05,0,0,0,0,0,0,0,0,0.00030985243712867755,0,0,0,0,0,0,0,0,0,0,0,0,0,0,0,0,0,0,0,0,0,0,0,0,0,0,0,0,0,0.00013403729021858524,0,0,0,0,0,0.00010270389769995491,0,0,0,0,0,0.00019496333122703306,0,0,0,0,0,0,0,0,0,8.877794546945256e-05,0,0,0,0,0,0,0,0,0,0,0,0,0,0,0,0,0,0.00017233365885246672,0,0,0,0,0,0,0,0,0,0,0,0,0,0,0,0,0,0,0,0,0,0,0,0,0,0,0,0,0,0,0,0,0,0.00011488910590164449,0,0,0,0,0,0,0.00022803746777447616,0,0,0,0,0,0,0,0,0,0,0,0,0,0,0,0,0,0,0,0,0,0,0,0,0,0,0,0,9.051868949826534e-05,0,0,0,0,0,0,0,0,0,0,0,0,0,0,0,0,0,0,0.00012707431410333405,0,0,0,0,0,0,0,0,0,0,0,0,0,0,0,0,0,0,0,0,0,0,0,0,0,0,0,0,0,0,0,0,0,0,0,0,0.0002506671401490425,0,0,0,0,0,0,0 ,\\n', '0,0,0,0,0,0,0,0,0,0,0,0,0,0,0,0,0,0,0,0,0,0,0,0,0,0,0,0,0,0,0,0,0,0,0,0,0,0,0,0,0,0,0,0.00016362993870840275,0,0,0,0,0,0,0,0,0,0,0.0001079261297863933,0,0,0,0,0,0,0,0,0,0,0,0,0,0,0,0,0,0,0,0,0,0,0,0,0.0001096668738152061,0,0,0,0,0,0,0,0,0,0,0,0,0,0,0,0,0.00020714853942872263,0,0,0,0,0.0001410002663338364,0,0,0,0,0,0,0,0,0,0,0,0,0,0,0,0,0,0,0,0,0,0,0,0,0.00011314836187283169,0,0,0,0,0,0,0,0,0,0,0,0,0,0,0,0,0,0,0,0,0,0,0,0,0,0,0,0,0,0,0,0,0,0,0,0,0,0,0,0,0,0,0,0,0,9.225943352707814e-05,0,0,0,0,0,0,0,0,0,0,0,0,0,0,0.0001462224984202748,0,0,0,0,0,0,0,0,0,0,0,0,0,0,0,0.00011314836187283169,0,0,0,0,0,0,0,0,0,0,0,0,0,0,0,0,0,0.00020018556331347144,0,0,0,0,0,0,0,0,0,0,0,0,0,0,0,0,0,0,0,0,0,0,0.00011662984993045727,0,0,0,0 ,\\n', '0,0,0,0,0,0,0,0,0,0,0,0,0,0,0,0,0,0,0,0,0,0,0,0,0,0,0,0,0,0,0,0,0,0,0,0,0,0,0,0,0,0.00011488910590164449,0,0,0,0,0,0,0,0,0,0,0,0,0,0,0,0,0,0,0,0,0.00011662984993045727,0,0,0,0,0,0,0,0,0,0,0,0,0,0,0,0,0,0,0,0,0,0,0,0,0,0,0,0,0,0,0,0,0,0,0,0,0,0,0,0,0,0,0,0,0,0,0,0,0,0,0,0,0,0,0,0,0,0,0.00012533357007452124,0,0,0,0,0,0,0,0,0,0,0.00012011133798808286,0,0,0,0,0,0,0,0,0,9.748166561351653e-05,0,0,0,0,0,0,0,0,0,0,0.00011488910590164449,0,0,0,0,0,0,0,0,0,0,0,0,0,0,0,0,0,0,0,0,0,0,0,0,0,0,0,0,0,0,0,0,0,0,0,0,0,0,0,0,0,0,0,0,0,0,0,0,0,0,0,0,0,0,0,0,0,0,0,0,0,0,0,0,0,0,0,0,0,0,0,0,0,0,0,0,0,0,0,0,0,0,0,0,0,0,0,0,0,0,0,0,0,0,0.0001079261297863933 ,\\n', '0,0,0,0,0,0,8.877794546945256e-05,0,0,0,0,0,0,0,0,0,0,0,0,0,0,0,0,0,0,0,0,0,0,0,0,0,0,0,0,0,0,0,0,0,0,0,0,0,0.00013403729021858524,0,0,0,0,0,0,0,0,0,0.0001096668738152061,0,0,0,0,0,0,0,0,0,0,0,0,0,0,0,0,0,0,0,0,0,0,0,0,0.00011837059395927007,0,0,0,0,0,0,0,0,0,0,0,0,0,0,0,0,0.00010270389769995491,0,0,0,0,0,0,0,0,0,0,0,0,0,0,0,0,0,0,0,0,0,0,0,0,0,0,0,0,0,0,0,0,0,0,0,0,0,0,0,0,0,0,0,0,0,0,0,0,0,0,0,0,0,0,0,0,0,0,0,0,0,0,0,0,0,0,0,0,0,0,0,0,0,0,0,0,0,0,0,0,0,0,0,0,0,0,0,0,0,0,0,0,0,0,0,0,0,0,0,0,0,0,0,0,0,0,0,0,0,0,0,0,0,0,0,0,0,0,0,0,0,0,0,0,0.00011488910590164449,0,0,0,0,0,0,0,0,0,0,0,0,0,0,0,0,0,0,0,0,0,0,0,0,0,0,0 ,\\n', '0,0,0,0,0,0,0,0,0,0,0,0,0,0,0,0,0,0,0,0,0,0,0,0,0,0,0,0,0,0,0,0,0,0,0,0,0,0,0,0,0,0,0,0,0,0,0,0,0,0,0,0,0,0,0,0,0,0,0,0,0,0,0,0,0,0,0,0,0,0,0,0,0,0,0,0,0,0,0,0,0,0,0,0,0,0,0,0,0,0,0,0,0,0,0,0,0,0,0,0,0,0,0,0,0,0,0,0,0,0,0,0,0,0,0,0,0,0,0.00010270389769995491,0,0,0,0,0,0,0,0,0,0,0,0,0,0,0,0,0,0,0,0,0,0,0,0,0,0,0,0,0,0,0,0,0,0,0,0,0,0,0,0,0,0,0,0,8.877794546945256e-05,0,0,0,0,0,0,0,0,0,0,0,0,0,0,0,0,0,0,0,0,0,0,0,0,0,0,0,0,0,0,0,0,0,0,0,0,0,0,0,0,0,0,0,0,0,0,0,0,0,0,0,0,0,0,0,0,0,0,0,0,0,0,0,0,0,0,0,0,0,0,0,0,0,0.0001044446417287677,0,0,0,0,0,0,0,0,0,0,0 ,\\n', '0,0,0,0,0,0,0,0,0,0,0,0,0,0,0,0,0,0,0,0,0,0.00012185208201689566,0,0,0,0.00011488910590164449,0,0,0,0,0,0,0,0,9.922240964232933e-05,0,0,0,0,0,0,0,0,0,0,0,0,0,0,0,0,0,0,0,0,0,0,0,0,0,0,0,0,0,0,0,0,0,0,0,0,0,0,0,0,0,0,0,0,0,0,0,0,0,0,0,0,0,0,0,0,0,0,0,0,0,0,0,0,0,0,0,0,0,0,0,0,0,0,0,0,9.574092158470373e-05,0,0,0,0,0,0,0,0,0,0,0,0,0,0,0,0,0,0,0,0,0,0,0,0,0,0,0,0,0,0,0,0,0,0,0,0,0,0,0,0,0,0,0,0,0,0,0,0,0,0,0,0,0,0,0,0,0,0,0,0,0,0,0,0,0,0,0,0,0,0,0,0,0,0,0,0,0,0,0,0,0,9.922240964232933e-05,0,0,0,0,8.703720144063976e-05,0,0,0,0,0,0,0,0,0,0,0,0,0,0,0,0,0,0,0,0,0,0,0,0.0001061853857575805,0,0,0,0,0,0,0,0,0,0,0,0,0,0,0,0,0,0,0,0,0,0,0,0,0,0 ,\\n', '0,0,0,0,0,0,0,0,0,0,0,8.703720144063976e-05,0,0,0,0,0,0,0,0,0,0,0,0,0,0,0,0,0,0,0,0,0,0,0,0,0,0,0,0,0,0,0,0,0,0.00015840770662196437,0,0,0,0,0,0,0,0,0,0,0,0,0,0,0,0,0,0,0,0,0,0,0,0.00013403729021858524,0,0,0,0,0,0,0,0,0,0,0,9.922240964232933e-05,0,0,0,0,0,0,0,0,0,0,0,0,0,0,0,0,0,0,0,0,0,0,0,0,0,0,0,0,0,0,0,0,0,0.00011314836187283169,0,0,0,0,0,0,0,0,0,0,0,0,0,0,0,0,0,0,0,0,0,0,0,0,0,0,0,0,0,0,0,0,0,0,0,0,0,0,0,0,0.0001497039864779004,0,0,0,0,0,0,0,0,0,0,0,0,0,0,0,0,0,0,0,0,0,0,0,0,0,0,0,0,0,0,0,0,0,0,0,0,0,0,0,0,0,0,0,0,0,0,0,0,0,0,0,0,0,0,0,0,0,0,0,0,0,0,0,0,0,0,0,0,0,0,0,0,0,0,0,0,0,0,0,0,0,0,0,0,0.0001462224984202748,0,0,0,0,0,0,0 ,\\n', '0,0,0,0,0,0,0,0,0,0,0,0,0,0,0,0,0,0,0,0,0,0,0,0,0,0,0,0,0,0,0,0,0,0,0,0,0,0,0,0,0,0,0,0,0,0,0,0,0,0,0,0,0,0,0,0,0,0,0,0,0,0,0,0,0,0,0,0,0,0,0,0,0,0,0,0,0,0,0,0,0,0,9.051868949826534e-05,0,0,0,0,0,0,0,0,0,0,0,0,0,0,0,0,0,0,0,0,0,0,0,0,0,0,0,0,0,0,0,0,0,0,0,0,0,0,0,0,0,0,0,0,0,0,0,0,0,0,0,0,0,0,0,0,0,0,0,0,0,0,0,0,0,0,0,0,0,0,0,0,0,0,0,0,0,0,0,0,0,0,0,0,0,0,0,0,0,0,0,0,0,0,0,0,0,0,0,0,0,0,0,0,0,0,0,0,0,0,0,0,0,0,0,0,0,0,0,0,0,0,0,0,0,0,0,0,0,0,0,0,0,0,0,0,0,0,0,0,0,0,0,0,0,0,0,0,0,0,0,0,0,0,0,0,0,0,0,0,0,0,0,0,0,0 ,\\n', '0,0,0,0,0,0,0,0,0,0,0,0,0,0,0,0,0,0,0,0,0,0,0,0,0,0,0,0,0,0,0,0,0,0,0,0,0,0,0,0,0,0,0,0,0,0,0,0,0,0,0,0,0,0,0,0,0,0,0,0,0,0,0,0,0,0,0,0,0,0,0,0,0,0,0,0,0,0,0,0,0,0,0,0,0,0,0,0,0,0,0,0,0,0,0,0,0,0,0,0,0,0,0,0,0,0,0,0,0,0,0,0,0,0,0,0,0,0,0,0,0,0,0,0,0,0,0,0,0,0,0,0,0,0,0,0,0,0,0,0,0,0,0,0,0,0,0,0,0,0,0,0,0,0,0,0,0,0,0,0,0,0,0,0,0,0,0,0,0,0,0,0,0,0,0,0,0,0,9.574092158470373e-05,0,0,0,0,0,0,0,0,0,0,0,0,0,0,0,0,0,0,0,0,0,0,0,0,0,0,0,0,0,0,0,0,0,0,0,0,0,0,0,0,0,0,0,0,0,0,0,0,0,0,0,0,0,0,0,0,0,0,0,0,0,0,0,0,0,0,0,0,0,0 ,\\n', '0,0,0,0,0,0,0,0,0,0,0,0,0,0,0,0,0,0,0,0,0,0,0,0,0,0,0,0,0,0,0,0,0,0,0,0,0,0,0,0,0,0,0,0,0,0,0,0,0,0,0,0,0,0,0,0,0,0,0,0,0,0,0,0,0,0,0,0,0,0,0,0,0,0,0,0,0,0,0,0,0,0,0,0,0,0,0,0,0,0,0,0,0,0,0,0,0,0,0,0,0,0,0,0,0,0,0,0,0,0,0,0,0,0.00011837059395927007,0,0,0,0,0,0,0,0,0,0,0,0,0,0,0,0,0,0,0,0,0,0,0,0,0,0,0,0,0,0,0,0,0,0,0,0,0,0,0,0,0,0,0,0,0,0,0,0,0,0,0,0,0,0,0,0,0,0,0,0,0,0,0,0,0,0,0,0,0,0,0,0,0,0,0,0,0,0,0,0,0,0,0,0,0,0,0,0,0,0,0,0,0,0,0,0,0,0,0,0,0,0,0,0,0,0,0,0,0,0,0,0,0,0,0,0,0,0,0,0,0,0,0,0,0,0,0,0,0,0,0,0,0,0,0 ,\\n', '0.00010096315367114212,0,0,0,0,0,0.0003934081505116917,0,0,0,0,0,0,0,0,0.00017059291482365393,0,0.0001044446417287677,0,0,0,0,0,0,0,0,0,0,0,0.00013055580216095964,0,0,0,0.00041603782288625806,0,0,0,0,0,0,0,0,0,0.00017755589093890512,0.0005796677615946608,0,0,0,0,0,0,0,0,0.00016014845065077715,0.0007345939801589996,0,0,0,0,0,0,0,0,0,0,0,0,0,0,0,0.0001096668738152061,0,0.00011837059395927007,0,0,0,0,0,0,0,0,0,0,0,0,0,0,0,0,0,0,0,0.00022977821180328897,0,0.0001044446417287677,0,0.0006701864510929262,0,0,0,0,0.00012185208201689566,0,0,0,0,0,0,0,0,0,0,0,0,0,0,0,0,0,0,0,0,0,0,0,0.00015666696259315156,0.0002088892834575354,0.00013229654618977243,0,0,0,0,0,9.748166561351653e-05,0,9.922240964232933e-05,0,0,0.00015144473050671318,0,0,0,0,0,0.0002454449080626041,0,0,0,0,0,0,0,0,0,0,0,0,0,0,0,0,0,0,0,0,0,0,0,0,0,0,0,0.00031681541324392874,0,0,0,0,0,0,0,0,0,0,0.0002088892834575354,0,0,0,0.00044388972734726276,0,0,0,0,0,0,0,0,0,0,0,0,0,0,0,0.00011314836187283169,0,0,0,0,0.0001758151469100923,0,0,0,0,0,0,0,0.00011140761784401889,0,0,0,0,0.00044214898331844995,0,0.00012011133798808286,0,0,0,0,0,0,0,0.0002506671401490425,0,0,0,0,0,0,0,0,0,0,0,0,0.0004404082392896372,0,0,0,0 ,\\n', '0,0,0,0,0,0.00015666696259315156,0,0,0,0,0,0,0,0,0,0,0,0,0,0,0,0,0,0,0,0,0,0,0,0,0,0,0,0,0,0,0,0,0,0,0,0,0.00022455597971685057,0,0,0,0,0,0,0,0,0,0,0,0,0,0,0,0,0,0,0,0,0,0,0,0,0,0,0,0,0,0,0,0,0,0,0,0,0,0,0,0,0,0,0,0,0,0,0,0,0,0,0,0,0,0,0,0,0,0,0,0,0.00019670407525584585,0,0,0,0,0,0,0,0,0,0,0,0,0,0,0,0,0,0,0,0,0,0,0,0,0,0,0,0,0,0,0,0,0,0,0.00013925952230502362,0,0,0,0,0,0,0,0,0,0,0,0,0,0,0,0,0,0,0,0,0,0,0,0,0,0,0,0,0,0.00021063002748634822,0,0,0,0,0,0,0,0,0,0,0,0,0,0,0,0,0,0,0,0,0,0,0,0,0,0,0,0,0,0,0,0,0,0,0,0,0,0,0,9.051868949826534e-05,0,0,0,0,0,0,0,0,0,0,0,0,0,0,0,0,0,0.00012011133798808286,0,0,0,0,0,0,0,0,0,0,0,0,0,0,0,0,0,0,0,0,0,0 ,\\n', '0,0,0,0,0,0,0,0,0,0,0,0,0,0,0,0,0,0,0,0,0,0,0,0,0,0,0,0,0,0,0,0,0,0,0,0,0,0,0,0,0,0,0,0,0,0.00011837059395927007,0,0,0,0,0,0,0,0,0,0,0,0,0,0,0,0,0,0,0,0,0,0,0,0.00010270389769995491,0,0,0,0,0,9.922240964232933e-05,0,0,0,0,0,0,0,0,0,0,0,0,0,0,0,0,0,0,0,0,0,0,0,0,0,0,0,0,0,0,0,0,0,0,0,0,0,0,0,0,0,0,0,0,0,0,0,0,0,0,0,0,0,0,0,0,0,0,0,0,0,0,0,0,0,0,0,0,0,0,0,0,0,0,0,0,0,0,0,0,0.0001079261297863933,0,0,0,0,0,0,0,0,0,0,0,0,0,0,0,0,0,0,0,0,0,0,0,0,0,0,0,0,0,0,0,0,0,0,0,0,0,0,0,0,0,0,0,0,0,0,0,0,0,0,0,0,0,0,0,0,0,0,0,0,0,0,0,0,0,0,0,0,0,0,0,0,0,0,0,0,0,0,0,0,0,0,0,0,0.0001079261297863933,0,0,0,0,0,0,0 ,\\n', '0,0,0,0,0,0,0,0,0,0,0,0,0,0,0,0,0,0,0,0,0,0,0,0,0,0,0,0,0,0,0,0,0,0,0,0,0,0,0,0,0,0,0,0,0,0,0,0,0,0,0,0,0,0,0,0,0,0,0,0,0,0,0,0,0,0,0,0,0,0,0,0,0,0,0,0,9.051868949826534e-05,0,0,0,0,0,0,0,0,0,0,0,0,0,0,0,0,0,0,0,0,0,0,0,0,0,0,0,0,0,0,0,0,0,0,0,0,0,0,0,0,0,0,0,0,0,0,0,0,0,0,0,0,0,0,0,0,0,0,0,0,0,0,0,0,0,0,0,0,0,0,0,0,0,0,0,0,0,0,0,0,0,0,0,0,0,0,0,0,0,0,0,0,0,0,0,0,0,0,0,0,0,0,0,0,0,0,0,0,0,0,0,0,0,0,0,0,0,0,0,0,0,0,0,0,0,0,0,0,0,0,0,0,0,0,0,0,0,0,0,0,0,0,0,0,0,0,0,0,0,0,0,0,0,0,0,0,0,0,0,0,0,0,0,0,0,0,0,0,0,0,0,0 ,\\n', '0,0,0,0,0,0,0,0,0,0,0,0,0,0,0,0,0,0,0,0,0,0.0001375187782762108,0,0,0,0,0,0,0,0,0,0,0,0,0.00013229654618977243,0,0,0,0,0,0,0,0,0,0,0,0,0,0,0,0,0,0,0,0,0,0,0,0,0,0,0,0,0,0,0,0,0,0,0,0,0,0,0,0,0,0,0,0,0,0,0,0,0,0,0,0,0,0,0,0,0,0,0,0,0,0,0.000144481754391462,0,0,0,0,0,0,0,0,0,0,0,0,0,0.00017233365885246672,0,0,0,0,0,0,0,0,0,0,0,0,0,0,0,0,0,0,0,0,0,0,0,0,0,0,0,0,0.00012707431410333405,0,0,0,0,0,0,0,0,0,0,0,0,0,0,0,0.0001044446417287677,0,0,0,0,0,0,0,0,0,0,0,0,0,0,0,0,0,0,0,0,0,0,0,0,0,0,0,0,0,0,0,0,0,0,0,0,0,0,0,0,0,0,0,0,0,0,0,0,0,0,0,0,0,0,0,0,0,0,0,0,0,0,0,0,0,0,0,0,0,0,0,0,0.00016885217079484112,0,0,0,0,0,0,0,0,0,0,0,0,0,0,0,0,0.00012359282604570846,0,0.0001061853857575805 ,\\n', '0,0,0,0,0,0,0,0,0,0,0,0,0,0,0,0,0,0,0,0,0,0,0,0,0,0,0,0,0,0,0,0,0,0,0,0,0,0,0,0,0,0,0,0,0,0,0,0,0,0,0,0,0,0,0,0.00012359282604570846,0,0,0,0,0,0,0,0,0,0,0,0,0,0,0,0,0,0,0,0,0,0,0,0,0,0,0,0,0,0,0,0,0,0,0,0,0,0,0,0,0,0,0,0,0.00011314836187283169,0,0,0,0,0,0,0,0,0,0,0,0,0,0,0,0,0,0,0,0,0,0,0,0,0,0,0,0,0,0,0,0,0,0,0,0,0,0,0,0,0,0,0,0,0,0,0,0,0,0,0,0,0,0,0,0,0,0,0,0,0,0,0,0,0,0,0,0,0,0,0,0,0,0,0,0,0,0,0,0,0,0,0,0,0,0,0,0,0,0,0,0,0,0,0,0,0,0,0,0,0,0,0,0,0,0,0,0,0,0,0,0,0,0,0,0,0,0,0,0,0,0,0.00019148184316940747,0,0,0,0,0,0,0,0,0,0,0,0,0,0,0,0,0,0,0,0,0,0,0,0,0 ,\\n', '0,0,0,0,0,0,0,0,0,0,0,0,0,0,0,0,0,0,0,0,0,0,0,0,0,0,0,0,0,0,0,0,0,0,0,0,0,0,0,0,0,0,0,0,0,0,0,0,0,0,0,0,0.00011488910590164449,0,0,0,0,0,0,0,0.00019844481928465866,0,0,0.0001079261297863933,0,0,0,0,0,0,0,0,0,0,0,0,0,0,0,0,0,0,0,0,0,0,0,0,0,0,0,0,0,0,0,0,0.00010096315367114212,0,0,0,0,0,0,0,0,0,0,0,0,0,0,0,0,0,0.0001427410103626492,0,0,0,0,0,0,0,0,0,0,0,0,0,0,0,0,0,0,0,0,0,0,0,0,0,0,0,0,0,0,0,0,0,0,0,0,0,0,0,0,0,0,0,0,0,0,0,0,0,0,0,0,0,0,0,0,0,0,0,0,0,0,0,0,0,0,0,0.0001079261297863933,0,0,0,0,0,0,0,0,0,0,0,0,0,0,0,0,0,0,0,0,0,0,0,0,0,0,0,0,0,0,0,0,0,0,0,0,0,0,0,0,0,0,0,0,0,0,0,0,0,0,0,0,0,0,0,0,0,0,0,0,0,0,0,0,0,0 ,\\n', '0,0,0,0,0,0,0,0,0,0,0,0,0,0,0,0,0,0,0,0,0,0,0,0,0,0,0,0,0,0.0001096668738152061,0,0,0,0,0,0,0,0,0,0,0,0,0,0,0,0,0,0,0,0,0,0,0,0,0,0,0,0,0,0,0,0,0,0,0,0,0,0,0,0,0,0,0,0,0,0,0,0,0,0,0,0,0,0,0,0,0,0,0,0,0,0,0,0,0,0,0,0,0,0,0,0,0,0,0,0,0,0,0,0,0,0,0,0,0,0,0,0,0,0,0,0,0,0,0,0,0,0,0,0,0,0,0,0,0,0,0,0,0,0,0,0,0,0,0,0,0,0,0,0,0,0,0,0,0,0,0,0,0,0,0,0,0,0,0,0,0,0,0,0,0,0,0,0,0,0,0,0,0,0,0,0,0,0,0,0,0,0,0,0,0,0,0,0,0,0,0,0,0,0,0,0,0,0,0,0,0,0,0,0,0,0,0,0,0,0,0,0,0,0,0,0,0,0,0,0,0,0,0,0,0,0,0,0,0,0,0,0,0,0,0,0,0,0,0,0,0,0,0 ,\\n', '0,0,0,0,0,0,0,0,0,0,0,0,0,0,0,0,0,0,0,0,0,0,0,0,0,0,0,0,0,0,0,0,0,0,0,0,0.00013229654618977243,0,0,0,0,0,0,0,0,0.0002158522595727866,0,0,0,0,0,0,0,0,0,0,0,0,0,0,0,0,0,0,0,0,0,0,0,0.00019496333122703306,0,0,0,0,0,0,0,0,0,0,0,0,0,0,0,0,0,0,0,0,0,0,0,0,0,0,0,0,0,0,0,0,0,0,0,0,0,0,0,0,0,0,0,0,0,0,0,0,0,0,0,0,0,0,0,0,0,0,0,0,0,0,0,0,0,0,0,0,0,0,0,0,0,0,0,0,0,0,0,0.00013229654618977243,0,0,0,0,0,0,0,0,0,0,0,0,0,0,0,0,0,0,0,0,0,0,0,0,0,0,0,0,0,0,0,0,0,0,0,0.0001375187782762108,0.00010270389769995491,0,0,0,0,0,0,0,0,0,0,0,0,0,0,0,0,0,0.00018451886705415628,0,0,0,0,0,9.400017755589094e-05,0,0,0,0,0,0,0,0,0,0,0,0,0,0,0,0,0,0,0,0,0,0,0,0,0,0,0,0,0,0,0.00010096315367114212,0,0,0,0,0,0,0 ,\\n', '0,0,0,0,0,0,0,0,0,0,0,0,0,0,0,0,0,0,0,0,0,0,0,0,0,0,0,0,0,0,0,0,0,0,0,0,0,0,0,0,0,0,0,0,0,0,0,0,0,0,0,0,0,0,0,0,0,0,0,0,0,0,0,0,0,0,0,0,0,0,0,0,0,0,0,0,0,0,0,0,0,0,0,0,0,0,0,0,0,0,0,0,0,0,0,0,0,0,0,0,0,0,0,0,0,0,0,0,0,0,0,0,0,0,0,0,0,0,0,0,0,0,0,0,0,0,0,0,0,0,0,0,0,0,0,0,0,0,0,0,0,0,0,0,0,0,0,0,0,0,0,0,0,0,0,0,0,0,0,0,0,0,0,0,0,0,0,0,0,0,0,0,0,0,0,0,0,0,0,0,0,0,0,0,0,0,0,0,0,0,0,0,0,0,0,0,0,0,8.877794546945256e-05,0,0,0,0,0,0,0,0,0,0,0,0,0,0,0,0,0,0,0,0,0,0,0,0,0,0,0,0,0,0,0,0,0,0,0,0,0,0,0,0,0,0,0,0,0,0,0,0,0,0 ,\\n', '0,0,0.00015318547453552596,0,0,0,0,0,0,0,0,0,0,0,0,0,0,0,0,0,0,0,0,0,0,0,0,0,0,0,0,0,0,0,0,0,0,0,0,0,0,0,0,0,0,0,0,0,0,0,0,0,0,0,0,0,0,0,0,0,0,0,0,0,0,0,0,0,0,0,0,0,0,0,0,0,0,0,0,0,0,0,0,0,0,0,0,0,0,0,0,0,0,0,0,0,0,0,0,0,0,0,0,0,0,0,0,0,0,0,0,0,0,0,0,0,0,0,0,0,0,0,0,0,0,0,0,0,0,0,0,0,0,0,0,0,0,0,0,0,0,0,0,0,0,0,0,0,0,0,0,0,0,0,0,0,0,0,0,0,0,0,0,0,0,0,0,0,0,0,0,0,0,0,0,0,0,0,0,0,0,0,0,0,0,0,0,0,0,0,0,0,0,0,0,0,0,0,0,0,0,0,0,0,0,0,0,0,0,0,0,0,0,0,0,0,0,0,0,0,0,0,0,0,0,0,0,0,0,0,0,0,0,0,0,0,0,0,0,0,0,0,0,0,0,0,0,0,0 ,\\n', '0.00011140761784401889,0,0,0,0,0,0,0,0,0,0,0,0,0,0,0,0,0,0,0,0,0,0,0,0,0,0,0,0,0,0,0,0,0,0,0,0,0,0,0,0,0,0,0,0,0,0,0,0,0,0,0,0,0,0,0,0,0,0,0,0,0,0,0,0,0,0,0,0,0,0,0,0,0,0,0,0,0,0,0,0,0,0,0,0,0,0,0,0,0,0,0,0,0,0,0,0,0,0,0,0,0,0,0,0,0,0,0,0,0,0,0,0,0,0,0,0,0,0,0,0,0,0,0,0,0,0,0,0,0,0,0,0,0,0,0,0,0,0,0,0,0,0,0,0,0,0,0,0,0,0,0,0,0,0,0,0,0,0,0,0,0,0,0,0,9.225943352707814e-05,0,0,0,0,0,0,0,0,0,0,0,0,0,0,0,0,0,0,0,0,0,0,0,0,0,0,0,0,0,0,0,0,0,0,0,0,0,0,0,0,0,0,0,0,0,0,0,0,0,0,0,0,0,0,0,0,0,0,0,0,0,0,0,0,0,0,0,0,0,0,0,0,0,0,0,0,0,0,0,0,0,0,0 ,\\n', '0,0,0,0,0,0,0,0,0,0,0,0,0,0,0,0.00016537068273721553,0,0,0,0,0,0,0,0,0,0,0,0,0,0,0,0,0,0,0,0,0,0,0,0,0,0,0,0,0,0,0,0,0,0,0,0,0,0.000144481754391462,0,0,0,0,0,0,0,0,0,0,0,0,0,0,0,0,0,0,0,0,0,0,0,0,0,0,0,0,0,0,0,0,0,0,0,0,0,0,0,0,0,0,0,0,0,0,0,0,0,0,0,0,0,0,0,0,0,0,0,0,0,0,0,0,0,0,0,0,0,0,0,0.0001061853857575805,0,0,0,0,0,0,0,0,0,0,0,0,0,0,0,0,0,0,0,0,0,0,0,0,0,0,0,0,0,0,0,0,0,0,0,0,0,0,0,0,0,0,0,0,0,0,0,0,0,0,0,0,0,0,0,0,0,0,0,0,0,0,0,0,0,0,0,0,0,0,0,0,0,0,0,0,0,0,0,0,0,0,0.0001410002663338364,0,0,0,0,0,0,0,0,0,0,0,0,0,0,0,0,0,0,0,0,0,0,0,0,0,0,0,0,0,0,0,0,0,0,0,0,0,0,0,0 ,\\n', '0,0,0,0,0,0,8.877794546945256e-05,0,0,0,0,0,0,0,0,0,0,0,0,0,0,0,0,0,0,0,0,0,0,0,0,0,0,0.0001497039864779004,0,0,0,0,0,0,0,0,0,0,0.0002088892834575354,0,0,0,0,0,0,0,0,0,0.00018800035511178187,0,0,0,0,0,0,0,0,0,0,0,0,0,0,0,0,0,0,0,0,0,0,0,0,0.00022977821180328897,0,0,0,0,0,0,0,0,0,0,0,0,0,0,0,0,0.00022803746777447616,0,0,0,0,0,0,0,0,0,0,0,0,0,0,0,0,0,0,0,0,0,0,0,0,0,0,0,0,0,0,0,0,0,0,0,0,0,0,0,0,0,0,0,0,0,0,0,0,0,0,0,0,0,0,0,0,0,0,0,0,0,0,0,0,0,0,0,0,0,0,0,0,0,0,0,9.574092158470373e-05,0,0,0,0,0,0,0,0,0,0,0,0,0,0,0.0001792966349677179,0,0,0,0,0,0,0,0,0,0,0,0,0,0,0,0,0,0,0,0,0,0,0,0,0,0,0,0,0,0,0,0,0,0.0001462224984202748,0,0,0,0,0,0,0,0,0,0,0,0,0,0,0,0,0,0,0,0,0,0,0.00016537068273721553,0,0,0,0 ,\\n', '0,0,0,0,0,0,0,0,0,0,0,0,0,0,0,0.00010096315367114212,0,0,0,0,0,0,0,0,0,0,0,0,0,0,0,0,0,0,0,0,0,0,0,0,0,0,0,0,0,0,0,0,0,0,0,0,0,0,0,0,0,0,0,0,0,0,0,0,0,0,0,0,0,0,0,0,0,0,0,0,0,0,0,0,0,0,0,0,0,0,0,0,0,0,0,0,0,0,0,0,0,0,0,0,0,0,0,0,0,0,0,0,0,0,0,0,0,0,0,0,0,0,0,0,0,0,0,0,0,9.400017755589094e-05,0,0,0,0,0,0,0,0,0,0,0,0,0,0,0,0,0,0,0,0,0,0,0,0,0,0,0,0,0,0,0,0,0,0,0,0,0,0,0,0,0,0,0,0,0,0,0,0,0,0,0,0,0,0,0,0,0,0,0,0,0,0,0,0,0,0,0,0,0,0,0,0,0,0,0,0,0,0,0,0,0,0,0,0,0,0,0,0,0,0,0,0,0,0,0,0,0,0,0,0,0,0,0,0,0,0,0,0,0,0,0,0,0,0,0,0,0,0,0,0,0,0,0 ,\\n', '0,0,0,0,0,0,0,0,0,0,0,0,0,0,0,0,0,0,0,0,0,0,0,0,0,0,0,0,0,0,0,0,0,0,0,0,0,0,0,0,0,0,0,0,8.703720144063976e-05,0,0,0,0,0,0,0,0,0,0.00010096315367114212,0,0,0,0,0,0,0,0,0,0,0,0,0,0,0,0,0,0,0,0,0,0,0,0,0.0001044446417287677,0,0,0,0,0,0,0,0,0,0,0,0,0,0,0,0,9.922240964232933e-05,0,0,0,0,0,0,0,0,0,0,0,0,0,0,0,0,0,0,0,0,0,0,0,0,0,0,0,0,0,0,0,0,0,0,0,0,0,0,0,0,0,0,0,0,0,0,0,0,0,0,0,0,0,0,0,0,0,0,0,0,0,0,0,0,0,0,0,0,0,0,0,0,0,0,0,0,0,0,0,0,0,0,0,0,0,0,0,0,0,0,8.703720144063976e-05,0,0,0,0,0,0,0,0,0,0,0,0,0,0,0,0,0,0,0,0,0,0,0,0,0,0,0,0,0,0,0,0,0,0,0,0,0,0,0,0,0,0,0,0.0001044446417287677,0,0,0,0,0,0,0,0,0,0,0,0,0,0,0,0,0 ,\\n', '0,0,0,0,0,0,0,0,0,0,0,0,0,0,0,0,0,0,0,0,0,8.703720144063976e-05,0,0,0,0,0,0,0,0,0,0,0,0,9.400017755589094e-05,0,0,0,0,0,0,0,0,0,0,0,0,0,0,0,0,0,0,0,0,0,0,0,0,0,0,0,0,0,0,0,0,0,0,0,0,0,0,0,0,0,0,0,0,0,0,0,0,0,0,0,0,0,0,0,0,0,0,0,0,0,0,0,0,0,0,0,0,0,0,0,0,0,0,0,0,0,0,0,0,0,0,0,0,0,0,0,0,0,0,0,0,0,0,0,0,0,0,0,0,0,0,0,0,0,0,0,0,0,0,0,0,0,0,0,0,0,0,0,0,0,0,0,0,0,0,0,0,0,0,0,0,0,0,0,0,0,0,0,0,0,0,0,0,0,0,0,0,0,0,0,0,0,0,0,0,0,0,0,0,0,0,0,0,0,0,0,0,0,0,0,0,0,0,0,0,0,0,0,0,0,0,0,0,0,0,0,0,0,0,0,0,0,0,0,0,0,0,0,0,0,0,0,0,0,0,0,0,0,0,0,0,0,0 ,\\n', '0.00011662984993045727,0,0,0.0005239639526726514,0,0,0.00037600071022356375,0,0,0,0.00012359282604570846,0,0,0,0,0.0002750375565524216,0,8.877794546945256e-05,0,9.748166561351653e-05,0,0.00013577803424739802,0,0,0,0,0,0.0001375187782762108,0.0002193337476304122,0.0002524078841778553,0,0,0.00012359282604570846,0.0005135194884997745,9.922240964232933e-05,0,0,0,0.0001375187782762108,0,0,0,0,0.0002994079729558008,0.0007763718368505066,0,0,0.000212370771515161,9.400017755589094e-05,0,0,0,0,0.0002593708602931065,0.0006510382667759854,0,0,0,0,0,0,0,0,0,0,0,0,0,0,0,0.00020714853942872263,0,0.00010270389769995491,0,0,0,0,0,0,0.0006701864510929262,0,0,0,0,0,0.00010096315367114212,0,0,0,0,0,0,0.00022803746777447616,0,9.922240964232933e-05,0,0.0002088892834575354,0.0001061853857575805,0,0,0,0.00020714853942872263,0,0,0,0,0,0,0,0,0,9.400017755589094e-05,9.574092158470373e-05,0,0,0,0.00013925952230502362,0,0,0,0,0,0,0,0,0.000288963508782924,0.00031681541324392874,0.0001810373789965307,0,0,0,0,0,9.748166561351653e-05,0,0.0002750375565524216,0,0,0.00012707431410333405,0,0,0,0,0,0.0002872227647541112,0,0,0,0,0,0,0,0.0003290006214456183,0,0,0,0,0,0,0,0.00011837059395927007,9.051868949826534e-05,0,0,0,0,0,0,0,0,0,0,0.000424741543030322,0,0,0,0,0,0,0,0,0,0,0.0002489263961202297,0,0,0,0.000671927195121739,0,0.00011314836187283169,0,0,0,0,0,0,9.400017755589094e-05,0,0,0,0,0.00026981532446598323,0.00013229654618977243,0.00012359282604570846,0,0,0,0,0.0002924449968405496,0.0001061853857575805,0,0,0,0,0,0,0.0001427410103626492,0,0,0,0,0.0006684457070641134,0,0.00019322258719822025,0,0,0,0,0,0,0,0.00029418574086936236,0,0,0,0,0,0,0,0,0,0,0,0,0.0005605195772777201,0,0.00011488910590164449,0,0 ,\\n', '0,0,0,0,0,0,0,0,0,0,0,0,0,0,0,0.0001044446417287677,0,0,0.00030288946101342636,0,0,0.0004317045191455732,0,0.00011314836187283169,0,0.00022803746777447616,0,0,0,0,0,0,0,0,0.0004543341915201395,0,0,0,0,0,0,0,0,0,0,0.00013577803424739802,0,0,0,0,0,0,0,0,0,0,0,0,0,0,0,0.00016537068273721553,0,0,0.00011662984993045727,0,0,0,0,8.877794546945256e-05,0,0,0,0,0,0,0,0,0,0,0,0,0,0.000144481754391462,0,0,0,0,0,0,0,0,0,0,0,0,0.0001061853857575805,0,0,0,0,0,0,0,0,0,0.00012881505813214683,0,0,0,0,0.00041081559079981963,0,0,0,0,0,0,0,0,0,0,0,0,0,9.051868949826534e-05,0,0,0,0,0,0,0,0,0.0001497039864779004,0,0,0,0,0,0.0002175930036015994,0,0,0,0,0,0,0,0,0,0,0,0,0,0,0,9.748166561351653e-05,0,0,0,0,0.0003185561572727415,0,0,0,0,0,0,0,0,0,0,0,0,0,0,0,0,0,0,0,0,0,0,0,0,0,0,0,0,0,0,0,0,0.0003725192221659382,0,0,0,0.00012011133798808286,0,0,0,0,0,0,0,0,0,0.0001096668738152061,0,0,0,0,0,0,0,0,0,0,0,0,0,0.00012707431410333405,0,0,0,0,0,0,0.0003290006214456183,0,0.0003272598774168055,0,0,0,0,0,0,0,0,0,0,0,0,0,0,0.000536149160874341,0,0.00012881505813214683 ,\\n', '0,0,0,0,0,0,0,0,0,0,0,0,0.00011662984993045727,0,0,0,0,0,0,0,0,0,0,0,0,0,0,0,0,0,0,0,0,0,0,0,0,0,0,0,0,0,0,0,0,0,0,0,0,0,0,0,0,0,0,0,0,0,0,0,0,0,0,0,0,0,0,0,0,0,0,0,0,0,0,0,0,0,0,0,0,0,0,0,0,0,0,0,0,0,0,0,0,0,0,0,0,0,0,0,0,0,0,0,0,0,0,0,0,0,0,0,0,0,0,0,0,0,0,0,0,0,0,0,0,0,0,0,0,0,0,0,0,0,0,0,0,0,0,0,0,0,0,0,0,0,0,0,0,0,0,0,0,0,0,0,0,0,0,0,0,0,0,0,0,0,0,0,0,0,0,0,0,0,0,0,0,0,0,0,0,0,0,0,0,0,0,0.00019496333122703306,0,0,0,0,0,0,0,0,0,0,0,0,0,0,0,0,0,0,0,0,0,0,0,0,0,0,0,0,0,0,0,0,0,0,0,0,0,0,0,0,0,0,0,0,0,0,0,0,0,0,0,0,0,0,0,0,0,0,0,0,0 ,\\n', '0,0,0,0,0,0,0,0,0,0,0,0,0,0,0,0,0,0,0,0,0,0,0,0,0,0,0,0,0,0.00024022267597616573,0,0,0,0,0,0.00012011133798808286,0,0,0,0,0,0,0,0,0,0,0,0,0,0,0,0,0,0,0,0,0,0,0,0,0,0,0,0,0,0,0,0,0,0,0,0,0,0,0,0,0,0,0,0,0,0,0,0,0,0,0,0,0,0,0,0,0,0,0,0,0,0,0,0,0,0,0,0,0,0,0,0,0,0,0,0,0,0,0,0,0,0,0,0,0.0001410002663338364,0,0,0,0,0,0,0,0,0,0,0,0,0,0,0,0,0,0,0,0,0,0,0,0,0,0,0,0,0,0,0,0,0,0,0,0,0.00012533357007452124,0,0,0,0,0,0,0,0,0,0,0,0,0,0,0,0,0,0,0,0,0,0.00015492621856433877,0,0,0,0,0,0,0,0,0,0,0,0.00011662984993045727,0,0,0,0,0,0,0,0,0,0,0,0,0,0,0,0,0,0,0,0,0,0,0,0,0,0,0,0,0,0,0,0,0,0,0,0,0,0,0,0,0,0,0,0,0.00011488910590164449,0,0,0,0,0,0,0,0,0,0,0,0 ,\\n', '0,0,0,0,0,0,0,0,0,0,0,0,0,0,0,0,0,0,0,0,0,0,0,0,0,0,0,0,0,0,0.0001792966349677179,0,0,0,0,0,0,0,0,0,0,0,0,0,0,0,0,0,0,0,0,0,0,0,0,0.00025763011626429367,0,0,0,0,0,0,0,0,0,0,0,0,0,0,0,0,0,0,0,0,0,0,0,0,0,0,0,0,0.00011314836187283169,0,0,0,0,0,0,0,0,0,0,0,0,0,0,0,0,0,0,0,0,0,0,0,0,0,0,0,0,0,0,0,0.00012707431410333405,0,0,0,0,0,0,0,0,0,0,0,0,0,0,0,0,0,0,0,0,0,0,0,0,0,0,0,0,0,0,0,0,0,0,0,0,0,0,0,0,0,0,0,0,0,0,0,0,0,0,0,0,0,0,0,0,0,0,0,0,0,0,0,0,0,0,0,0,0,0,0,0,0,0,0,0,0,0,0,0,0,0,0,0,0,0,0,0,0,0,0,0,0,0,0,0,0,0,0,0,0,0,0,0,0,0,0.0003603340139642486,0,0,0,0,0,0,0,0,0,0,0,0,0,0,0,0,0,0,0,0,0,0,0,0,0 ,\\n', '0,0,0,0,0,0,0,0,0,0,0,0,0,0,0,0,0,0,0,0,0,0,0,0,0,0,0,0,0,0,0,0,0,0,0,0,0,0,0,0,0,0,0,0.00012881505813214683,8.703720144063976e-05,0,0,0,0,0,0,0,0,0,0,0,0,0,0,0,0,0,0,0,0,0,0,0,0,0,0.0001410002663338364,0,0,0,0,0,0,0,0,0.00012185208201689566,0,0,0,0,0,0,0,0,0,0,0,0,0,0,0,0,0.00020714853942872263,0,0,0,0,0,0,0,0,0,0,0,0,0,0,0,0,0,0,0,0,0,0,0,0,0,0,0,0,0,0.00019670407525584585,0,0,0,0,0,0,0,0,8.703720144063976e-05,0,0,0,0,0,0,0,0,0,0,0,0,0,0,0,0,0,0,0,0,0,0,0,0,0,0,0,0,0,0,0,0,0,0,0,0,9.400017755589094e-05,0,0,0,0,0,0,0,0,0,0,0,0,0,0,9.400017755589094e-05,0,0,0,0,0,0,0,0,0,0,0,0,0,0,0,0,0,0,0,0,0,0,0,0,0,0,0,0,0,0,0,0,0,0.00013229654618977243,0,0,0,0,0,0,0,0,0,0,0,0,0,0,0,0,0,0,0,0,0,0,9.225943352707814e-05,0,0,0,0 ,\\n', '0,0,0,0,0,0,0,0,0,0,0,0,0,0,0,0.0002454449080626041,0,0,0,0,0,0,0,0,0,0,0,0,0,0,0,0,0,0,0,0,0,0,0,0,0,0,0,0,0,0,0,0,0,0,0,0,0,0.0002454449080626041,0,0,0,0,0,0,0,0,0,0,0,0,0,0,0,0,0,0,0,0,0,0,0,0,0,0,0,0,0,0,0,0,0,0,0,0,0,0,0,0,0,0,0,0,0,0,0,0,0,0,0,0,0,0,0,0,0,0,0,0,0,0,0,0,0,0,0,0,0,0,0,0.0002489263961202297,0,0,0,0,0,0,0,0,0,0,0,0,0,0,0,0,0,0,0,0,0,0,0,0,0,0,0,0,0,0,0,0,0,0,0,0,0,0,0,0,0,0,0,0,0,0,0,0,0,0,0,0,0,0,0,0,0,0,0,0,0,0,0,0,0,0,0,0,0,0,0,0,0,0,0,0,0,0,0,0,0,0,0.00031159318115749036,0,0,0,0,0,0,0,0,0,0,0,0,0,0,0,0,0,0,0,0,0,0,0,0,0,0,0,0,0,0,0,0,0,0,0.00011140761784401889,0,0,0,0,0 ,\\n', '0,0,0,0,0,0.00015144473050671318,0,0,0,0,0,0,0,0,0,0.00016188919467958996,0,0,0,0,0,0,0,0,0,0,0,0,0,0,0,0,0,0,0,0,0,0,0,0,0,0,0.00019844481928465866,0,0,0,0,0,0,0,0,0,0,0.00011837059395927007,0,0,0,0,0,0,0,0,0,0,0,0,0,0,0,0,0,0,0,0,0,0,0,0,0,0,0.00019670407525584585,0,0,0,0,0,0,0,0,0,0,0,0,0,0,0,0,0,0,0,0,0,0,0,0,0,0,0,0,0,0,0,0,0,0,0,0,0,0,0,0,0,0,0,0,0.0001497039864779004,0,0,0,0,0,0,0,0,0,0,0,0,0.00013577803424739802,0,0,0,0,0,0,0,0,0,0,0,0,0,0,0,0,0,0,0,0,0,0,0,0,0,0,0,0,0,0.00020714853942872263,0,0,0,0,0,0,0,0,0,0,0,0,0,0,0,0,0,0,0,0,0,0,0,0,0,0,0,0,0,0,0,0,0,0,0,0,0,0,0,0.00016537068273721553,0,0,0,0,0,0,0,0,0,0,0,0,0,0,0,0,0,0.00011314836187283169,0,0,0,0,0,0,0,0,0,0,0,0,0,0,0,0,0,0,0,0,0,0 ,\\n', '0,0,0,0,0,0,0,0,0,0,0,0,0.0002767783005812344,0,0,0,0,0,0,0,0,0,0,0,0,0,0,0,0,0,0,0,0,0,0,0,0,0,0,0,0,0,0,0,0,0,0,0,0,0,0,0,0,0,0,0,0,0,0,0,0,0,0,0,0,0,0,0,0.0002854820207252984,0,0,0,0,0,0,0,0,0,0,0,0,0,0,0,0,0,0,0,0,0,0,0,0,0,0,0,0,0,0,0,0,0,0,0,0,0,0,0,0,0,0,0,0,0,0,0,0,0,0,0,0,0,0,0,0.00019148184316940747,0,0,0,0,0,0,0,0,0,0,0,0,0,0,0,0,9.922240964232933e-05,0,0,0,0,0,0,0.00027329681252360885,0,0,0,0,0,0,0,0,0,0,0,0,0,0.0002680745804371705,0,0,0,0,0,0,0,0,0,0,0,0,0,0.0001479632424490876,0,0,0,0,0,0,0,0,0,0,0.0003638155020218742,0,0,0,0,0.0001462224984202748,0,0,0,0,0,0,0,0,0,0,0,0,0,0,0,0,0,0,0,0,0,0,0,0,0,0,0,0,0,0,0,0,0,0,0,0,0,0,0,0,0,0,0.0002680745804371705,0,0,0,0,0,0,0,0,0,0,0,0,0 ,\\n', '0,0,0,0,0,0,0,0,0,0,0,0,0,0,0,0,0,0,0,0,0,0,0,0,0,0,0,0,0,0.0006197048742573551,0,0,0,0,0,0.00019844481928465866,0,0,0,0,0,0,0,0,0,0,0,0,0,0,0,0,0,0,0,0,0,0,0,0,0,0,0,0,0,0,0,0,0,0,0,0,0,0,0,0,0,0,0,0,0,0,0,0,0,0,0,0,0,0,0,0,0,0,0,0,0,0,0,0,0,0,0,0,0,0,0,0,0,0,0,0,0,0,0,0,0,0,0,0,0.0004978527922404594,0,0,0,0,0,0,0,0,0,0,0,0,0,0,0,0,0,0,0,0,0,0,0,0,0,0,0,0,0,0,0,0,0,0,0,0,0.0001827781230253435,0,0,0,0,0,0,0,0,0,0,0,0,0,0,0,0,0,0.00012359282604570846,0,0,0,0.00012707431410333405,0,0,0,0,0,0,0,0,0,0,0.00011488910590164449,0.00012533357007452124,0,0,0,0,0,0,0,0,0,0,0,0,0,0,0,0,0,0,0,0,0,0,0,0,0,0,0,0,0,0,0,0,0,0,0,0,0,0,0,0,0,0,0,0,0.0003237783893591799,0,0,0,0,0,0,0,0,0,0,0,0 ,\\n', '0,0,0,0,0,0,0,0,0,0,0,0,0,0,0,0,0,0,0.00012011133798808286,0,0,0.00012185208201689566,0,0,0,8.877794546945256e-05,0,0,0,0,0,0,0,0,0.00012881505813214683,0,0,0,0,0,0,0,0,0,0,0,0,0,0,0,0,0,0,0,0,0,0,0,0,0,0,0,0,0,0,0,0,0,0,0,0,0,0,0,0,0,0,0,0,0,0,0,0,0,0,0,0,0,0,0,0,0,0,0,0,0,0,0.00012881505813214683,0,0,0,0,0,0,0,0,0,0,0,0,0,0.0001079261297863933,0,0,0,0,0,0,0,0,0,0,0,0,0,0,0,0,0,0,0,0,0,0,0,0,0,0,0,0,0,0,0,0,0,0,0,0,0,0,0,0,0,0,0,0,0,0,0,0,0,0.00011488910590164449,0,0,0,0,0,0,0,0,0,0,0,0,0,0,0,0,0,0,0,0,0,0,0,0,0,0,0,0,0,0,0,0,0.00013403729021858524,0,0,0,0.00022455597971685057,0,0,0,0,0,0,0,0,0,0,0,0,0,0,0,0,0,0,0,0,0,0,0,0,0,0,0,0,0,0,0,0,0.00012011133798808286,0,0,0,0,0,0,0,0,0,0,0,0,0,0,0.00016711142676602834,0,0 ,\\n', '0,0,0,0,0,0,0,0,0,0,0,0,0,0,0,0,0,0,0,0,0,0,0,0,0,0,0,0,0,0,0,0,0,0,0,0,0,0,0,0,0,0,0,0,0,0,0,0,0,0,0,0,0,0,0,0,0.00011140761784401889,0,0,0,0,0,0,0,0,0,0,0,0,0,0,0,0,0,0,0,0,0,0,0,0,0,0,0,0,0,0,0,0,0,0,0,0,0,0,0,0,0,0,0,0,0,0,0,0,0,0,0,0,0,0,0,0,0,0,0,0,0,0,0,0,0,0,0,0,0,0,0,0,0,0,0,0,0,0,0,0,0,0,0,0,0,0,0,0,0,0,0,0,0,0,0,0,0,0,0,0,0,0,0,0,0,0,0,0,0,0,0,0,0,0,0,0,0,0,0,0,0,0,0,0,0,0,0,0,0,0,0,0,0,0,0,0,0,0,0,0,0,0,0,0,0,0,0,0,0,0,0,0,0,0,0,0,0,0,0,0,0,0,0,0.00016362993870840275,0,0,0,0,0,0,0,0,0,0,0,0,0,0,0,0,0,0,0,0,0,0,0,0,0,0,0,0 ,\\n', '0,0,0,0,0,0,0,0,0,0,0,0,0,0,0.00012707431410333405,0,0.00012881505813214683,0,0,0,0,0,0,0,0,0,0,0,0,0,0,0,0,0,0,0,0,0,0,0,0,0,0,0,0,0,0,0,0,0,0,0,0,0,0,0,0,0,0,0,0,0,0,0,0,0,0,0,0,0,0,0,0,0,0,0,0,0,0,0,0,0,0,0,0,0,0,0,0,0,0,0,0,0,0,0,0,0,0,0,0,0,0,0,0,0,0,0,0,0,0,0,0,0,0,0,0,0,0,0,0,0,0,0,0,0,0,0,0,0,0.00015318547453552596,0.0001061853857575805,0,0,0,0,0,0,0,0,0,0,0,0,0,0,0,0,0,0,0,0,0,0,0,0,0,0,0,0,0,0,0,0,0,0,0,0,0,0,0,0,0,0,0,0,0,0,0,0,0,0,0,0,0,0,0,0,0,0,0,0,0,0,0,0,0,0,0,0,0,0,0,0,0,0,0,0,0,0,0,0,0,0,0,0,0,0,0,0,0,0,0,0,0,0,0,0,0,0,0,0,0,0,0,0,0,0,0,0,0,0,0,0,0,0,0,0,0 ,\\n', '0,0,0,0,0,0,0,0,0,0,0,0,0,0,0,0,0,0,0,0,0,9.574092158470373e-05,0,0,0,0,0,0,0,0,0,0,0,0,9.400017755589094e-05,0,0,0,0,0,0,0,0,0,0,0,0,0,0,0,0,0,0,0,0,0,0,0,0,0,0,0,0,0,0,0,0,0,0,0,0,0,0,0,0,0,0,0,0,0,0,0,0,0,0,0,0,0,0,0,0,0,0,0,0,0,0,0,0,0,0,0,0,0,0,0,0,0,0,0,0,0,0,0,0,0,0,0,0,0,0,0,0,0,0,0,0,0,0,0,0,0,0,0,0,0,0,0,0,0,0,0,0,0,0,0,0,0,0,0,0,0,0,0,0,0,0,0,0,0,0,0,0,0,0,0,0,0,0,0,0,0,0,0,0,0,0,0,0,0,0,0,0,0,0,0,0,0,0,0,0,0,0,0,0,0,0,0,0,0,0,0,0,0,0,0,0,0,0,0,0,0,0,0,0,0,0,0,0,0,0,0,0,0,0,0,0,0,0,0,0,0,0,0,0,0,0,0,0,0,0,0,0,0,0,0,0,0,0 ,\\n', '0,0,0,0,0,0,0,0,0,0,0,0,0,0,0,0,0,0,0,0,0,0,0,0,0,0,0,0,0,0,0,0,0.00026981532446598323,0,0,0,0,0,0,0,0,0,0,0,0,0,0,0,0,0,0,0,0,0,0,0,0,0,0,0,0,0,0,0,0,0,0,0,0,0,0,0,0,0,0,0,0,0,0,0,0,0,0,0,0,0,0,0,0,0,0,0,0,0,0,0,0,0,0,0,0,0,0,0,0,0,0,0,0,0,0,0,0,0,0,0,0,0,0,0,0,0,0,0,0,0,0,0,0,0,0,0,0,0,0,0,0,0,0,0,0,0,0,0,0,0,0,0,0,0,0,0,0,0,0,0,0,0,0,0,0,0,0,0,0,0,0,0,0,0,0,0,0,0,0,0,0,0,0,0,0,0,0,0,0,0,0,0,0,0,0,0,0,0,0,0,0,0,0,0,0,0,0,0,0,0,0,0.00020018556331347144,0,0,0,0,0,0,0,0,0,0,0,0,0,0,0,0,0,0,0,0,0,0,0,0,0,0,0,0,0,0,0,0,0,0,0,0,0,0,0,0,0 ,\\n', '0,0,0,0,0,0,0,0,0,0,0,0,0,0,0,0,0,0,0.00013055580216095964,0,0,0.0005761862735370352,0,0,0,0.000356852525906623,0,0,0,0,0,0,0,0,0.0005988159459116016,0,0,0,0,0,0,0,0,0,0,0,0,0,0,0,0,0,0,0,0,0,0,0,0,0,0,0.00013403729021858524,0,0,0,0,0,0,0,0,0,0,0,0,9.574092158470373e-05,0,0,0,0,0,0,0,0,0.00017233365885246672,0,0,0,0,0,0,0,0,0,0,0,0,9.400017755589094e-05,0.00041081559079981963,0,0,0,0,0,0,0,0,0.0001079261297863933,0,0,0,0,0,0,0,0,0,0,0,0,0,0,0,0,0,0,0,0,0,0,0,0,0,0,0,0.00013577803424739802,0,0,0,0,0,0.0003429265736761206,0,0,0,0,0,0,0,0,0,0,0,0,0,0,0,0.00012533357007452124,0,0,0,0,0.00017755589093890512,0,0,0,0,0,0,0,0,0,0,0,0,0,0,0,0,0,0,0,0,0,0,0,0,0,0,0,0,0,0,0,0,0.00016537068273721553,0,0,0,0.00015840770662196437,0,0,0,0,0,0,0,0,0,9.225943352707814e-05,0,0,0,0,0,0,0,0,0,0,0,0,0,0.0001810373789965307,0,0,0,0,0,0,0.0005274454407302769,0,0.0001479632424490876,0,0,0,0,0,0,0,0,0,0,0,0,0,0,0.000356852525906623,0,0.00016188919467958996 ,\\n', '0,0,0,0,0,0,0,0,0,0,0,0,0,0,0,0,0,0,0,0,0,0,0,0,0,0,0,0,0,0,0,0,0,0,0,0,0,0,0,0,0,0,0,0,0,0,0,0,0,0,0,0,0,0,0,0,0,0,0,0,0,0,0,0,0,0,0,0,0,0,0,0,0,0,0,0,0,0,0,0,0,0,0,0,0,0,0,0,0,0,0,0,0,0,0,0,9.574092158470373e-05,0,0,0,0,0,0,0,0,0,0,0,0,0,0,0,0,0,0,0,0,0,0,0,0,0,0,0,0,0,0.0001079261297863933,0,0,0,0,0,0,0,0,0,0,0,0,0,0,0,0,0,0,0,0,0,0,0,0,0,0,0,0,0,0,0,0,0,0,0,0,0,0,0,0,0,0,0,0,0,0,0,0,0,0,0,0,0,0,0,0,0,0,0,0,0,0,0,0,0,0,0,0,0,0,0,0,0,0,0,0,0,0,0,0,0,0,0,0,0,0,0,0,0,0,0,0,0,0,0,0,0,0,0,0,0,0,0,0,0,0,0,0,0,0,0,0,0,0,0,0,0,0,0,0,0,0 ,\\n', '0,0,0,0,0,0,0,0,0,0,0,0,0,0,0,0,0,0,0,0,0,0,0,0,0,0,0,0,0,0,0,0,0,0,0,0,0,0,0,0,0,0,0,0,0,0,0,0,0,0,0,0,0,0,0,0,0,0,0,0,0,0,0,0,0,0,0,0,0,0,0,0,0,0,0,0,0,0,0.00011837059395927007,0,0,0,0,0,0,0,0,0,0,0,0,0,0,0,0,0,0,0,0,0,0,0,0,0,0,0,0,0,0,0,0,0,0,0,0,0,0,0,0,0,0,0,0,0,0,0,0,0,0,0,0,0,0,0,0,0,0,0,0,0,0,0,0,0,0,0,0,0,0,0,0,0,0,0,0,0,0,0,0,0,0,0,0,0,0,0,0,0,0,0,0,0,0,0,0,0,0,0,0,0,0,0,0,0,0,0,0,0,0,0,0,0,0,0,0,0,0,0,0,0,0,0,0,0,0,0,0,0,0,0,0,0,0,0,0,0,0,0,0,0,0,0,0,0,0,0,0,0,0,0,0,0,0,0,0,0,0,0,0,0,0,0,0,0,0,0,0,0,0 ,\\n', '0,0,0,0,0,0,0,0,0,0,0,0,0,0,0,0,0,0,0,0,0,0,0,0,0,0,0,0,0,0,0,0,0,0,0,0,0,0,0,0,0,0,0,0,0,0,0,0,0,0,0,0,0.0001427410103626492,0,0,0,0,0,0,0,0.00011314836187283169,0,0,0.00012881505813214683,0,0,0,0,0,0,0,0,0,0,0,0,0,0,0,0,0,0,0,0,0,0.0001427410103626492,0,0,0,0,0,0,0,0,0,0,0,0,0,0,0,0,0,0,0,0,0,0,0,0,0,0,0,0,0,0,0,0,0,0,0,0,0,0,0,0,0,0,0,0,0,0,0,0,0,0,0,0,0,0,0,0,0,0,0,0,0,0,0,0,0,0,0,0,0,0,0,0,0,0,0,0,0,0,0,0,0,0,0,0,0,0,0,0,0,0,0,0,0,0,0,0,0.00013577803424739802,0,0,0,0,0,0,0,0,0,0,0,0,0,0,0,0,0,0,0,0,0,0,0,0,0,0,0,0,0,0,0,0,0,0,0,0,0,0,0,0,0,0,0,0,0,0,0,0,0,0,0,0,0,0,0,0,0,0,0,0,0,0,0,0,0,0 ,\\n', '0,0,0,0,0,0,0,0,0,0,0,0,0,0,0,0,0,0,0,0,0,0,0,0,0,0,0,0,0,0,0,0,0,0,0,0,0,0,0,0,0,0,0,0,0,0.00017059291482365393,0,0,0,0,0,0,0,0,0,0,0,0,0,0,0,0,0,0,0,0,0,0,0,0.00017233365885246672,0,0,0,0,0,0.00011314836187283169,0,0,0,0,0,0,0,0,0,0,0,0,0,0,0,0,0,0,0,0,0,0,0,0,0,0,0,0,0,0,0,0,0,0,0,0,0,0,0,0,0,0,0,0,0,0,0,0,0,0,0,0,0,0,0,0,0,0,0,0,0,0,0,0,0,0,0,0,0,0,0,0,0,0,0,0,0,0,0,0,0.00016362993870840275,0,0,0,0,0,0,0,0,0,0,0,0,0,0,0,0,0,0,0,0,0,0,0,0,0,0,0,0,0,0,0,0,0,0,0,0,0,0,0,0,0,0,0,0,0,0,0,0,0,0,0,0,0,0,0,0,0,0,0,0,0,0,0,0,0,0,0,0,0,0,0,0,0,0,0,0,0,0,0,0,0,0,0,0,0.0001427410103626492,0,0,0,0,0,0,0 ,\\n', '0,0,0,0,0,0,0,0,0,0,0,0,0,0,0,0,0,0,0,0,0,0,0,0,0,0,0,0,0,0,0,0,0,0,0,0,0,0,0,0,0,0,0,0,0.00010096315367114212,0,0,0,0,0,0,0,0,0,0,0.00021411151554397381,0,0,0,0,0,0,0,0,0,0,0,0,0,0,0,0,0,0,0,0,0,0,0,0,0,0,0,0,0,0,0,0,0,0,0,0,0,0,0,0,0.00013925952230502362,0,0,0,0.00012707431410333405,0,0,0,0,0,0,0,0,0,0,0,0,0,0,0,0,0,0,0,0,0,0,0,0,0,0,0,0,0,0,0,0,0,0,0,0.0001044446417287677,0,0,0,0,0,0,0,0,0,0,0,0,0,0,0,0,0,0,0,0,0,0,0,0,0,0,0,0,0,0,0,0,0,0,0,0,0,0,0,0,0,0,0,0,0,0,0,0,0,0,0,0,0,0,0,0,0,0,0,0,0,0,0,0,0,0,0,0,0,0,0,0,0,0,0,0,0,0,0,0,0,0,0,0,8.877794546945256e-05,0,0.00030114871698461355,0,0,0,0,0.00011314836187283169,0,0,0,0,0,0,0,0,0,0,0,0,0,0,0,8.703720144063976e-05,0,0,0,0 ,\\n', '0,0,0,0,0.00011837059395927007,0,0,0,0,0,0,0,0,0,0,0,0,0,0,0,0,0,0,0,0,0,0,0,0,0,0,0,0,0,0,0,0,0,0,0,0,0,0,0,0,0,0,0,0,0,0,0,0,0,0,0,0,0,0,0,0,0,0,0,0,0,0,0,0,0,0,0,0,0,0,0,0,0,0,0,0,0,0,0,0,0,0,0,0,0,0,0,0,0,0,0,0,0,0,0,0,0,0,0,0,0,0,0,0,0,0,0,0,0,0,0,0,0,0,0,0,0,0,0,0,0,0,0,0,0,0,0,0,0,0,0,0,0,0,0,0.00019844481928465866,0,0,0,0,0,0,0,0,0,0,0,0,0,0,0,0,0,0.00012011133798808286,0,0,0,0,0,0,0,0,0,0,0,0,0,0,0,0,0,0,0,0,0,0,0,0,0,0,0,0,0,0,0,0,0,0,0,0,0,0,0,0,0,0,0,0,0,0,0,0,0,0,0,0,0,0,0,0.0002088892834575354,0,0,0,0,0,0,0,0,0,0,0,0,0,0,0.00020540779539990982,0,0,0,0,0,0,0,0,0,0,0,0,0,0,0,0,0,0,0 ,\\n', '0,0,0,0,0,0,0,0,0,0,0,0,0,0,0,0,0,0,0,0,0,0,0,0,0,0,0,0,0,0,0,0,0,0,0,0,0,0,0,0,0,0,0,0,0,0,0,0,0,0,0,0,0,0,0,0,0,0,0,0,0,0,0,0,0,0,0,0,0,0,0,0,0,0.00010270389769995491,0,0,0,0,0,0,0,0,0,0,0,0,0,0,0,0,0,0,0,0,0,0,0,0,0,0,0,0,0,0,0,0,0,0,0,0,0,0,0,0,0,0,0,0,0,0,0,0,0,0,0,0,0,0,0,0,0,0,0,0,0,0,0,0,0,0,0,0,0,0,0,0,0,0,0,0,0,0,0,0,0,0,0,0,0,0,0,0,0,0,0,0,0,0,0,0,0,0,0,0,0,0,0,0,0,0,0,0,0,0,0,0,0,0,0,0,0,0,0,0,0,0,0,0,0,0,0,0,0,0,0,0,0,0,0,0,0,0,0,0,0,0,0,0,0,0,0,0,0,0,0,0,0,0,0,0,0,0,0,0,0,0,0,9.748166561351653e-05,0,0,0,0,0,0,9.051868949826534e-05,0,0,0,0 ,\\n', '0.00030985243712867755,0,0,0,0,0,0,0,0,0,0,0,0,0,0,0,0,0,0,0,0,0,0,0,0,0,0,0,0,0,0,0,0,0,0,0,0,0,0,0,0,0,0,0,0,0,0,0,0,0,0,0,0,0,0,0,0,0,0,0,0,0,0,0,0,0,0,0,0,0,0,0,0,0,0,0,0,0,0,0,0,0,0,0,0,0,0,0,0,0,0,0,0,0,0,0,0,0,0,0,0,0,0,0,0,0,0,0,0,0,0,0,0,0,0,0,0,0,0,0,0,0,0,0,0,0,0,0,0,0,0,0,0,0,0,0,0,0,0,0,0,0,0,0,0,0,0,0,0,0,0,0,0,0,0,0,0,0,0,0,0,0,0,0,0,0.00017407440288127953,0,0,0,0,0,0,0,0,0,0,0,0,0,0,0,0,0,0,0,0,0,0,0,0,0,0,0,0,0,0,0,0,0,0,0,0,0,0,0,0,0,0,0,0,0,0,0,0,0,0,0,0,0,0,0,0,0,0,0,0,0,0,0,0,0,0,0,0,0,0,0,0,0,0,0,0,0,0,0,0,0,0,0 ,\\n', '0,0,0,0,0,0,0,0,0,0,0,0,0,0,0,0,0,0,0,0,9.225943352707814e-05,0,0,0,0,0,0,0,0,0.0009156313591555303,0,0,8.703720144063976e-05,0,0,0.00030985243712867755,0,0,0,0,0,0,0,0,0,0,0.00010096315367114212,0,0,0,0,0,0,0,0,0,0,0,0,0,0,0,0,0,0,0,0,0.00012011133798808286,0,0,0,0,0,0,0,0,0,0,0,0,0,0,0,0,0,0,0,0,0,0,0,0,0,0,0,0,0,0,0,0.0001410002663338364,0,0,0,0,0,0.0004978527922404594,0,0,0,0,0,0,0,0,0,0,0,0,0,0,0,0,0,0,0,0,0,0,0,0,0,0,0,0,0,0,0,0,0,0.00012359282604570846,0,0,0,0,0,0,0,0,0,0,0,0.00012359282604570846,0,0,0,0,0,0.0003620747579930614,0,0,0,0,0,0,0,0,0,0,0,0,0,0,0,0,0,0.00013055580216095964,0,0,0,0.0002506671401490425,0,0,0,0,0,0,0,0,0,0,0.0001479632424490876,0.0001827781230253435,0,0,0,0,0,0,0,0,0,0,0,0,0,0,0,0,0,0,0,0,0,0,0,0,0,0,0,0,0,0,0,0,0,0,0,0,0,0,0,0,0,0,0,0,0.0004090748467710069,0,0,0,0,0,0,0,0,0,0,0,0 ,\\n', '0,0,0,0,0,0,0,0,0,0,0,0,0,0,0,0,0,0,0,0,0,0.00016014845065077715,0,0,0,0,0,0,0,0,0,0,0,0,9.574092158470373e-05,0,0,0,0,0,0,0.00011662984993045727,0,0,0,0,0,0,0,0,0,0,0,0,0,0,0,0,0,0,0,9.225943352707814e-05,0.00012707431410333405,0,0,0,0,0,0,0,0,0.00012533357007452124,0,0,0,0,0,0,0,0,0,0,0,0,0,0,0,0,0,0,0,0,0,0,0,0,0,0,0,0,0,0,0,0,0,0,0,0,0,0,0,0,0,0,0,0,0,0,0,0,0,0,0,0,0,0,0,0,0,0,0,0,0.00013055580216095964,0,0,0,0,0,0,0,0,0,0.0001096668738152061,0,0,0,0,0,0,0,0,0,0,0.00012881505813214683,0,0,0,0,0,0,0,0,0,0,0,0,0,0,0,0,0,0,0,0,0,0,0,0,0,0,0,0,0,0,0,0,0,0,0,0,0,0,0,0,0,0,0,0,0,0,0,0,0,0,0,0,0,0,0,0,0,0,0,0,0,0,0,0,0,0,0,0,9.574092158470373e-05,0,0,0,0,0,0,0,0,0,0,0,0,0,0,0,0,0,0,0,0,0,0,0,8.877794546945256e-05,0,0.00016188919467958996 ,\\n', '0,0,0,0,0,0,0,0,0,0,0,0,0,0,0,0,0,0,0,0,0,0,0,0,0,0,0,0,0,9.400017755589094e-05,0,0,0,0,0,0,0,0,0,0,0,0,0,0,0,0,0,0,0,0,0,0,0,0,0,0,0,0,0,0,0,0,0,0,0,0,0,0,0,0,0,0,0,0,0,0,0,0,0,0,0,0,0,0,0,0,0,0,0,0,0,0,0,0,0,0,0,0,0,0,0,0,0,0,0,0,0,0,0,0,0,0,0,0,0,0,0,0,0,0,0,0,0,0,0,0,0,0,0,0,0,0,0,0,0,0,0,0,0,0,0,0,0,0,0,0,0,0,0,0,0,0,0,0,0,0,0,0,0,0,0,0,0,0,0,0,0,0,0,0,0,0,0,0,0,0,0,0,0,0,0,0,0,0,0,0,0,0,0,0,0,0,0,0,0,0,0,0,0,0,0,0,0,0,0,0,0,0,0,0,0,0,0,0,0,0,0,0,0,0,0,0,0,0,0,0,0,0,0,0,0,0,0,0,0,0,0,0,0,0,0,0,0,0,0,0,0,0,0 ,\\n', '0,0,0,0,0,0,0,0,0,0,0,0,0,0,0,8.877794546945256e-05,0,0,0,0,0,0,0,0,0,0,0,0,0,0,0,0,0,0,0,0,0,0,0,0,0,0,0,0,0,0,0,0,0.00012185208201689566,0,0,0,0,0,0,0,0,0,0,0,0,0,0,0,0,0,0,0,0,0,0,0,0,0,0,0,0,0,0,0,0,0,0,0,0,0,0,0,0,0,0,0,0,0,0,0,0,0,0,0,0,0,0,0,0,0,0,0,0,0,0,0,0,0,0,0,0,0,0,0,0,0,0,0,0,9.225943352707814e-05,0,0,0,0,0,0,0,0,0,0,0,0,0,0,0,0,0,0,0,0,0,0,0,0,0,0,0,0,0,0,0,0,0,0,0,0,0,0,0,0,0,0,0,0,0,0,0,0,0,0,0,0,0,0,0,0,0,0,0,0,0,0,0,0,0,0,0,0,0,0,0,0,0,0,0,0,0,0,0,0,0,0,9.225943352707814e-05,0,0,0,0,0,0,0,0,0,0,0,0,0,0,0,0,0,0,0,0,0,0,0,0,0,0,0,0,0,0,0,0,0,0,0,0,0,0,0,0 ,\\n', '0,0,0,0,0,0,0,0,0,0,0,0,0.00022977821180328897,0,0,0,0,0,0,0,0,0,0,0,0,0,0,0,0,0,0,0,0,0,0,0,0,0,0,0,0,0,0,0,0,0,0,0,0,0,0,0,0,0,0,0,0,0,0,0,0,0,0,0,0,0,0,0,0.00017233365885246672,0,0,0,0,0,0,0,0,0,0,0,0,0,0,0,0,0,0,0,0,0,0,0,0,0,0,0,0,0,0,0,0,0,0,0,0.00019148184316940747,0,0,0,0,0,0,0,0,0,0,0,0,0,0,0,0,0,0,0,0,0,0,0,0,0,0,0,0,0,0,0,0,0,0,0,0,0,0,0,0,0,0,0,0.00017059291482365393,0,0,0,0,0,0,0,0,0,0,0,0,0,0.00016537068273721553,0,0,0,0,0,0,0,0,0,0,0,0,0,0.00012881505813214683,0,0,0,0,0,0,0,0,0,0,0.00031681541324392874,0,0,0,0,9.225943352707814e-05,0,0,0,0,0,0,0,0,0,0,0,0,0,0,0,0,0,0,0,0,0,0,0,0,0,0,0,0,0,0,0,0,0,0,0,0,0,0,0,0,0,0,0.00016537068273721553,0,0,0,0,0,0,0,0,0,0,0,0,0 ,\\n', '0,0,0,0,0,0,8.703720144063976e-05,0,0,0,0,0,0,0,0,0.001241150492543523,0,0,0,0,0,9.225943352707814e-05,0,0,0,0,0,0,0,0.00021063002748634822,0,0,9.051868949826534e-05,0.00012533357007452124,8.877794546945256e-05,0,0,0,0,0,0,0,8.877794546945256e-05,0.000212370771515161,0.00022281523568803779,0,0,0,0.00011140761784401889,0,0,0,0,0.0012202615641977695,0.00015492621856433877,0,0,0,0,0,0,0,0,0,0,0,0,0,0,0,0,0,0,0,0,0,0,0,0,0.00015666696259315156,0,0,0,0,0,0,0,0,0,0,0,0.0001061853857575805,0,9.400017755589094e-05,0,0,0.000288963508782924,9.051868949826534e-05,0,0,0,0,0.0002489263961202297,0.0001497039864779004,0,0,0,0,0,0,0,0,0,0,0,0,0,0,0,0,0,0,0,9.225943352707814e-05,0,0,0,0,0,0,0,0,0,0,0,0.0001497039864779004,0,0,0.0001827781230253435,0,0,0,0,0,0,0,0,0,0,0,0,0,0,0,0,0,0,0,0,0,0,0,0,0,0,0,0,0,8.703720144063976e-05,0,0,0,0,0,0,0,0,0,0,0,0,0,0,0,0,0,0,0.00022455597971685057,0,0.00020018556331347144,0,0,0,0,0,0,0,0,0,0,0,0,0,0,0,0,0,0,0.001232446772399459,0,0,0,0,0,0,0,0,0,0,0,0,0.00016537068273721553,0,0.00015492621856433877,0,0,0,0,0,0,0,0.0001044446417287677,0,0,0,0,0,0,0,0,0,0,0,0.0003968896385693173,0.00013925952230502362,0,0.00010096315367114212,0,0 ,\\n', '0,0,0,0,0,0,0.0001096668738152061,0,0,0,0,0,0,0,0,0,0,0,8.703720144063976e-05,0,0,0,0,0,0,0,0,0,0,0,0,0,0,0.00017407440288127953,0,0,0,0,0,0,0,0,0,0.00012011133798808286,0.0001375187782762108,0,0,0,0,0,0,0,0,0,0.00015318547453552596,0,0,0,0,0,0,0,0,0,0,0,0,0,0,0,0.00011314836187283169,0,0,0,0,0,0,0,0,0.0002088892834575354,0,0,0,0,0,0,0,0,0,0,0,0,0,0,0,0,0.00031681541324392874,0,0,0,0,0.00019670407525584585,0,0,0,0,0,0,0,0,0,0,0.0001079261297863933,0,0,0,0,0,0,0,0,0,0,0,0,0,0,9.400017755589094e-05,0,0,0,0,0,0,0,0,0,0,0.0001410002663338364,0,0,0,0,0,0.00016014845065077715,0,0,0,0,0,0,0,0,0,0,0,0,0,0,0,0,0,0,0,0,0,0,0,0,0,0,0,0.00013229654618977243,0,0,0,0,0,0,0,0,0,0,0.00024196342000497854,0,0,0,0.00019844481928465866,0,0,0,0,0,0,0,0,0,0,0,0,0,0,0,0,0,0,0,0,0,0,0,0,0,0,0,0,9.574092158470373e-05,0,0,0,0,0.00019322258719822025,0,0,0,0,0,0,0,0,0,0,0,0,0,0,0,0,0,0,0,0,0,0,0.000144481754391462,0,0,0,0 ,\\n', '0,0,0,0,0,0,9.400017755589094e-05,0,0,0,0,0,0,0,0,0,0,0,0,0,0,0,0,0,0,0,0,0,0,0,0,0,0,0,0,0,0,0,0,0,0,0,0,0.0001079261297863933,0,0,0,0,0,0,0,0,0,0,0,0,0,0,0,0,0,0,0,0,0,0,0,0,0,0,0,0,0,0,0,0,0,0,0,0.00013229654618977243,0,0,0,0,0,0,0,0,0,0,0,0,0,0,0,0,0.0001810373789965307,0,0,0,0,0,0,0,0,0,0,0,0,0,0,0,0,0,0,0,0,0,0,0,0,0,0,0,0,0,9.400017755589094e-05,0,0,0,0,0,0,0,0,0,0,0,0,0,0,0,0,0,0,0,0,0,0,0,0,0,0,0,0,0,0,0,0,0,0,0,0,0,0,0,0,0,0,0,0,0,0,0,0,0,0,0,0,0,0,0,0,0,0,0,0,0,0,0,0,0,0,0,0,0,0,0,0,0,0,0,0,0,0,0,0,0,0,0,0,0,0,0,0,0,9.400017755589094e-05,0,0,0,0,0,0,0,0,0,0,0,0,0,0,0,0,0,0,0,0,0,0,0,0,0,0,0,0,0,0,0,0 ,\\n', '0,0,0,0,0,0,0,0,0,0,0,0,0,0,0,0,0,0,0,0,0,0,0,0,0,0,0,0,0,0,0,0,0,0,0,0,0,0.0001375187782762108,0,0,0,0,0,0,0,0,0,0,0,0,0,0,0,0,0,0,0,0,0,0,0,0,0,0,0,0,0,0,0,0,0,0,0,0,0,0,0,0,0,0,0,0,0,0,0,0,0,0,0,0,0,0,0,0,0,0,0,0,0,0,0,0,0,0,0,0,0,0,0,0,0,0,0,0,0,0,0,0,0,0,0,0,0,0,0,0,0,0,0,0.00012185208201689566,0,0,0,0,0,0,0,0,0,0,0,0,0,0,0,0,0,0,0,0,0,0,0,0,0,0,0,0,0,0,0,0,0,0,0,0,0,0,0,0,0,0,0,0,0,0,0,0,0,0,0,0,0,0,0,0,0,0,0,0,0,0,0,0,0,0,0,0,0,0,0,0,0,0,0,0,0,0,0,0,0,0,0,0,0,0,0,0,0,0,0,0,0,0,0,0,0,0,0,0,0,0,0,0,0,0,0,0,0,0,0,0,0,0,0,0,0,0,0 ,\\n', '0,0,0,0,0,0,0,0,0,0,0,0,0,0,0,0,0,0,0,0,0,0,0,0,0,0,0,0,0,0,0,0,0,0,0,0,0,0.0002767783005812344,0,0,0,0,0,0,0,0,0,0,0,0,0,0,0,0,0,0,0,0,0,0,0,0,0,0,0,0,0,0,0,0,0,0,0,0,0,0,0,0,0,0,0,0,0,0,0,0,0,0,0,0,0,0,0,0,0,0,0,0,0,0,0,0,0,0,0,0,0,0,0,0,0,0,0,0,0,0,0,0,0,0,0,0,0,0,0,0,0,0,0.00012185208201689566,0,0,0,0,0,0,0,0,0,0,0,0,0,0,0,0,0,0,0,0,0,0,0,0,0,0,0,0,0,0,0,0,0,0,0,0,0,0,0,0,0,0,0,0,0,0,0,0,0,0,0,0,0,0,0,0,0,0,0,0,0,0,0,0,0,0,0,0,0,0,0,0,0,0,0,0,0,0,0,0,0,0,0,0,0,0,0,0,0,0,0,0,0,0,0,0,0,0,0,0,0,0,0,0,0,0,0,0,0,0,0,0,0,0,0,0,0,0,0,0 ,\\n', '0,0,0,0,0,0,0,0,0,0,0,0,0,0,0.0001479632424490876,0,0.00017755589093890512,0,0,0,0,0,0,0,0,0,0,0,0,0,0,0,0,0,0,0,0,0,0,0,0,0,0,0,0,0,0,0,0,0,0,0,0,0,0,0,0,0,0,0,0,0,0,0,0,0,0,0,0,0,0,0,0,0,0,0,0,0,0,0,0,0,0,0,0,0,0,0,0,0,0,0,0,0,0,0,0,0,0,0,0,0,0,0,0,0,0,0,0.00015318547453552596,0,0,0,0,0,0,0,0,0,0,0,0,0,0,0,0,0,0,0,0,0,0,0.0001462224984202748,0,0,0,0,0,0,0,0,0,0,0,0,0,0,0,0,0,0,0,0,0,0,0,0,0,0,0,0,0,0,0,0,0,0,0,0,0,0,0,0,0,0,0,0,0,0,0,0,0,0,0,0,0,0,0,0,0,0,0,0,0,0,0,0,0,0,0,0,0,0,0,0,0,0,0,0,0,0,0,0,0,0,0,0,0,0,0,0,0,0,0,0,0,0,0,0,0,0,0,0,0,0,0,0,0,0,0,0,0,0,0,0,0,0,0,0,0 ,\\n', '0,0,0,0,0,0,0,0,0,0,0,0,0,0,0.0001096668738152061,0,0.00013055580216095964,0,0,0,0,0,0,0,0,0,0,0,0,0,0,0,0,0,0,0,0,0,0,0,0,0,0,0,0,0,0,0,0,0,0,0,0,0,0,0,0,0,0,0,0,0,0,0,0,0,0,0,0,0,0,0,0,0,0,0,0,0,0,0,0,0,0,0,0,0,0,0,0,0,0,0,0,0,0,0,0,0,0,0,0,0,0,0,0,0,0,0,0.0001061853857575805,0,0,0,0,0,0,0,0,0,0,0,0,0,0,0,0,0,0,0,0,0,0.0001462224984202748,0,0,0,0,0,0,0,0,0,0,0,0,0,0,0,0,0,0,0,0,0,0,0,0,0,0,0,0,0,0,0,0,0,0,0,0,0,0,0,0,0,0,0,0,0,0,0,0,0,0,0,0,0,0,0,0,0,0,0,0,0,0,0,0,0,0,0,0,0,0,0,0,0,0,0,0,0,0,0,0,0,0,0,0,0,0,0,0,0,0,0,0,0,0,0,0,0,0,0,0,0,0,0,0,0,0,0,0,0,0,0,0,0,0,0,0,0,0 ,\\n', '0,0,0,0,0,0,0,0,0,0,0,0,0,0,0,0,0,0,0,0,0,0,0,0,0,0,0,0,0,0,0,0,0,0,0,0,0,0,0,0,0,0.00011488910590164449,0,0,0,0,0,0,0,0,0,0,0,0,0,0,0,0,0,0,0,0,0.00012533357007452124,0,0,0,0,0,0,0,0,0.00012011133798808286,0,0,0,0,0,0,0,0,0,0,0,0,0,0,0,0,0,0,0,0,0,0,0,0,0,0,0,0,0,0,0,0,0,0,0,0,0,0,0,0,0,0,0,0,0,0,0,0,0,0.00013055580216095964,0,0,0,0,0,0,0,0,0,0,0,0,0,0,0,0,0,0,0,0,0.0001061853857575805,0,0,0,0,0,0,0,0,0,0,0.00011662984993045727,0,0,0,0,0,0,0,0,0,0,0,0,0,0,0,0,0,0,0,0,0,0,0,0,0,0,0,0,0,0,0,0,0,0,0,0,0,0,0,0,0,0,0,0,0,0,0,0,0,0,0,0,0,0,0,0,0,0,0,0,0,0,0,0,0,0,0,0,0,0,0,0,0,0,0,0,0,0,0,0,0,0,0,0,0,0,0,0,0,0,0,0,0,0,0.00011488910590164449 ,\\n', '0,0,0,0,0,0,0.0001862596110829691,0,0,0,0,0,0,0,0,0,0,0.0001462224984202748,0,0,0,0,0,0,0,0,0,0,0,0,0,0,0,0.00015144473050671318,0,0,0,0,0,0,0,0,0,0,0.00015144473050671318,0,0,0,0,0,0,0,0,0,0.00012011133798808286,0,0,0,0,0,0,0,0,0,0,0,0,0,0,0,0,0,0,0,0,0,0,0,0,9.748166561351653e-05,0,0,0,0,0,0,0,0,0,0,0,0,0,0,0,0,9.748166561351653e-05,0,0,0,0,0,0,0,0,0,0,0,0,0,0,0,0,0,0,0,0,0,0,0,0,0,0,0,0,0,0,0,0,0,0,0,0,0,0,0,0,0,0,0,0,0,0,0,0,0,0,0,0,0,0,0,0,0,0,0,0,0,0,0,0,0,0,0,0,0,0,0,0,0,0,0,0,0,0,0,0,0,0,0,0,0,0,0,0,0,0,0,0,0,0,0,0,0,0,0,0,0,0,0,0,0,0,0,0,0,0,0,0,0,0,0,0,0,0,0,0,0,0,0,0,0.00012011133798808286,0,0,0,0,0,0,0,0,0,0,0,0,0,0,0,0,0,0,0,0,0,0,0.0001827781230253435,0,0,0,0 ,\\n', '0,0,0,0,0,0,0,0,0,0,0,0,0,0,0,0,0,0,0,0,0,0.00013925952230502362,0,0,0,0.00012185208201689566,0,0,0,0,0,0,0,0,0.0001462224984202748,0,0,0,0,0,0,0,0,0,0,9.574092158470373e-05,0,0,0,0,0,0,0,0,0,0,0,0,0,0,0,0,0,0,0,0,0,0,0,0,0,0,0,0,0,0,0,0,0,0,0,0,0,0,0,0,0,0,0,0,0,0,0,0,0,0,0,0.0001497039864779004,0,0,0,0,0,0,0,0,0,0,0,0,0,0.00013577803424739802,0,0,0,0,0,0,0,0,0,0,0,0,0,0,0,0,0,0,0,0,0,0,0,0,0,0,0,0,0,0,0,0,0,0,0,0,0,0,0,0,0,0,0,0,0,0,0,0,0,0,0,0,0,0,0,0,0,0,0,0,0,0,0,0,0,0,0,0,0,0,0,0,0,0,0,0,0,0,0,0,0,0,0,0,0,0,0,0,0,0,0,0,0,0,0,0,0,0,0,0,0,0,0,0,0,0,0,0,0,0,0,0,0,0,0,0,0,9.400017755589094e-05,0,8.877794546945256e-05,0,0,0,0,0,0,0,0,0,0,0,0,0,0,0.00012533357007452124,0,0 ,\\n', '0.00016014845065077715,0,0,0,0,0,0,0,0,0.0001427410103626492,0.00011140761784401889,0,0,0,0,0.00016014845065077715,0,0,0,0,0,0,0,0,0,0,0,0,0,0,0,0,0,9.225943352707814e-05,0,0,0,0,0,0,0,0,0,0.00010270389769995491,0.00012359282604570846,0,0,0,8.877794546945256e-05,0.00011662984993045727,0,0,0.00011140761784401889,0.00017755589093890512,0.00010270389769995491,0,0,0,0,0,0,0,0,0,0,0,0,0,0,0,0,0,0,0,0,0,0,0,0,9.922240964232933e-05,0,0,0,0,0,0,0,0,0,0,0,0,0,0,0,0,0.0002750375565524216,0,0,0,0,8.703720144063976e-05,0,0,0,0,0,0,0,0,0,0,0,0,0,0,0,0,0,0,0,0,0,0,0,0.0001497039864779004,0,0,0,0,0,0,0,0,0,0,0,0,0,0,0,0,0,0,0,0.00010096315367114212,0,0,0,0,0,0,0,0,0,0,0,0,0,0,0,0,0,0,0,0,0,0,0,0,0,0,0,0,0,0,0,0,0,0,0,0,0,0,0,0,0,0.0001079261297863933,0,0.00010270389769995491,0,0,0,0,0,0,0,0,0,0,0,0,0,0,0,0,0,0,0.00017755589093890512,0,0,0,0,0,0,0,0,0,0,0,0,0.00012185208201689566,0,0.0001827781230253435,0,0,0,0,0,0,0.000144481754391462,0,0,0,0,0,0,0,0.00018800035511178187,0,0,0,0,0,0,0,0,0,0 ,\\n', '0,0,0,0,0,0,0,0,0,0,0,0,0,0,0,0,0,0,0,0,0,0,0,0,0,0,0,0,0,0,0,0,0,0,0,0,0,0,0,0,0,0,0,0,0,0,0,0,0,0,0,0,0,0,0,0,0,0,0,0,0,0,0,0,0,0,0,0,0,0,0,0,0,0,0,0,0,0,0,0,0,0,0,0,0,0,0,0,0,0,0,0,0,0,0,0,0,0,0,0,0,0,0,0,0,0,0,0,0,0,0,0,0,0,0,0,0.0001044446417287677,0,0,0,0,0,0,0,0,0,0,0,0,0,0,0,0,0,0,0,0,0,0,0,0,0,0,0,0,0,0,0,0,0,0,0,0,0,0,0,0,0,0,0,0,0,0,0,0,0,0,0,0,0,0,0,0,0,0,0,0,0,0,0,0,0,0,0,0,0,0,0,0,0,0,0,0,0,0,0,0,0,0,0,0,0,0,0,0,0,0,0,0,0,0,0,0,0,0,0,0,0,0,0,0,0,0,9.051868949826534e-05,0,0,0,0,0,0,0,0,0,0,0,0,0,0,0,0,0,0,0,0,0,0,0,0,0 ,\\n', '0,0,0,0,0,0,0,0,0,0,0,0,0,0,0,0,0,0,0,0,0,0,0,0,0,0,0,0,0,0,0,0,0,0,0,0,0,0,0,0,0,0,0,0,0,0,0,0,0,0,0,0,0,0,0,0,0,0,0,0,0,0,0,0,0,0,9.922240964232933e-05,0,0,0,0,0,0,0,0,0,0,0,0,0,0,0,0,0,0,0,0,0,0,0,0,0,0,0,0,0,0,0,0,0,0,0,0,0,0,0,0,0,0,0,0,0,0,0,0,0,0,0,0,0,0,0,0,0,0,0,0,0,0,0,0,0,0,0,0,0,0,0,0,0,0,0,0,0,0,0,0,0,0,0,0,0,0,0,0,0,0,0,0,0,0,0,0,0,0,0,0,0,0,0,0,0,0,0,0,0,0,0.0001044446417287677,0,0,0,0,0,0,0,0,0,0,0,0,0,0,0,0,0,0,0,0,0,0.00015144473050671318,0,0,0,0,0,0,0,0,0,0,0,0,0,0,0,0,0,0,0,0,0,0,0,0,0,0,0,0,0,0,0,0,0,0,0,0,0,0,0,0,0,0,0,0,0,0,0,0,0 ,\\n', '0,0,0,0,0,0.00011837059395927007,0,0,0,0,0,0,0,0,0,0.00020714853942872263,0,0,0,0,0,0,0,0,0,0,0,0,0,0,0,0,0,0.0001096668738152061,0,0,0,0,0,0,0,0,0.0001427410103626492,0,0,0,0,0,0,0,0,0,0,0.00016711142676602834,9.574092158470373e-05,0,0,0,0,0,0,0,0,0,0,0,0,0,0,0,0,0,0,0,0,0,0,0,0,0.00015144473050671318,0.00013925952230502362,0,0,0,0,0,0,0,0,0,0,0,0,0,0,0,0.00012707431410333405,0,0,0,0,0,0,0.00013577803424739802,0,0,0,0,0,0,0,0,0,0,0,0,0,0,0,0,0,0,0,0,0,0.0001827781230253435,0.0001410002663338364,0,0,0,0,0,0,0,0,0,0,0,0,0,0,0,0,0,0.00019496333122703306,0,0,0,0,0,0,0,0,0,0,0,0,0,0,0,0,0,0,0,0,0,0,0,0.0001410002663338364,0,0,0,0,0,0,0,0,0,0,0,0,0,0,0.00012707431410333405,0,0,0,0,0,0,0,0,0,0,0,0,0,0,0,0,0,0,0,0,0,0,0,0,0.00021063002748634822,0,0,0,0,0,0,0,0,0,0,0,0,0,0,0,0,0,0.00012533357007452124,0,0,0,0,0,0,0,0,0,0,0,0,0,0,0,0,0,0,0,0,0,0 ,\\n', '0,0,0,0,0,0,0,0,0,0,0,0,0,0,0,0,0,0,0,0,0,0,0,0,0,0,0,0,0,0.00022281523568803779,0,0,0,0,0,0,0,0,0,0,0,0,0,0,0,0,0,0,0,0,0,0,0,0,0,0,0,0,0,0,0,0,0,0,0,0,0,0,0,0,0,0,0,0,0,0,0,0,0,0,0,0,0,0,0,0,0,0,0,0,0,0,0,0,0,0,0,0,0,0,0,0,0,0,0,0,0,0,0,0,0,0,0,0,0,0,0,0,0,0,0.00012359282604570846,0,0,0,0,0,0,0,0,0,0,0,0,0,0,0,0,0,0,0,0,0,0,0,0,0,0,0,0,0,0,0,0,0,0,0,0,0.0001427410103626492,0,0,0,0,0,0,0,0,0,0,0,0,0,0,0,0,0,0,0,0,0,0,0,0,0,0,0,0,0,0,0,0,0,0,0,0,0,0,0,0,0,0,0,0,0,0,0,0,0,0,0,0,0,0,0,0,0,0,0,0,0,0,0,0,0,0,0,0,0,0,0,0,0,0,0,0,0,0,0.00016188919467958996,0,0,0,0,0,0,0,0,0,0,0,0 ,\\n', '0,0,0,0,0.00017407440288127953,0,0,0,0,0,0,0.00011488910590164449,0,0,0,0,0,0,0,0,0,0.00029418574086936236,0,0,0,0.0001758151469100923,0,0,0,0,0,0,0,0,0.0002680745804371705,0,0,0,0,0,0,0,0,0,0,0,0,0,0,0,0,0,0,0,0,0,0,0,0,0,0,0,0,0,0,0,0,0,0,0,0,0,0,0,0,0,0,0,0,0,0,0,0,0.00012707431410333405,0,0,0,0,0,0,0,0,0,0,0,0,0,0.0002175930036015994,0,0,0,0,0,0,0,0,0,0,0,0,0,0.0003429265736761206,0,0,0,0,0,0.00019844481928465866,0,0,0,0,0,0,0,0,0,0,0,0,0,0,0,0,0,0,0,0,0,0,0,0,0,0,0,0,0,0,0,0,0,0,0,0,0,0,0.00010270389769995491,0,0.00015318547453552596,0,0,0,0,0,0,0,0,0,0,0,0,0,0,0,0,0,0,0,0,0,0,0,0,0,0,0,0,0,0,0,0,0,0,0,0,0,0,0,0,0,0,0,0,0,0,0,0,0,0,0,0,0,0,0,0.0001862596110829691,0,0,0,0,0,0,0,0,0,0,0,0,0,0,0.00048044535195233145,0,0,0,0,0,0,0,0,0,0,0,0,0,0,0,0,0.00013055580216095964,0,0 ,\\n', '0,0,0,0,0,0,0,0,0,0,0,0,0.00012707431410333405,0,0,0,0,0,0,0,0,0,0,0,0,0,0,0,0,0,0,0,0,0,0,0,0,0,0,0,0,0,0,0,0,0,0,0,0,0,0,0,0,0,0,0,0,0,0,0,0,0,0,0,0,0,0,0,0.00010270389769995491,0,0,0,0,0,0,0,0,0,0,0,0,0,0,0,0,0,0,0,0,0,0,0,0,0,0,0,0,0,0,0,0,0,0,0,9.922240964232933e-05,0,0,0,0,0,0,0,0,0,0,0,0,0,0,0,0,0,0,0,0,0,0,0,0,0,0,0,0,0,0,0,0,0,0,0,0,0,0,0,0,0,0,0,0.00011314836187283169,0,0,0,0,0,0,0,0,0,0,0,0,0,0.00011488910590164449,0,0,0,0,0,0,0,0,0,0,0,0,0,0,0,0,0,0,0,0,0,0,0,0,0.00012533357007452124,0,0,0,0,0,0,0,0,0,0,0,0,0,0,0,0,0,0,0,0,0,0,0,0,0,0,0,0,0,0,0,0,0,0,0,0,0,0,0,0,0,0,0,0,0,0,0,0.00011314836187283169,0,0,0,0,0,0,0,0,0,0,0,0,0 ,\\n', '0,0,0,0,0,0,0,0,0,0,0,0,0,0,0,0,0,0,0,0,0,0,0,0,0,0,0,0,0,0,0,0,0,0,0,0,0,0,0,0,0,8.877794546945256e-05,0,0,0,0,0,0,0,0,0,0,0,0,0,0,0,0,0,0,0,0,0.0001096668738152061,0,0,0,0,0,0,0,0,9.748166561351653e-05,0,0,0,0,0,0,0,0,0,0,0,0,0,0,0,0,0,0,0,0,0,0,0,0,0,0,0,0,0,0,0,0,0,0,0,0,0,0,0,0,0,0,0,0,0,0,0,0,0,0.0001096668738152061,0,0,0,0,0,0,0,0,0,0,0.0001061853857575805,0,0,0,0,0,0,0,0,0,0,0,0,0,0,0,0,0,0,0,0,9.574092158470373e-05,0,0,0,0,0,0,0,0,0,0,0,0,0,0,0,0,0,0,0,0,0,0,0,0,0,0,0,0,0,0,0,0,0,0,0,0,0,0,0,0,0,0,0,0,0,0,0,0,0,0,0,0,0,0,0,0,0,0,0,0,0,0,0,0,0,0,0,0,0,0,0,0,0,0,0,0,0,0,0,0,0,0,0,0,0,0,0,0,0,0,0,0,0,0,9.574092158470373e-05 ,\\n', '0,0,0,0,0,0,0,0,0,0,0,0,0,0,0,0,0,0,0,0,0,0,0,0,0,0,0,0,0,0,0,0,0,0,0,0,0,0,0,0,0,0,0,0,0,0,0,0,0,0,0,0,0,0,0,0,0,0,0,0,0,0,0,0,0,0,0.00012011133798808286,0,0,0,0,0,0,0,0,0,0,0,0,0,0,0,0,0,0,0,0,0,0,0,0,0,0,0,0,0,0,0,0,0,0,0,0,0,0,0,0,0,0,0,0,0,0,0,0,0,0,0,0,0,0,0,0,0,0,0,0,0,0,0,0,0,0,0,0,0,0,0,0,0,0,0,0,0,0,0,0,0,0,0,0,0,0,0,0.00011314836187283169,0,0,0,0,0,0,0,0,0,0,0,0,0,0,0,0,0,0,0,0,0,0,0.00012533357007452124,0,0,0,0,0,0,0,0,0,0,0,0,0,0,0,0,0,0,0,0,0,0.0001497039864779004,0,0,0,0,0,0,0,0,0,0,0,0,0,0,0,0,0,0,0.00011314836187283169,0,0,0,0,0,0,0,0,0,0,0,0,0,0,0,0,0,0,0,0,0,0,0,0,0,0,0,0,0,0 ,\\n', '0,0,0,0,0,0,0.0001079261297863933,0,0,0,0,0,0,0,0,0,0,0,0,0,0,0,0,0,0,0,0,0,0,0,0,0,0,0.00022281523568803779,0,0,0,0,0,0,0,0,0,0,0.00019148184316940747,0,0,0,0,0,0,0,0,0,0.000365556246050687,0,0,0,0,0,0,0,0,0,0,0,0,0,0,0,0,0,0,0,0,0,0,0,0,0.0002454449080626041,0,0,0,0,0,0,0,0,0,0,0,0,0,0,0,0,0.0002872227647541112,0,0,0,0,0,0,0,0,0,0,0,0,0,0,0,0,0,0,0,0,0,0,0,0,0,0,0,0,0,0.00016014845065077715,0,0,0,0,0,0,0,0,0,0,0,0.00019496333122703306,0,0,0,0,0,0,0,0,0,0,0,0,0,0,0,0,0,0,0,0,0,0,0,0,0,0,0,0,0,0,0,0,0,0.00011488910590164449,0,0,0,0,0,0,0,0,0,0,0.00016362993870840275,0,0,0,0.00017233365885246672,0,0,0,0,0,0,0,0,0,0,0,0,0,0,0,0,0,0,0,0,8.877794546945256e-05,0,0,0,0,0,0,0,0,0,0,0,0,0.0002158522595727866,0,0,0,0,0,0,0,0,0,9.922240964232933e-05,0,0,0,0,0,0,0,0,0,0,0,0,0.00026459309237954486,0,0,0,0 ,\\n', '0.000212370771515161,0,0,0,0,0,0,0,0.0001792966349677179,0,0,0,0,0,0,0,0,0,0,0,0,0,0.00013577803424739802,0,0,0,0,0,0,0,0,0,0,0,0,0,0,0,0,0,0,0,0,0,0,0,0,0,0,0,0,0,0,0,0,0,0,0,0,0,0,0,0,0,0,0,0,0,0,0,0,0,0,0,0,0,0,0,0,0,0,0,0,0,0,0,0,0,0,0,0,0,0,0,0,0,0,0,0,0,0,0,0,0,0,0,0,0,0,0,0,0,0,0,0,0,0,0,0,0,0,0,0,0,0,0,0,0,0,0,0,0,0,0,0,0.00010096315367114212,0,0,0,0,0,0,0,0,0,0,0,0,0,0,0,0,0,0,0,0,0,0,0,0,0,0,0,0,0,0,0,0,0,0,0,0,0,0,0,0,0,0,0,0,0,0,0,0,0,0,0,0,0,0,0,0,0,0,0,0,0,0,0,0,0,0,0,0,0,0,0,0,0,0,0,0,0,0,0,0,0,0,0,0,0,0,0,0.00020366705137109703,0,0,0,0,0,0,0,9.574092158470373e-05,0,0,0,0,0,0,0,0,0,0,0.0001044446417287677,0,0,0,0,0,0 ,\\n', '0,0,0,0,0,0,0,0,0,0,0,0,0,0,0,0,0,0,0,0,0,0,0,0,0,0,0,0,0,0,0,0,0,0,0,0,0,0,0,0,0,0,0,0,0,0,0,0,0,0,0,0,0,0,0,0,0,0,0,0,0,0,0,0,0,0,0,0,0,0,0,0,0,0,0,0,0,0,0,0,0,0,0,0,0,0,0,0,0,0,0,0,0,0,0,0,0,0,0,0,0,0,0,0,0,0,0,0,0,0,0,0,0,0,0,0,0,0,0,0,0,0,0,0,0,0,0,0,0,0,0,0,0,0,0,0,0,0,0,0,0,0,0,0,0,0,0,0,0,0,0,0,0,0,0,0,0,0,0,0,0,0,0,0,0,0,0,0,0,0,0,0,0,0,0,0,0,0,0,0,0,0,0,0,0,0,0,0,0.00010096315367114212,0,0,0,0,0,0,0,0,0,0,0,0,0,0,0,0,0,0,0,0,0,0,0,0,0,0,0,0,0,0,0,0,0,0,0,0,0,0,0,0,0,0,0,0,8.877794546945256e-05,0,0,0,0,0,0,0,0,0,0,0,0,0,0,0 ,\\n', '0,0,0,0,0,0,0,0,0,0,0,0,0,0,0,0,0,0,0,0,0,0,0,0,0,0,0,0,0,0,0,0,0,0,0,0,0,0,0,0,0,0,0,0,0,0,0,0,0,0,0,0,0,0,0,0,0,0,0,0,0,0,0,0,0,0,0,0,0,0,0,0,0,0,0,0,0,0,0,0,0,0,0,0,0,0,0,0,0,0,0,0,0,0,0,0,0,0,0,0,0,0,0,0,0,0,0,0,0,0,0,0,0,0,0,0,0,0,0,0,0,0,0,0,0,0,0,0,0,0,0,0,0,0,0,0,0,0,0,0,0,0,0,0,0,0,0,0,0,0,0,0,0,0,0,0,0,0,0,0,0,0,0,0,0,0,0.00010270389769995491,0,0,0,0,0,0,0,0,0,0,0,0,0,0,0,0,0,0,0,0,0,0,0,0,0,0,0,0,0,0,0,0,0,0,0,0,0,0,0,0,0,0,0,0,0.0001427410103626492,0,0,0,0,0,0,0,0,0,0,0,0,0,0,0,0,0,0,0,0,0,0,0,0,0,0,0,0,0,0,0,0,0,0.00013925952230502362,0,0,0 ,\\n', '0,0,0,0,0,0,0,0,0,0,0,0,0.00023500044388972735,0,0,0,0,0,0,0,0,0,0,0,0,0,0,0,0,0,0,0,0,0,0,0,0,0,0,0,0,0,0,0,0,0,0,0,0,0,0,0,0,0,0,0,0,0,0,0,0,0,0,0,0,0,0,0,0.00022977821180328897,0,0,0,0,0,0,0,0,0,0,0,0,0,0,0,0,0,0,0,0,0,0,0,0,0,0,0,0,0,0,0,0,0,0,0,0.00027329681252360885,0,0,0,0,0,0,0,0,0,0,0,0,0,0,0,0,0,0,0,0.00017059291482365393,0,0,0,0,0,0,0,0,0,0,0,0,0,0,0,0,0.00011314836187283169,0,0,0,0,0,0,0,0,0,0,0,0,0,0,0,0,0,0,0,0,0.00037774145425237656,0,0,0,0,0,0,0,0,0,0,0,0,0,0.00015492621856433877,0,0,0,0,0,0,0,0,0,0,0.0003255191333879927,0,0,0,0,9.400017755589094e-05,0,0,0,0,0,0,0,0,0,0,0,0,0,0,0,0,0,0,0,0,0,0,0,0,0,0,0,0,0,0,0,0,0,0,0,0,0,0,0,0,0,0,0.00038296368633881494,0,0,0,0,0,0,0,0,0,0,0,0,0 ,\\n', '0,0,0,0,0,0,0,0,0,0,0,0,0,0,0,0,0,0,0,0,0,0,0,0,0,0,0,0,0,0,0,0,0,0,0,0,0,0,0,0,0,0,0,0,0,9.400017755589094e-05,0,0,0,0,0,0,0,0,0,0,0,0,0,0,0,0,0,0,0,0,0,0,0,0.00011488910590164449,0,0,0,0,0,0,0,0,0,0,0,0,0,0,0,0,0,0.00013229654618977243,0,0,0,0,0,0,0,0,0,0,0,0,0,0,0,0,0,0,0,0,0,0,0,0,0,0,0,0,0,0,0,0,0,0,0,0,0,0,0,0,0,0,0,0,0,0,0,0,0,0,0,0,0,0,0,0,0,0,0,0,0,0,0,0,0,0,0,0,0,0,0,0,0,0,0,0,0,0,0,0,0,0,0,0,0,0,0,0,0,0,0,0,0,0,0,0,0,0,0,0,0,0,0,0,0,0,0,0,0,0,0,0,0,0,0,0,0.00012707431410333405,0,0,0,0,0,0,0,0,0,0,0,0,0,0,0,0,0,0,0,0,0,0,0,0,0,0,0,0,0,0,0,0,0,0,0,0,0,0,0,0,0,0,0,0 ,\\n', '0,0,0,0,0,0,0,0.0001462224984202748,0,0,0,0,0,0,0,0,0,0,0,0,0,0,0,0,0,0,0,0,0,0,0,0,0,0,0,0,0,0,0,0,0,0,0,0,0,0,0,0,0,0,0,0,0,0,0,0,0,0,9.922240964232933e-05,0,0,0,0,0,0,0,0,0,0,0,0,0,0,0,0,0,0,0,0,0,0,0,0,0,0,0,0,0,0,0,0,0,0,0,0,0,0,0,0,0,0,0,0,0,0,0,0,0,0,0,0,0,0,0,0,0,0,0,0,0,0,0,0,0,0,0,0,0,0,0,0,0,0,0,0,0,0,0,0,0,0,0,0,0,0,0,0,0,0,0,0,0,0,0,0,0,0,0,0,0,0,0,0,0,0,0,0,9.051868949826534e-05,0,0,0,0,0,0,0.0001462224984202748,0,0,0,0,0,0,0,0,0,0,0,0,0,0,0,0,0,0,0,0,0,0,0,0,0,0,0,0,0,0,0,0,0,0,0,0,0,0.0001462224984202748,0,0,0,0,0,0,0,0,0,0,0,0,0,0,0,0,0,0,0,0,0,0,0,0,0,0,0,0,0,0,0,0,0,0,0,0 ,\\n', '0,0,0,0,0,0,0,0,0,0,0,0,0,0,0,0,0,0,0,0,0,0,0,0,0,0,0,0,0,0.00016188919467958996,0,0,0,0,0,0,0,0,0,0,0,0,0,0,0,0,0,0,0,0,0,0,0,0,0,0,0,0,0,0,0,0,0,0,0,0,0,0,0,0,0,0,0,0,0,0,0,0,0,0,0,0,0,0,0,0,0,0,0,0,0,0,0,0,0,0,0,0,0,0,0,0,0,0,0,0,0,0,0,0,0,0,0,0,0,0,0,0,0,0,0.00012359282604570846,0,0,0,0,0,0,0,0,0,0,0,0,0,0,0,0,0,0,0,0,0,0,0,0,0,0,0,0,0,0,0,0,0,0,0,0,0,0,0,0,0,0,0,0,0,0,0,0,0,0,0,0,0,0,0,0,0,0,0,0,0,0,0,0,0,0,0,0,0,0,0.00011140761784401889,0,0,0,0,0,0,0,0,0,0,0,0,0,0,0,0,0,0,0,0,0,0,0,0,0,0,0,0,0,0,0,0,0,0,0,0,0,0,0,0,0,0,0,0,0,0,0,0,0,0,0,0,0,0,0,0,0 ,\\n', '0,0,0,0,0,0,0,0,0,0,0,0,0,0,0,0,0,0,0,0,0,0,0,0,0,0,0,0,9.748166561351653e-05,0,0,0,0,0,0,0,0,0,0.00016711142676602834,0,0,0,0,0,0,0,0,0,0,0,0,0,0,0,0,0,0,0,0,0,0,0,0,0,0,0,0,0,0,0,0,0,0,0,0,0,0,0,0,0,0,0,0,0,0,0,0,0,0,0,0,0,0,0,0,0,0.0003290006214456183,0,0,0,0,0,0,0,0,0,0,0,0,0,0,0,0,0,0,0,0,0,0,0,0,0,0,0,0,0,0,0,0,0,0,0,0,0,0,0,0,0,0,0,0,0,0,0,0,0,0,0,0,0,0,0,0,0,0,0,0,0,0,0,0,0,0,0,0,0,0,0,0,0,0,0,0,0,0,0,0,0,0,0,0,0,0,0,0,0,0,0,0,0,0,0,0,0,0,0,0,0,0,0,0,0,0,0,0,0,0,0,0,0,0,0,0,0,0,0,0,0,0,0,0,0,0,0,0,0,0,0,0,0,0,0,0,0,0,0,0,0,0,0,0,0,0,0,0,0,0,0,0 ,\\n', '0,0,0,0,0,0,0,0,0,0,0,0,0,0,0,0,0,0,0,0,0,0,0,0,0,0,0,0,0,0,0,0,0,0,0,0,0,0,0,0,0,0.0001096668738152061,0,0,0,0,0,0,0,0,0,0,0,0,0,0,0,0,0,0,0,0,0.00011488910590164449,0,0,0,0,0,0,0,0,0.00011488910590164449,0,0,0,0,0,0,0,0,0,0,0,0,0,0,0,0,0,0,0,0,0,0,0,0,0,0,0,0,0,0,0,0,0,0,0,0,0,0,0,0,0,0,0,0,0,0,0,0,0,0.00012881505813214683,0,0,0,0,0,0,0,0,0,0,0.00011662984993045727,0,0,0,0,0,0,0,0,0,9.574092158470373e-05,0,0,0,0,0,0,0,0,0,0,0,0,0,0,0,0,0,0,0,0,0,0,0,0,0,0,0,0,0,0,0,0,0,0,0,0,0,0,0,0,0,0,0,0,0,0,0,0,0,0,0,0,0,0,0,0,0,0,0,0,0,0,0,0,0,0,0,0,0,0,0,0,0,0,0,0,0,0,0,0,0,0,0,0,0,0,0,0,0,0,0,0,0,0,0,0,0,0,0,0,0,0,0,0,0,0.00012359282604570846 ,\\n', '0,0,0,0,0,0,0,0,0,0,0,0,0,0,0,0,0,0,0,0,0,0,0,0,0,0,0,0,0,0,0,0,0,0,0,0,0,0,0,0,0,0,0,0,0,0,0,0,0,0,0,0,0,0,0,0,0,0,0,0,0,0,0,0,0,0,0.00013577803424739802,0,0,0,0,0,0,0,0,0,0,0,0,0,0,0,0,0,0,0,0,0,0,0,0,0,0,0,0,0,0,0,0,0,0,0,0,0,0,0,0,0,0,0,0,0,0,0,0,0,0,0,0,0,0,0,0,0,0,0,0,0,0,0,0,0,0,0,0,0,0,0,0,0,0,0,0,0.00011314836187283169,0,0,0,0,0,0,0,0,0,0,0,0,0,0,0,0,0,0,0,0,0,0,0,0,0,0,0,0,0,0,0,0,0,0.00012881505813214683,0,0,0,0,0,0,0,0,0,0,0,0,0,0,0,0,0,0,0,0,0,0.0001462224984202748,0,0,0,0,0,0,0,0,0,0,0,0,0,0,0,0,0,0,0.00016711142676602834,0,0,0,0,0,0,0,0,0,0,0,0,0,0,0,0,0,0,0,0,0,0,0,0,0,0,0,0,0,0 ,\\n', '0,0,0,0,0,0,0,0,0,0,0,0,0,0,0,0,0,0,0,0,0,0,0,0,0,0,0,0,0,0.00017059291482365393,0,0,0,0,0,0,0,0,0,0,0,0,0,0,0,0,0,0,0,0,0,0,0,0,0,0,0,0,0,0,0,0,0,0,0,0,0,0,0,0,0,0,0,0,0,0,0,0,0,0,0,0,0,0,0,0,0,0,0,0,0,0,0,0,0,0,0,0,0,0,0,0,0,0,0,0,0,0,0,0,0,0,0,0,0,0,0,0,0,0,0,0,0,0,0,0,0,0,0,0,0,0,0,0,0,0,0,0,0,0,0,0,0,0,0,0,0,0,0,0,0,0,0,0,0,0,0,0,0,0,0,0,0,0,0,0,0,0,0,0,0,0,0,0,0,0,0,0,0,0,0,0,0,0,0,0,0,0,0,0,0,0,0,0,0,0,0,0,0,0,0,0,0,0,0,0,0,0,0,0,0,0,0,0,0,0,0,0,0,0,0,0,0,0,0,0,0,0,0,0,0,0,0,0,0,0,0.00013403729021858524,0,0,0,0,0,0,0,0,0,0,0,0 ,\\n', '0,0,0,0,0,0,0,0,0,0,0,0.0001410002663338364,0,0,0,0,0,0,0,0,0,8.703720144063976e-05,0,0,0,0,0,0,0,0,0,0,0,0,9.051868949826534e-05,0,0,0,0,0,0,0,0,0,0,0.0002611116043219193,0,0,0,0,0,0,0,0,0,0,0,0,0,0,0,0,0,0,0,0,0,0,0,0.00022803746777447616,0,0,0,0,0,0.0001497039864779004,0,0,0,0,0,0.0001079261297863933,0,0.0001044446417287677,0,0,0,0,0,0,0,0,0,0,0,0,0,9.748166561351653e-05,0,0,0,0,0,0,0,0,0,0,0,0,0,0.00012533357007452124,0,0,0,0.00016362993870840275,0,0,0,0,0,0,0,0,0,0,0,0,0,0,0,0,0,0,0,0,0,0,0,0,0.00010270389769995491,0,0,0,0,0,0,0,0,0,0,0,0,0,0,0,0,0,0,0,0,0,0,0,0,0,0,0,0,0,0,0,0,0,0,0,0,0,0,0,0,0,0,0,0,0,0,0,0,0,0,0,0,0,0,0,0,0,9.225943352707814e-05,0,0,0,0,0,0,0,0,0,0,0,0,0,0,0,0,0,0,0,0,0,0,0,0,0,0,0,0,0,0,9.922240964232933e-05,0,0,0,0,0,0,0,0,0,0,0,0.000212370771515161,0,0,0,0,0,0,0 ,\\n', '0,0,0,0,0,0,0,0,0,0,0,0,0,0.00010270389769995491,0,0,0,0,0,0,0,0,0,0,0,0,0,0,0,0.0006614827309488621,0,0,0,0,0,0.000212370771515161,0,0,0,0,0,0,0,0,0,0,0,0,0,0,0,0,0,0,0,0,0,0,0,0,0,0,0,0,0,0,0,0,0,0,0,0,0,0,0,0,0,0,0,0,0,0,0,0,0,0,0,0,0,0,0,0,0,0,0,0,0,0,0,0.00012533357007452124,0,0,0,0,0,0.0001827781230253435,0,0,0,0,0,0,0,0,0,0,0,0,0,0,0.0003620747579930614,0,0,0,0,0,0,0,0,0,0,0,0,0,0,0,0,0,0,0.0001427410103626492,0,0,0,0,0,0,0,0,0,0,0,0,0,0,0,0,0,0,0,0,0,0,0,0,0,0,0,0,0,0,0,0,0,0,0,0,0,0,0,0.00020366705137109703,0,0,0,0,0,0,0,0,0,0,0,0.0001410002663338364,0,0,0,0,0,0,0,0,0,0,0,0,0,0,0,0,0,0,0,0,0,0,0,0,0,0,0,0,0,0,0,0,0,0,0,0,0,0,0,0,0,0,0,0,0.0003272598774168055,0,0,0,0,0,0,0,0,0,0,0,0 ,\\n', '0,0,0,0,0.00010270389769995491,0,0,0,0,0,0,0,0,0,0,0,0,0,0,0,0,0,0,0,0,0,0,0,0,0,0,0,0,0,0,0,0,0,0,0,0,0,0,0,0,0,0,0,0,0,0,0,0,0,0,0,0,0,0,0,0,0,0,0,0,0,0,0,0,0,0,0,0,0,0,0,0,0,0,0,0,0,0,0,0,0,0,0,0,0,0,0,0,0,0,0,0,0,0,0,0,0,0,0,0,0,0,0,0,0,0,0,0,0,0,0,0,0.00012011133798808286,0,0,0,0,0,0,0,0,0,0,0,0,0,0,0,0,0,0,0,0,0,0,0.00015318547453552596,0,0,0,0,0,0,0,0,0,0,0,0,0,0,0,0,0,0,0,0,0,0,0,0,0,0,0,0,0,0,0,0,0,0,0,0,0,0,0,0,0,0,0,0,0,0,0,0,0,0,0,0,0,0,0,0,0,0,0,0,0,0,0,0,0,0,0,0,0,0,0,0,0,0.00011662984993045727,0,0,0,0,0,0,0,0,0,0,0,0,0,0,0.00016188919467958996,0,0,0,0,0,0,0,0,0,0,0,0,0,0,0,0,0,0,0 ,\\n', '0,0,0,0,0,0,0,0,0,0,0,0,0,0,0,0.00012011133798808286,0,0,0,0,0,0,0,0,0,0,0,0,0,0,0,0,0,0,0,0,0,0,0,0,0,0,0,0,0,0,0,0,0,0,0,0,0,0,0,0,0,0,0,0,0,0,0,0,0,0,0,0,0,0,0,0,0,0,0,0,0,0,0,0,0,0,0,0,0,0,0,0,0,0,0,0,0,0,0,0,0,0,0,0,0,0,0,0,0,0,0,0,0,0,0,0,0,0,0,0,0,0,0,0,0,0,0,0,0,0,0,0,0,0,0,0,0,0,0,0,0,0,0,0,0,0,0,0,0,0,0,0,0,0,0,0,0,0,0,0,0,0,0,0,0,0,0,0,0,0,0,0,0,0,0,0,0,0,0,0,0,0,0,0,0,0,0,0,0,0,0,0,0,0,0,0,0,0,0,0,0,0,0,0,0,0,0,0,0,0,0,0,0.0001375187782762108,0,0,0,0,0,0,0,0,0,0,0,0,0,0,0,0,0,0,0,0,0,0,0,0,0,0,0,0,0,0,0,0,0,0,0,0,0,0,0,0 ,\\n', '0,0,0,0,0,0,0,0,0,0,0,0,0,0,0,0,0,0,0,0,0,0,0,0,0,0,0,0,0,0,0,0,0,0,0,0,0,0,0,0,0,0,0,0,0,0,0,0,0,0,0,0,0,0,0,0,0,0,0,0,0,0,0,0,0,0,0,0,0,0,0,0,0,0,0,0,0,0,0,0,0,0,0,0,0,0,0,0,0,0,0,0,0,0,0,0,0.00011837059395927007,0,0,0,0,0,0,0,0,0,0,0,0,0,0,0,0,0,0,0,0,0,0,0,0,0,0,0,0,0,0,0,0,0,0,0,0,0,0,0,0,0,0,0,0,0,0,0,0,0,0,0,0,0,0,0,0,0,0,0,0,0,0,0,0,0,0,0,0,0,0,0,0,0,0,0,0,0,0,0,0,0,0,0,0,0,0,0,0,0,0,0,0,0,0,0,0,0,0,0,0,0,0,0,0,0,0,0,0,0,0,0,0,0,0,0,0,0,0,0,0,0,0,0,0,0,0,0,0,0,0,0,0,0,0,0,0,0,0,0,0,0,0,0,0,0,0,0,0,0,0,0,0 ,\\n', '0,0,0,0,0,0,0,0,0,0,0,0,0,0,0,0,0,0,0.0005831492496522864,0,0,0.00021411151554397381,0,0,0,0.00013055580216095964,0,0,0,0,0,0,0,0,0.00022107449165922497,0,0.00011314836187283169,0,0,0,0,0,0,0,0,0,0,0,0,0,0,0,0,0,0,0,0,0,0,0,0,0.00011837059395927007,0,0,0,0,0,0,0,0,0,0,0,0,0,0,0,0,0,0,0,0,0,0,0,0,0,0,0,0,0,0,0,0,0,0,9.051868949826534e-05,0.0003185561572727415,0,0,0,0,0,0,0,0,0.00011488910590164449,0,0,0,0,0.00017755589093890512,0,0,0,0,0,0,0,0,0,0,0,0,0,0,0,0,0,0,0,0,0,0,0,0,0,0,0,0,0,0,0,0,0,0,0,0,0,0,0,0,0,0,0,0,0,0,0,0,0,0,0,0,0,0,0,0,0,0,0,0,0,0,0,0,0,0,0,0,0,0,0,0,0,0,0,0,0,0,0,0,0,0,0.0004961120482116466,0,0,0,0.00012533357007452124,0,0,0,0,0,0,0,0,0,0,0,0,0,0,0,0,0,0,0,0,0,0,0,0.00015666696259315156,0,0,0,0,0,0,0.00010270389769995491,0,0.0005378899049031537,0,0,0,0,0,0,0,0,0,0,0,0,0,0,0.000510038000442149,0,0 ,\\n', '0,0,0,0,0,0,0,0,0,0,0,0,0.00023500044388972735,0,0,0,0,0,0,0,0,0,0,0,0,0,0,0,0,0,0,0,0,0,0,0,0,0,0,0,0,0,0,0,0,0,0,0,0,0,0,0,0,0,0,0,0,0,0,0,0,0,0,0,0,0,0,0,0.00023674118791854013,0,0,0,0,0,0,0,0,0,0,0,0,0,0,0,0,0,0,0,0,0,0,0,0,0,0,0,0,0,0,0,0,0,0,0,0.0002680745804371705,0,0,0,0,0,0,0,0,0,0,0,0,0,0,0,0,0,0,0,0.00016537068273721553,0,0,0,0,0,0,0,0,0,0,0,0,0,0,0,0,0.00011488910590164449,0,0,0,0,0,0,0.00037774145425237656,0,0,0,0,0,0,0,0,0,0,0,0,0,0,0,0,0,0,0,0,0,0,0,0,0,0,0,0.00016362993870840275,0,0,0,0,0,0,0,0,0,0,0.0003237783893591799,0,0,0,0,9.574092158470373e-05,0,0,0,0,0,0,0,0,0,0,0,0,0,0,0,0,0,0,0,0,0,0,0,0,0,0,0,0,0,0,0,0,0,0,0,0,0,0,0,0,0,0,0.0003951488945405045,0,0,0,0,0,0,0,0,0,0,0,0,0 ,\\n', '0,0,0,0,0,0,0,0,0,0,0,0,0,0,0,0,0,0,0,0,0,0,0,0,0,0,0,0,0,0,0,0,0,0,0,0,0,0,0,0,0,0,0,0,0,0,0,0,0,0,0,0,0,0,0,0,0,0,0,0,0,0,0,0,0,0,0,0,0,0,0,0,0,8.877794546945256e-05,0,0,0,0,0,0,0,0,0,0,0,0,0,0,0,0,0,0,0,0,0,0,0,0,0,0,0,0,0,0,0,0,0,0,0,0,0,0,0,0,0,0,0,0,0,0,0,0,0,0,0,0,0,0,0,0,0,0,0,0,0,0,0,0,0,0,0,0,0,0,0,0,0,0,0,0,0,0,0,0,0,0,0,0,0,0,0,0,0,0,0,0,0,0,0,0,0,0,0,0,0,0,0,0,0,0,0,0,0,0,0,0,0,0,0,0,0,0,0,0,0,0,0,0,0,0,0,0,0,0,0,0,0,0,0,0,0,0,0,0,0,0,0,0,0,0,0,0,0,0,0,0,0,0,0,0,0,0,0,0,0,0,0,9.400017755589094e-05,0,0,0,0,0,0,0,0,0,0,0 ,\\n', '0,0,0,0,0,0,0,0,0,0,0,0,0,0,0,0,0,0,0,0,0,0,0,0,0,0,0,0,0,0,0,0,0,0,0,0,0,0,0,0,0,0,0,0,0,0,0,0,0,0,0,0,0,0,0,0,0,0,0,0,0,0,0,0,0,0,0,0,0,0,0,0,0,0,0,0,0,0,0,0,0,0,0,0,0,0,0,0,0,0,0,0,0,0,0,0,0,0,0,0,0,0,0,0,0,0,0,0,0,0,0,0,0,0,0,0,0,0,0,0,0,0,0,0,0,0,0,0,0,0,0,0,0,0,0,0,0,0,0,0,0,0,0,0,0,0,0,0,0,0,0,0,0,0,0,0,0,0,0,0,0,0,0,0,0,0,0,0,0,0,0,0,0,0,0,0,0,0,0,0,0,0,0,9.225943352707814e-05,0,0,0,0,0,0,0,0,0,0,0,0,0,0,0,0,0,0,0,0,0,0,0,0,0,0,0,0,0,0,0,0,0,0,0,0,0,0,0,0,0,0,0,0,0,0,0,0,0,0,0,0,0,0,0,0,0,0,0,0,0,0,0,0,0 ,\\n', '0.0003620747579930614,0,0,0,0,0,0,0,0,0,0,0,0,0,0,0,0,0,0,0,0,0,0,0,0,0,0,0,0,0,0,0,0,0,0,0,0,0,0,0,0,0,0,0,0,0,0,0,0,0,0,0,0,0,0,0,0,0,0,0,0,0,0,0,0,0,0,0,0,0,0,0,0,0,0,0,0,0,0,0,0,0,0,0,0,0,0,0,0,0,9.225943352707814e-05,0,0,0,0,0,0,0,0,0,0,0,0,0,0,0,0,0,0,0,0,0,0,0,0,0,0,0,0,0.00017407440288127953,0,0,0,0,0,0,0,0,0,0,0,0,0,0,0,0,0,0,0,0,0,0,0,0,0,0,0,0,0,0,0,0,0,0,0,0,0,0,0,0,0,0,0,0,0,0,0,0,0,0,0,0,0,0,0,0,0,0,0,0,0,0,0,0,0,0,0,0,0,0,0,0,0,0,0,0,0,0,0,0,0,0,0,0,0,0,0,0,0,0,0,0,0,0,0,0,0,0,0,0,0,0,0,0,0,0,0,0,0,0,0,0,0,0,0,0,0,0,0,0,0,0,0,0,0,0,0,0,0 ,\\n', '0,0,0,0,0,0,0,0,0,0,0,0,0,0,0,0,0,0,0,0,0,0,0,0,0,0,0,0,0,0,0,0,0,0,0,0,0,0,0,0,0,0,0,0,0,0,0,0,0,0,0,0,0,0,0,0,0,0,0,0,0,0,0,0,0,0,0,0,0,0,0,0,0,0,0,0,0,0,0,0,0,0,0,0,0,0,0,0,0,0,0,0,0,0,0,0,0,0,0,0,0,0,0,0,0,0,0,0,0,0,0,0,0,0,0,0,0,0,0,0,0,0,0,0,0,0,0,0,0,0,0,0,0,0,0,0,0,0,0,0,0,0,0,0,0,0,0,0.00010270389769995491,0,0,0,0,0,0,0,0,0,0,0,0,0,0,0,0,0,0,0,0,0,0,0,0,0,0,0,0,0,0,0,0,0,0,0,0,0,0,0,0,0,0,0,0,0,0,0,0,0,0,0,0,0,0,0,0,0,0,0,0,0,0,0,9.051868949826534e-05,0,0,0,0,0,0,0,0,0,0,0,0,0,0,0,0,0,0,0,0,0,0,0,0,0,0,0,0,0,0,0,0,0,0.0002193337476304122,0,0,0 ,\\n', '0,0,0,0,0,0,0,8.703720144063976e-05,0,0,0,0,0,0,0,0,0,0,0,0,0,0,0,0,0,0,0,0,0,0,0,0,0,0,0,0,0,0,0,0,0,0,0,0,0,0,0,0,0,0,0,0,0,0,0,0,0,0,0,0,0,0,0,0,0,0,0,0,0,0,0,0,0,0,0,0,0,0,0,0,0,0,0,0,0,0,0,0,0,0,0,0,0,0,0,0,0,0,0,0,0,0,0,0,0,0,0,0,0,0,0,0,0,0,0,0,0,0,0,0,0,0,0,0,0,0,0,0,0,0,0,0,0,0,0,0,0,0,0,0,0,0,0,0,0,0,0,0,0,0,9.051868949826534e-05,0,0,0,0,0,0,0,0,0,0,0,0,0,0,0,0,0,0,0,0,0,0,0,8.703720144063976e-05,0,0,0,0,0,0,0,0,0,0,0,0,0,0,0,0,0,0,0,0,0,0,0,0,0,0,0,0,0,0,0,0,0,0,0,0,0,8.703720144063976e-05,0,0,0,0,0,0,0,0,0,0,0,0,0,0,0,0,0,0,0,0,0,0,0,0,0,0,0,0,0,0,0,0,0,0,0,0 ,\\n', '0,0,0,0,0,0.00015840770662196437,0,0,0,0,0,0,0,0,0,9.574092158470373e-05,0,0,0,0,0,0,0,0,0,0,0,0,0,0,0,0,0,0,0,0,0,0,0,0,0,0,0.000212370771515161,0,0,0,0,0,0,0,0,0,0,0,0,0,0,0,0,0,0,0,0,0,0,0,0,0,0,0,0,0,0,0,0,0,0,0,0,0,0.00021063002748634822,0,0,0,0,0,0,0,0,0,0,0,0,0,0,0,0,0,0,0,0,0,0,0.00020714853942872263,0,0,0,0,0,0,0,0,0,0,0,0,0,0,0,0,0,0,0,0,0,8.703720144063976e-05,0,0,0,0,0,0,0,0,0,0,0,0,0.0001410002663338364,0,0,0,0,0,0,0,0,0,0,0,0,0,0,0,0,0,0,0,0,0,0,0,0,0,0,0,0,0,0,0,0,0,0,0,0,0,0,0,0,0,0,0,0,0,0,0,0,0,0,0,0,0,0,0,0,0,0,0,0,0,0,0,0,0,0,0,0,0,9.922240964232933e-05,0,0,0,0,0,0,0,0,0,0,0,0,0,0,0,0,0,0.00012185208201689566,0,0,0,0,0,0,0,0,0,0,0,0,0,0,0,0,0,0,0,0,0,0 ,\\n', '0,0,0,0,0,0,0,0,0,0,0,0,0,0,0,0,0,0,0,0,0,0,0,0,0,0,0,0,0,0,0,0,0,0,0,0,0,0,0,0,0,0,0,0,0,0,0,0,0,0,0,0,0,0,0,0,0,0,0,0,0,0,0,0,0,0,0,0,0,0,0,0,0,0,0,0,0,0,0,0,0,0,0,0,0,0,0,0,0,0,0,0,0,0,0,0,0,0,0,0,0,0,0,0,0,0,0,0,0,0,0,0,0,0,0,0,0,0,0,0,0,0,0,0,0,0,0,0,0,0,0,0,0,0,0,0,0,0,0,0,0,0,0,0,0,0,0,0,0,0,0,0,0,0,0,0,0,0,0,0,0,0,0,0,0,0,0,0,0,0,0,0,0,0,0,0,0,0,0,0,0,0,0,0,0,0,0,0,0,0,0,0,0,0,9.574092158470373e-05,0,0,0,0,0,0,0,0,0,0,0,0,0,0,0,0,0,0,0,0,0,0,0,0,0,0,0,0,0,0,0,0,0,0,0,0,0,0,0,0,0,0,0,0,0,0,0,0,0,0,0,9.748166561351653e-05,0,0 ,\\n', '9.051868949826534e-05,0,0,0,0,0,0,0,0,0,0,0,0,0,0,0,0,0,0,0,0,0,0,0,0,0,0,0,0,0,0,0,0,0,0,0,0,0,0,0,0,0,0,0,0,0,0,0,0,0,0,0,0,0,0,0,0,0,0,0,0,0,0,0,0,0,0,0,0,0,0,0,0,0,0,0,0,0,0,0,0,0,0,0,0,0,0,0,0,0,0,0,0,0,0,0,0,0,0,0,0,0,0,0,0,0,0,0,0,0,0,0,0,0,0,0,0,0,0,0,0,0,0,0,0,0,0,0,0,0,0,0,0,0,0,0,0,0,0,0,0,0,0,0,0,0,0,0,0,0,0,0,0,0,0,0,0,0,0,0,0,0,0,0,0,0,0,0,0,0,0,0,0,0,0,0,0,0,0,0,0,0,0,0,0,0,0,0,0,0,0,0,0,0,0,0,0,0,0,0,0,0,0,0,0,0,0,0,0,0,0,0,0,0,0,0,0,0,0,0,0,0,0,0,0,0,0,0,0,0,0,0,0,0,0,0,0,0,0,0,0,0,0,0,0,0,0,0,0 ,\\n', '0,0,0,0,0,0,0,0,0,0,0,0,0,0,0,0,0,0,0,0,0,0,0,0,0,0,0,0.0001410002663338364,0,0,0,0,0,0,0,0,0,0,0,0,0,0,0,0,0,0,0,0,0,0,0,0,0,0,0,0,0,0,0,0,0,0,0,0,0,0,0,0,0,0,0,0,0,0,0,0,0,0,0,0,0,0,0,0,0,0,0,0,0,0,0,0,0,0,0,0,0,0,0,0,0,0,0,0,0,0,0,0,0,0,0,0,0,0,0,0,0,0,0,0,0,0,0,0,0,0,0,0,0,0,0,0,0,0,0,0,0,0,0,0,0,0,0,0,0,0,0,0,0,0,0,0,0,0,0,0,0,0,0,0,0,0,0,0,0,0,0,0,0,0,0,0,0,0,0,0,0,0,0,0,0,0,0,0,0,0,0,0,0,0,0,0,0,0,0,0,0,0,0,0,0,0.00011140761784401889,0,0,0,0,0,0,0,0,0,0,0,0,0,0,0,0,0,0,0,0,0,0,0,0,0,0,0,0,0,0,0,0,0,0,0,0,0,0,0,0,0,0,0,0,0,0,0 ,\\n', '0,0,0,0,0,0,0.00016188919467958996,0,0,0,0,0,0,0,0,0,0,0,0,0,0,0,0,0,0,0,0,0,0,0,0,0,0,0.0002088892834575354,0,0,0,0,0,0,0,0,0,0.00010270389769995491,0.0003185561572727415,0,0,0,0,0,0,0,0,0,0.00026633383640835767,0,0,0,0,0,0,0,0,0,0,0,0,0,0,0,9.225943352707814e-05,0,0,0,0,0,0,0,0,0.00031681541324392874,0,0,0,0,0,0,0,0,0,0,0,0,9.574092158470373e-05,0,0,0,0.000424741543030322,0,0,0,0,9.400017755589094e-05,0,0,0,0,0,0,0,0,0,0,0,0,0,0,0,0,0,0,0,0,0,0,0,0,0.00013229654618977243,0,0,0,0,0,0,0,0,0,0,0,0,0,0,0,0,0,0.00011488910590164449,0,0,0,0,0,0,0,0,0,0,0,0,0,0,0,0,0,0,0,0,0,0,0,0,0,0,0,0,0,0,0,0,0,0,0,0,0,0,0.00010270389769995491,0,0,0,0.00027851904461004723,0,0,0,0,0,0,0,0,0,0,0,0,0,0,0,0,0,0,0,0,0,0,0,0,0,0,0,0,0,0,0,0,0,0.00027851904461004723,0,0,0,0,0,0,0,0,0,0.00012707431410333405,0,0,0,0,0,0,0,0,0,0,0,0,0.00018451886705415628,0,0,0,0 ,\\n', '0,0,0,0,0,0,9.400017755589094e-05,0,0,0,0,0,0,0,0,0,0,0,0,0,0,0,0,0,0,0,0,0,0,0,0,0,0,0,0,0,0,0,0,0,0,0,0,0,0,0,0,0,0,0,0,0,0,0,9.748166561351653e-05,0,0,0,0,0,0,0,0,0,0,0,0,0,0,0,0,0,0,0,0,0,0,0,0,0,0,0,0,0,0,0,0,0,0,0,0,0,0,0,0,0,0,0,0,0,0,0,0,0,0,0,0,0,0,0,0,0,0,0,0,0,0,0,0,0,0,0,0,0,0,0,0,0,0,0,0,0,0,0,0,0,0,0,0,0,0,0,0,0,0,0,0,0,0,0,0,0,0,0,0,0,0,0,0,0,0,0,0,0,0,0,0,0,0,0,0,0,0,0,0,0,0,0,0,0,0,0,0,0,0,0,0,0,0,0,0,0,0,0,0,0,0,0,0,0,0,0,0,0,0,0,0,0,0,0,0,0,0,0,0,0,0,0,0,0,0,0,0,0,0,0,0,0,0,0,0,0,0,0,0,0,0,0,0,0,0,0,0,0,0,0,0,0,0 ,\\n', '0,0,0,0,0,0,0,0.000144481754391462,0,0,0,0,0,0,0,0,0,0,0,0,0,0,0,0,0,0,0,0,0,0,0,0,0,0,0,0,0,0,0,0,0,0,0,0,0,0,0,0,0,0,0,0,0,0,0,0,0,0,9.748166561351653e-05,0,0,0,0,0,0,0,0,0,0,0,0,0,0,0,0,0,0,0,0,0,0,0,0,0,0,0,0,0,0,0,0,0,0,0,0,0,0,0,0,0,0,0,0,0,0,0,0,0,0,0,0,0,0,0,0,0,0,0,0,0,0,0,0,0,0,0,0,0,0,0,0,0,0,0,0,0,0,0,0,0,0,0,0,0,0,0,0,0,0,0,0.0001462224984202748,0,0,0,0,0,0,0,0,0,0,0,0,0,0,0,0,8.703720144063976e-05,0,0,0,0,0,0,0,0,0,0,0,0,0,0,0,0,0,0,0,0,0,0,0,0,0,0,0,0,0,0,0,0,0,0,0,0,0,0,0,0,0,0,0,0,0.000144481754391462,0,0,0,0,0,0,0,0,0,0,0,0,0,0,0,0,0,0,0,0,0,0,0,0,0,0,0,0,0,0,0,0,0,0,0,0 ,\\n', '0,0,0,0,0,0,0,0,0,0,0,0,0,0,0,0,0,0,0,0,0,0,0,0,0,0,0,0,0,0.00019322258719822025,0,0,0,0,0,0,0,0,0,0,0,0,0,0,0,0,0,0,0,0,0,0,0,0,0,0,0,0,0,0,0,0,0,0,0,0,0,0,0,0,0,0,0,0,0,0,0,0,0,0,0,0,0,0,0,0,0,0,0,0,0,0,0,0,0,0,0,0,0,0,0,0,0,0,0,0.00012359282604570846,0,0,0,0,0,0,0,0,0,0,0,0,0,0,0.00013055580216095964,0,0,0,0,0,0,0,0,0,0,0,0,0,0,0,0,0,0,0,0,0,0,0,0,0,0,0,0,0,0,0,0,0,0,0,0,0,0,0,0,0,0,0,0,0,0,0,0,0,0,0,0,0,0,0,0,0,0,0,0,0,0,0,0,0,0,0,0,0,0,0,0,0,0,0,0,0,0,0,0,0,0,0,0,0,0,0,0,0,0,0,0,0,0,0,0,0,0,0,0,0,0,0,0,0,0,0,0,0,0,0,0,0,0,0,9.574092158470373e-05,0,0,0,0,0,0,0,0,0,0,0,0 ,\\n', '0,0,0,0,0,0,0,0,0,0,0,0,0.00018451886705415628,0,0,0,0,0,0,0,0,0,0,0,0,0,0,0,0,0,0,0,0,0,0,0,0,0,0,0,0,0,0,0,0,0,0,0,0,0,0,0,0,0,0,0,0,0,0,0,0,0,0,0,0,0,0,0,0.0001497039864779004,0,0,0,0,0,0,0,0,0,0,0,0,0,0,0,0,0,0,0,0,0,0,0,0,0,0,0,0,0,0,0,0,0,0,0,0.0001479632424490876,0,0,0,0,0,0,0,0,0,0,0,0,0,0,0,0,0,0,0,0.00012881505813214683,0,0,0,0,0,0,0,0,0,0,0,0,0,0,0,0,0,0,0,0,0,0,0,0.00015492621856433877,0,0,0,0,0,0,0,0,0,0,0,0,0,0.00016362993870840275,0,0,0,0,0,0,0,0,0,0,0,0,0,0,0,0,0,0,0,0,0,0,0,0,0.00019322258719822025,0,0,0,0,0,0,0,0,0,0,0,0,0,0,0,0,0,0,0,0,0,0,0,0,0,0,0,0,0,0,0,0,0,0,0,0,0,0,0,0,0,0,0,0,0,0,0,0.00016537068273721553,0,0,0,0,0,0,0,0,0,0,0,0,0 ,\\n', '0,0,0,0,0,0,0,0,0,0,0,0,0,0,0,0,0,0,0,0,0,0,0,0,0,0,0,0,0,0,0,0,0,0,0,0,0,0,0,0,0,0,0,0,0,0,0,0,0,0,0,0,0,0,0,0,0,0,0,0,0,0,0,0,0,0,0.00012881505813214683,0,0,0,0,0,0,0,0,0,0,0,0,0,0,0,0,0,0,0,0,0,0,0,0,0,0,0,0,0,0,0,0,0,0,0,0,0,0,0,0,0,0,0,0,0,0,0,0,0,0,0,0,0,0,0,0,0,0,0,0,0,0,0,0,0,0,0,0,0,0,0.0001044446417287677,0,0,0,0,0,0.00012533357007452124,0,0,0,0,0,0,0,0,0,0,0.00012881505813214683,0,0,0,0,0,0,0,0,0,0,0,0,0,0,0,0,0,0,0,0,0,0,0,0,0,0,0,0,0,0,0,0,0,0,0,0,0,0,0,0,0,0,0,0,0.0001810373789965307,0,0,0,0,0,0,0,0,0,0,0,0,0,0,0,0,0,0,0.00013055580216095964,0,0,0,0,0,0,0,0,0,0,0,0,0,0,0,0,0,0,0,0,0,0,0,0,0,0,0,0,0,0 ,\\n', '0,0,0,0,0,0,0,0,0,0,0,0,0,0,0,0,0,0,0,0,0,0,0,0,0,0,0,0,0,0,0,0,0,0,0,0,0,0,0,0,0,0,0,0,0,0,0,0,0,0,0,0,0,0,0,0,0,0,0,0,0,0,0,0,0,0,0,0,0,0,0,0,0,0,0,0,0,9.574092158470373e-05,0,0,0,0,0,0,0,0,0,0,0,0,0,0,0,0,0,0,0,0,0,0,0,0,0,0,0,0,0,0,0,0,0,0,0,0,0,0,0,0,0,0,0,0,0,0,0,0,0,0,0,0,0,0,0,0,0,0,0,0,0,0,0,0,0,0,0,0,0,0,0,0,0,0,0,0,0,0,0,0,0,0,0,0,0,0,0,0,0,0,0,0,0,0,0,0,0,0,0,0,0,0,0,0,0,0,0,0,0,0,0,0,0,0,0,0,0,0,0,0,0,0,0,0,0,0,0,0,0,0,0,0,0,0,0,0,0,0,0,0,0,0,0,0,0,0,0,0,0,0,0,0,0,0,0,0,0,0,0,0,0,0,0,0,0,0,0,0,0,0,0 ,\\n', '0,0,0,0,0,0,0,0,0,0,0,0,0,0,0,0,0,0,0,0,0,0,0,0,0,0,0,0,0,0.0004177785669150708,0,0,0,0,0,0.0002158522595727866,0,0,0,0,0,0,0,0,0,0,0,0,0,0,0,0,0,0,0,0,0,0,0,0,0,0,0,0,0,0,0,0,0,0,0,0,0,0,0,0,0,0,0,0,0,0,0,0,0,0,0,0,0,0,0,0,0,0,0,0,0,0,0,0.00015492621856433877,0,0,0,0,0,0.00012707431410333405,0,0,0,0,0,0,0,0,0,0,0,0,0,0,0.0002506671401490425,0,0,0,0,0,0,0,0,0,0,0,0,0,0,0,0,0,0,0,0,0,0,0,0,0,0,0,0,0,0,0,0,0,0,0,0,0.00020366705137109703,0,0,0,0,0,0,0,0,0,0,0,0,0,0,0,0,0,0,0,0,0,0,0,0,0,0,0,0,0,0,0,0,0,0.00013055580216095964,0,0,0,0,0,0,0,0,0,0,0,0,0,0,0,0,0,0,0,0,0,0,0,0,0,0,0,0,0,0,0,0,0,0,0,0,0,0,0,0,0,0,0,0,0.0002088892834575354,0,0,0,0,0,0,0,0,0,0,0,0 ,\\n', '0,0,0,0,0,0,0,0,0,0,0,0,0,0,0,0,0,0,0,0,0,0,0,0,0,0,0,0,0,0.00011837059395927007,0,0,0,0,0,0,0,0,0,0,0,0,0,0,0,0,0,0,0,0,0,0,0,0,0,0,0,0,0,0,0,0,0,0,0,0,0,0,0,0,0,0,0,0,0,0,0,0,0,0,0,0,0,0,0,0,0,0,0,0,0,0,0,0,0,0,0,0,0,0,0,0,0,0,0,0,0,0,0,0,0,0,0,0,0,0,0,0,0,0,0,0,0,0,0,0,0,0,0,0,0,0,0,0,0,0,0,0,0,0,0,0,0,0,0,0,0,0,0,0,0,0,0,0,0,0,0,0,0,0,0,0,0,0,0,0,0,0,0,0,0,0,0,0,0,0,0,0,0,0,0,0,0,0,0,0,0,0,0,0,0,0,0,0,0,0,0,0,0,0,0,0,0,0,0,0,0,0,0,0,0,0,0,0,0,0,0,0,0,0,0,0,0,0,0,0,0,0,0,0,0,0,0,0,0,0,0,0,0,0,0,0,0,0,0,0,0,0,0 ,\\n', '0,0,0,0,0,0,0,0,0,0,0,0,0,0,0,0,0,0,0,0,0,0,0,0,0,0,0,0,0,0,0,0,0,0,0,0,0,0,0,0,0,0,0,0,0,0,0,0,0,0,0,0.00016885217079484112,0,0,0,0,0,0,0,0,0,0,0,0,0,0,0,0,0,0,0,0,0,0,0,0,0,0,0,0,0,0,0,0,0,0,0,0,0,0,0,0,0,0,0,0,0,0,0,0,0,0,0,0,0,0,0,0,0,0,0,0,0,0,0,0,0,0,0,0,0,0,0,0,0,0,0,0,0,0,0,0,0,0,0,0,0,0,0,0,0,0,0,0,0,0,0,0,0,0,0,0,0,0,0,0,0,0,0,0,0,0,0,0,0,0,0,0,0,0,0,0,0,0,0,0,0,0,0,0,0,0,0,0,0,0,0,0,0,0,0,0,0,0,0,0,0,0,0,0,0,0,0,0,0,0,0,0,0,0,0,0,0,0,0,0,0,0,0,0,0,0,0,0,0,0,0,0,0,0,0,0,0,0,0,0,0,0,0,0,0,0,0,0,0,0,0,0,0 ,\\n', '0,0,0,0,0,0,0,0,0,0,0,0,0,0,0,0,0,0,0,0,0,0,0,0,0,0,0,0,0,0,0,0,0,0,0,0,0,0,0,0,0,0,0,0,0,0,0,0,0,0,0,0,0.00011662984993045727,0,0,0,0,0,0,0,0,0,0,0.00010096315367114212,0,0,0,0,0,0,0,0,0,0,0,0,0,0,0,0,0,0,0,0,0,0.0001079261297863933,0,0,0,0,0,0,0,0,0,0,0,0,0,0,0,0,0,0,0,0,0,0,0,0,0,0,0,0,0.00013577803424739802,0,0,0,0,0,0,0,0,0,0,0,0,0,0,0,0,0,0,0,0,0,0,0,0,0,0,0,0,0,0,0,0,0,0,0,0,0,0,0,0,0,0,0,0,0,0,0,0,0,0,0,0,0,0,0,0,0,0,0,0,0,0,0,0,0,0,0,0,0,0,0,0,0,0,0,0,0,0,0,0,0,0,0,0,0,0,0,0,0,0,0,0,0,0,0,0,0,0,0,0,0,0,0,0,0,0,0,0,0,0,0,0,0,0,0,0,0,0,0,0,0,0,0,0,0,0,0,0,0,0,0,0,0,0 ,\\n', '0,0,0,0,0,0,0,0,0,0,0,0,0,0,0,0,0,0,0,0,0,0,0,0,0,0,0,0,0,0,0,0,0.000212370771515161,0.00020366705137109703,0,0,0,0,0,0,0,0,0,0,0.00016362993870840275,0,0,0,0,0,0,0,0,0,0.00016537068273721553,0,0,0,0,0,0,0,0,0,0,0,0,0,0,0,0,0,0,0,0,0,0,0,0,0.0002088892834575354,0,0,0,0,0,0,0,0,0,0,0,0,0,0,0,0,0.0002489263961202297,0,0,0,0,0,0,0,0,0,0,0,0,0,0,0,0,0,0,0,0,0,0,0,0,0,0,0,0,0,0.00024196342000497854,0,0,0,0,0,0,0,0,0,0,0,0.00012707431410333405,0,0,0,0,0,0.00016362993870840275,0,0,0,0,0,0,0,0,0,0,0,0,0,0,0,0,0,0,0,9.225943352707814e-05,0,0,0,0,0,0,0,0.00010270389769995491,0,0,0,0,0,0,0,0,0,0,0,0,0,0,0.0001061853857575805,0,0,0,0,0,0,0,0,0,0,0,0,0,0,0,0,0,0,0,0,0,0,0,0,0,0,0,0,0,0,0,0,0,0.00015666696259315156,0,0,0,0,0,0,0,0,0,0,0,0,0,0,0,0,0,0,0,0,0,0,0.00017233365885246672,0,0,0,0 ,\\n', '0,0,0,0,0,0,0,0,0,0,0,0,0,0,0,0,0,0,0,0,0,0,0,0,0,0,0,0,0,0,0,0,0,0,0,0,0,0,0,0,0,0,0,0,0,0,0,0,0,0,0,0,0,0,0,0,0,0,0,0,0,0,0,0,0,0,0,0,0,0,0,0,0,0,0,0,0,0,0,0,0,0,0,0,0,0,0,0,0,0,0,0,0,0,0,0,0,0,0,0,0,0,0,0,0,0,0,0,0,0,0,0,0,0,0,0,0,0,0,0,0,0,0,0,0,0,0,0,0,0,0,0,0,0,0,0,0,0,0,0,0,0,0,0,0,0,0,0,0,0,0,0,0,0,0,0,0,0,0,0,0,0,0,0,0,0,0,0,0,0,0,0,0,0,0,0,0,0,0,0,0,0,0,0,0,0,0,0,0,0,0,0,0,0,0,0,0,0,0,0,0,0,0,0,0,0,0,0,0,0,0,0,0,0,0,0,0,0,0,0,0,0,0,0.00010096315367114212,0,0,0,0,0,0,0,0,0,0,0,0,0,0,0,0,0,0,0,0,0,0,0,0,0 ,\\n', '0,0,0,0,0,0,0,0,0,0,0,0,0,0,0,0,0,0,0,0,0,0,0,0,0,0,0,0,0,0,0,0,0,0,0,0,0,0,0,0,0,0,0,0,0,0.0001061853857575805,0,0,0,0,0,0,0,0,0,0,0,0,0,0,0,0,0,0,0,0,0,0,0,9.051868949826534e-05,0,0,0,0,0,0,0,0,0,0,0,0,0,0,0,0,0,0.0001375187782762108,0,0,0,0,0,0,0,0,0,0,0,0,0,0,0,0,0,0,0,0,0,0,0,0,0,0,0,0,0,0,0,0,0,0,0,0,0,0,0,0,0,0,0,0,0,0,0,0,0,0,0,0,0,0,0,0,0,0,0,0,0,0,0,0,0,0,0,0,0,0,0,0,0,0,0,0,0,0,0,0,0,0,0,0,0,0,0,0,0,0,0,0,0,0,0,0,0,0,0,0,0,0,0,0,0,0,0,0,0,0,0,0,0,0,0,0,0,0,0,0,0,0,0,0,0,0,0,0,0,0,0,0,0,0,0,0,0,0,0,0,0,0,0,0,0,0,0,0,0,0,0,0,0,0,0,0,0,0,0,0,0 ,\\n', '0,0,0,0,0,0,0,0,0,0,0,0,0,0,0,0,0,0,0,0,0,0,0,0,0,0,0,0,0,0,0,0,0,0,0,0,0,0,0,0,0,0,0,0,0,0,0,0,0,0,0,0,0,0,0,0,0,0,0,0,0,0,0,0,0,0,0,0,0,0,0,0,0,0,0,0,0,0,0,0,0,0,0,0,0,0,0,0.00010270389769995491,0,0,0,0,0,0,0,0,0,0,0,0,0,0,0,0,0,0,0,0,0,0,0,0,0,0,0,0,0,0,0,0,0,0,0,0,0,0,0,0,0,0,0,0,0,0,0,0,0,0,0,0,0,0,0,0,0,0,0,0,0,0,0,0,0,0,0,0,0,0,0,0,0,0,0,0,0,0,0,0,0,0,0,0,0,0,0,0,0,0,0,0,0,0,0,0,0,0,0,0,0,0,0,0,0,0,0,0,0,0,0,0,0,0,0,0,9.922240964232933e-05,0,0,0,0,0,0,0,0,0,0,0,0,0,0,0,0,0,0,0,0,0,0,0,0,0,0,0,0,0,0,0,0,0,0,0,0,0,0,0,0,0,0,0,0 ,\\n', '0,0,0,0,0,0,0.0002175930036015994,0,0,0,0,0,0.0004630379116642035,0,0,0.0002158522595727866,0,0,0,0,0,0,0,0,0,0,0,0,0,0.00016537068273721553,0,0,0,0.0003290006214456183,0,0,0,0,0,0,0,0,0,0.00021411151554397381,0.0005988159459116016,0,0,0,0,0,0,0,0,0.00019322258719822025,0.00044214898331844995,0,0,0,0,0,0,0,0,0,0,0,0,0,0.00035511178187781024,0,0.0001462224984202748,0,0,0,0,0,0,0,0,0.00044388972734726276,0,0,0,0,0,0,0,0,0,0,0,0,0.0001792966349677179,0,8.703720144063976e-05,0,0.000671927195121739,0,0.00019496333122703306,0,0,9.400017755589094e-05,0,0,0.0003638155020218742,0,0,0,0,0,0,0,0,0,0,0,0,0,0,0,0,0,0,0,0.00031681541324392874,0.00022455597971685057,0.00019844481928465866,0,0,0,0,0,0,0,0,0.0001079261297863933,0,0,0,0,0,0.00012533357007452124,0,0,0.00017233365885246672,0,0,0,0.0003255191333879927,0,0,0,0,0,0,0,0,0,0,0,0,0,0.0003237783893591799,0,0,0,0,0,0,0,0,0,0.00027851904461004723,0,0,0,0.00019322258719822025,0,0,0,0,0,0,0.0001061853857575805,0,0,0,0,0,0,0,0,0.00013229654618977243,0,0,0,0,0,0,0,0,0,0,0,0,0,0,0,0.0002193337476304122,0,0,0,0,0,0,0,0,0,0,0,0,0.00041429707885744525,0,0.00012533357007452124,0,0,0,0.00013577803424739802,0,0,0,0.00015666696259315156,0,0,0,0.0003237783893591799,0,0,0,0,0,0,0,0,0.000365556246050687,0,0,0,0 ,\\n', '0,0,0,0,0,0,0,0,0,0,0,0,0,0,0,0,0,0,0,0,0,0,0,0,0,0,0,0,0,0,0,0,0,0,0,0,0,0,0,0,0,0,0,0,0,0,0,0,0,0,0,0,0,0,0,0,0,0,0,0,0,0,0,0,0,0,0,0,0,0,0,0,0,0,0,0,0,0,0,0,0,0,0,0,0,0,0,0,0,0,0,0,0,0,0,0,0,0,0,0,0,0,0,0,0,0,0,0,0,0,0,0,0,0,0,0,0,0,0,0,0,0,0,0,0,0,0,0,0,0,0,0,0,0,0,0,0,0,0,0,0,0,0,0,0,0,0.00010096315367114212,0,0,0,0,0,0,0,0,0,0,0,0,0,0,0,0,0,0,0,0,0,0,0,0,0,0,0,0,0,0,0,0,0,0,0,0,0,0,0,0,0,0,0,0,0,0,0,0,0,0,0,0,0,0,0,0,0,0,0,0,0,0,0,0,0,0,0,0,0,0,0,0,0,0,0,0,0,0,0,0,0,0,0,0,0,0,8.703720144063976e-05,0,0,0,0,0,0,0,0,0,0,0,0,0,0,0 ,\\n', '0,0,0,0,0,0,0,0,0,0,0,0,0,0,0,0.00019844481928465866,0,0,0,0,0,0,0,0,0,0,0,0,0,0,0,0,0,0,0,0,0,0,0,0,0,0,0,0,0,0,0,0,0,0,0,0,0,0.00016711142676602834,0,0,0,0,0,0,0,0,0,0,0,0,0,0,0,0,0,0,0,0,0,0,0,0,0,0,0,0,0,0,0,0,0,0,0,0,0,0,0,0,0,0,0.00011314836187283169,0,0,0,0,0,0,0,0,0,0,0,0,0,0,0,0,0,0,0,0,0,0,0,0,0,0,0,0,0.00020018556331347144,0,0,0,0,0,0,0,0,0,0.00010270389769995491,0,0,0,0,0,0,0,0,0,0,0,0,0,0,0,0,0,0,0,0,0,0,0,0,0,0,0,0,0,0,0,0,0,0,0,0,0,0,0,0,0,0,0,0,0,0,0,0,0,0,0,0,0,0,0,0,0,0,0,0,0,0,0,0,0,0,0,0,0,0,0,0,0.00020714853942872263,0,0,0,0,0,0,0,0,0,0,0,0,0,0,0,0,0,0,0,0,0,0,0,0,0,0,0,0,0,0,0,0,0,0,0,0,0,0,0,0 ,\\n', '0,0,0,0,0,0,0,0,0,0,0,0,0,0,0,0,0,0,0,0,0,0,0,0,0,0,0,0,0,0.00018974109914059468,0,0,0,0,0,0,0,0,0,0,0,0,0,0,0,0,0,0,0,0,0,0,0,0,0,0,0,0,0,0,0,0,0,0,0,0,0,0,0,0,0,0,0,0,0,0,0,0,0,0,0,0,0,0,0,0,0,0,0,0,0,0,0,0,0,0,0,0,0,0,0,0,0,0,0,0.00011488910590164449,0,0,0,0,0,0,0,0,0,0,0,0,0,0,0.0001479632424490876,0,0,0,0,0,0,0,0,0,0,0,0,0,0,0,0,0,0,0,0,0,0,0,0,0,0,0,0,0,0,0,0,0,0,0,0,0,0,0,0,0,0,0,0,0,0,0,0,0,0,0,0,0,0,0,0,0,0,0,0,0,0,0,0,0,0,0,0,0,0,0,0,0,0,0,0,0,0,0,0,0,0,0,0,0,0,0,0,0,0,0,0,0,0,0,0,0,0,0,0,0,0,0,0,0,0,0,0,0,0,0,0,0,0,0,0.00012881505813214683,0,0,0,0,0,0,0,0,0,0,0,0 ,\\n', '0,0,0,0,0,0,0,0,0,0,0,0,0,0,0,0,0,0,0,0,0,0,0,0,0,0,0,0,0,0.0003150746692151159,0,0,0,0,0,9.748166561351653e-05,0,0,0,0,0,0,0,0,0,0,0,0,0,0,0,0,0,0,0,0,0,0,0,0,0,0,0,0,0,0,0,0,0,0,0,0,0,0,0,0,0,0,0,0,0,0,0,0,0,0,0,0,0,0,0,0,0,0,0,0,0,0,0,0.00011662984993045727,0,0,0,0,0,0.00012533357007452124,0,0,0,0,0,0,0,0,0,0,0,0,0,0,0.0001827781230253435,0,0,0,0,0,0,0,0,0,0,0,0,0,0,0,0,0,0,0,0,0,0,0,0,0,0,0,0,0,0,0.00011140761784401889,0,0,0,0,0,0.0001410002663338364,0,0,0,0,0,0,0,0,0,0,0,0,0,0,0,0,0,0,0,0,0,0.00013055580216095964,0,0,0,0,0,0,0,0,0,0,0,0,0,0,0,0,0,0,0,0,0,0,0,0,0,0,0,0,0,0,0,0,0,0,0,0,0,0,0,0,0,0,0,0,0,0,0,0,0,0,0,0,0,0,0,0,0.00020018556331347144,0,0,0,0,0,0,0,0,0,0,0,0 ,\\n', '0,0,0,0,0,0,0,0,0,0,0,0,9.922240964232933e-05,0,0,0,0,0,0,0,0,0,0,0,0,0,0,0,0,0,0,0,0,0,0,0,0,0,0,0,0,0,0,0,0,0,0,0,0,0,0,0,0,0,0,0,0,0,0,0,0,0,0,0,0,0,0,0,0.00012185208201689566,0,0,0,0,0,0,0,0,0,0,0,0,0,0,0,0,0,0,0,0,0,0,0,0,0,0,0,0,0,0,0,0,0,0,0,0.0001462224984202748,0,0,0,0,0,0,0,0,0,0,0,0,0,0,0,0,0,0,0,9.225943352707814e-05,0,0,0,0,0,0,0,0,0,0,0,0,0,0,0,0,0,0,0,0,0,0,0,9.400017755589094e-05,0,0,0,0,0,0,0,0,0,0,0,0,0,9.574092158470373e-05,0,0,0,0,0,0,0,0,0,0,0,0,0,0,0,0,0,0,0,0,0,0,0,0,0.00013229654618977243,0,0,0,0,0,0,0,0,0,0,0,0,0,0,0,0,0,0,0,0,0,0,0,0,0,0,0,0,0,0,0,0,0,0,0,0,0,0,0,0,0,0,0,0,0,0,0,0.00010096315367114212,0,0,0,0,0,0,0,0,0,0,0,0,0 ,\\n', '0,0,0,0,0,0,0,0,0,0,0,0,0,0,0,0,0,0,0,0,0,8.877794546945256e-05,0,0,0,9.400017755589094e-05,0,0,0,0,0,0,0,0,0,0,0,0,0,0,0,0,0,0,0,0,0,0,0,0,0,0,0,0,0,0,0,0,0,0,0,0,0,0,0,0,0,0,0,0,0,0,0,0,9.922240964232933e-05,0,0,0,0,0,0,0,0,0,0,0,0,0,0,0,0,0,0,0,0,0,0,0,0,0,0,0,0,0,0,0,0,0,0,0,0,0,0,0,0,0,0,0,0,0,0,0,0,0,0,0,0,0,0,0,0,0,0,0,0,0,0,0,0,0,0,0,0,0,0,0,0,0,0,0,0,0,0,0,0,0,0,0,0,0,0,0,0,0,0,0,0,0,0,0,0,0,0,0,0,0,0,0,0,0,0,0,0,0,0,0,0,0,0,0,0,0,0,0,0,0,0,0,0,0,0,0,0,0,0,0,0,0,0,0,0,0,0,0,0,0,0,0,0,0,0,0,9.400017755589094e-05,0,0,0,0,0,0,0,0,0,0,0,0,0,0,0,0,0,0,0,0,0,0,0,0,0,0 ,\\n', '0,0,0,0,0,0,0,0,0,0,0,0,0,0,0,0,0,0,0.0005378899049031537,0,0,0.0002524078841778553,0,0.00012185208201689566,0,0.00015840770662196437,0,0,0,0,0,0,0,0,0.0002820005326676728,0,0.0001827781230253435,0,0,0,0,0,0,0,0,0.00012185208201689566,0,0,0,0,0,0,0,0,0,0,0,0,0,0,0,0.00016014845065077715,0,0,0,0,0,0,0,0,0,0,0,0,0,0,0,0,0,0,0,0,0,0,0,0,0,0,0,0,0,0,0,0,0,0,0,0.0003725192221659382,0,0,0,0,0,0,0,0,0.00013403729021858524,0,0,0,0,0.00016537068273721553,0,0,0,0,0,0,0,0,0,0,0,0,0,0,0,0,0,0,0,0,0,0,0,0,0,0,0,0,0,0,0,0,0,0,0,0,0,0,0,0,0,0,0,0,0,0,0,0,0,0.0004961120482116466,0,0,0,0,0,0,0,9.574092158470373e-05,0,0,0,0,0,0,0,0,0,0,0,0,0,0,0,0,0,0,0,0,0,0,0,0,0,0,0,0,0.0001375187782762108,0,0,0,0,0,0,0,0,0,0,0,0,0,0,0,0,0,0,0,0,0,0,0,0.00015840770662196437,0,0,0,0,0,0,0,0,0.0005344084168455281,0,0,0,0,0,0,0,0,0,0,0,0,0,0,0.0006788901712369901,0,0 ,\\n', '0,0,0,0,0,0,0,0,0,0,0,0,0,0,0,0,0,0,0,0,0,0,0,0,0,0,0,0,0,0,0,9.400017755589094e-05,0,0,0,0,0,0,0,0,0,0,0,0,0.0003290006214456183,0,0,0,0,0,0,0,0,0,0,0,0,0,0,0,0,0,0,0,0,0,0,0,0,0,0,0,0,0,0,0,0,0,0,0,0,0,0,0,0,0,0,0,0,0,0,0,0,0,0,0,0,0,0,0,0,0,0,0,0,0,0,0,0,0,0,0,0,0,0,0,0,0,0,0,0,0,0,0,0,0,0,0,0,0,0,0,0,0,0,0,0,0,0,0,0,0,0,0,0,0,0,0,0,0,0,0,0,0,0,0,0,0,0,0,0,0,0,0,0,0,0,0,0,0,0,0,0,0,0,0,0,0,0,0,0,0,0,0,0,0,0,0,0,0,0,0,0,0,0,0,0,0,0,0,0,0,0,0,0,0,0,0,0,0,0,0,0,0,0,0,0,0,0,0,0,0,0,0,0,0,0,0,0,0,0,0,0,0,0,0,0,0,0,0,0,0,0,0,0.00010096315367114212,0,0,0,0 ,\\n', '0,0,0,0,0,0,0,0,0,0,0,0,0,0,0,0,0,0,0,0,0,0,0,0,0,0,0,0,0,0,0,0,0,0,0,0,0,0,0,0,0,0,0,0,0,0,0,0,0,0,0,0,0,0,0,0,0,0,0,0,0,0,0,0,0,0,0,0,0,0,0,0,0,0,0,0,0,0,0,0,0,0,0,0,0,0,0,0,0,0,0,0,0,0,0,0,9.400017755589094e-05,0,0,0,0,0,0,0,0,0,0,0,0,0,0,0,0,0,0,0,0,0,0,0,0,0,0,0,0,0,0,0,0,0,0,0,0,0,0,0,0,0,0,0,0,0,0,0,0,0,0,0,0,0,0,0,0,0,0,0,0,0,0,0,0,0,0,0,0,0,0,0,0,0,0,0,0,0,0,0,0,0,0,0,0,0,0,0,0,0,0,0,0,0,0,0,0,0,0,0,0,0,0,0,0,0,0,0,0,0,0,0,0,0,0,0,0,0,0,0,0,0,0,0,0,8.877794546945256e-05,0,0,0,0,0,0,0,0,0,0,0,0,0,0,0,0,0,0,0,0,0,0,0,0,0,0,0 ,\\n', '0,0,0,0,0,0,0,0,0,0,0,0,0,0,0,0,0,0,0,0,0,0,0,0,0,0,0,0,0,0,0,0,0,0,0,0,0,0,0,0,0,0,0,0,0,0,0,0,0,0,0,0,0,0,0,0,0,0,0,0,0,0,0,0,0,0,0,0,0,0,0,0,0,0,0,0,0,0,0,0,0,0,0,0,0,0,0,0,0,0,0,0,0,0,0,0,0,0,0,0,0,0,0,0,0,0,0,0,0,0,0,0,0,0,0,0,0,0,0,0,0,0,0,0,0,0,0,0,0,0,0,0,0,0,0,0,0,0,0,0,0,0,0,0,0,0,0,0,0,0,0,0,0,0,0,0,0,0,0,0,0,0,0,0,0,0,0,0,0,0,0,0,0,0,0,0,0,0,0,0,0,0,0,0,0,0,0,0,0,0,0,0,0,0,0,0,0,0,0,0,0,0,0,0,0,0,0,0,0,0,0,0,0,0,0,0,0,0,0,0,0,0,0,0.00011140761784401889,0,0,0,0,0,0,0,0,0,0,0,0,0,0,0,0,0,0,0,0,0,0,0,0,0 ,\\n', '0,0,0,0,0,0,0,0,0,0,0,0,0,0,0,0,0,0,0.00012707431410333405,0,0,0.0002088892834575354,0,0,0,0.00013577803424739802,0,0,0,0,0,0,0,0,0.00020540779539990982,0,0,0,0,0,0,0,0,0,0,0,0,0,0,0,0,0,0,0,0,0,0,0,0,0,0,0,0,0,0,0,0,0,0,0,0,0,0,0,8.703720144063976e-05,0,0,0,0,0,0,0,0,0,0,0,0,0,8.877794546945256e-05,0,0,0,0,0,0,0,0,0.00012011133798808286,0,0,0,0,0,0,0,0,0.00022455597971685057,0,0,0,0,0.00015840770662196437,0,0,0,0,0,0,0,0,0,0,0,0,0,0,0,0,0,0,0,0,0,0,0,0,0,0,0,0,0,0,0,0,0,0,0,0,0,0,0,0,0,0,0,0,9.225943352707814e-05,0,0,0,0,0.00012533357007452124,0,0,0,0,0,0,0,0,0,0,0,0,0,0,0,0,0,0,0,0,0,0,0,0,0,0,0,0,0,0,0,0,0.0001375187782762108,0,0,0,0,0,0,0,0,0,0,0,0,0,0,0,0,0,0,0,0,0,0,0,0,0,0,0,0.00013925952230502362,0,0,0,0,0,0,0,0,0.00012533357007452124,0,0,0,0,0,0,0,0,0,0,0,0,0,0,0.00019148184316940747,0,0 ,\\n', '0,0,0,0,0,0,0,0,0,0,0,0,0,0,0,0,0,0,0,0,0,0,0,0,0,0,0,0,0,0,0,0,0,0,0,0,0,0,0,0,0,0,0,0,0,0,0,0,0,0,0,0,0,0,0,0,0,0,0,0,0,0,0,0,0,0,0.00019844481928465866,0,0,0,0,0,0,0,0,0,0,0,0,0,0,0,0,0,0,0,0,0,0,0,0,0,0,0,0,0,0,0,0,0,0,0,0,0,0,0,0,0,0,0,0,0,0,0,0,0,0,0,0,0,0,0,0,0,0,0,0,0,0,0,0,0,0,0,0,0,0,0.00015144473050671318,0,0,0,0,0,0.0001497039864779004,0,0,0,0,0,0,0,0,0,0,0.0001462224984202748,0,0,0,0,0,0,0,0,0,0,0,0,0,0,0,0,0,0,0,0,0,0,0.0001810373789965307,0,0,0,0,0,0,0,0,0,0,0,0,0,0,0,0,0,0,0,0,0,0,0,0,0,0,0,0,0,0,0,0,0,0,0,0,0,0,0,0,0.00015666696259315156,0,0,0,0,0,0,0,0,0,0,0,0,0,0,0,0,0,0,0,0,8.877794546945256e-05,0,0,0,0,0,0,0,0,0 ,\\n', '0.00011837059395927007,0,0,0,0,0,0,0,0,0,0,0,0,0,0,0,0,0,0,0,0,0,0,0,0,0,0,0,0,0,0,0,0,0,0,0,0,0,0,0,0,0,0,0,0,0,0,0,0,0,0,0,0,0,0,0,0,0,0,0,0,0,0,0,0,0,0,0,0,0,0,0,0,0,0,0,0,0,0,0,0,0,0,0,0,0,0,0,0,0,0,0,0,0,0,0,0,0,0,0,0,0,0,0,0,0,0,0,0,0,0,0,0,0,0,0,0,0,0,0,0,0,0,0,0,0,0,0,0,0,0,0,0,0,0,0,0,0,0,0,0,0,0,0,0,0,0,0,0,0,0,0,0,0,0,0,0,0,0,0,0,0,0,0,0,0,0,0,0,0,0,0,0,0,0,0,0,0,0,0,0,0,0,0,0,0,0,0,0,0,0,0,0,0,0,0,0,0,0,0,0,0,0,0,0,0,0,0,0,0,0,0,0,0,0,0,0,0,0,0,0,0,0,0,0,0,0,0,0,0,0,0,0,0,0,0,0,0,0,0,0,0,0,0,0,0,0,0,0 ,\\n', '0,0,0,0,0,0,0,0,0,0,0,0,0,0,0,0,0,0,0,0,0,0,0,0,0.00012185208201689566,0,0,0.0002854820207252984,9.225943352707814e-05,0,0,0,0,0,0,0,0,0,0,0,0,0,0,0,0.00015666696259315156,0,0,0,0,0,0,0,0,0,0,0,0,0,0,0,0,0,0,0,0,0,0,0,0,0,0,0,0,0,0,0,0,0,0,0,0,0,0,0,0,0,0,0,0,0,0,0,0,0,0,0,0.00026981532446598323,0,0,0,0,0,0,0,0,0,0,0,0,0,0,0,0,0,0,0,0,0,0,0,0,0,0,0,0,0,0,0,0,0,0,0,0,0,0,0,0,0,0,0,0,0,0,0,0,0,0,0,0,0,0,0,0,0,0,0,0,0,0,0,0,0,0,0,0,0,0,0,0,0,0,0.00011140761784401889,0,0,0,0,0,0,0,0,0,0,0,0,0,0,0,0,0,0,0,0,0,0,0,0,0,0,0,0,0,0,0,0,0,0,0,0,0,0,0,0,0,0,0,0,0,0,0,0,0,0,0,0,0,0,0,0,0,0,0,0,0,0,0,0,0,0,0,0,0,0,0,0,0,0,0,0,0 ,\\n', '0,0,0,0,0,0,0,0,0,0,0,0,0,0,0,0,0,0,0,0,0,0,0,0,0,0,0,0,0,0,0,0,0,0,0,0,0,0,0,0,0,0,0,0,0,0,0,0,0,0,0,0,0,0,0,0,0,0,0,0,0,0,0,0,0,0,0,0,0,0,0,0,0,0,0,0,0,0,0,0,0,0,0,0,0,0,0,0,0,0,0,0,0,0,0,0,0.00013229654618977243,0,0,0,0,0,0,0,0,0,0,0,0,0,0,0,0,0,0,0,0,0,0,0,0,0,0,0,0,0,0,0,0,0,0,0,0,0,0,0,0,0,0,0,0,0,0,0,0,0,0,0,0,0,0,0,0,0,0,0,0,0,0,0,0,0,0,0,0,0,0,0,0,0,0,0,0,0,0,0,0,0,0,0,0,0,0,0,0,0,0,0,0,0,0,0,0,0,0,0,0,0,0,0,0,0,0,0,0,0,0,0,0,0,0,0,0,0,0,0,0,0,0,0,0,0,0,0,0,0,0,0,0,0,0,0,0,0,0,0,0,0,0,0,0,0,0,0,0,0,0,0,0 ,\\n', '0,0,0,0,0,0,0,0,0,0,0,0,0,0,0,0,0,0,0,0,0,0,0,0,0,0,0,0,0,0,0,0,0,0,0,0,0,0,0,0,0,0,0,0,0,0,0,0,0,0,0,0,0,0,0.0001061853857575805,0,0,0,0,0,0,0,0,0,0,0,0,0,0,0,0.00011314836187283169,0,0,0,0,0,0,0,0,0.00011314836187283169,0,0,0,0,0,0,0,0,0,0,0,0,0,0,0,0,0.00012359282604570846,0,0,0,0,0,0,0,0,0,0,0,0,0,0,0,0,0,0,0,0,0,0,0,0,0,0,0,0,0,0,0,0,0,0,0,0,0,0,0,0,0,0,0,0,0,0,0,0,0,0,0,0,0,0,0,0,0,0,0,0,0,0,0,0,0,0,0,0,0,0,0,0,0,0,0,0,0,0,0,0,0,0,0,0,0,0,0,0,0,0,0,0,0,0,0,0,0,0,0,0,0,0,0,0,0,0,0,0,0,0,0,0,0,0,0,0,0,0,0,0,0,0,0,0,0.0001079261297863933,0,0,0,0,0,0,0,0,0,0,0,0,0,0,0,0,0,0,0,0,0,0,0,0,0,0,0 ,\\n', '0,0,0,0,0,0,0,0,0,0,0,0,0,0,0,0,0,0,0,0,0,0,0,0,0,0,0,0,0,0,0,0,0,0,0,0,9.051868949826534e-05,0,0,0,0,0,0,0,0,0.00016711142676602834,0,0,0,0,0,0,0,0,0,0,0,0,0,0,0,0,0,0,0,0,0,0,0,0.00012707431410333405,0,0,0,0,0,0,0,0,0,0,0,0,0,0,0,0,0,0.00018451886705415628,0,0,0,0,0,0,0,0,0,0,0,0,0,0,0,0,0,0,0,0,0,0,0,0,0,0,0,0,0,0,0,0,0,0,0,0,0,0,0,0,0,0,0,0,0,0,0,0,0,0,0,0,0,0,0,0,0,0,0,0,0,0.00012707431410333405,0,0,0,0,0,0,0,0,0,0,0,0,0,0,0,0,0,0,0,0,0,0,0,0,0,0,0,0,0,0,0,0,0,0,0,0,9.922240964232933e-05,0,0,0,0,0,0,0,0,0,0,0,0,0,0,0,0,0,0,0,0,0,0,0,9.574092158470373e-05,0,0,0,0,0,0,0,0,0,0,0,0,0,0,0,0,0,0,0,0,0,0,0,0,0,0,0,0,0,0,9.051868949826534e-05,0,0,0,0,0,0,0 ,\\n', '0,0,0,0,0,0,0,0,0,0,0,0,0,0,0,0,0,0,0,0,0,0,0,0,0,0,0,0,0,0,0,0,0,0,0,0,0,0,0,0,0,0,0,0,0.00011314836187283169,0,0,0,0,0,0,0,0,0,0,0,0,0,0,0,0,0,0,0,0,0,0,0,0,0,0,0,0,0,0,0,0,0,0,0,0,0,0,0,0,0,0,0,0,0,0,0,0,0,0,0,0,0,0,0,0,0,0,0,0,0,0,0,0,0,0,0,0,0,0,0,0,0,0,0,0,0,0,0,0,0,0,0,0,0,0,0,0,0,0,0,0,0,0,0,0,0,0,0,0,0,0,0,0,0,0,0,0,0,0,0,0,0,0,0,0,0,0,0,0,0,0,0,0,0,0,0,0,0,0,0,0,0,0,0,0,0,0,0,0,0,0,0,0,0,0,0,0,0,0,0,0,0,0,0,0,0,0,0,0,0,0,0,0,0,0,0,0,0,0,0,0,0,0,0,0,0,0,0,0,0,0,0,0,0,0,0,0,0,0,0,0,0,0,0,0,0,0,0,0,0,0,0,0 ,\\n', '9.225943352707814e-05,0,0,0,0,0,0,0,0,0,0,0,0,0,0,0,0,0,0,0,0,0,0,0,0,0,0,0,0,0,0,0,0,0,0,0,0,0,0,0,0,0,0,0,0,0,0,0,0,0,0,0,0,0,0,0,0,0,0,0,0,0,0,0,0,0,0,0,0,0,0,0,0,0,0,0,0,0,0,0,0,0,0,0,0,0,0,0,0,0,0,0,0,0,0,0,0,0,0,0,0,0,0,0,0,0,0,0,0,0,0,0,0,0,0,0,0,0,0,0,0,0,0,0,0,0,0,0,0,0,0,0,0,0,0,0,0,0,0,0,0,0,0,0,0,0,0,0,0,0,0,0,0,0,0,0,0,0,0,0,0,0,0,0,0,0,0,0,0,0,0,0,0,0,0,0,0,0,0,0,0,0,0,0,0,0,0,0,0,0,0,0,0,0,0,0,0,0,0,0,0,0,0,0,0,0,0,0,0,0,0,0,0,0,0,0,0,0,0,0,0,0,0,0,0,0,0,0,0,0,0,0,0,0,0,0,0,0,0,0,0,0,0,0,0,0,0,0,0 ,\\n', '0,0,0,0,0,0,0,0,0,0,0,0,0,0,0,0,0,0,0,0,0,0,0,0,0,0,0,0,0,0,0,0,0.0004543341915201395,0,0,0,0,0,0,9.748166561351653e-05,0,0,0,0,0,0,0,0,0,0,0,0,0,0,0,0,0,0,0,0,0,0,0,0,0,0,0,0,0,0,0,0,0,0,0,0,0,0,0,0,0,0,0,0,0,0,0,0,0,0,0,0,0,0,0,0,0,0,0,0,0,0,0,0,0,0,0,0,0,0,0.00020018556331347144,0,0,0,0,0,0,0,0,0,0,0,0,0,0,0,0,0,0,0,0,0,0,0,0,0,0,0,0,0,0,0,0,0,0,0,0,0,0,0,0,0,0,0,0,0,0,0,0,0,0,0,0,0,0,0,0,0,0,0,0,0,0,0,0,0,0,0,0,0,0,0,0,0,0,0,0,0,0,0,0,0,0,0,0,0,0,0,0,0,0,0,0,0,0,0,0,0,0,0,0,0,0,0,0,0,0,0,0,0,0,0,0,0,0,0,0,0,0,0,0,0,0,0,0,0,0,0,0,0,0,0,0,0,0,0,0,0,0 ,\\n', '9.574092158470373e-05,0,0,0,0,8.703720144063976e-05,0.00011662984993045727,0,0,0,0,0,0,0,0,0.0012951135574367197,0,0,0,0,0,0.00013229654618977243,0,0,0,0,0,0,0,0.0002193337476304122,0,0,0.0001061853857575805,0.00012707431410333405,0.00012011133798808286,0,0,0,0,0,0,0,9.748166561351653e-05,0.00016885217079484112,0.00022455597971685057,0,0,0,0.00012707431410333405,0,8.877794546945256e-05,0,0,0.0011628170112469472,0.00017233365885246672,0,0,0,0,0,0,0,0,0,0,0,0,0,0,0,0,0,0,0,0,0,0,0,0,0.0001758151469100923,9.051868949826534e-05,0,0,0,0,0,0,0,0,0,0,0.0001410002663338364,0,0,0,0,0.0002924449968405496,0.0001096668738152061,0,0,0,0,0.00031159318115749036,0.00016537068273721553,0,0,0,0,0,0,0,9.225943352707814e-05,0,0,0,0,0,0,0,0,0,0,0,9.225943352707814e-05,0,0.001232446772399459,0,0,0,0,0,0,0,0,0,0.00017755589093890512,0,0,0.00021063002748634822,0,0,0,0,0,8.877794546945256e-05,0,0,0,0,0,0,0,0,0,0,0,0,0,0,0.0001375187782762108,0,0,0,0,0,0,0,0,9.922240964232933e-05,0,0,0,0,0,0,0,0,0,0,0,0,0,0,0,0,0,0,0.0002193337476304122,0,0.00020714853942872263,0,0,0,0,0,0,0,0,0,0,0,0,0,0,0,0,0,0,0,0,0,0,0,0,0,0,0,0,0,0,0,0.00015492621856433877,0,0.00017233365885246672,0,0,0,0,0,0,0,0.00011662984993045727,0,0,0,0,0,0,0,0,9.225943352707814e-05,0,0,0.00034466731770493343,0.00013925952230502362,0,0.00012359282604570846,0,0 ,\\n', '0,0,0,0,0,0,0,0,0,0,0,0,0,0,0,0,0,0,0,0,0,0,0,0,0,0,0,0,0,0,0,0,0,0,0,0,0,0,0,0,0,0,0,0,0,0,0,0,0,0,0,0,0,0,0,0,0,0,0,0,0,0,0,0,0,0,0,0,0,0,0,0,0,0,0,0,0,0,0,0,0,0,0,0,0,0,0,0,0,0,0,0,0,0,0,0,0.0001061853857575805,0,0,0,0,0,0,0,0,0,0,0,0,0,0,0,0,0,0,0,0,0,0,0,0,0,0,0,0,0,0,0,0,0,0,0,0,0,0,0,0,0,0,0,0,0,0,0,0,0,0,0,0,0,0,0,0,0,0,0,0,0,0,0,0,0,0,0,0,0,0,0,0,0,0,0,0,0,0,0,0,0,0,0,0,0,0,0,0,0,0,0,0,0,0,0,0,0,0,0,0,0,0,0,0,0,0,0,0,0,0,0,0,0,0,0,0,0,0,0,0,0,0,0,0,0,0,0,0,0,0,0,0,0,0,0,0,0,0,0,0,0,0,0,0,0,0,0,0,0,0,0,0 ,\\n', '0,0,0,0,0,0,0,0,0,0,0,0,0,0,0,0,0,0,0,0,0,0,0,0,0,0,0,0,0,0,0,0,0,0,0,0,0,0,0,0,0,0,0,0,0,0,0,0,0,0,0,0,0,0,0,0,0,0,0,0,0,0,0,0,0,0,0,0,0,0,0,0,0,0,0,0,0,0,0,0,0,0,0,0,0,0,0,9.400017755589094e-05,0,0,0,0,0,0,0,0,0,0,0,0,0,0,0,0,0,0,0,0,0,0,0,0,0,0,0,0,0,0,0,0,0,0,0,0,0,0,0,0,0,0,0,0,0,0,0,0,0,0,0,0,0,0,0,0,0,0,0,0,0,0,0,0,0,0,0,0,0,0,0,0,0,0,0,0,0,0,0,0,0,0,0,0,0,0,0,0,0,0,0,0,0,0,0,0,0,0,0,0,0,0,0,0,0,0,0,0,0,0,0,0,0,0,0,0,9.574092158470373e-05,0,0,0,0,0,0,0,0,0,0,0,0,0,0,0,0,0,0,0,0,0,0,0,0,0,0,0,0,0,0,0,0,0,0,0,0,0,0,0,0,0,0,0,0 ,\\n', '0,0,0,0,0,0,0,0,0,0,0,0,0,0,0,0,0,0,0,0,0,0,0,0,0,0,0,0,0,0,0,0,0,0,0,0,0,0,0,0,0,0,0,0,0,0,0,0,0,0,0,0,0,0,0,0,0,0,0,0,0,0,0,0,0,0,0,0,0,0,0,0,0,0,0,0,0,0,0,0,0,0,0,0,0,0,0,0,0,0,0,0,0,0,0,0,0,0,0,0,0,0,0,0,0,0,0,0,0,0,0,0,0,0,0,0,0,0,0,0,0,0,0,0,0,0,0,0,0,0,0,0,0,0,0,0,0,0,0,0,0,0,0,0,0,0,0,0.0001427410103626492,0,0,0,0,0,0,0,0,0,0,0,0,0,0,0,0,0,0,9.051868949826534e-05,0,0,0,0,0,0,0,0,0,0,0,0,0,0,0,0,0,0,0,0,0,0,0,0,0,0,0,0,0,0,0,0,0,0,0,0,0,0,0,0,0,0,0,0,0,0,0,0,0,0,0,0,0,0,0,0,0,0,0,0,0,0,0,0,0,0,0,0,0,0,0,0,0,0,0,0,0,0,0.00013055580216095964,0,0,0 ,\\n', '0,0,0,0,0,0,0,0.0001462224984202748,0,0,0,0,0,0,0,0,0,0,0,0,0,0,0,0,0,0,0,0,0,0,0,0,0,0,0,0,0,0,0,0,0,0,0,0,0,0,0,0,0,0,0,0,0,0,0,0,0,0,9.748166561351653e-05,0,0,0,0,0,0,0,0,0,0,0,0,0,0,0,0,0,0,0,0,0,0,0,0,0,0,0,0,0,0,0,0,0,0,0,0,0,0,0,0,0,0,0,0,0,0,0,0,0,0,0,0,0,0,0,0,0,0,0,0,0,0,0,0,0,0,0,0,0,0,0,0,0,0,0,0,0,0,0,0,0,0,0,0,0,0,0,0,0,0,0,0.0001462224984202748,0,0,0,0,0,0,0,0,0,0,0,0,0,0,0,0,8.703720144063976e-05,0,0,0,0,0,0,0.000144481754391462,0,0,0,0,0,0,0,0,0,0,0,0,0,0,0,0,0,0,0,0,0,0,0,0,0,0,0,0,0,0,0,0,0,0,0,0,0,0,0,0,0,0,0,0,0,0,0,0,0,0,0,0,0,0,0,0,0,0,0,0,0,0,0,0,0,0,0,0,0,0,0,0,0,0 ,\\n', '0,0,0,0,0,0,0,0,0,0,0,0,0,0,0,0,0,0,0,0,0,0,0,0,0,0,0,0,0,0,0,0,0,0,0,0,0,0,0,0,0,0,0,0,0.00020366705137109703,0,0,0,0,0,0,0,0,0,0,0,0,0,0,0,0,0,0,0,0,0,0,0,0,0,0,0,0,0,0,0,0,0,0,0,0,0,0,0,0,0,0,0,0,0,0,0,0,0,0,0,0,0,0,0,0,0,0,0,0,0,0,0,0,0,0,0,0,0,0,0,0,0,0,0,0,0,0,0,0,0,0,0,0,0,0,0,0,0,0,0,0,0,0,0,0,0,0,0,0,0,0,0,0,0,0,0,0,0,0,0,0,0,0,0,0,0,0,0,0,0,0,0,0,0,0,0,0,0,0,0,0,0,0,0,0,0,0,0,0,0,0,0,0,0,0,0,0,0,0,0,0,0,0,0,0,0,0,0,0,0,0,0,0,0,0,0,0,0,0,0,0,0,0,0,0,0,0,0,0.00017059291482365393,0,0,0,0,0,0,0,0,0,0,0,0,0,0,0,0,0,0,0,0,0,0,0,0 ,\\n', '0,0,0,0,0.0001079261297863933,0,0,0,0,0,0,0,0,0,0,0,0,0,0,0,0,0,0,0,0,0,0,0,0,0,0,0,0,0,0,0,0,0,0,0,0,0,0,0,0,0,0,0,0,0,0,0,0,0,0,0,0,0,0,0,0,0,0,0,0,0,0,0,0,0,0,0,0,0,0,0,0,0,0,0,0,0,0,0,0,0,0,0,0,0,0,0,0,0,0,0,0,0,0,0,0,0,0,0,0,0,0,0,0,0,0,0,0,0,0,0,0,0.0002088892834575354,0,0,0,0,0,0,0,0,0,0,0,0,0,0,0,0,0,0,0,0,0,0,0.0001862596110829691,0,0,0,0,0,0,0,0,0,0,0,0,0,0,0,0,0,0.00011662984993045727,0,0,0,0,0,0,0,0,0,0,0,0,0,0,0,0,0,0,0,0,0,0,0,0,0,0,0,0,0,0,0,0,0,0,0,0,0,0,0,0,0,0,0,0,0,0,0,0,0,0,0,0,0,0,0,0,0,0,0,0,0,0,0,0,0,0,0,0,0,0,0.00018974109914059468,0,0,0,0,0,0,0,0,0,0,0,0,0,0,0,0,0,0,0 ,\\n', '0,0,0,0,0,0,0,0,0,0,0,0,0,0,0,0,0,0,0,0,0,0,0,0,0,0,0,0,0,0.00016014845065077715,0,0,0,0,0,0,0,0,0,0,0,0,0,0,0,0,0,0,0,0,0,0,0,0,0,0,0,0,0,0,0,0,0,0,0,0,0,0,0,0,0,0,0,0,0,0,0,0,0,0,0,0,0,0,0,0,0,0,0,0,0,0,0,0,0,0,0,0,0,0,0,0,0,0,0,0,0,0,0,0,0,0,0,0,0,0,0,0,0,0,0,0,0,0,0,0,0,0,0,0,0,0,0,0,0,0,0,0,0,0,0,0,0,0,0,0,0,0,0,0,0,0,0,0,0,0,0,0,0,0,0,0,0,0,0,0,0,0,0,0,0,0,0,0,0,0,0,0,0,0,0,0,0,0,0,0,0,0,0,0,0,0,0,0,0,0,0,0,0,0,0,0,0,0,0,0,0,0,0,0,0,0,0,0,0,0,0,0,0,0,0,0,0,0,0,0,0,0,0,0,0,0,0,0,0,0,0,0,0,0,0,0,0,0,0,0,0,0,0 ,\\n', '0,0,0,0,0,0,0,0,0,0,0,0,0,0,0,0,0,0,0,0,0,0,0,0,0,0,0,0,0,0,0,0,0,0,0,0,0,0,0,0,0,0,0,0,0,0,0,0,0,0,0,0,0,0,0,0,0,0,0,0,0,0,0,0,0,0,0,0,0,0,0,0,0,0,0,0,0,0,0,0.00011140761784401889,0,0,0,0,0,0,0,0,0,0,0,0,0,0,0,0,0.0001427410103626492,0,0,0,0,0,0,0,0,0,0,0,0,0,0,0,0,0,0,0,0,0,0,0,0,0,0,0,0,0,9.574092158470373e-05,9.400017755589094e-05,0,0,0,0,0,0,0,0,0,0,0,0,0,0,0,0,0,0,0,0,0,0,0,0,0,0,0,0,0,0,0,0,0,0,0,0,0,0,0,0,0,0,0,0,0,0,0,0,0,0,0,0,0,0,0,0,0,0,0,0,0,0,0,0,0,0,0,0,0,0,0,0,0,0,0,0,0,0,0,0,0,0,0,0,0,0,0,0,0,0,0,0,0,0,0,0,0,0,0,0,0,0,0,0,0,0,0,0,0,0,0,0,0,0,0,0,0,0,0,0,0 ,\\n', '0,0,0,0,0,0,0,0,0,0,0,0,0,0,0,0,0,0,0,0,0,0,0,0,0,0,0,0,0,0,0,0,0,0,0,0,0,0,0,0,0,0,0,0,0.00010270389769995491,0,0,0,0,0,0,0,0,0,0,0,0,0,0,0,0,0,0,0,0,0,0,0,0,0,0,0,0,0,0,0,0,0,0,0,0,0,0,0,0,0,0,0,0,0,0,0,0,0,0,0,0,0,0,0,0,0,0,0,0,0,0,0,0,0,0,0,0,0,0,0,0,0,0,0,0,0,0,0,0,0,0,0,0,0,0,0,0,0,0,0,0,0,0,0,0,0,0,0,0,0,0,0,0,0,0,0,0,0,0,0,0,0,0,0,0,0,0,0,0,0,0,0,0,0,0,0,0,0,0,0,0,0,0,0,0,0,0,0,0,0,0,0,0,0,0,0,0,0,0,0,0,0,0,0,0,0,0,0,0,0,0,0,0,0,0,0,0,0,0,0,0,0,0,0,0,0,0,0,0,0,0,0,0,0,0,0,0,0,0,0,0,0,0,0,0,0,0,0,0,0,0,0,0 ,\\n', '0,0,0,0,0,0,0,0,0,0,0,0,0,0,0,0,0,0,0,0,0,0,0,0,0,0,0,0,0,0,0,0,0,0,0,0,0,0,0,0,0,0,0,0,0,0,0,0,0,0,0,0,0,0,0,0,0,0,0,0,0,0,0,0,0,0,0.0001462224984202748,0,0,0,0,0,0,0,0,0,0,0,0,0,0,0,0,0,0,0,0,0,0,0,0,0,0,0,0,0,0,0,0,0,0,0,0,0,0,0,0,0,0,0,0,0,0,0,0,0,0,0,0,0,0,0,0,0,0,0,0,0,0,0,0,0,0,0,0,0,0,0,0,0,0,0,0,0.00011314836187283169,0,0,0,0,0,0,0,0,0,0,0.00016711142676602834,0,0,0,0,0,0,0,0,0,0,0,0,0,0,0,0,0,0,0,0,0,0,0.00013055580216095964,0,0,0,0,0,0,0,0,0,0,0,0,0,0,0,0,0,0,0,0,0,0.00015666696259315156,0,0,0,0,0,0,0,0,0,0,0,0,0,0,0,0,0,0,0,0,0,0,0,0,0,0,0,0,0,0,0,0,0,0,0,0,0,0,0,0,0,0,0,0,0,0,0,0,0 ,\\n', '0,0,0,0,0,0,0,0,0,0,0,0,0,0,0,0,0,0,0,0.00012881505813214683,0,0,0,0,0,0,0,0,0,0,0,0,0,0,0,0,0,0,0,0,0,0,0,0,0.0001079261297863933,0,0,0,0,0,0,0,0,0,0.00013055580216095964,0,0,0,0,0,0,0,0,0,0,0,0,0,0,0,0,0,0,0,0,0,0,0,0,0,0,0,0,0,0,0,0,0,0,0,0,0,0,0,0,0,0,0,0,0,0,0,0,0,0,0,0,0,0,0,0,0,0,0,0,0,0,0,0,0,0,0,0,0,0,0,0,0,0,0,0,0,0,0,0,0,0,0,0,0,0,0,0,0,0,0,0,0,0,0,0,0,0,0,0,0,0,0,0,0,0,0,0,0,0,0,0,0,0,0,0,0,0,0,0,0,0,0,0,0,0,0,0,0,0,0,0,0,0,0,0,0,0,0,0,0,0,0,0,0,0,0,0,0,0,0,0,0,0,0,0,0,0,0,0,0,0,0,0,0,0,0,0,0,0,0,0,0,0,0,0,0,0,0,0,0,0,0,0,0,0,0,0,0,0,0,0,0,0 ,\\n', '0,0,0,0,0,0,0,0,0,0,0,0,0,0,0,0,0,0,0,0,0,0,0,0,0,0,0,0,0,0,0,0,0,0,0,0,0,0,0,0,0,0,0,0,0,0,0,0,0,0,0,0,0,0,0,0,0.0001427410103626492,0,0,0,0,0,0,0,0,0,0,0,0,0,0,0,0,0,0,0,0,0,0,0,0,0,0,0,0,0,0,0,0,0,0,0,0,0,0,0,0,0,0,0,0,0,0,0,0,0,0,0.00016362993870840275,0,0,0,0,0,0,0,0,0,0,0,0,0,0,0,0,0,0,0,0,0,0,0,0,0,0,0,0,0,0,0,0,0,0,0,0,0,0,0,0,0,0,0,0,0,0,0,0,0,0,0,0,0,0,0,0,0,0,0,0,0,0,0,0,0,0,0,0,0,0,0,0,0,0,0,0,0,0,0,0,0,0,0,0,0,0,0,0,0,0,0,0,0,0,0,0,0,0,0,0,0,0,0,0,0,0,0,0,0,0,0,0,0,0,0,0,0,0,0,0,0,0,0,0,0,0,0,0,0,0,0,0,0,0,0,0,0,0,0,0,0 ,\\n', '0,0,0,0,0,0,0.0003237783893591799,0,0,0,0,0,0,0,0,0.00015666696259315156,0,9.400017755589094e-05,0,8.877794546945256e-05,0,0,0,0,0,0,0,0,0,0.00013577803424739802,0,0,0,0.0007067420756979949,0,0,0,0,0,0,0,0,0,0.00023151895583210176,0.0005239639526726514,0,0,0,0,0,0,0,0,0.00015144473050671318,0.0004752231198658931,0,0,0,0,0,0,0,0,0,0,0,0,0,0,0,0.00020018556331347144,0,0.00011488910590164449,0,0,0,0,0,0,0.00044214898331844995,0,0,0,0,0,0,0,0,0,0,0,0,0.0001462224984202748,0,0,0,0.0006684457070641134,0,0,0,0,0.00013229654618977243,0,0,0,0,0,0,0,0,0,0,0,0,0,0,8.877794546945256e-05,0,0,0,0,0,0,0,0,0.00016537068273721553,0.00019322258719822025,0,0,0,0,0,0,0.00012011133798808286,0,0.00012185208201689566,0,0,0,0,0,0,0,0,0.0002158522595727866,0,0,0,0,0,0,0,0,0,0,0,0,0,0,0,0,0,0,0,0,0,0,0,0,0,0,0,0.00027851904461004723,0,0,0,0,0,0,0,0,0,0,0.00015666696259315156,0,0,0,0.00041429707885744525,0,0,0,0,0,0,0,0,8.877794546945256e-05,0,0,0,0,0,0,0.0001079261297863933,0,0,0,0,0.00015492621856433877,0,0,0,0,0,0,0,0,0,0,0,0,0,0,0.00012185208201689566,0,0,0,0,0,0,0,0.00020714853942872263,0,0,0,0,0,0,0,0,0,0,0,0,0.0004682601437506419,0,0,0,0 ,\\n', '0,0,0,0,0,0,0,0,0,0,0,0,0,0,0,0,0,0,0.00011488910590164449,0,0,0.0002854820207252984,0,0,0,0.0002541486282066681,0,0,0,0,0,0,0,0,0.00023325969986091454,0,0,0,0,0,0,0,0,0,0,0,0,0,0,0,0,0,0,0,0,0,0,0,0,0,0,0.00013925952230502362,0,0,0,0,0,0,0,0,0,0,0,0,0.0001061853857575805,0,0,0,0,0,0,0,0,0,0,0,0,0,0,0,0,0,0,0,0,0,0,0.00012707431410333405,0,0,0,0,0,0,0,0,0,0,0,0,0,0.0001810373789965307,0,0,0,0,0,0,0,0,0,9.574092158470373e-05,0,0,0,0,0,0,0,0,0,0,0,0,0,0,0,0,0,0,0,0,0,0,0,0,0,0,0,0,0,0,0,0,0,0,0,0,0,0,0,0.00015666696259315156,0,0,0,0,0,0,0,0,0,0,0,0,0,0,0,0,0,0,0,0,0,0,0,0,0,0,0,0,0,0,0,9.400017755589094e-05,0.00015840770662196437,0,0,0,0.00013925952230502362,0,0,0,0,0,0,0,0,0,0,0,0,0,0,0,0,0,0,0,0,0,0,0,0,0,0,0,0,0,0,0,0,0.00015840770662196437,0,0,0,0,0,0,0,0,0,0,0,0,0,0,0.00015492621856433877,0,0 ,\\n', '0.0002680745804371705,0,0,0,0,0,0,0,0.00016885217079484112,0,0,0,0,0,0,0.00017233365885246672,0,0,0,0,0,0.00012359282604570846,0.00012185208201689566,0,0,0,0,0,0,0.00016188919467958996,0.0002088892834575354,0,0,0,0,0,0,0,0,0,0,0,0,0.0001061853857575805,0.0001479632424490876,0,0,0,0.00011488910590164449,0,0,0,0,0.00013403729021858524,0.00011314836187283169,0.000433445263174386,0,0,0,0,0,0,0,0,0,0,0,0,0,0,0,0,0,0,0,0,0,0,0,0.00012011133798808286,0,0,0,0,0.00019148184316940747,0,0,0,0,0,0,0,0,0,0,0,0.00019322258719822025,0,0,0,0.0003603340139642486,0,0,0,0,0,0,0,0,0,0,0,0,0,0,0,0.00030114871698461355,0,0,0,0,0,0,0,0,0.00015492621856433877,0,0,0,0,0,0,0,0,0,0.0001827781230253435,9.051868949826534e-05,0,0,0,0,0,0,0,0,0.00020366705137109703,0,0,0,0,0,0,0,0,0,0,0,0,0,0,0,0,0,0,0,0,0,0,0,0,0,0,0,0,0,0,0,0,0,0,0,0,0,0,0.00010096315367114212,0,0,0.00012533357007452124,0,0,0,0,0,0,0,0,0,0.00011140761784401889,0,0,0,0,0,0,0,0,0,0,0.00017233365885246672,0,0,0,0,0,0,0,0,0,0,0,0,0.00012185208201689566,0,0,0,0,0,0,0,0,0,0,0,0,0,0,0,0,0,0,0,0,0,0,0.0001096668738152061,0,9.225943352707814e-05,0,0 ,\\n', '0,0,0,0,0,0,0,0,0,0,0,0,0,0,0,0,0,0,0,0,0,0,0,0,0,0,0,0,0,0,0,0,0,0,0,0,0,0,0,0,0,0,0,0,0.00019844481928465866,0,0,0,0,0,0,0,0,0,0,0,0,0,0,0,0,0,0,0,0,0,0,0,0,0,0,0,0,0,0,0,0,0,0,0,0,0,0,0,0,0,0,0,0,0,0,0,0,0,0,0,0,0,0,0,0,0,0,0,0,0,0,0,0,0,0,0,0,0,0,0,0,0,0,0,0,0,0,0,0,0,0,0,0,0,0,0,0,0,0,0,0,0,0,0,0,0,0,0,0,0,0,0,0,0,0,0,0,0,0,0,0,0,0,0,0,0,0,0,0,0,0,0,0,0,0,0,0,0,0,0,0,0,0,0,0,0,0,0,0,0,0,0,0,0,0,0,0,0,0,0,0,0,0,0,0,0,0,0,0,0,0,0,0,0,0,0,0,0.00017059291482365393,0,0,0,0,0,0,0,0,0,0,0,0,0,0,0,0,0,0,0,0,0,0,0,0,0,0,0,0,0,0,0,0,0,0,0 ,\\n', '0,0,0,0,0,0,0,0,0,0,0,0,0,0,0,0,0,0,0,0,0,0,0,0,0,0,0,0,0,0,0,0,0,0,0,0,0,0,0,0,0,0,0,0,9.922240964232933e-05,0,0,0,0,0,0,0,0,0,0,0,0,0,0,0,0,0,0,0,0,0,0,0,0,0,0,0,0,0,0,0,0,0,0,0,0,0,0,0,0,0,0,0,0,0,0,0,0,0,0,0,0,0,0,0,0,0,0,0,0,0,0,0,0,0,0,0,0,0,0,0,0,0,0,0,0,0,0,0,0,0,0,0,0,0,0,0,0,0,0,0,0,0,0,0,0,0,0,0,0,0,0,0,0,0,0,0,0,0,0,0,0,0,0,0,0,0,0,0,0,0,0,0,0,0,0,0,0,0,0,0,0,0,0,0,0,0,0,0,0,0,0,0,0,0,0,0,0,0,0,0,0,0,0,0,0,0,0,0,0,0,0,0,0,0,0,0,0,0,0,0,0,0,0,0,0,0,0,0,0,0,0,0,0,0,0,0,0,0,0,0,0,0,0,0,0,0,0,0,0,0,0,0,0 ,\\n', '0,0,0,0,0,0.00010096315367114212,0,0,0,0,0,0,0,0,0,0,0,0,0,0,0,0,0,0,0,0,0,0,0,0,0,0,0,0,0,0,0,0,0,0,0,0,0.00012011133798808286,0,0,0,0,0,0,0,0,0,0,0,0,0,0,0,0,0,0,0,0,0,0,0,0,0,0,0,0,0,0,0,0,0,0,0,0,0,0.00012011133798808286,0,0,0,0,0,0,0,0,0,0,0,0,0,0,0,0,0,0,0,0,0,0,0.00011314836187283169,0,0,0,0,0,0,0,0,0,0,0,0,0,0,0,0,0,0,0,0,0,0,0,0,0,0,0,0,0,0,0,0,0,0,0.00012533357007452124,0,0,0,0,0,0,0,0,0,0,0,0,0,0,0,0,0,0,0,0,0,0,0,0,0,0,0,0,0,0.00012185208201689566,0,0,0,0,0,0,0,0,0,0,0,0,0,0,0,0,0,0,0,0,0,0,0,0,0,0,0,0,0,0,0,0,0,0,0,0,0,0,0,0,0,0,0,0,0,0,0,0,0,0,0,0,0,0,0,0,0,0,0,0,0,0,0,0,0,0,0,0,0,0,0,0,0,0,0,0,0,0,0,0 ,\\n', '0,0,0,0,0,0,0,0,0,0,0,0,0,0,0,0,0,0,0,0,0,0,0,0,0,0,0,0,0,0,0,0,0,0,0,0,0,0,0,0,0,0,0,0,0,0,0,0,0,0,0,0,0,0,0,0,0,0,0,0,0,0,0,0,0,0,0,0,0,0,0,0,0,0,0,0,0,0,0,0,0,0,0,0,0,0,0,0,0,0,0,0,0,0,0,0,0,0,0,0,0,0,0,0,0,0,0,0,0,0,0,0,0,0,0,0,0,0,0,0,0,0,0,0,0,0,0,0,0,0,0,0,0,0,0,0,0,0,0,0,0,0,0,0,0,0,0,0,0,0,0,0,0,0,0,0,0,0,0,0,0,0,0,0,0,0,0,0,0,0,0,0,0,0,0,0,0,0,0,0,0,0,0,0,0,0,0,0.00013577803424739802,0,0,0,0,0,0,0,0,0,0,0,0,0,0,0,0,0,0,0,0,0,0,0,0,0,0,0,0,0,0,0,0,0,0,0,0,0,0,0,0,0,0,0,0,0,0,0,0,0,0,0,0,0,0,0,0,0,0,0,0,0 ,\\n', '0,0,0,0,0,0,0,0,0,0,0,0,0,0,0,0,0,0,0,0,0,0,0,0,0,0,0,0,0,0,0,0,0,0,0,0,0,0,0,0,0,0,0,0,0,0,0,0,0,0,0,0,0,0,0,0,0,0,0,0,0,0,0,0,0,0,0,0,0,0,0,0,0,0,0,0,0,0,0,0,0,0,0,0,0,0,0,0,0,0,0,0,0,0,0,0,0,0,0,0,0,0,0,0,0,0,0,0,0,0,0,0,0,0,0,0,0.00011314836187283169,0,0,0,0,0,0,0,0,0,0,0,0,0,0,0,0,0,0,0,0,0,0,0,0,0,0,0,0,0,0,0,0,0,0,0,0,0,0,0,0,0,0,0,0,0,0,0,0,0,0,0,0,0,0,0,0,0,0,0,0,0,0,0,0,0,0,0,0,0,0,0,0,0,0,0,0,0,0,0,0,0,0,0,0,0,0,0,0,0,0,0,0,0,0,0,0,0,0,0,0,0,0,0,0,0,0,0,0,0,0,0,0,0,0,0,0,0,0,0,0,0,0,0,0,0,0,0,0,0,0,0,0 ,\\n', '0,0,0,0,0.00017755589093890512,0,0,0,0,0,0,9.051868949826534e-05,0,0,0,0,0,0,0,0,0,0.0004647786556930163,0,0,0,0.00022629672374566338,0,0,0,0,0,0,0,0,0.0004351860072031988,0,0,0,0,0,0,0,0,0,0,0,0,0,0,0,0,0,0,0,0,0,0,0,0,0,0,8.877794546945256e-05,0,0,0,0,0,0,0,0,0,0,0,0,0,0,0,0,0,0,0,0,0,0.00016885217079484112,0,0,0,0,0,0,0,0,0,0,0,0,0,0.0003290006214456183,0,0,0,0,0,0,0,0,0,0,0,0,0,0.0005274454407302769,0,0,0,0,0,0.00020540779539990982,0,0,0,0,0,0,0,0,0,0,0,0,0,0,0,0,9.400017755589094e-05,0,0,0,0,0,0.00048044535195233145,0,0,0,0,0,0,0,0,0,0,0,0,0,0,0,9.922240964232933e-05,0,0.00016188919467958996,0,0,0.00010270389769995491,0,0,0,0,0,0,0,0,0,0,0,0,0,0,0,0,0,0,0,0,0,0,0,0,0,0,0,0,0,0,0,0,0,0,0,0,0,0,0,0,0,0,0,0,0,0,0,0,0,0,0,0,0.00018974109914059468,0,0,0,0,0,0,0,0,0,0,0,0,0,0,0,0,0,0,0,0,0,0,0,0,0,0,0,0,0,0,0,0.0002750375565524216,0,0.00013403729021858524 ,\\n', '0,0,0,0,0,0,0,0,0,0,0,0,0,0,0,0,0,0,0,0,0,0,0,0,0,0,0,0,0,0,0,0,0,0,0,0,0,0,0,0,0,0,0,0,0,0,0,0,0,0,0,0,0,0,0,0,0,0,0,0,0,0,0,0,0,0,0,0,0,0,0,0,0,0,0,0,0,0,0,0,0,0,0,0,0,0,0,0,0,0,0,0,0,0,0,0,0,0,0,0,0,0,0,0,0,0,0,0,0,0,0,0,0,0,0,0,0,0,0,0,0,0,0,0,0,0,0,0,0,0,0,0,0,0,0,0.000144481754391462,0,0,0,0,0,0,0,0,0,0,0,0,0,0,0,0,0,0,0,0,0,0,0,0,0,0,0,0,0,0,0,0,0,0,0,0,0,0,0,0,0,0,0,0,0,0,0,0,0,0,0,0,0,0,0,0,0,0,0,0,0,0,0,0,0,0,0,0,0,0,0,0,0,0,0,0,0,0,0,0,0,0,0,0,0,0,0,0,0,0,0,0,0,0,0,0,0,0,0,0,0,0,0,0,0,0,0,0,0,0,0,0,0 ,\\n', '8.703720144063976e-05,0,0,0,0,0,0.00019148184316940747,0,0,0,0,0,0,0,0,9.922240964232933e-05,0,0,0.0005552973451912817,0,0,0.0002541486282066681,0,9.748166561351653e-05,0,0.0001810373789965307,0,0,0,8.877794546945256e-05,0,0,0,0.00016537068273721553,0.00024196342000497854,0,0.00013577803424739802,0,0,0,0,0,0,0,0.0002471856520914169,0.0001044446417287677,0,0,0,0,0,0,0,9.400017755589094e-05,0.0002524078841778553,0,0,0,0,0,0,0.00018800035511178187,0,0,0,0,0,0,0,0,0,0,0,0,0,0,0,0,0,0.0002506671401490425,0,0,0,0,0,0,0,0,0,0,0,0,0,0,0.0001044446417287677,0,0.00029418574086936236,0.0003272598774168055,0,0,0,0,0,0,0,0,0.00012011133798808286,0,0,0,0,0.0001479632424490876,0,0,0,0,0,0,0,0,0,0,0,0,0,0.0001044446417287677,0,0,0,0,0,0,0,0,8.877794546945256e-05,0,0,0,0,0,0,0,0,0,9.922240964232933e-05,9.574092158470373e-05,0,0,0,0,0,0,0,0,0,0,0,0,0,0,0,0.0005378899049031537,0,0,0,0,0,0,0,0,0,0,0.00012707431410333405,0,0,0,0,0,0,0,0,0,0,0,0,0,0,0.00015666696259315156,0,0,0,0,0,0,0.0005344084168455281,0,0,0,0.00012533357007452124,0,0,0,0,0,0,0,0,0,0.00011662984993045727,0,0,0,0,0,0,0,0,0,0,0,0,0.00020714853942872263,0.00015840770662196437,0,0,0,0,0,0,0,0,0,0,0,0,0,0,0,0,0,0,0,9.225943352707814e-05,0,0.00011314836187283169,0,0.000551815857133656,0,0 ,\\n', '0,0,0,0,0,0,0,0,0,0,0,0,0,0,0,0,0,0,0,0,0,0,0,0,0,0,0,0,0,0.00015492621856433877,0,0,0,0,0,0,0,0,0,0,0,0,0,0,0,0,0,0,0,0,0,0,0,0,0,0,0,0,0,0,0,0,0,0,0,0,0,0,0,0,0,0,0,0,0,0,0,0,0,0,0,0,0,0,0,0,0,0,0,0,0,0,0,0,0,0,0,0,0,0,0,0,0,0,0,0,0,0,0,0,0,0,0,0,0,0,0,0,0,0,0,0,0,0,0,0,0,0,0,0,0,0,0,0,0,0,0,0,0,0,0,0,0,0,0,0,0,0,0,0,0,0,0,0,0,0,0,0,0,0,0,0,0,0,0,0,0,0,0,0,0,0,0,0,0,0,0,0,0,0,0,0,0,0,0,0,0,0,0,0,0,0,0,0,0,0,0,0,0,0,0,0,0,0,0,0,0,0,0,0,0,0,0,0,0,0,0,0,0,0,0,0,0,0,0,0,0,0,0,0,0,0,0,0,0,0,0,0,0,0,0,0,0,0,0,0,0,0,0 ,\\n', '0,0,0,0,0,0,0,0,0,0,0,0,0,0,0,0,0,0,0,0,0,0,0,0,0,0,0,0,0,0,0,0,0,0,0,0,0,0,0,0,0,0,0,0,0,0,0,0,0,0,0,0,0,0,0,0,0,0,0,0,0,0,0,0,0,0,0,0,0,0,0,0,0,0,0,0,0,0,0,0,0,0,0,0,0,0,0,0,0,0,0,0,0,0,0,0,0,0,0,0,0,0,0,0,0,0,0,0,0,0,0,0,0,0,0,0,0,0,0,0,0,0,0,0,0,0,0,0,0,0,0,0,0,0,0,0,0,0,0,0,0,0,0,0,0,0,8.877794546945256e-05,0,0,0,0,0,0,0,0,0,0,0,0,0,0,0,0,0,0,0,0,0,0,0,0,0,0,0,0,0,0,0,0,0,0,0,0,0,0,0,0,0,8.703720144063976e-05,0,0,0,0,0,0,0,0,0,0,0,0,0,0,0,0,0,0,0,0,0,0,0,0,0,0,0,0,0,0,0,0,0,0,0,0,0,0,0,0,0,0,0,0,0,0,0,0,0,0,0,0,0,0,0,0,0,0,0,0 ,\\n', '0,0,0,0,0,0,0,0,0,0,0,0,0,0,0,0,0,0,0,0,0,0,0,0,0,0,0,0,0,0.0001079261297863933,0,0,0,0,0,0,0,0,0,0,0,0,0,0,0,0,0,0,0,0,0,0,0,0,0,0,0,0,0,0,0,0,0,0,0,0,0,0,0,0,0,0,0,0,0,0,0,0,0,0,0,0,0,0,0,0,0,0,0,0,0,0,0,0,0,0,0,0,0,0,0,0,0,0,0,0,0,0,0,0,0,0,0,0,0,0,0,0,0,0,0,0,0,0,0,0,0,0,0,0,0,0,0,0,0,0,0,0,0,0,0,0,0,0,0,0,0,0,0,0,0,0,0,0,0,0,0,0,0,0,0,0,0,0,0,0,0,0,0,0,0,0,0,0,0,0,0,0,0,0,0,0,0,0,0,0,0,0,0,0,0,0,0,0,0,0,0,0,0,0,0,0,0,0,0,0,0,0,0,0,0,0,0,0,0,0,0,0,0,0,0,0,0,0,0,0,0,0,0,0,0,0,0,0,0,0,0,0,0,0,0,0,0,0,0,0,0,0,0 ,\\n', '0,0,0,0,0,0,0,0,0,0,0,0,0.00023674118791854013,0,0,0,0,0,0,0,0,0,0,0,0,0,0,0,0,0,0,0,0,0,0,0,0,0,0,0,0,0,0,0,0,0,0,0,0,0,0,0,0,0,0,0,0,0,0,0,0,0,0,0,0,0,0,0,0.00023848193194735294,0,0,0,0,0,0,0,0,0,0,0,0,0,0,0,0,0,0,0,0,0,0,0,0,0,0,0,0,0,0,0,0,0,0,0,0.0002680745804371705,0,0,0,0,0,0,0,0,0,0,0,0,0,0,0,0,0,0,0,0.00016537068273721553,0,0,0,0,0,0,0,0,0,0,0,0,0,0,0,0,0.00011314836187283169,0,0,0,0,0,0,0.00038296368633881494,0,0,0,0,0,0,0,0,0,0,0,0,0,0.0003951488945405045,0,0,0,0,0,0,0,0,0,0,0,0,0,0.00016537068273721553,0,0,0,0,0,0,0,0,0,0,0.0003237783893591799,0,0,0,0,0.00010096315367114212,0,0,0,0,0,0,0,0,0,0,0,0,0,0,0,0,0,0,0,0,0,0,0,0,0,0,0,0,0,0,0,0,0,0,0,0,0,0,0,0,0,0,0,0,0,0,0,0,0,0,0,0,0,0,0,0 ,\\n', '0,0,0,0,0,0,0,0,0,0,0,0,0,0,0,0,0,0,0,0,0,0,0,0,0,0,0,0,0,0.001072298321748682,0,0,0,0,0,0.00022107449165922497,0,0,0,0,0,0,0,0,0,0,9.051868949826534e-05,0,0,0,0,0,0,0,0,0,0,0,0,0,0,0,0,0,0,0,0,0,0,0,0,0,0,0,0,0,0,0,0,0,0,0,0,0,0,0,0,0,0,0,0,0,0,0,0,0,0,0,0,0.00011488910590164449,0,0,0,0,0,0.0003237783893591799,0,0,0,0,0,0,0,0,0,0,0,0,0,0,0.0004090748467710069,0,0,0,0,0,0,0,0,0,0,0,0,0,0,0,0,0,0,0.00016188919467958996,0,0,0,0,0,0,0,0,0,0,0,0,0,0,0,0.00013403729021858524,0,0.0003272598774168055,0,0,0,0,0,0,0,0,0,0,0,0,0,0,0,0,0,9.574092158470373e-05,0,0,0,0.0002088892834575354,0,0,0,0,0,0,0,0,0,0,0.00012881505813214683,0.00020018556331347144,0,0,0,0,0,0,0,0,0,0,0,0,0,0,0,0,0,0,0,0,0,0,0,0,0,0,0,0,0,0,0,0,0,0,0,0,0,0,0,0,0,0,0,0,0,0,0,0,0,0,0,0,0,0,0,0,0 ,\\n', '0,0,0,0,0,0,0,0,0,0,0,0,0,0,0,0,0,0,0,0,0,0,0,0,0,0,0,0,0,0,0,0,0,0,0,0,0,0,0,0,0,0,0,0,0,0,0,0,0,0,0,0,0,0,0,0,0,0,0,0,0,0,0,0,0,0,0,0,0,0,0,0,0,0.0001044446417287677,0,0,0,0,0,0,0,0,0,0,0,0,0,0,0,0,0,0,0,0,0,0,0,0,0,0,0,0,0,0,0,0,0,0,0,0,0,0,0,0,0,0,0,0,9.748166561351653e-05,0,0,0,0,0,0,0,0,0,0,0,0,0,0,0,0,0,0,0,0,0,0,0,0,0,0,0,0,0,0,0,0,0,0,0,0,0,0,0,0,0,0,0,0,9.400017755589094e-05,0,0,0,0,0,0,0,0,0,0,0,0,0,0,0,0,0,0,0,0,0,0,0,0,0,0,0,0,0,0,0,0,0,0,0,0,0,0,0,0,0,0,0,0,0,0,0,0,0,0,0,0,0,0,0,0,0,0,0,0,0,0,0,0,0,0,0,0,0,0,0,0,0,0,0,0,0,0,0,0,0,0,0,0,0 ,\\n', '0,0,0,0,0,0,0,0,0,0.003296969190571434,9.922240964232933e-05,0,0,0,0,0,0,0,0,0,0,0,0,0,0,0,0,0,0,0,0,0,0,0,0,0,0,0,0,0,0,0,0,0,0,0,0,0,0,8.877794546945256e-05,0,0,0,0,0,0,0,0,0,0,0,0,0,0,0,0,0,0,0,0,0,0,0,0,0,0,0,0,0,0,0,0,0,0,0,0,0,0,0,0,0,0,0,0,0,0,0,0,0,0,0,0,0,0,0,0,0,0,0,0,0,0,0,0,0,0,0,0,0,0,0,0,0,0,0,0,0,0,0,0,0,0,0,0,0,0.00018800035511178187,0,0,0,0,0,0,0,0,0,0,0,0,0,0,0,0,0,0,0,0,0,0,0,0,0,0,0,0,0,0,0,0,0,0,0,0,0,0,0,0,0,0,0,0,0,0,0,0,0,0,0,0,0,0,0,0,0,0,0,0,0,0,0,0,0,0,0,0,0,0,0,0,0,0,0,0,0,0,0,0,0,0,0,0,0,0,0,0,0,0,0,0,0,0,0,0,0,0,0,0,0,0,0.002219448636736314,0,0,0,0,0,0,0,0,0,0 ,\\n', '0,0,0,0,0,0,0,0,0,0,0,0,0,0,0,0,0,0,0,0,0,0,0,0,0,0,0,0,0,0,0,0,0,0,0,0,0,0,0,0,0,0,0,0,0,0,0,0,0,0,0,0,0,0,0,0,0,0,0,0,0,0,0,0,0,0,0,0,0,0,0,0,0,0,0,0,0,0,0,0,0,0,0,0,0,0,0,0,0,0,0,0,0,0,0,0,0,0,0,0,0,0,0,0,0,0,0,0,0,0,0,0,0,0,0,0,0,0,0,0,0,0,0,0,0,0,0,0,0,0,0,0,0,0,0,0,0,0,0,0,0,0,0,0,0,0,0,0,0,0,0,0,0,0,0,0,0,0,0,0,0,0,0,0,0,0,0,0,0,0,0,0,0,0,0,0,0,0,0,0,0,0,0,0,0,0,0,0,0,0,0,0,0,0,0,0,0,0,0,8.877794546945256e-05,0,0,0,0,0,0,0,0,0,0,0,0,0,0,0,0,0,0,0,0,0,0,0,0,0,0,0,0,0,0,0,0,0,0,0,0,0,0,0,0,0,0,0,0,0,0,0,0,0 ,\\n', '0,0,0,0,0,0,0,0,0,0,0,0,0,0,0,8.877794546945256e-05,0,0,0,0,0,0,0,0,0,0,0,0,0,0,0,0,0,0,0,0,0,0,0,0,0,0,0,0,0,0,0,0,0,0,0,0,0,8.877794546945256e-05,0,0,0,0,0,0,0,0,0,0,0,0,0,0,0,0,0,0,0,0,0,0,0,0,0,0,0,0,0,0,0,0,0,0,0,0,0,0,0,0,0,0,0,0,0,0,0,0,0,0,0,0,0,0,0,0,0,0,0,0,0,0,0,0,0,0,0,0,0,0,0,0,0,0,0,0,0,0,0,0,0,0,0,0,0,0,0,0,0,0,0,0,0,0,0,0,0,0,0,0,0,0,0,0,0,0,0,0,0,0,0,0,0,0,0,0,0,0,0,0,0,0,0,0,0,0,0,0,0,0,0,0,0,0,0,0,0,0,0,0,0,0,0,0,0,0,0,0,0,0,0,0,0,0,9.225943352707814e-05,0,0,0,0,0,0,0,0,0,0,0,0,0,0,0,0,0,0,0,0,0,0,0,0,0,0,0,0,0,0,0,0,0,0,0,0,0,0,0,0 ,\\n', '0,0,0,0,0,0,0,0,0,0,0,9.574092158470373e-05,0,0,0,0,0,0,0,0,0,0,0,0,0,0,0,0,0,0,0,0,0,0,0,0,0,0,0,0,0,0,0,0,0,0.00025763011626429367,0,0,0,0,0,0,0,0,0,0,0,0,0,0,0,0,0,0,0,0,0,0,0,0.0002506671401490425,0,0,0,0,0,0.0001462224984202748,0,0,0,0,0,0.0001079261297863933,0,0,0,0,0,0.00010096315367114212,0,0,0,0,0,0,0,0,0,0,0,0,0,0,0,0,0,0,0,0,0,0,0,0,0,0,0,0.0001427410103626492,0,0,0,0,0,0,0,0,0,0,0,0,0,0,0,0,0,0,0,0,0,0,0,0,0,0,0,0,0,0,0,0,0,0,0,0,0,0,0,0,0.000212370771515161,0,0,0,0,0,0,0,0,0,0,0,0,0,0,0,0,0,0,0,0,0,0,0,0,0,0,0,0,0,0,0,0,0,0,0,0,0,0,0,0,0,0,0,0,0,0,0,9.051868949826534e-05,0,0,0,0,0,0,0,0,0,0,0,0,0,0,0,0,0,0,0,0,0,0,0,0,0,0,0,0,0,0,0,0,0,0,0,0,0,0,0,0,0,0,0,0 ,\\n', '0,0,0,0,0,0,0,0,0,0,0,0,0,0,0,0,0,0,0,0,0,0,0,0,0,0,0,0,0,0,0,0,0,0,0,0,0,0,0,0,0,0,0,0,0,0,0,0,0,0,0,0,0,0,0,0,0,0,0,0,0,0,0,0,0,0,0,0,0,0,0,0,0,0,0,0,0,0,0,0,0,0,0,0,0,0,0,0,0,0,0,0,0,0,0,0,0,0,0,0,0,0,0,0,0,0,0,0,0,0,0,0,0,0,0,0,0,0,0,0,0,0,0,0,0,0,0,0,0,0,0,0,0,0,0,0,0,0,0,0,0,0,0,0,0,0.0001044446417287677,0,0,0,0,0,0,0,0,0,0,0,0,0,0,0,0,0,0,0,0,0,0,0,0,0,0,0,0,0,0,0,0,0,0,0,0,0,0,0,0,0,0,0,0,0,0,0,0,0,0,0,0,0,0,0,0,0,0,0,0,0,0,0,0,0,0,0,0,0,0,0,0,0,0,0,0,0,0,0,0,0,0,0,0,0,9.225943352707814e-05,0,0,0,0,0,0,0,0,0,0,0,0,0,0,0,0,0 ,\\n', '0,0,0,0,0,0,0,0,0,0,0,0,0,0,0,0.0003516302938201846,0,0,0,0,0,0,0,0,0,0,0,0,0,0,0,0,0,0,0,0,0,0,0,0,0,0,0,0,0,0,0,0,0,0,0,0,0,0.0004003711266269429,0,0,0,0,0,0,0,0,0,0,0,0,0,0,0,0,0,0,0,0,0,0,0,0,0,0,0,0,0,0,0,0,0,0,0,0,0,0,0,0,0,0,0,0,0,0,0,0,0.00011140761784401889,0,0,0,0,0,0,0,0,0,0,0,0,0,0,0,0,0,0,0,0,0,0,0.0003968896385693173,0,0,0,0,0,0,0,0,0,0,0,0,0,0,0,0,0,0,0,0,0,0,0,0,0,0,0,0,0,0,0,0,0,0,0,0,0,0,0,0,0,0,0,0,0,0,0,0,0,0,0,0,0,0,0,0,0,0,0,0,0,0,0,0,0,0,0,0,0,0,0,0,0,0,0,0,0,0,0,0,0,0,0.00034466731770493343,0,0,0,0,0,0,0,0,0,0,0,0,0,0,0,0,0,0,0,0,0,0,0,0,0,0,0,0,0,0,0,0,0,0,0,0,0,0,0,0 ,\\n', '0,0,0,0,0,0,0.0003585932699354358,0,0,0,0,0,0,0,0,0.00011662984993045727,0,0.0002558893722354809,0,0.00012533357007452124,0,0,0,0,0,0,0,0,0,9.922240964232933e-05,0,0,0,0.00045781567957776513,0,0,0,0,0,0,0,0,0,0.00015144473050671318,0.0005117787444709618,0,0,0,0,0,0,0,0,0.0001079261297863933,0.0005239639526726514,0,0,0,0,0,0,0,0,0,0,0,0,0,0,0,0.00011662984993045727,0,0,0,0,0,0,0,0,0.0004404082392896372,0,0,0,0,0,0,0,0,0,0,0,0,0.00016537068273721553,0,0,0,0.0005605195772777201,0,0,0,0,9.225943352707814e-05,0,0,0,0,0,0,0,0,0,0,0,0,0,0,8.703720144063976e-05,0,9.051868949826534e-05,0,0,0,0,0,0,0.00013925952230502362,0.000144481754391462,0,0,0,0,0,0,0.0001827781230253435,0,0,0,0,0,0,0,0,0,0,0.00026459309237954486,0,0,0,0,0,0,0,0,0,0,0,0,0,0,0,0,0,0,0,0,0,0,0,0,0,0,0,0.00018451886705415628,0,0,0,0,0,0,0,0,0,0,0.00017233365885246672,0,0,0,0.000365556246050687,0,0,0,0,0,0,0,0.00010096315367114212,0,0,0,0,0,0,0,0,0,0,0,0,0.00013925952230502362,0,0,0,0,0,0,0,0,0,0,0,0,0.0004682601437506419,0,0.0001096668738152061,0,0,0,0,0,0,0,0.00011314836187283169,0,0,0,0,0,0,0,0,0,0,0,0,0,0,0,0,0 ,\\n', '0,0,0,0,0,0,0,0,0,0,0,0,0,0,0,0,0,0,0,0,0,0,0,0,0,0,0,0,0,0,0,0,0,0,0,0,0,0,0,0,0,0,0,0,0,0,0,0,0,0,0,0,0,0,0,0,0,0,0,0,0,0,0,0,0,0,0,0,0,0,0,0,0,0,0,0,0,0,0,0,0,0,0,0,0,0,0,0,0,0,0,0,0,0,0,0,0,0,0,0,0,0,0,0,0,0,0,0,0,0,0,0,0,0,0,0,0,0,0,0,0,0,0,0,0,0,0,0,0,0,0,0,0,0,0,0,0,0,0,0,0,0,0,0,0,0,0,0.00013925952230502362,0,0,0,0,0,0,0,0,0,0,0,0,0,0,0,0,0,0,0.0002193337476304122,0,0,0,0,0,0,0,0,0,0,0,0,0,0,0,0,0,0,0,0,0,0,0,0,0,0,0,0,0,0,0,0,0,0,0,0,0,0,0,0,0,0,0,0,0.00013055580216095964,0,0,0,0,0,0,0,0,0,0,0,0,0,0,0,0,0,0,0,0,0,0,0,0,0,0,0,0,0,0,0,0,0,0,0,0,0 ,\\n', '0,0,0,0,0,0,0,0,0,0,0,0,0,0,0,0.00011837059395927007,0,0,0.0005204824646150258,0,0,0.00048218609598114426,0,9.400017755589094e-05,0,0.00021063002748634822,0,0,0,8.877794546945256e-05,0,0,0,0,0.0004543341915201395,0,0.00015144473050671318,0,0,0,0,0,0,0,0,0.00012533357007452124,0,0,0,0,0,0,0,0,0,0,0,0,0,0,0,0.0001497039864779004,0,0,0,0,0,0,0,0,0,0,0,0,0,0,0,0,0,0,0,0,0,0.00012359282604570846,0,0,0,0,0,0,0,0,0,0,0,0,0.00011488910590164449,0.000536149160874341,0,0,0,0,0,0,0,0,0.00016711142676602834,0,0,0,0,0.000356852525906623,0,0,0,0,0,0,0,0,0,8.877794546945256e-05,0,0,0,0.00010096315367114212,0,0,0,0,0,0,0,0,0.00012533357007452124,0,0,0,0,0,0.00013055580216095964,0,0,0,0,0,0,0,0,0,0,0,0,0,0,0,0,0,0,0,0,0.000510038000442149,0,0,0,0,0,0,0,9.748166561351653e-05,0,0,0,0,0,0,0,0,0,0,0,0,0,0,0,0,0,0,0,0,0,0,0,0,0.0006788901712369901,0,0,0,0.00019148184316940747,0,0,0,0,0,0,0,0,0,0.00012359282604570846,0,0,0,0,0,0,0,0,0,0,0,0,0,0.00015492621856433877,9.225943352707814e-05,0,0,0,0,0,0.0002750375565524216,0,0.000551815857133656,0,0,0,0,0,0,0,0,0,0,0,0,0,0,0,0,0.00018974109914059468 ,\\n', '0,0,0,0,0,0,0,0,0,0,0,0,0,0,0,0,0,0,0,0,0,0,0,0,0,0,0,0,0,0.0001079261297863933,0,0,0,0,0,0,0,0,0,0,0,0,0,0,0,0,0,0,0,0,0,0,0,0,0,0,0,0,0,0,0,0,0,0,0,0,0,0,0,0,0,0,0,0,0,0,0,0,0,0,0,0,0,0,0,0,0,0,0,0,0,0,0,0,0,0,0,0,0,0,0,0,0,0,0,0,0,0,0,0,0,0,0,0,0,0,0,0,0,0,0,0,0,0,0,0,0,0,0,0,0,0,0,0,0,0,0,0,0,0,0,0,0,0,0,0,0,0,0,0,0,0,0,0,0,0,0,0,0,0,0,0,0,0,0,0,0,0,0,0,0,0,0,0,0,0,0,0,0,0,0,0,0,0,0,0,0,0,0,0,0,0,0,0,0,0,0,0,0,0,0,0,0,0,0,0,0,0,0,0,0,0,0,0,0,0,0,0,0,0,0,0,0,0,0,0,0,0,0,0,0,0,0,0,0,0,0,0,0,0,0,0,0,0,0,0,0,0,0 ,\\n', '0,0,0,0,0,0,0,0,0,0,0,0,0,0,0,0,0,0,0,0,0,0.00017755589093890512,0,0,0,0,0,0,0,0,0,0,0,0,0.0001758151469100923,0,0,0,0,0,0,0.00010270389769995491,0,0,0,0,0,0,0,0,0,0,0,0,0,0,0,0,0,0,0,0,0.00011314836187283169,0,0,0,0,0,0,0,0,0.0001079261297863933,0,0,0,0,0,0,0,0,0,0,0,0.0001061853857575805,0,0,0,0,0,0,0,0,0,0,0,0,0,0.00012881505813214683,0,0,0,0,0,0,0,0,0,0,0,0,0,0.00016188919467958996,0,0,0,0,0,0,0,0,0,0.00016188919467958996,0,0,0,0,0,0,0,0,0,0,0.00011488910590164449,0,0,0,0,0,0,0,0,0,9.574092158470373e-05,0,0,0,0,0,0,0,0,0,0,0.00012359282604570846,0,0,0,0,0,0,0,0,0,0,0,0,0,0,0,0,0,0,0,0,0,0,0,0,0,0,0,0,0,0,0,0,0,0,0,0,0,0,0,0,0,0,0,0,0,0,0,0,0,0,0,0,0,0,0,0,0,0,0,0,0,0,0,0,0,0,0,0,0,0,0,0,0,0,0,0.00013403729021858524,0,0,0,0,0,0,0,0,0,0,0,0,0,0,0,0,0.00018974109914059468,0,0   \\n', ']\\n', '\\n', 'names = [\\n', \"   'DR. STRANGE/STEPHEN',\\n\", \"   'ROBERTSON, RANDY',\\n\", \"   'PUNISHER II/FRANK CA',\\n\", \"   'BUCKY/BUCKY BARNES',\\n\", \"   'LOCKHEED',\\n\", \"   'TRITON',\\n\", \"   'WONDER MAN/SIMON WIL',\\n\", \"   'COUNTERWEIGHT/JACK P',\\n\", \"   'NIGHTHAWK II/KYLE RI',\\n\", \"   'MISS AMERICA/MADELIN',\\n\", \"   'HUMAN TORCH ANDROID/',\\n\", \"   'CYPHER/DOUG RAMSEY',\\n\", \"   'ODIN [ASGARDIAN]',\\n\", \"   'LUBENSKI, NATE',\\n\", \"   'RESTON, CLIVE',\\n\", \"   'HUMAN TORCH/JOHNNY S',\\n\", \"   'TARR, BLACK JACK',\\n\", \"   'MOCKINGBIRD/DR. BARB',\\n\", \"   'ICEMAN/ROBERT BOBBY',\\n\", \"   'USAGENT/CAPTAIN JOHN',\\n\", \"   'LEEDS, NED',\\n\", \"   'WOLVERINE/LOGAN',\\n\", \"   'HELLCAT/PATSY WALKER',\\n\", \"   'BISHOP /',\\n\", \"   'DE LA FONTAINE, CONT',\\n\", \"   'ROGUE /',\\n\", \"   'MERCADO, JOY',\\n\", \"   'DUGAN, TIMOTHY ALOYI',\\n\", \"   'CARTER, SHARON',\\n\", \"   'SPIDER-MAN/PETER PAR',\\n\", \"   'TALBOT, GLENN',\\n\", \"   'ARBOGAST, BAMBI',\\n\", \"   'DAREDEVIL/MATT MURDO',\\n\", \"   'ANT-MAN/DR. HENRY J.',\\n\", \"   'STORM/ORORO MUNROE S',\\n\", \"   'LEEDS, BETTY BRANT',\\n\", \"   'SUMMERS, NATHAN CHRI',\\n\", \"   'KA-ZAR/KEVIN PLUNDER',\\n\", \"   'REDWING',\\n\", \"   'KINGPIN/WILSON FISK',\\n\", \"   'CABE, BETHANY',\\n\", \"   'SYNCH/EVERETT THOMAS',\\n\", \"   'GORGON [INHUMAN]',\\n\", \"   'SHE-HULK/JENNIFER WA',\\n\", \"   'IRON MAN/TONY STARK',\\n\", \"   'CANNONBALL II/SAM GU',\\n\", \"   'GREEN GOBLIN/NORMAN',\\n\", \"   'RED SKULL/JOHANN SCH',\\n\", \"   'SILVER SURFER/NORRIN',\\n\", \"   'DORMA [ATLANTEAN]',\\n\", \"   'UATU',\\n\", \"   'CLOAK/TYRONE JOHNSON',\\n\", \"   'NAMORITA/NITA PRENTI',\\n\", \"   'INVISIBLE WOMAN/SUE',\\n\", \"   'SCARLET WITCH/WANDA',\\n\", \"   'BANNER, BETTY ROSS T',\\n\", \"   'ALRAUNE, MARLENE',\\n\", \"   'CUSHING, KATE',\\n\", \"   'POWER, DR. JIM',\\n\", \"   'STACY, JILL',\\n\", \"   'JUSTICE II/VANCE AST',\\n\", \"   'GAMBIT/REMY LEBEAU',\\n\", \"   'CHAMBER/JONOTHON STA',\\n\", \"   'NIGHT THRASHER/DUANE',\\n\", \"   'LILANDRA NERAMANI [S',\\n\", \"   'RINTRAH',\\n\", \"   'PUCK/EUGENE MILTON J',\\n\", \"   'JAMESON, MARLA MADIS',\\n\", \"   'SIF',\\n\", \"   'SUNSPOT/ROBERTO DACO',\\n\", \"   'CAPTAIN MARVEL II/MO',\\n\", \"   'HUSK/PAIGE GUTHRIE',\\n\", \"   'BINARY/CAROL DANVERS',\\n\", \"   'MOONSTONE II/KARLA S',\\n\", \"   'DAZZLER II/ALLISON B',\\n\", \"   'MAGIK/ILLYANA RASPUT',\\n\", \"   'PYRO/ALLERDYCE JOHNN',\\n\", \"   'LEECH',\\n\", \"   'STARSHINE II/BRANDY',\\n\", \"   'VISION',\\n\", \"   'KARNAK [INHUMAN]',\\n\", \"   'MAGMA/AMARA AQUILLA/',\\n\", \"   'BLOB/FRED J. DUKES',\\n\", \"   'MACTAGGERT, MOIRA KI',\\n\", \"   'DOC SAMSON/DR. LEONA',\\n\", \"   'FIRESTAR/ANGELICA JO',\\n\", \"   'JAMESON, COL. JOHN',\\n\", \"   'BOOMER/TABITHA SMITH',\\n\", \"   'STRONG GUY/GUIDO CAR',\\n\", \"   'MICROCHIP/LINUS LIEB',\\n\", \"   'WOLFE, SARA',\\n\", \"   'LYJA LAZERFIST [SKRU',\\n\", \"   'BLACK PANTHER/T_CHAL',\\n\", \"   'WINGFOOT, WYATT',\\n\", \"   'MOONDRAGON/HEATHER D',\\n\", \"   'MARROW/SARAH',\\n\", \"   'CAPTAIN AMERICA',\\n\", \"   'PROFESSOR X/CHARLES',\\n\", \"   'KINCAID, DR. JANE FO',\\n\", \"   'OSBORN, LIZ ALLAN',\\n\", \"   'ROSS, GEN. THADDEUS',\\n\", \"   'BLACK KNIGHT V/DANE',\\n\", \"   'MASTERS, ALICIA REIS',\\n\", \"   'MEDUSA/MEDUSALITH AM',\\n\", \"   'BALDER [ASGARDIAN]',\\n\", \"   'ROBERTSON, JOE',\\n\", \"   'POLARIS/LORNA DANE',\\n\", \"   'FRENCHIE/JEAN-PAUL D',\\n\", \"   'WU, LEIKO',\\n\", \"   'FORGE',\\n\", \"   'PAGE, KAREN',\\n\", \"   'COLOSSUS II/PETER RA',\\n\", \"   'THUNDERSTRIKE/ERIC K',\\n\", \"   'ROM, SPACEKNIGHT',\\n\", \"   'NOVA/RICHARD RIDER',\\n\", \"   'WARLOCK III',\\n\", \"   'JONES, RICHARD MILHO',\\n\", \"   'MEGGAN',\\n\", \"   'POWER MAN/ERIK JOSTE',\\n\", \"   'CLEA',\\n\", \"   'JAMESON, J. JONAH',\\n\", \"   'JUBILEE/JUBILATION L',\\n\", \"   'VENOM/EDDIE BROCK',\\n\", \"   'GALACTUS/GALAN',\\n\", \"   'LOKI [ASGARDIAN]',\\n\", \"   'MR. FANTASTIC/REED R',\\n\", \"   'HERCULES [GREEK GOD]',\\n\", \"   'QUASAR III/WENDELL V',\\n\", \"   'SHANNA/SHANNA O_HARA',\\n\", \"   'ZABU',\\n\", \"   'SHANG-CHI',\\n\", \"   'SMITH, SIR DENIS NAY',\\n\", \"   'SKIN/ANGELO ESPINOSA',\\n\", \"   'TIGRA/GREER NELSON',\\n\", \"   'MAGNETO/MAGNUS/ERIC',\\n\", \"   'SUB-MARINER/NAMOR MA',\\n\", \"   'JONES, MARLO CHANDLE',\\n\", \"   'BOX IV/MADISON JEFFR',\\n\", \"   'CRYSTAL [INHUMAN]',\\n\", \"   'WATSON, ANNA',\\n\", \"   'SHADOWCAT/KATHERINE',\\n\", \"   'VIZIER',\\n\", \"   'PENANCE/MONET ST. CR',\\n\", \"   'SHAMAN/MICHAEL TWOYO',\\n\", \"   'QUICKSILVER/PIETRO M',\\n\", \"   'NORRISS, SISTER BARB',\\n\", \"   'DRACULA/VLAD TEPES',\\n\", \"   'KNIGHT, MISTY',\\n\", \"   'VOLSTAGG',\\n\", \"   'SIRYN/THERESA ROURKE',\\n\", \"   'GEE/ALEX POWER',\\n\", \"   'STACY, GWEN',\\n\", \"   'FALCON/SAM WILSON',\\n\", \"   'WHITE QUEEN/EMMA FRO',\\n\", \"   'AURORA/JEANNE-MARIE',\\n\", \"   'SPIDER-MAN CLONE/BEN',\\n\", \"   'WOLFSBANE/RAHNE SINC',\\n\", \"   'PARKER, MAY',\\n\", \"   'PHOENIX III/RACHEL S',\\n\", \"   'MS. MARVEL II/SHARON',\\n\", \"   'CARTER, PEGGY',\\n\", \"   'ANGEL/WARREN KENNETH',\\n\", \"   'FANDRAL [ASGARDIAN]',\\n\", \"   'BEETLE/ABNER RONALD',\\n\", \"   'PETROVITCH, IVAN',\\n\", \"   'WONG',\\n\", \"   'CAGE, LUKE/CARL LUCA',\\n\", \"   'POWER, MARGARET',\\n\", \"   'BLACK BOLT/BLACKANTO',\\n\", \"   'APOCALYPSE/EN SABAH',\\n\", \"   'BARON MORDO/KARL MOR',\\n\", \"   'JONES, GABE',\\n\", \"   'JARVIS, EDWIN',\\n\", \"   'LIVING LIGHTNING/MIG',\\n\", \"   'COUNTERWEIGHT II/KAT',\\n\", \"   'GRANT, GLORIA GLORY',\\n\", \"   'HEIMDALL [ASGARDIAN]',\\n\", \"   'SASQUATCH/WALTER LAN',\\n\", \"   'MADDICKS, ARTHUR ART',\\n\", \"   'THOMPSON, EUGENE FLA',\\n\", \"   'LIZARD/DR. CURTIS CO',\\n\", \"   'DAGGER/TANDY BOWEN',\\n\", \"   'SPEEDBALL/ROBBIE BAL',\\n\", \"   'BLACK WIDOW/NATASHA',\\n\", \"   'QUARTERMAIN, CLAY',\\n\", \"   'RICTOR/JULIO ESTEBAN',\\n\", \"   'DOMINO III/BEATRICE/',\\n\", \"   'THOR/DR. DONALD BLAK',\\n\", \"   'DRAKE, FRANKLIN',\\n\", \"   'DR. DOOM/VICTOR VON',\\n\", \"   'URICH, BEN',\\n\", \"   'OSBORN, HARRY',\\n\", \"   'KARNILLA [ASGARDIAN]',\\n\", \"   'LONGSHOT',\\n\", \"   'MARVEL GIRL/JEAN GRE',\\n\", \"   'IRON MAN IV/JAMES R.',\\n\", \"   'PHARAOH RAMA-TUT',\\n\", \"   'LEADER/SAM STERNS',\\n\", \"   'HAVOK/ALEX SUMMERS',\\n\", \"   'HUDSON, HEATHER',\\n\", \"   'ANCIENT ONE',\\n\", \"   'FURY, COL. NICHOLAS',\\n\", \"   'ROSENTHAL, BERNIE',\\n\", \"   'STARFOX/EROS',\\n\", \"   'THUNDERBIRD II/JAMES',\\n\", \"   'MANDARIN',\\n\", \"   'DORMAMMU',\\n\", \"   'NELSON, FRANKLIN FOG',\\n\", \"   'THING/BENJAMIN J. GR',\\n\", \"   'DIAMONDBACK II/RACHE',\\n\", \"   'SHATTERSTAR II/GAVEE',\\n\", \"   'WING, COLLEEN',\\n\", \"   'LIGHTSPEED/JULIE POW',\\n\", \"   'HOGAN, VIRGINIA PEPP',\\n\", \"   'CAPTAIN BRITAIN/BRIA',\\n\", \"   'BLACK CAT/FELICIA HA',\\n\", \"   'SERSI/SYLVIA',\\n\", \"   'SITWELL, JASPER',\\n\", \"   'NORTHSTAR/JEAN-PAUL',\\n\", \"   'SPIDER-WOMAN II/JULI',\\n\", \"   'MOON KNIGHT/MARC SPE',\\n\", \"   'WASP/JANET VAN DYNE',\\n\", \"   'PSYLOCKE/ELISABETH B',\\n\", \"   'HULK/DR. ROBERT BRUC',\\n\", \"   'HOGAN, HAROLD J. HAP',\\n\", \"   'MADAME MASQUE/GIULIE',\\n\", \"   'LOCKJAW [INHUMAN]',\\n\", \"   'ENCHANTRESS/AMORA/HE',\\n\", \"   'CAPTAIN MARVEL/CAPTA',\\n\", \"   'NIGHTCRAWLER/KURT WA',\\n\", \"   'VASHTI',\\n\", \"   'BEAST/HENRY &HANK& P',\\n\", \"   'DR. OCTOPUS/OTTO OCT',\\n\", \"   'VAN HELSING, RACHEL',\\n\", \"   'SANDMAN/WILLIAM BAKE',\\n\", \"   'HOGUN [ASGARDIAN]',\\n\", \"   'WATSON-PARKER, MARY',\\n\", \"   'SCREAMING MIMI/MELIS',\\n\", \"   'PATRIOT/JEFF MACE',\\n\", \"   'TALISMAN II/ELIZABET',\\n\", \"   'HARKNESS, AGATHA',\\n\", \"   'MIRAGE II/DANIELLE M',\\n\", \"   'GARGOYLE II/ISAAC CH',\\n\", \"   'RICHARDS, FRANKLIN B',\\n\", \"   'HAWK',\\n\", \"   'IRON FIST/DANIEL RAN',\\n\", \"   'CYCLOPS/SCOTT SUMMER',\\n\", \"   'HOBGOBLIN V/JASON PH',\\n\", \"   'BANSHEE/SEAN CASSIDY'\\n\", ']\\n']\n"
     ]
    }
   ],
   "source": [
    "lines = open ( 'hero_social_network_50.py' , 'r')\n",
    "data = lines.readlines()\n",
    "#l = [ map(int,line.split('\\n')) for line in f ]\n",
    "#print (l)\n",
    "#rows = data.split(\"\\n\")\n",
    "print (data)"
   ]
  },
  {
   "cell_type": "code",
   "execution_count": null,
   "metadata": {
    "collapsed": true
   },
   "outputs": [],
   "source": [
    " lic = li.split(\",\")\n",
    "        for n in lic:\n",
    "            lists.append(float(n))\n",
    "print (lists)\n",
    "for line in lines:\n",
    "    li=line.strip()\n",
    "    if not li.startswith(\"Hero\"):\n",
    "        lic = li.split(\",\")\n",
    "        for n in lic:\n",
    "            if n.endswith(\"]\"):\n",
    "                break\n",
    "            lists.append(n)\n",
    "    if li.endswith(\"]\"):\n",
    "        lic = li.split(\",\")\n",
    "        for n in lic:\n",
    "            lists.append(n)\n",
    "        break\n",
    "    count1=count1+1\n",
    "print (count1)\n",
    "print (len(lists))\n",
    "print (lists)"
   ]
  },
  {
   "cell_type": "markdown",
   "metadata": {},
   "source": [
    "### 4.1 Eigenvalues\n",
    "\n",
    "Compute the ___eigenvalues___ of $H$ and plot them -- so that the $i$-th eigenvalue $\\lambda_i$ is plotted at position $(x,y) = (i, \\lambda_i)$."
   ]
  },
  {
   "cell_type": "code",
   "execution_count": null,
   "metadata": {
    "collapsed": true
   },
   "outputs": [],
   "source": []
  },
  {
   "cell_type": "markdown",
   "metadata": {},
   "source": [
    "### 4.2 Largest Eigenvalue\n",
    "\n",
    "Find the ___largest eigenvalue___ $r$ of $H$.  Is it equal to the ___spectral norm___ $||H||_2$?"
   ]
  },
  {
   "cell_type": "code",
   "execution_count": null,
   "metadata": {
    "collapsed": true
   },
   "outputs": [],
   "source": []
  },
  {
   "cell_type": "markdown",
   "metadata": {},
   "source": [
    "### 4.3 Dominant Eigenvector\n",
    "\n",
    "Find the ___eigenvector___ ___e___ of $H$ that has this largest eigenvalue.  Plot the sequence of entries of the eigenvector, showing that they are nonnegative.  Which entry $i$ has the largest value?  (Who is the $i$-th hero?)"
   ]
  },
  {
   "cell_type": "code",
   "execution_count": null,
   "metadata": {
    "collapsed": true
   },
   "outputs": [],
   "source": []
  },
  {
   "cell_type": "markdown",
   "metadata": {},
   "source": [
    "### 4.4 Node Degree Sequence\n",
    "\n",
    "The ___degree sequence___ is a vector $\bf d$ of integer values whose $i$-th entry $d_i$ is the _degree_ of the $i$-th node.  That is, $d_i$ is the number of other superheroes to which the $i$-th hero has nonzero edges.  Plot the sequence of degrees.  What is the name of the hero $i$ who has the largest value?"
   ]
  },
  {
   "cell_type": "code",
   "execution_count": null,
   "metadata": {
    "collapsed": true
   },
   "outputs": [],
   "source": []
  },
  {
   "cell_type": "markdown",
   "metadata": {},
   "source": [
    "### 4.5 Graph Laplacian -- and Connected Components\n",
    "\n",
    "Compute the ___graph laplacian___ $L = D - A$, where $D = diag({\\bf d})$ is the diagonal matrix determined by the degree sequence, and $A$ is the zero-one adjacency matrix for $H$ (The entries of $A$ are zero wherever they are zero in $H$, and are one wherever nonzero in $H$.)\n",
    "\n",
    "What is the number of zero eigenvalues of the graph laplacian $L$, if we assume that all eigenvalues whose absolute value is below 1e-10 are zero?  (This is supposed to be the number of connected components in the graph.)"
   ]
  },
  {
   "cell_type": "code",
   "execution_count": null,
   "metadata": {
    "collapsed": true
   },
   "outputs": [],
   "source": []
  }
 ],
 "metadata": {
  "anaconda-cloud": {},
  "kernelspec": {
   "display_name": "Python [conda root]",
   "language": "python",
   "name": "conda-root-py"
  },
  "language_info": {
   "codemirror_mode": {
    "name": "ipython",
    "version": 3
   },
   "file_extension": ".py",
   "mimetype": "text/x-python",
   "name": "python",
   "nbconvert_exporter": "python",
   "pygments_lexer": "ipython3",
   "version": "3.5.2"
  }
 },
 "nbformat": 4,
 "nbformat_minor": 0
}
